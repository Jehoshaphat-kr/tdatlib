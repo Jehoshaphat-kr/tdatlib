{
 "cells": [
  {
   "cell_type": "code",
   "execution_count": 1,
   "id": "50c4dbf0",
   "metadata": {
    "ExecuteTime": {
     "end_time": "2022-10-20T08:58:03.627792Z",
     "start_time": "2022-10-20T08:58:03.601347Z"
    }
   },
   "outputs": [
    {
     "name": "stdout",
     "output_type": "stream",
     "text": [
      "D:\\J.H.LEE\\05. CODING\\Python\\Project\\tdatlib\n"
     ]
    }
   ],
   "source": [
    "cd .."
   ]
  },
  {
   "cell_type": "code",
   "execution_count": 2,
   "id": "e8c5919f",
   "metadata": {
    "ExecuteTime": {
     "end_time": "2022-10-20T08:58:06.774000Z",
     "start_time": "2022-10-20T08:58:04.926690Z"
    }
   },
   "outputs": [
    {
     "data": {
      "text/html": [
       "<style>.container { width:80% !important;}</style>"
      ],
      "text/plain": [
       "<IPython.core.display.HTML object>"
      ]
     },
     "metadata": {},
     "output_type": "display_data"
    }
   ],
   "source": [
    "# For Library\n",
    "import plotly.graph_objects as go\n",
    "import pandas as pd\n",
    "import numpy as np\n",
    "from plotly.subplots import make_subplots\n",
    "from datetime import timedelta\n",
    "\n",
    "# For Testing\n",
    "import tdatlib as tdat\n",
    "from IPython.display import display, HTML\n",
    "display(HTML(\"<style>.container { width:80% !important;}</style>\"))"
   ]
  },
  {
   "cell_type": "markdown",
   "id": "18ac03d5",
   "metadata": {},
   "source": [
    "# LIB DEV"
   ]
  },
  {
   "cell_type": "markdown",
   "id": "03c3c0e2",
   "metadata": {},
   "source": [
    "## Functionality"
   ]
  },
  {
   "cell_type": "code",
   "execution_count": 3,
   "id": "0c1a48a7",
   "metadata": {
    "ExecuteTime": {
     "end_time": "2022-10-20T10:35:53.917354Z",
     "start_time": "2022-10-20T10:35:53.881452Z"
    }
   },
   "outputs": [],
   "source": [
    "def align(l:pd.Series or pd.DataFrame, r:pd.Series or pd.DataFrame):\n",
    "    \"\"\"\n",
    "    두 개의 시계열 데이터 정렬(왼쪽 시계열 기준)\n",
    "    :param l: Left\n",
    "    :param r: Right\n",
    "    \"\"\"\n",
    "    join = pd.concat(objs={'L':l, 'R':r}, axis=1).dropna()\n",
    "    join = join[join.index.isin(l.index)]\n",
    "    return join.L, join.R\n",
    "\n",
    "\n",
    "def normalize(time_series:pd.Series or np.array, a:float=0, b:float=1) -> pd.Series:\n",
    "    \"\"\"\n",
    "    정규화\n",
    "    :param time_series: 시계열 데이터 \n",
    "    :param a: 정규 최소 값\n",
    "    :param b: 정규 최대 값\n",
    "    \"\"\"\n",
    "    return (b - a) * (time_series - time_series.min()) / (time_series.max() - time_series.min()) + a\n",
    "\n",
    "\n",
    "def typify(ohlcv:pd.DataFrame) -> pd.Series:\n",
    "    \"\"\"\n",
    "    가격 전형화\n",
    "    :param ohlcv: 가격\n",
    "    \"\"\"\n",
    "    if not ('종가' in ohlcv.columns and '고가' in ohlcv.columns and '저가' in ohlcv.columns):\n",
    "        raise KeyError\n",
    "    return (1/3) * ohlcv.종가 + (1/3) * ohlcv.고가 + (1/3) * ohlcv.저가\n",
    "\n",
    "\n",
    "def corrcoeff(l:pd.Series, r:pd.Series) -> float:\n",
    "    \"\"\"\n",
    "    상관계수\n",
    "    :param l: Left\n",
    "    :param r: Right\n",
    "    \"\"\"\n",
    "    return pd.concat(objs=align(l, r), axis=1).corr(method='pearson', min_periods=1).iloc[0, 1]\n",
    "\n",
    "\n",
    "def weighted_corrcoeff(joined:pd.DataFrame) -> float:\n",
    "    \"\"\"\n",
    "    가중 상관계수 (시간 구간 별)\n",
    "    :param joined: 정렬된 시계열데이터 (Left, Right)\n",
    "    \"\"\"\n",
    "    days = (joined.index[-1] - joined.index[0]).days\n",
    "    gaps = [0, 92, 183, 365, 365 * 2, 365 * 3, 365 * 5, 365 * 10]\n",
    "    n = [i + 1 for i in range(len(gaps)-1) if gaps[0] < days <= gaps[i + 1]][0]\n",
    "\n",
    "    coeffs = list()\n",
    "    for g in gaps[1:n]:\n",
    "        coeff = joined[joined.index >= (joined.index[-1] - timedelta(g))].corr().iloc[0, 1]\n",
    "        coeffs.append(coeff)\n",
    "    coeffs.append(joined.corr().iloc[0, 1])\n",
    "    return np.array(coeffs).mean()\n",
    "\n",
    "\n",
    "def corr_rolling(l:pd.Series, r:pd.Series, month:int) -> pd.DataFrame:\n",
    "    \"\"\"\n",
    "    이동 상관계수 데이터프레임\n",
    "    :param l: Left\n",
    "    :param r: Right\n",
    "    :param month: 이동 범위(개월)\n",
    "    \"\"\"\n",
    "    prev_day = l.index[-1] - timedelta(days=int(month * 30.5))\n",
    "    samples = len(r.index[r.index >= prev_day])\n",
    "    index = np.arange(start=-samples, stop=samples + 1, step=5)\n",
    "\n",
    "    dates = [r.index[-1] + timedelta(int(i)) for i in index]\n",
    "    data = [[corr(l, r.shift(i)), i] for i in index]\n",
    "    return pd.DataFrame(data=data, index=dates, columns=['corrcoef', 'days'])\n",
    "\n",
    "\n",
    "class corr(object):\n",
    "\n",
    "    def __init__(self, l:pd.Series, r:pd.Series, l_name:str=str(), r_name:str=str()):\n",
    "        self._l, self._r = align(l=l, r=r)\n",
    "        self._j = pd.concat(objs=[self._l, self._r], axis=1)\n",
    "        self._lname, self._rname = l_name if l_name else 'Left', r_name if r_name else 'Right'\n",
    "        return\n",
    "\n",
    "    def _coeffr(self) -> (float, int, int):\n",
    "        if not hasattr(self, '__coeffr'):\n",
    "            rolling = corr_rolling(l=self._l, r=self._r, month=6)\n",
    "            rolling['abs'] = rolling['corrcoef'].abs()\n",
    "            fitted = rolling[rolling['abs'] == rolling['abs'].max()]\n",
    "            coeff, step = fitted.iloc[0, 0], fitted.iloc[0, 1]\n",
    "            self.__setattr__(\n",
    "                '__coeffr',\n",
    "                (coeff, self._r.index[-1 if step < 0 else 0] - self._r.index[step - 1 if step < 0 else step], step)\n",
    "            )\n",
    "        return self.__getattribute__('__coeffr')\n",
    "\n",
    "    @property\n",
    "    def coeff(self) -> float:\n",
    "        \"\"\"\n",
    "        전체 시계열 상관계수\n",
    "        \"\"\"\n",
    "        if not hasattr(self, '_coeff'):\n",
    "            self.__setattr__('_coeff', self._j.corr().iloc[0, 1])\n",
    "        return self.__getattribute__('_coeff')\n",
    "\n",
    "    @property\n",
    "    def coeffw(self) -> float:\n",
    "        \"\"\"\n",
    "        기간 구별 가중 상관계수\n",
    "        \"\"\"\n",
    "        if not hasattr(self, '_coeffw'):\n",
    "            self.__setattr__('_coeffw', self.coeff if len(self._j) < 93 else weighted_corrcoeff(self._j))\n",
    "        return self.__getattribute__('_coeffw')\n",
    "\n",
    "    @property\n",
    "    def coeffr(self) -> float:\n",
    "        \"\"\"\n",
    "        이동 상관계수\n",
    "        \"\"\"\n",
    "        coeff, _, __ = self._coeffr()\n",
    "        return coeff\n",
    "\n",
    "    @property\n",
    "    def trace_l(self) -> go.Scatter:\n",
    "        return go.Scatter(\n",
    "            x=self._l.index, y=self._l, name=self._lname,\n",
    "            visible=True, showlegend=True,\n",
    "            xhoverformat='%Y/%m/%d', hovertemplate='%{x}<br>%{y}'\n",
    "        )\n",
    "\n",
    "    @property\n",
    "    def trace_r(self) -> go.Scatter:\n",
    "        return go.Scatter(\n",
    "            x=self._r.index, y=self._r, name=self._rname,\n",
    "            visible=True, showlegend=True,\n",
    "            xhoverformat='%Y/%m/%d', hovertemplate='%{x}<br>%{y}'\n",
    "        )\n",
    "\n",
    "    @property\n",
    "    def trace_rshift(self) -> go.Scatter:\n",
    "        _, _, step = self._coeffr()\n",
    "        return go.Scatter(\n",
    "            x=self._r.shift(step).index, y=self._r.shift(step), name=f'{self._rname}<br>shifted',\n",
    "            visible='legendonly', showlegend=True, mode='line', line=dict(dash='dot'),\n",
    "            xhoverformat='%Y/%m/%d', hovertemplate='%{x}<br>%{y}'\n",
    "        )\n",
    "\n",
    "    @property\n",
    "    def trace_corr(self) -> go.Scatter:\n",
    "        return go.Scatter(\n",
    "            x=self._l, y=self._r, name='산포도',\n",
    "            meta=self._j.index, mode='markers',\n",
    "            hovertemplate='%{meta}<br>x = %{x}<br>y = %{y}<extra></extra>'\n",
    "        )"
   ]
  },
  {
   "cell_type": "markdown",
   "id": "6fdb9fa4",
   "metadata": {},
   "source": [
    "# TESTER"
   ]
  },
  {
   "cell_type": "markdown",
   "id": "a8d0dfad",
   "metadata": {},
   "source": [
    "## BASIC DATASET"
   ]
  },
  {
   "cell_type": "markdown",
   "id": "e76ebf18",
   "metadata": {},
   "source": [
    "### Handler"
   ]
  },
  {
   "cell_type": "code",
   "execution_count": 4,
   "id": "33efcc82",
   "metadata": {
    "ExecuteTime": {
     "end_time": "2022-10-20T08:58:20.085476Z",
     "start_time": "2022-10-20T08:58:20.076501Z"
    }
   },
   "outputs": [],
   "source": [
    "ecos = tdat.macro.ecos()\n",
    "fred = tdat.macro.fred()\n",
    "index = tdat.market.index()\n",
    "\n",
    "period = 5\n",
    "ecos.period = fred.period = index.period = period\n",
    "\n",
    "ticker = '105560'\n",
    "stock = tdat.stock.kr(ticker=ticker)\n",
    "stock.period = period"
   ]
  },
  {
   "cell_type": "markdown",
   "id": "a8e1d04c",
   "metadata": {},
   "source": [
    "### Indicator"
   ]
  },
  {
   "cell_type": "code",
   "execution_count": 5,
   "id": "f12bc187",
   "metadata": {
    "ExecuteTime": {
     "end_time": "2022-10-20T09:48:37.959856Z",
     "start_time": "2022-10-20T09:48:37.934924Z"
    }
   },
   "outputs": [],
   "source": [
    "cols = ['시가', '고가', '저가', '종가']\n",
    "kospi = index.kospi\n",
    "krbank = index.bank\n",
    "exchange = ecos.원달러환율\n",
    "margin = ecos.load('121Y015', '총대출(당좌대출 제외)') - ecos.load('121Y013', '저축성수신(금융채 제외)')\n",
    "\n",
    "ohlcv = stock.ohlcv\n",
    "# pd.concat(objs={stock.name:ohlcv[cols], '코스피':kospi[cols], '환율':exchange, '은행':krbank[cols]}, axis=1)"
   ]
  },
  {
   "cell_type": "markdown",
   "id": "f04a9f01",
   "metadata": {},
   "source": [
    "## TESTING DATASET"
   ]
  },
  {
   "cell_type": "code",
   "execution_count": 6,
   "id": "c4a65777",
   "metadata": {
    "ExecuteTime": {
     "end_time": "2022-10-20T10:36:47.360204Z",
     "start_time": "2022-10-20T10:36:47.251496Z"
    }
   },
   "outputs": [
    {
     "name": "stdout",
     "output_type": "stream",
     "text": [
      "-0.5642727722903598\n",
      "-0.6280499386559112\n",
      "-0.7544243491056037 -163 days +00:00:00\n"
     ]
    }
   ],
   "source": [
    "left = krbank.copy()\n",
    "# left = ohlcv.copy()\n",
    "\n",
    "right = exchange.copy()\n",
    "# right = margin.copy()\n",
    "\n",
    "\n",
    "mycorr = tdat.tools.corr(l=left.종가, r=right.종가)\n",
    "# mycorr = corrmodel(ohlcv2hlc(left), ohlcv2hlc(right))\n",
    "# mycorr = corrmodel(ohlcv2hlc(left), right)\n",
    "# mycorr = corrmodel(right, ohlcv2hlc(left))\n",
    "\n",
    "\n",
    "print(mycorr.coeff)\n",
    "print(mycorr.coeffw)\n",
    "print(mycorr.coeffr, mycorr.coeffr_fb)"
   ]
  },
  {
   "cell_type": "markdown",
   "id": "6c9bdbb6",
   "metadata": {},
   "source": [
    "## VISUALIZE"
   ]
  },
  {
   "cell_type": "markdown",
   "id": "47fcff5e",
   "metadata": {},
   "source": [
    "### Scatter"
   ]
  },
  {
   "cell_type": "code",
   "execution_count": null,
   "id": "7feba59b",
   "metadata": {
    "ExecuteTime": {
     "end_time": "2022-10-20T09:28:09.140840Z",
     "start_time": "2022-10-20T09:28:09.104916Z"
    }
   },
   "outputs": [],
   "source": [
    "_x, _y = left.종가, right\n",
    "\n",
    "x, y = normalize(_x, a=-1, b=1), normalize(_y, a=-1, b=1)\n",
    "# x, y = _x.resample('M').last(), _y.resample('M').last()\n",
    "# x = _x.resample('M').last().pct_change()\n",
    "# y = _y.resample('M').last().pct_change()\n",
    "\n",
    "fig = go.Figure()\n",
    "fig.add_trace(go.Scatter(\n",
    "    x=x, y=y, name='산포도',\n",
    "    mode='markers',\n",
    "    \n",
    "))\n",
    "fig.update_layout(height=700)\n",
    "fig.show()"
   ]
  },
  {
   "cell_type": "markdown",
   "id": "809bcf57",
   "metadata": {},
   "source": [
    "### x-y"
   ]
  },
  {
   "cell_type": "code",
   "execution_count": null,
   "id": "3396849c",
   "metadata": {
    "ExecuteTime": {
     "end_time": "2022-10-20T01:50:30.256830Z",
     "start_time": "2022-10-20T01:50:30.032433Z"
    }
   },
   "outputs": [],
   "source": [
    "y1 = price_rel(comparatee.종가)\n",
    "y2 = price_rel(comparator.종가)\n",
    "\n",
    "fig = go.Figure()\n",
    "fig.add_trace(go.Scatter(\n",
    "    x=y1.index, y=y1, name='LEFT',\n",
    "    xhoverformat='%Y/%m/%d'\n",
    "))\n",
    "\n",
    "fig.add_trace(go.Scatter(\n",
    "    x=y2.index, y=y2, name='RIGHT',\n",
    "    xhoverformat='%Y/%m/%d'\n",
    "))\n",
    "fig.update_layout(height=700)\n",
    "fig.show()"
   ]
  },
  {
   "cell_type": "markdown",
   "id": "e5c21f6b",
   "metadata": {},
   "source": [
    "### x-y1, y2"
   ]
  },
  {
   "cell_type": "code",
   "execution_count": null,
   "id": "aa6e9181",
   "metadata": {
    "ExecuteTime": {
     "end_time": "2022-10-20T09:28:25.084537Z",
     "start_time": "2022-10-20T09:28:24.960867Z"
    }
   },
   "outputs": [],
   "source": [
    "y1 = left.종가\n",
    "# y2 = right.종가\n",
    "y2 = right\n",
    "\n",
    "fig = make_subplots(\n",
    "    rows=2, cols=1, row_width=[0.3, 0.7], vertical_spacing=0.02, shared_xaxes=False,\n",
    "    specs=[\n",
    "        [{\"type\": \"xy\", \"secondary_y\": True}],\n",
    "        [{\"type\": \"xy\"}]\n",
    "    ]\n",
    ")\n",
    "\n",
    "fig.add_trace(go.Scatter(\n",
    "    x=y1.index, y=y1, name='LEFT',\n",
    "    xhoverformat='%Y/%m/%d'\n",
    "), row=1, col=1, secondary_y=False)\n",
    "\n",
    "fig.add_trace(go.Scatter(\n",
    "    x=y2.index, y=y2, name='RIGHT',\n",
    "    xhoverformat='%Y/%m/%d'\n",
    "), row=1, col=1, secondary_y=True)\n",
    "\n",
    "fig.add_trace(go.Scatter(\n",
    "    x=rl.days, y=rl.corrcoef, name='Rolling'\n",
    "), row=2, col=1)\n",
    "\n",
    "fig.update_layout(height=700)\n",
    "fig.show()"
   ]
  }
 ],
 "metadata": {
  "kernelspec": {
   "display_name": "Python 3 (ipykernel)",
   "language": "python",
   "name": "python3"
  },
  "language_info": {
   "codemirror_mode": {
    "name": "ipython",
    "version": 3
   },
   "file_extension": ".py",
   "mimetype": "text/x-python",
   "name": "python",
   "nbconvert_exporter": "python",
   "pygments_lexer": "ipython3",
   "version": "3.8.6"
  },
  "toc": {
   "base_numbering": 1,
   "nav_menu": {},
   "number_sections": true,
   "sideBar": true,
   "skip_h1_title": false,
   "title_cell": "Table of Contents",
   "title_sidebar": "Contents",
   "toc_cell": false,
   "toc_position": {
    "height": "calc(100% - 180px)",
    "left": "10px",
    "top": "150px",
    "width": "274px"
   },
   "toc_section_display": true,
   "toc_window_display": true
  }
 },
 "nbformat": 4,
 "nbformat_minor": 5
}
