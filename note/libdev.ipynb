{
 "cells": [
  {
   "cell_type": "code",
   "execution_count": 1,
   "id": "50c4dbf0",
   "metadata": {
    "ExecuteTime": {
     "end_time": "2022-10-20T08:58:03.627792Z",
     "start_time": "2022-10-20T08:58:03.601347Z"
    }
   },
   "outputs": [
    {
     "name": "stdout",
     "output_type": "stream",
     "text": [
      "C:\\Users\\wpgur\\OneDrive\\프로그래밍\\Back-End\\tdatlib\n"
     ]
    }
   ],
   "source": [
    "cd .."
   ]
  },
  {
   "cell_type": "code",
   "execution_count": 2,
   "id": "e8c5919f",
   "metadata": {
    "ExecuteTime": {
     "end_time": "2022-10-20T08:58:06.774000Z",
     "start_time": "2022-10-20T08:58:04.926690Z"
    }
   },
   "outputs": [
    {
     "data": {
      "text/html": [
       "<style>.container { width:80% !important;}</style>"
      ],
      "text/plain": [
       "<IPython.core.display.HTML object>"
      ]
     },
     "metadata": {},
     "output_type": "display_data"
    }
   ],
   "source": [
    "# For Library\n",
    "import plotly.graph_objects as go\n",
    "import pandas as pd\n",
    "import numpy as np\n",
    "from plotly.subplots import make_subplots\n",
    "from datetime import timedelta\n",
    "\n",
    "# For Testing\n",
    "import tdatlib as tdat\n",
    "from IPython.display import display, HTML\n",
    "display(HTML(\"<style>.container { width:80% !important;}</style>\"))"
   ]
  },
  {
   "cell_type": "markdown",
   "id": "18ac03d5",
   "metadata": {},
   "source": [
    "# LIB DEV"
   ]
  },
  {
   "cell_type": "markdown",
   "id": "03c3c0e2",
   "metadata": {},
   "source": [
    "## Functionality"
   ]
  },
  {
   "cell_type": "code",
   "execution_count": 3,
   "id": "19753f4e",
   "metadata": {
    "ExecuteTime": {
     "end_time": "2022-10-20T08:58:09.946391Z",
     "start_time": "2022-10-20T08:58:09.932401Z"
    }
   },
   "outputs": [],
   "source": [
    "def align(l:pd.Series or pd.DataFrame, r:pd.Series or pd.DataFrame):\n",
    "    join = pd.concat(objs={'L':l, 'R':r}, axis=1).dropna()\n",
    "    join = join[join.index.isin(l.index)]\n",
    "    return join.L, join.R"
   ]
  },
  {
   "cell_type": "code",
   "execution_count": 4,
   "id": "773498dd",
   "metadata": {
    "ExecuteTime": {
     "end_time": "2022-10-20T08:58:11.912281Z",
     "start_time": "2022-10-20T08:58:11.891337Z"
    }
   },
   "outputs": [],
   "source": [
    "def normalize(time_series:pd.Series or np.array, a:float=0, b:float=1):\n",
    "    return (b - a) * (time_series - time_series.min()) / (time_series.max() - time_series.min()) + a"
   ]
  },
  {
   "cell_type": "code",
   "execution_count": 5,
   "id": "92c276b8",
   "metadata": {
    "ExecuteTime": {
     "end_time": "2022-10-20T08:58:14.110951Z",
     "start_time": "2022-10-20T08:58:14.093987Z"
    }
   },
   "outputs": [],
   "source": [
    "def price_rel(time_series:pd.Series or pd.DataFrame, init:float=100):\n",
    "    return init * ((time_series.dropna().pct_change() + 1).cumprod() - 1)"
   ]
  },
  {
   "cell_type": "code",
   "execution_count": 15,
   "id": "666f2aee",
   "metadata": {
    "ExecuteTime": {
     "end_time": "2022-10-20T09:07:12.669807Z",
     "start_time": "2022-10-20T09:07:12.648862Z"
    }
   },
   "outputs": [],
   "source": [
    "def ohlcv2hlc(ohlcv:pd.DataFrame) -> pd.Series:\n",
    "    if not ('종가' in ohlcv.columns and '고가' in ohlcv.columns and '저가' in ohlcv.columns):\n",
    "        raise KeyError\n",
    "    return (1/3) * ohlcv.종가 + (1/3) * ohlcv.고가 + (1/3) * ohlcv.저가"
   ]
  },
  {
   "cell_type": "code",
   "execution_count": 7,
   "id": "0bc37e76",
   "metadata": {
    "ExecuteTime": {
     "end_time": "2022-10-20T08:58:15.315982Z",
     "start_time": "2022-10-20T08:58:15.308005Z"
    }
   },
   "outputs": [],
   "source": [
    "def corrcoeff(l:pd.Series, r:pd.Series) -> float:\n",
    "    return pd.concat(objs=align(l, r), axis=1).corr(method='pearson', min_periods=1).iloc[0, 1]"
   ]
  },
  {
   "cell_type": "code",
   "execution_count": 8,
   "id": "56ae14e0",
   "metadata": {
    "ExecuteTime": {
     "end_time": "2022-10-20T08:58:16.028815Z",
     "start_time": "2022-10-20T08:58:16.012853Z"
    }
   },
   "outputs": [],
   "source": [
    "def weighted_corrcoeff(joined:pd.DataFrame) -> float:\n",
    "    days = (joined.index[-1] - joined.index[0]).days\n",
    "    gaps = [0, 92, 183, 365, 365 * 2, 365 * 3, 365 * 5, 365 * 10]\n",
    "    n = [i + 1 for i in range(len(gaps)-1) if gaps[0] < days <= gaps[i + 1]][0]\n",
    "\n",
    "    coeffs = list()\n",
    "    for g in gaps[1:n]:\n",
    "        coeff = joined[joined.index >= (joined.index[-1] - timedelta(g))].corr().iloc[0, 1]\n",
    "        coeffs.append(coeff)\n",
    "    coeffs.append(joined.corr().iloc[0, 1])\n",
    "    return np.array(coeffs).mean()"
   ]
  },
  {
   "cell_type": "code",
   "execution_count": 47,
   "id": "f8649e51",
   "metadata": {
    "ExecuteTime": {
     "end_time": "2022-10-20T09:54:11.156669Z",
     "start_time": "2022-10-20T09:54:11.142734Z"
    }
   },
   "outputs": [],
   "source": [
    "def rolling_corrcoeff(l:pd.Series, r:pd.Series, month:int):\n",
    "    prev_day = l.index[-1] - timedelta(days=int(month * 30.5))\n",
    "    samples = len(r.index[r.index >= prev_day])\n",
    "    index = np.arange(start=-samples, stop=samples + 1, step=1)\n",
    "\n",
    "    dates = [r.index[-1] + timedelta(int(i)) for i in index]\n",
    "    data = [[corrcoeff(l, r.shift(i)), i] for i in index]\n",
    "    return pd.DataFrame(data=data, index=dates, columns=['corrcoef', 'steps'])\n"
   ]
  },
  {
   "cell_type": "code",
   "execution_count": 84,
   "id": "0c1a48a7",
   "metadata": {
    "ExecuteTime": {
     "end_time": "2022-10-20T10:35:53.917354Z",
     "start_time": "2022-10-20T10:35:53.881452Z"
    }
   },
   "outputs": [],
   "source": [
    "class corrmodel(object):\n",
    "    \n",
    "    def __init__(self, l:pd.Series, r:pd.Series):\n",
    "        self.__l, self.__r = align(l, r)\n",
    "        self.__joined = pd.concat(objs=[self.__l, self.__r], axis=1)\n",
    "        return\n",
    "    \n",
    "    @property\n",
    "    def coeff(self) -> float:\n",
    "        if not hasattr(self, '__coeff'):\n",
    "            self.__setattr__('__coeff', self.__joined.corr().iloc[0, 1])\n",
    "        return self.__getattribute__('__coeff')\n",
    "    \n",
    "    @property\n",
    "    def coeffmd(self) -> float:\n",
    "        if not hasattr(self, '__coeffmd'):\n",
    "            if len(self.__joined) < 93:\n",
    "                return self.coeff\n",
    "            self.__setattr__('__coeffmd', weighted_corrcoeff(self.__joined))\n",
    "        return self.__getattribute__('__coeffmd')\n",
    "    \n",
    "    @property\n",
    "    def coeffrl(self) -> float:\n",
    "        coeff, _, __ = self._rolling_coeff()\n",
    "        return coeff\n",
    "    \n",
    "    def _rolling_coeff(self) -> tuple:\n",
    "        if not hasattr(self, '__coeffrl'):\n",
    "            rc = rolling_corrcoeff(self.__l, self.__r, 6)\n",
    "            rc['abs'] = rc.corrcoef.abs()\n",
    "            row = rc[rc['abs'] == rc['abs'].max()]\n",
    "            coeff, step = row.iloc[0, 0], row.iloc[0, 1]\n",
    "            pivot = self.__r.index[-1 if step < 0 else 0]\n",
    "            far = self.__r.index[step - 1 if step < 0 else step]\n",
    "            self.__setattr__('__coeffrl', (coeff, pivot - far, step))\n",
    "        return self.__getattribute__('__coeffrl')    \n",
    "    \n",
    "    def _trace_l(self) -> go.Scatter:\n",
    "        return go.Scatter(\n",
    "            x=self.__l.index, y=self.__l, name='left',\n",
    "            visible=True, showlegend=True,\n",
    "            xhoverformat='%Y/%m/%d', hovertemplate='%{x}<br>%{y}'\n",
    "        )\n",
    "    \n",
    "    def _trace_r(self) -> go.Scatter:\n",
    "        return go.Scatter(\n",
    "            x=self.__r.index, y=self.__r, name='right',\n",
    "            visible=True, showlegend=True,\n",
    "            xhoverformat='%Y/%m/%d', hovertemplate='%{x}<br>%{y}'\n",
    "        )\n",
    "    \n",
    "    def _trace_rshift(self) -> go.Scatter:\n",
    "        _, _, step = self.coeffrl\n",
    "        return go.Scatter(\n",
    "            x=self.__r.shift(step).index, y=self.__r.shift(step), name='right<br>shifted',\n",
    "            visible='legendonly', showlegend=True,\n",
    "            xhoverformat='%Y/%m/%d', hovertemplate='%{x}<br>%{y}'\n",
    "        )\n",
    "    \n",
    "    def _trace_scatter(self) -> go.Scatter:\n",
    "        return go.Scatter(\n",
    "            x=self.__l, y=self.__r, name='Scatter',\n",
    "            meta=self.__joined.index, mode='markers',\n",
    "            hovertemplate='%{meta}<br>x = %{x}<br>y = %{y}'\n",
    "        )\n",
    "    \n",
    "    def show_aligned(self):\n",
    "        fig = make_subplots(rows=1, cols=1, shared_xaxes=True, specs=[[{\"type\": \"xy\", \"secondary_y\": True}]])\n",
    "        fig.add_trace(self._trace_l(), secondary_y=False)\n",
    "        fig.add_trace(self._trace_r(), secondary_y=True)\n",
    "        fig.add_trace(self._trace_rshift(), secondary_y=True)\n",
    "        return fig\n",
    "    \n",
    "    def show_scatter(self):\n",
    "        fig = go.Figure()\n",
    "        fig.add_trace(self._trace_scatter())\n",
    "        return fig"
   ]
  },
  {
   "cell_type": "markdown",
   "id": "6fdb9fa4",
   "metadata": {},
   "source": [
    "# TESTER"
   ]
  },
  {
   "cell_type": "markdown",
   "id": "a8d0dfad",
   "metadata": {},
   "source": [
    "## BASIC DATASET"
   ]
  },
  {
   "cell_type": "markdown",
   "id": "e76ebf18",
   "metadata": {},
   "source": [
    "### Handler"
   ]
  },
  {
   "cell_type": "code",
   "execution_count": 10,
   "id": "33efcc82",
   "metadata": {
    "ExecuteTime": {
     "end_time": "2022-10-20T08:58:20.085476Z",
     "start_time": "2022-10-20T08:58:20.076501Z"
    }
   },
   "outputs": [],
   "source": [
    "ecos = tdat.macro.ecos()\n",
    "fred = tdat.macro.fred()\n",
    "index = tdat.market.index()\n",
    "\n",
    "period = 5\n",
    "ecos.period = fred.period = index.period = period\n",
    "\n",
    "ticker = '105560'\n",
    "stock = tdat.stock.kr(ticker=ticker)\n",
    "stock.period = period"
   ]
  },
  {
   "cell_type": "markdown",
   "id": "a8e1d04c",
   "metadata": {},
   "source": [
    "### Indicator"
   ]
  },
  {
   "cell_type": "code",
   "execution_count": 41,
   "id": "f12bc187",
   "metadata": {
    "ExecuteTime": {
     "end_time": "2022-10-20T09:48:37.959856Z",
     "start_time": "2022-10-20T09:48:37.934924Z"
    }
   },
   "outputs": [],
   "source": [
    "cols = ['시가', '고가', '저가', '종가']\n",
    "kospi = index.kospi\n",
    "krbank = index.bank\n",
    "exchange = ecos.원달러환율\n",
    "margin = ecos.load('121Y015', '총대출(당좌대출 제외)') - ecos.load('121Y013', '저축성수신(금융채 제외)')\n",
    "\n",
    "ohlcv = stock.ohlcv\n",
    "# pd.concat(objs={stock.name:ohlcv[cols], '코스피':kospi[cols], '환율':exchange, '은행':krbank[cols]}, axis=1)"
   ]
  },
  {
   "cell_type": "markdown",
   "id": "f04a9f01",
   "metadata": {},
   "source": [
    "## TESTING DATASET"
   ]
  },
  {
   "cell_type": "code",
   "execution_count": 86,
   "id": "c4a65777",
   "metadata": {
    "ExecuteTime": {
     "end_time": "2022-10-20T10:36:47.360204Z",
     "start_time": "2022-10-20T10:36:47.251496Z"
    }
   },
   "outputs": [
    {
     "name": "stdout",
     "output_type": "stream",
     "text": [
      "0.6459166523387768\n",
      "0.6459166523387768\n",
      "(0.8111834293963843, Timedelta('-92 days +00:00:00'), 2)\n"
     ]
    },
    {
     "data": {
      "application/vnd.plotly.v1+json": {
       "config": {
        "plotlyServerURL": "https://plot.ly"
       },
       "data": [
        {
         "hovertemplate": "%{x}<br>%{y}",
         "name": "left",
         "showlegend": true,
         "type": "scatter",
         "visible": true,
         "x": [
          "2017-10-31T00:00:00",
          "2017-11-30T00:00:00",
          "2018-01-31T00:00:00",
          "2018-02-28T00:00:00",
          "2018-04-30T00:00:00",
          "2018-05-31T00:00:00",
          "2018-07-31T00:00:00",
          "2018-08-31T00:00:00",
          "2018-10-31T00:00:00",
          "2018-11-30T00:00:00",
          "2019-01-31T00:00:00",
          "2019-02-28T00:00:00",
          "2019-04-30T00:00:00",
          "2019-05-31T00:00:00",
          "2019-07-31T00:00:00",
          "2019-09-30T00:00:00",
          "2019-10-31T00:00:00",
          "2020-01-31T00:00:00",
          "2020-03-31T00:00:00",
          "2020-06-30T00:00:00",
          "2020-07-31T00:00:00",
          "2020-08-31T00:00:00",
          "2020-11-30T00:00:00",
          "2021-03-31T00:00:00",
          "2021-04-30T00:00:00",
          "2021-05-31T00:00:00",
          "2021-06-30T00:00:00",
          "2021-08-31T00:00:00",
          "2021-09-30T00:00:00",
          "2021-11-30T00:00:00",
          "2022-02-28T00:00:00",
          "2022-03-31T00:00:00",
          "2022-05-31T00:00:00",
          "2022-06-30T00:00:00",
          "2022-08-31T00:00:00"
         ],
         "xaxis": "x",
         "xhoverformat": "%Y/%m/%d",
         "y": [
          2.2800000000000002,
          2.2800000000000002,
          2.32,
          2.33,
          2.33,
          2.33,
          2.32,
          2.31,
          2.3000000000000003,
          2.2800000000000002,
          2.27,
          2.2700000000000005,
          2.2600000000000002,
          2.25,
          2.2,
          2.1499999999999995,
          2.12,
          2.15,
          2.1399999999999997,
          2.09,
          2.08,
          2.06,
          2.05,
          2.15,
          2.15,
          2.15,
          2.14,
          2.14,
          2.16,
          2.2,
          2.25,
          2.29,
          2.33,
          2.3499999999999996,
          2.34
         ],
         "yaxis": "y"
        },
        {
         "hovertemplate": "%{x}<br>%{y}",
         "name": "right",
         "showlegend": true,
         "type": "scatter",
         "visible": true,
         "x": [
          "2017-10-31T00:00:00",
          "2017-11-30T00:00:00",
          "2018-01-31T00:00:00",
          "2018-02-28T00:00:00",
          "2018-04-30T00:00:00",
          "2018-05-31T00:00:00",
          "2018-07-31T00:00:00",
          "2018-08-31T00:00:00",
          "2018-10-31T00:00:00",
          "2018-11-30T00:00:00",
          "2019-01-31T00:00:00",
          "2019-02-28T00:00:00",
          "2019-04-30T00:00:00",
          "2019-05-31T00:00:00",
          "2019-07-31T00:00:00",
          "2019-09-30T00:00:00",
          "2019-10-31T00:00:00",
          "2020-01-31T00:00:00",
          "2020-03-31T00:00:00",
          "2020-06-30T00:00:00",
          "2020-07-31T00:00:00",
          "2020-08-31T00:00:00",
          "2020-11-30T00:00:00",
          "2021-03-31T00:00:00",
          "2021-04-30T00:00:00",
          "2021-05-31T00:00:00",
          "2021-06-30T00:00:00",
          "2021-08-31T00:00:00",
          "2021-09-30T00:00:00",
          "2021-11-30T00:00:00",
          "2022-02-28T00:00:00",
          "2022-03-31T00:00:00",
          "2022-05-31T00:00:00",
          "2022-06-30T00:00:00",
          "2022-08-31T00:00:00"
         ],
         "xaxis": "x",
         "xhoverformat": "%Y/%m/%d",
         "y": [
          921.05,
          913.56,
          987.76,
          956.46,
          932.2433333333333,
          839.5166666666667,
          863.6399999999999,
          837.1399999999999,
          787.2466666666667,
          783.9633333333333,
          785.9799999999999,
          767.7333333333333,
          760.8366666666666,
          746.4033333333332,
          723.1733333333332,
          707.0866666666666,
          687.2866666666666,
          656.7733333333333,
          480.5,
          517.6966666666666,
          536.5833333333333,
          535.3966666666665,
          632.76,
          721.34,
          759.3633333333332,
          797.46,
          783.93,
          754.5666666666666,
          778.6666666666666,
          731.8566666666666,
          771.4466666666667,
          802.6599999999999,
          789.18,
          633.7,
          617.7133333333333
         ],
         "yaxis": "y2"
        },
        {
         "hovertemplate": "%{x}<br>%{y}",
         "name": "right<br>shifted",
         "showlegend": true,
         "type": "scatter",
         "visible": "legendonly",
         "x": [
          "2017-10-31T00:00:00",
          "2017-11-30T00:00:00",
          "2018-01-31T00:00:00",
          "2018-02-28T00:00:00",
          "2018-04-30T00:00:00",
          "2018-05-31T00:00:00",
          "2018-07-31T00:00:00",
          "2018-08-31T00:00:00",
          "2018-10-31T00:00:00",
          "2018-11-30T00:00:00",
          "2019-01-31T00:00:00",
          "2019-02-28T00:00:00",
          "2019-04-30T00:00:00",
          "2019-05-31T00:00:00",
          "2019-07-31T00:00:00",
          "2019-09-30T00:00:00",
          "2019-10-31T00:00:00",
          "2020-01-31T00:00:00",
          "2020-03-31T00:00:00",
          "2020-06-30T00:00:00",
          "2020-07-31T00:00:00",
          "2020-08-31T00:00:00",
          "2020-11-30T00:00:00",
          "2021-03-31T00:00:00",
          "2021-04-30T00:00:00",
          "2021-05-31T00:00:00",
          "2021-06-30T00:00:00",
          "2021-08-31T00:00:00",
          "2021-09-30T00:00:00",
          "2021-11-30T00:00:00",
          "2022-02-28T00:00:00",
          "2022-03-31T00:00:00",
          "2022-05-31T00:00:00",
          "2022-06-30T00:00:00",
          "2022-08-31T00:00:00"
         ],
         "xaxis": "x",
         "xhoverformat": "%Y/%m/%d",
         "y": [
          null,
          null,
          921.05,
          913.56,
          987.76,
          956.46,
          932.2433333333333,
          839.5166666666667,
          863.6399999999999,
          837.1399999999999,
          787.2466666666667,
          783.9633333333333,
          785.9799999999999,
          767.7333333333333,
          760.8366666666666,
          746.4033333333332,
          723.1733333333332,
          707.0866666666666,
          687.2866666666666,
          656.7733333333333,
          480.5,
          517.6966666666666,
          536.5833333333333,
          535.3966666666665,
          632.76,
          721.34,
          759.3633333333332,
          797.46,
          783.93,
          754.5666666666666,
          778.6666666666666,
          731.8566666666666,
          771.4466666666667,
          802.6599999999999,
          789.18
         ],
         "yaxis": "y2"
        }
       ],
       "layout": {
        "template": {
         "data": {
          "bar": [
           {
            "error_x": {
             "color": "#2a3f5f"
            },
            "error_y": {
             "color": "#2a3f5f"
            },
            "marker": {
             "line": {
              "color": "#E5ECF6",
              "width": 0.5
             },
             "pattern": {
              "fillmode": "overlay",
              "size": 10,
              "solidity": 0.2
             }
            },
            "type": "bar"
           }
          ],
          "barpolar": [
           {
            "marker": {
             "line": {
              "color": "#E5ECF6",
              "width": 0.5
             },
             "pattern": {
              "fillmode": "overlay",
              "size": 10,
              "solidity": 0.2
             }
            },
            "type": "barpolar"
           }
          ],
          "carpet": [
           {
            "aaxis": {
             "endlinecolor": "#2a3f5f",
             "gridcolor": "white",
             "linecolor": "white",
             "minorgridcolor": "white",
             "startlinecolor": "#2a3f5f"
            },
            "baxis": {
             "endlinecolor": "#2a3f5f",
             "gridcolor": "white",
             "linecolor": "white",
             "minorgridcolor": "white",
             "startlinecolor": "#2a3f5f"
            },
            "type": "carpet"
           }
          ],
          "choropleth": [
           {
            "colorbar": {
             "outlinewidth": 0,
             "ticks": ""
            },
            "type": "choropleth"
           }
          ],
          "contour": [
           {
            "colorbar": {
             "outlinewidth": 0,
             "ticks": ""
            },
            "colorscale": [
             [
              0,
              "#0d0887"
             ],
             [
              0.1111111111111111,
              "#46039f"
             ],
             [
              0.2222222222222222,
              "#7201a8"
             ],
             [
              0.3333333333333333,
              "#9c179e"
             ],
             [
              0.4444444444444444,
              "#bd3786"
             ],
             [
              0.5555555555555556,
              "#d8576b"
             ],
             [
              0.6666666666666666,
              "#ed7953"
             ],
             [
              0.7777777777777778,
              "#fb9f3a"
             ],
             [
              0.8888888888888888,
              "#fdca26"
             ],
             [
              1,
              "#f0f921"
             ]
            ],
            "type": "contour"
           }
          ],
          "contourcarpet": [
           {
            "colorbar": {
             "outlinewidth": 0,
             "ticks": ""
            },
            "type": "contourcarpet"
           }
          ],
          "heatmap": [
           {
            "colorbar": {
             "outlinewidth": 0,
             "ticks": ""
            },
            "colorscale": [
             [
              0,
              "#0d0887"
             ],
             [
              0.1111111111111111,
              "#46039f"
             ],
             [
              0.2222222222222222,
              "#7201a8"
             ],
             [
              0.3333333333333333,
              "#9c179e"
             ],
             [
              0.4444444444444444,
              "#bd3786"
             ],
             [
              0.5555555555555556,
              "#d8576b"
             ],
             [
              0.6666666666666666,
              "#ed7953"
             ],
             [
              0.7777777777777778,
              "#fb9f3a"
             ],
             [
              0.8888888888888888,
              "#fdca26"
             ],
             [
              1,
              "#f0f921"
             ]
            ],
            "type": "heatmap"
           }
          ],
          "heatmapgl": [
           {
            "colorbar": {
             "outlinewidth": 0,
             "ticks": ""
            },
            "colorscale": [
             [
              0,
              "#0d0887"
             ],
             [
              0.1111111111111111,
              "#46039f"
             ],
             [
              0.2222222222222222,
              "#7201a8"
             ],
             [
              0.3333333333333333,
              "#9c179e"
             ],
             [
              0.4444444444444444,
              "#bd3786"
             ],
             [
              0.5555555555555556,
              "#d8576b"
             ],
             [
              0.6666666666666666,
              "#ed7953"
             ],
             [
              0.7777777777777778,
              "#fb9f3a"
             ],
             [
              0.8888888888888888,
              "#fdca26"
             ],
             [
              1,
              "#f0f921"
             ]
            ],
            "type": "heatmapgl"
           }
          ],
          "histogram": [
           {
            "marker": {
             "pattern": {
              "fillmode": "overlay",
              "size": 10,
              "solidity": 0.2
             }
            },
            "type": "histogram"
           }
          ],
          "histogram2d": [
           {
            "colorbar": {
             "outlinewidth": 0,
             "ticks": ""
            },
            "colorscale": [
             [
              0,
              "#0d0887"
             ],
             [
              0.1111111111111111,
              "#46039f"
             ],
             [
              0.2222222222222222,
              "#7201a8"
             ],
             [
              0.3333333333333333,
              "#9c179e"
             ],
             [
              0.4444444444444444,
              "#bd3786"
             ],
             [
              0.5555555555555556,
              "#d8576b"
             ],
             [
              0.6666666666666666,
              "#ed7953"
             ],
             [
              0.7777777777777778,
              "#fb9f3a"
             ],
             [
              0.8888888888888888,
              "#fdca26"
             ],
             [
              1,
              "#f0f921"
             ]
            ],
            "type": "histogram2d"
           }
          ],
          "histogram2dcontour": [
           {
            "colorbar": {
             "outlinewidth": 0,
             "ticks": ""
            },
            "colorscale": [
             [
              0,
              "#0d0887"
             ],
             [
              0.1111111111111111,
              "#46039f"
             ],
             [
              0.2222222222222222,
              "#7201a8"
             ],
             [
              0.3333333333333333,
              "#9c179e"
             ],
             [
              0.4444444444444444,
              "#bd3786"
             ],
             [
              0.5555555555555556,
              "#d8576b"
             ],
             [
              0.6666666666666666,
              "#ed7953"
             ],
             [
              0.7777777777777778,
              "#fb9f3a"
             ],
             [
              0.8888888888888888,
              "#fdca26"
             ],
             [
              1,
              "#f0f921"
             ]
            ],
            "type": "histogram2dcontour"
           }
          ],
          "mesh3d": [
           {
            "colorbar": {
             "outlinewidth": 0,
             "ticks": ""
            },
            "type": "mesh3d"
           }
          ],
          "parcoords": [
           {
            "line": {
             "colorbar": {
              "outlinewidth": 0,
              "ticks": ""
             }
            },
            "type": "parcoords"
           }
          ],
          "pie": [
           {
            "automargin": true,
            "type": "pie"
           }
          ],
          "scatter": [
           {
            "fillpattern": {
             "fillmode": "overlay",
             "size": 10,
             "solidity": 0.2
            },
            "type": "scatter"
           }
          ],
          "scatter3d": [
           {
            "line": {
             "colorbar": {
              "outlinewidth": 0,
              "ticks": ""
             }
            },
            "marker": {
             "colorbar": {
              "outlinewidth": 0,
              "ticks": ""
             }
            },
            "type": "scatter3d"
           }
          ],
          "scattercarpet": [
           {
            "marker": {
             "colorbar": {
              "outlinewidth": 0,
              "ticks": ""
             }
            },
            "type": "scattercarpet"
           }
          ],
          "scattergeo": [
           {
            "marker": {
             "colorbar": {
              "outlinewidth": 0,
              "ticks": ""
             }
            },
            "type": "scattergeo"
           }
          ],
          "scattergl": [
           {
            "marker": {
             "colorbar": {
              "outlinewidth": 0,
              "ticks": ""
             }
            },
            "type": "scattergl"
           }
          ],
          "scattermapbox": [
           {
            "marker": {
             "colorbar": {
              "outlinewidth": 0,
              "ticks": ""
             }
            },
            "type": "scattermapbox"
           }
          ],
          "scatterpolar": [
           {
            "marker": {
             "colorbar": {
              "outlinewidth": 0,
              "ticks": ""
             }
            },
            "type": "scatterpolar"
           }
          ],
          "scatterpolargl": [
           {
            "marker": {
             "colorbar": {
              "outlinewidth": 0,
              "ticks": ""
             }
            },
            "type": "scatterpolargl"
           }
          ],
          "scatterternary": [
           {
            "marker": {
             "colorbar": {
              "outlinewidth": 0,
              "ticks": ""
             }
            },
            "type": "scatterternary"
           }
          ],
          "surface": [
           {
            "colorbar": {
             "outlinewidth": 0,
             "ticks": ""
            },
            "colorscale": [
             [
              0,
              "#0d0887"
             ],
             [
              0.1111111111111111,
              "#46039f"
             ],
             [
              0.2222222222222222,
              "#7201a8"
             ],
             [
              0.3333333333333333,
              "#9c179e"
             ],
             [
              0.4444444444444444,
              "#bd3786"
             ],
             [
              0.5555555555555556,
              "#d8576b"
             ],
             [
              0.6666666666666666,
              "#ed7953"
             ],
             [
              0.7777777777777778,
              "#fb9f3a"
             ],
             [
              0.8888888888888888,
              "#fdca26"
             ],
             [
              1,
              "#f0f921"
             ]
            ],
            "type": "surface"
           }
          ],
          "table": [
           {
            "cells": {
             "fill": {
              "color": "#EBF0F8"
             },
             "line": {
              "color": "white"
             }
            },
            "header": {
             "fill": {
              "color": "#C8D4E3"
             },
             "line": {
              "color": "white"
             }
            },
            "type": "table"
           }
          ]
         },
         "layout": {
          "annotationdefaults": {
           "arrowcolor": "#2a3f5f",
           "arrowhead": 0,
           "arrowwidth": 1
          },
          "autotypenumbers": "strict",
          "coloraxis": {
           "colorbar": {
            "outlinewidth": 0,
            "ticks": ""
           }
          },
          "colorscale": {
           "diverging": [
            [
             0,
             "#8e0152"
            ],
            [
             0.1,
             "#c51b7d"
            ],
            [
             0.2,
             "#de77ae"
            ],
            [
             0.3,
             "#f1b6da"
            ],
            [
             0.4,
             "#fde0ef"
            ],
            [
             0.5,
             "#f7f7f7"
            ],
            [
             0.6,
             "#e6f5d0"
            ],
            [
             0.7,
             "#b8e186"
            ],
            [
             0.8,
             "#7fbc41"
            ],
            [
             0.9,
             "#4d9221"
            ],
            [
             1,
             "#276419"
            ]
           ],
           "sequential": [
            [
             0,
             "#0d0887"
            ],
            [
             0.1111111111111111,
             "#46039f"
            ],
            [
             0.2222222222222222,
             "#7201a8"
            ],
            [
             0.3333333333333333,
             "#9c179e"
            ],
            [
             0.4444444444444444,
             "#bd3786"
            ],
            [
             0.5555555555555556,
             "#d8576b"
            ],
            [
             0.6666666666666666,
             "#ed7953"
            ],
            [
             0.7777777777777778,
             "#fb9f3a"
            ],
            [
             0.8888888888888888,
             "#fdca26"
            ],
            [
             1,
             "#f0f921"
            ]
           ],
           "sequentialminus": [
            [
             0,
             "#0d0887"
            ],
            [
             0.1111111111111111,
             "#46039f"
            ],
            [
             0.2222222222222222,
             "#7201a8"
            ],
            [
             0.3333333333333333,
             "#9c179e"
            ],
            [
             0.4444444444444444,
             "#bd3786"
            ],
            [
             0.5555555555555556,
             "#d8576b"
            ],
            [
             0.6666666666666666,
             "#ed7953"
            ],
            [
             0.7777777777777778,
             "#fb9f3a"
            ],
            [
             0.8888888888888888,
             "#fdca26"
            ],
            [
             1,
             "#f0f921"
            ]
           ]
          },
          "colorway": [
           "#636efa",
           "#EF553B",
           "#00cc96",
           "#ab63fa",
           "#FFA15A",
           "#19d3f3",
           "#FF6692",
           "#B6E880",
           "#FF97FF",
           "#FECB52"
          ],
          "font": {
           "color": "#2a3f5f"
          },
          "geo": {
           "bgcolor": "white",
           "lakecolor": "white",
           "landcolor": "#E5ECF6",
           "showlakes": true,
           "showland": true,
           "subunitcolor": "white"
          },
          "hoverlabel": {
           "align": "left"
          },
          "hovermode": "closest",
          "mapbox": {
           "style": "light"
          },
          "paper_bgcolor": "white",
          "plot_bgcolor": "#E5ECF6",
          "polar": {
           "angularaxis": {
            "gridcolor": "white",
            "linecolor": "white",
            "ticks": ""
           },
           "bgcolor": "#E5ECF6",
           "radialaxis": {
            "gridcolor": "white",
            "linecolor": "white",
            "ticks": ""
           }
          },
          "scene": {
           "xaxis": {
            "backgroundcolor": "#E5ECF6",
            "gridcolor": "white",
            "gridwidth": 2,
            "linecolor": "white",
            "showbackground": true,
            "ticks": "",
            "zerolinecolor": "white"
           },
           "yaxis": {
            "backgroundcolor": "#E5ECF6",
            "gridcolor": "white",
            "gridwidth": 2,
            "linecolor": "white",
            "showbackground": true,
            "ticks": "",
            "zerolinecolor": "white"
           },
           "zaxis": {
            "backgroundcolor": "#E5ECF6",
            "gridcolor": "white",
            "gridwidth": 2,
            "linecolor": "white",
            "showbackground": true,
            "ticks": "",
            "zerolinecolor": "white"
           }
          },
          "shapedefaults": {
           "line": {
            "color": "#2a3f5f"
           }
          },
          "ternary": {
           "aaxis": {
            "gridcolor": "white",
            "linecolor": "white",
            "ticks": ""
           },
           "baxis": {
            "gridcolor": "white",
            "linecolor": "white",
            "ticks": ""
           },
           "bgcolor": "#E5ECF6",
           "caxis": {
            "gridcolor": "white",
            "linecolor": "white",
            "ticks": ""
           }
          },
          "title": {
           "x": 0.05
          },
          "xaxis": {
           "automargin": true,
           "gridcolor": "white",
           "linecolor": "white",
           "ticks": "",
           "title": {
            "standoff": 15
           },
           "zerolinecolor": "white",
           "zerolinewidth": 2
          },
          "yaxis": {
           "automargin": true,
           "gridcolor": "white",
           "linecolor": "white",
           "ticks": "",
           "title": {
            "standoff": 15
           },
           "zerolinecolor": "white",
           "zerolinewidth": 2
          }
         }
        },
        "xaxis": {
         "anchor": "y",
         "domain": [
          0,
          0.94
         ]
        },
        "yaxis": {
         "anchor": "x",
         "domain": [
          0,
          1
         ]
        },
        "yaxis2": {
         "anchor": "x",
         "overlaying": "y",
         "side": "right"
        }
       }
      },
      "text/html": [
       "<div>                            <div id=\"b0eea7eb-a9ee-48d8-9db5-c84e75f9d7e8\" class=\"plotly-graph-div\" style=\"height:525px; width:100%;\"></div>            <script type=\"text/javascript\">                require([\"plotly\"], function(Plotly) {                    window.PLOTLYENV=window.PLOTLYENV || {};                                    if (document.getElementById(\"b0eea7eb-a9ee-48d8-9db5-c84e75f9d7e8\")) {                    Plotly.newPlot(                        \"b0eea7eb-a9ee-48d8-9db5-c84e75f9d7e8\",                        [{\"hovertemplate\":\"%{x}<br>%{y}\",\"name\":\"left\",\"showlegend\":true,\"visible\":true,\"x\":[\"2017-10-31T00:00:00\",\"2017-11-30T00:00:00\",\"2018-01-31T00:00:00\",\"2018-02-28T00:00:00\",\"2018-04-30T00:00:00\",\"2018-05-31T00:00:00\",\"2018-07-31T00:00:00\",\"2018-08-31T00:00:00\",\"2018-10-31T00:00:00\",\"2018-11-30T00:00:00\",\"2019-01-31T00:00:00\",\"2019-02-28T00:00:00\",\"2019-04-30T00:00:00\",\"2019-05-31T00:00:00\",\"2019-07-31T00:00:00\",\"2019-09-30T00:00:00\",\"2019-10-31T00:00:00\",\"2020-01-31T00:00:00\",\"2020-03-31T00:00:00\",\"2020-06-30T00:00:00\",\"2020-07-31T00:00:00\",\"2020-08-31T00:00:00\",\"2020-11-30T00:00:00\",\"2021-03-31T00:00:00\",\"2021-04-30T00:00:00\",\"2021-05-31T00:00:00\",\"2021-06-30T00:00:00\",\"2021-08-31T00:00:00\",\"2021-09-30T00:00:00\",\"2021-11-30T00:00:00\",\"2022-02-28T00:00:00\",\"2022-03-31T00:00:00\",\"2022-05-31T00:00:00\",\"2022-06-30T00:00:00\",\"2022-08-31T00:00:00\"],\"xhoverformat\":\"%Y/%m/%d\",\"y\":[2.2800000000000002,2.2800000000000002,2.32,2.33,2.33,2.33,2.32,2.31,2.3000000000000003,2.2800000000000002,2.27,2.2700000000000005,2.2600000000000002,2.25,2.2,2.1499999999999995,2.12,2.15,2.1399999999999997,2.09,2.08,2.06,2.05,2.15,2.15,2.15,2.14,2.14,2.16,2.2,2.25,2.29,2.33,2.3499999999999996,2.34],\"type\":\"scatter\",\"xaxis\":\"x\",\"yaxis\":\"y\"},{\"hovertemplate\":\"%{x}<br>%{y}\",\"name\":\"right\",\"showlegend\":true,\"visible\":true,\"x\":[\"2017-10-31T00:00:00\",\"2017-11-30T00:00:00\",\"2018-01-31T00:00:00\",\"2018-02-28T00:00:00\",\"2018-04-30T00:00:00\",\"2018-05-31T00:00:00\",\"2018-07-31T00:00:00\",\"2018-08-31T00:00:00\",\"2018-10-31T00:00:00\",\"2018-11-30T00:00:00\",\"2019-01-31T00:00:00\",\"2019-02-28T00:00:00\",\"2019-04-30T00:00:00\",\"2019-05-31T00:00:00\",\"2019-07-31T00:00:00\",\"2019-09-30T00:00:00\",\"2019-10-31T00:00:00\",\"2020-01-31T00:00:00\",\"2020-03-31T00:00:00\",\"2020-06-30T00:00:00\",\"2020-07-31T00:00:00\",\"2020-08-31T00:00:00\",\"2020-11-30T00:00:00\",\"2021-03-31T00:00:00\",\"2021-04-30T00:00:00\",\"2021-05-31T00:00:00\",\"2021-06-30T00:00:00\",\"2021-08-31T00:00:00\",\"2021-09-30T00:00:00\",\"2021-11-30T00:00:00\",\"2022-02-28T00:00:00\",\"2022-03-31T00:00:00\",\"2022-05-31T00:00:00\",\"2022-06-30T00:00:00\",\"2022-08-31T00:00:00\"],\"xhoverformat\":\"%Y/%m/%d\",\"y\":[921.05,913.56,987.76,956.46,932.2433333333333,839.5166666666667,863.6399999999999,837.1399999999999,787.2466666666667,783.9633333333333,785.9799999999999,767.7333333333333,760.8366666666666,746.4033333333332,723.1733333333332,707.0866666666666,687.2866666666666,656.7733333333333,480.5,517.6966666666666,536.5833333333333,535.3966666666665,632.76,721.34,759.3633333333332,797.46,783.93,754.5666666666666,778.6666666666666,731.8566666666666,771.4466666666667,802.6599999999999,789.18,633.7,617.7133333333333],\"type\":\"scatter\",\"xaxis\":\"x\",\"yaxis\":\"y2\"},{\"hovertemplate\":\"%{x}<br>%{y}\",\"name\":\"right<br>shifted\",\"showlegend\":true,\"visible\":\"legendonly\",\"x\":[\"2017-10-31T00:00:00\",\"2017-11-30T00:00:00\",\"2018-01-31T00:00:00\",\"2018-02-28T00:00:00\",\"2018-04-30T00:00:00\",\"2018-05-31T00:00:00\",\"2018-07-31T00:00:00\",\"2018-08-31T00:00:00\",\"2018-10-31T00:00:00\",\"2018-11-30T00:00:00\",\"2019-01-31T00:00:00\",\"2019-02-28T00:00:00\",\"2019-04-30T00:00:00\",\"2019-05-31T00:00:00\",\"2019-07-31T00:00:00\",\"2019-09-30T00:00:00\",\"2019-10-31T00:00:00\",\"2020-01-31T00:00:00\",\"2020-03-31T00:00:00\",\"2020-06-30T00:00:00\",\"2020-07-31T00:00:00\",\"2020-08-31T00:00:00\",\"2020-11-30T00:00:00\",\"2021-03-31T00:00:00\",\"2021-04-30T00:00:00\",\"2021-05-31T00:00:00\",\"2021-06-30T00:00:00\",\"2021-08-31T00:00:00\",\"2021-09-30T00:00:00\",\"2021-11-30T00:00:00\",\"2022-02-28T00:00:00\",\"2022-03-31T00:00:00\",\"2022-05-31T00:00:00\",\"2022-06-30T00:00:00\",\"2022-08-31T00:00:00\"],\"xhoverformat\":\"%Y/%m/%d\",\"y\":[null,null,921.05,913.56,987.76,956.46,932.2433333333333,839.5166666666667,863.6399999999999,837.1399999999999,787.2466666666667,783.9633333333333,785.9799999999999,767.7333333333333,760.8366666666666,746.4033333333332,723.1733333333332,707.0866666666666,687.2866666666666,656.7733333333333,480.5,517.6966666666666,536.5833333333333,535.3966666666665,632.76,721.34,759.3633333333332,797.46,783.93,754.5666666666666,778.6666666666666,731.8566666666666,771.4466666666667,802.6599999999999,789.18],\"type\":\"scatter\",\"xaxis\":\"x\",\"yaxis\":\"y2\"}],                        {\"template\":{\"data\":{\"histogram2dcontour\":[{\"type\":\"histogram2dcontour\",\"colorbar\":{\"outlinewidth\":0,\"ticks\":\"\"},\"colorscale\":[[0.0,\"#0d0887\"],[0.1111111111111111,\"#46039f\"],[0.2222222222222222,\"#7201a8\"],[0.3333333333333333,\"#9c179e\"],[0.4444444444444444,\"#bd3786\"],[0.5555555555555556,\"#d8576b\"],[0.6666666666666666,\"#ed7953\"],[0.7777777777777778,\"#fb9f3a\"],[0.8888888888888888,\"#fdca26\"],[1.0,\"#f0f921\"]]}],\"choropleth\":[{\"type\":\"choropleth\",\"colorbar\":{\"outlinewidth\":0,\"ticks\":\"\"}}],\"histogram2d\":[{\"type\":\"histogram2d\",\"colorbar\":{\"outlinewidth\":0,\"ticks\":\"\"},\"colorscale\":[[0.0,\"#0d0887\"],[0.1111111111111111,\"#46039f\"],[0.2222222222222222,\"#7201a8\"],[0.3333333333333333,\"#9c179e\"],[0.4444444444444444,\"#bd3786\"],[0.5555555555555556,\"#d8576b\"],[0.6666666666666666,\"#ed7953\"],[0.7777777777777778,\"#fb9f3a\"],[0.8888888888888888,\"#fdca26\"],[1.0,\"#f0f921\"]]}],\"heatmap\":[{\"type\":\"heatmap\",\"colorbar\":{\"outlinewidth\":0,\"ticks\":\"\"},\"colorscale\":[[0.0,\"#0d0887\"],[0.1111111111111111,\"#46039f\"],[0.2222222222222222,\"#7201a8\"],[0.3333333333333333,\"#9c179e\"],[0.4444444444444444,\"#bd3786\"],[0.5555555555555556,\"#d8576b\"],[0.6666666666666666,\"#ed7953\"],[0.7777777777777778,\"#fb9f3a\"],[0.8888888888888888,\"#fdca26\"],[1.0,\"#f0f921\"]]}],\"heatmapgl\":[{\"type\":\"heatmapgl\",\"colorbar\":{\"outlinewidth\":0,\"ticks\":\"\"},\"colorscale\":[[0.0,\"#0d0887\"],[0.1111111111111111,\"#46039f\"],[0.2222222222222222,\"#7201a8\"],[0.3333333333333333,\"#9c179e\"],[0.4444444444444444,\"#bd3786\"],[0.5555555555555556,\"#d8576b\"],[0.6666666666666666,\"#ed7953\"],[0.7777777777777778,\"#fb9f3a\"],[0.8888888888888888,\"#fdca26\"],[1.0,\"#f0f921\"]]}],\"contourcarpet\":[{\"type\":\"contourcarpet\",\"colorbar\":{\"outlinewidth\":0,\"ticks\":\"\"}}],\"contour\":[{\"type\":\"contour\",\"colorbar\":{\"outlinewidth\":0,\"ticks\":\"\"},\"colorscale\":[[0.0,\"#0d0887\"],[0.1111111111111111,\"#46039f\"],[0.2222222222222222,\"#7201a8\"],[0.3333333333333333,\"#9c179e\"],[0.4444444444444444,\"#bd3786\"],[0.5555555555555556,\"#d8576b\"],[0.6666666666666666,\"#ed7953\"],[0.7777777777777778,\"#fb9f3a\"],[0.8888888888888888,\"#fdca26\"],[1.0,\"#f0f921\"]]}],\"surface\":[{\"type\":\"surface\",\"colorbar\":{\"outlinewidth\":0,\"ticks\":\"\"},\"colorscale\":[[0.0,\"#0d0887\"],[0.1111111111111111,\"#46039f\"],[0.2222222222222222,\"#7201a8\"],[0.3333333333333333,\"#9c179e\"],[0.4444444444444444,\"#bd3786\"],[0.5555555555555556,\"#d8576b\"],[0.6666666666666666,\"#ed7953\"],[0.7777777777777778,\"#fb9f3a\"],[0.8888888888888888,\"#fdca26\"],[1.0,\"#f0f921\"]]}],\"mesh3d\":[{\"type\":\"mesh3d\",\"colorbar\":{\"outlinewidth\":0,\"ticks\":\"\"}}],\"scatter\":[{\"fillpattern\":{\"fillmode\":\"overlay\",\"size\":10,\"solidity\":0.2},\"type\":\"scatter\"}],\"parcoords\":[{\"type\":\"parcoords\",\"line\":{\"colorbar\":{\"outlinewidth\":0,\"ticks\":\"\"}}}],\"scatterpolargl\":[{\"type\":\"scatterpolargl\",\"marker\":{\"colorbar\":{\"outlinewidth\":0,\"ticks\":\"\"}}}],\"bar\":[{\"error_x\":{\"color\":\"#2a3f5f\"},\"error_y\":{\"color\":\"#2a3f5f\"},\"marker\":{\"line\":{\"color\":\"#E5ECF6\",\"width\":0.5},\"pattern\":{\"fillmode\":\"overlay\",\"size\":10,\"solidity\":0.2}},\"type\":\"bar\"}],\"scattergeo\":[{\"type\":\"scattergeo\",\"marker\":{\"colorbar\":{\"outlinewidth\":0,\"ticks\":\"\"}}}],\"scatterpolar\":[{\"type\":\"scatterpolar\",\"marker\":{\"colorbar\":{\"outlinewidth\":0,\"ticks\":\"\"}}}],\"histogram\":[{\"marker\":{\"pattern\":{\"fillmode\":\"overlay\",\"size\":10,\"solidity\":0.2}},\"type\":\"histogram\"}],\"scattergl\":[{\"type\":\"scattergl\",\"marker\":{\"colorbar\":{\"outlinewidth\":0,\"ticks\":\"\"}}}],\"scatter3d\":[{\"type\":\"scatter3d\",\"line\":{\"colorbar\":{\"outlinewidth\":0,\"ticks\":\"\"}},\"marker\":{\"colorbar\":{\"outlinewidth\":0,\"ticks\":\"\"}}}],\"scattermapbox\":[{\"type\":\"scattermapbox\",\"marker\":{\"colorbar\":{\"outlinewidth\":0,\"ticks\":\"\"}}}],\"scatterternary\":[{\"type\":\"scatterternary\",\"marker\":{\"colorbar\":{\"outlinewidth\":0,\"ticks\":\"\"}}}],\"scattercarpet\":[{\"type\":\"scattercarpet\",\"marker\":{\"colorbar\":{\"outlinewidth\":0,\"ticks\":\"\"}}}],\"carpet\":[{\"aaxis\":{\"endlinecolor\":\"#2a3f5f\",\"gridcolor\":\"white\",\"linecolor\":\"white\",\"minorgridcolor\":\"white\",\"startlinecolor\":\"#2a3f5f\"},\"baxis\":{\"endlinecolor\":\"#2a3f5f\",\"gridcolor\":\"white\",\"linecolor\":\"white\",\"minorgridcolor\":\"white\",\"startlinecolor\":\"#2a3f5f\"},\"type\":\"carpet\"}],\"table\":[{\"cells\":{\"fill\":{\"color\":\"#EBF0F8\"},\"line\":{\"color\":\"white\"}},\"header\":{\"fill\":{\"color\":\"#C8D4E3\"},\"line\":{\"color\":\"white\"}},\"type\":\"table\"}],\"barpolar\":[{\"marker\":{\"line\":{\"color\":\"#E5ECF6\",\"width\":0.5},\"pattern\":{\"fillmode\":\"overlay\",\"size\":10,\"solidity\":0.2}},\"type\":\"barpolar\"}],\"pie\":[{\"automargin\":true,\"type\":\"pie\"}]},\"layout\":{\"autotypenumbers\":\"strict\",\"colorway\":[\"#636efa\",\"#EF553B\",\"#00cc96\",\"#ab63fa\",\"#FFA15A\",\"#19d3f3\",\"#FF6692\",\"#B6E880\",\"#FF97FF\",\"#FECB52\"],\"font\":{\"color\":\"#2a3f5f\"},\"hovermode\":\"closest\",\"hoverlabel\":{\"align\":\"left\"},\"paper_bgcolor\":\"white\",\"plot_bgcolor\":\"#E5ECF6\",\"polar\":{\"bgcolor\":\"#E5ECF6\",\"angularaxis\":{\"gridcolor\":\"white\",\"linecolor\":\"white\",\"ticks\":\"\"},\"radialaxis\":{\"gridcolor\":\"white\",\"linecolor\":\"white\",\"ticks\":\"\"}},\"ternary\":{\"bgcolor\":\"#E5ECF6\",\"aaxis\":{\"gridcolor\":\"white\",\"linecolor\":\"white\",\"ticks\":\"\"},\"baxis\":{\"gridcolor\":\"white\",\"linecolor\":\"white\",\"ticks\":\"\"},\"caxis\":{\"gridcolor\":\"white\",\"linecolor\":\"white\",\"ticks\":\"\"}},\"coloraxis\":{\"colorbar\":{\"outlinewidth\":0,\"ticks\":\"\"}},\"colorscale\":{\"sequential\":[[0.0,\"#0d0887\"],[0.1111111111111111,\"#46039f\"],[0.2222222222222222,\"#7201a8\"],[0.3333333333333333,\"#9c179e\"],[0.4444444444444444,\"#bd3786\"],[0.5555555555555556,\"#d8576b\"],[0.6666666666666666,\"#ed7953\"],[0.7777777777777778,\"#fb9f3a\"],[0.8888888888888888,\"#fdca26\"],[1.0,\"#f0f921\"]],\"sequentialminus\":[[0.0,\"#0d0887\"],[0.1111111111111111,\"#46039f\"],[0.2222222222222222,\"#7201a8\"],[0.3333333333333333,\"#9c179e\"],[0.4444444444444444,\"#bd3786\"],[0.5555555555555556,\"#d8576b\"],[0.6666666666666666,\"#ed7953\"],[0.7777777777777778,\"#fb9f3a\"],[0.8888888888888888,\"#fdca26\"],[1.0,\"#f0f921\"]],\"diverging\":[[0,\"#8e0152\"],[0.1,\"#c51b7d\"],[0.2,\"#de77ae\"],[0.3,\"#f1b6da\"],[0.4,\"#fde0ef\"],[0.5,\"#f7f7f7\"],[0.6,\"#e6f5d0\"],[0.7,\"#b8e186\"],[0.8,\"#7fbc41\"],[0.9,\"#4d9221\"],[1,\"#276419\"]]},\"xaxis\":{\"gridcolor\":\"white\",\"linecolor\":\"white\",\"ticks\":\"\",\"title\":{\"standoff\":15},\"zerolinecolor\":\"white\",\"automargin\":true,\"zerolinewidth\":2},\"yaxis\":{\"gridcolor\":\"white\",\"linecolor\":\"white\",\"ticks\":\"\",\"title\":{\"standoff\":15},\"zerolinecolor\":\"white\",\"automargin\":true,\"zerolinewidth\":2},\"scene\":{\"xaxis\":{\"backgroundcolor\":\"#E5ECF6\",\"gridcolor\":\"white\",\"linecolor\":\"white\",\"showbackground\":true,\"ticks\":\"\",\"zerolinecolor\":\"white\",\"gridwidth\":2},\"yaxis\":{\"backgroundcolor\":\"#E5ECF6\",\"gridcolor\":\"white\",\"linecolor\":\"white\",\"showbackground\":true,\"ticks\":\"\",\"zerolinecolor\":\"white\",\"gridwidth\":2},\"zaxis\":{\"backgroundcolor\":\"#E5ECF6\",\"gridcolor\":\"white\",\"linecolor\":\"white\",\"showbackground\":true,\"ticks\":\"\",\"zerolinecolor\":\"white\",\"gridwidth\":2}},\"shapedefaults\":{\"line\":{\"color\":\"#2a3f5f\"}},\"annotationdefaults\":{\"arrowcolor\":\"#2a3f5f\",\"arrowhead\":0,\"arrowwidth\":1},\"geo\":{\"bgcolor\":\"white\",\"landcolor\":\"#E5ECF6\",\"subunitcolor\":\"white\",\"showland\":true,\"showlakes\":true,\"lakecolor\":\"white\"},\"title\":{\"x\":0.05},\"mapbox\":{\"style\":\"light\"}}},\"xaxis\":{\"anchor\":\"y\",\"domain\":[0.0,0.94]},\"yaxis\":{\"anchor\":\"x\",\"domain\":[0.0,1.0]},\"yaxis2\":{\"anchor\":\"x\",\"overlaying\":\"y\",\"side\":\"right\"}},                        {\"responsive\": true}                    ).then(function(){\n",
       "                            \n",
       "var gd = document.getElementById('b0eea7eb-a9ee-48d8-9db5-c84e75f9d7e8');\n",
       "var x = new MutationObserver(function (mutations, observer) {{\n",
       "        var display = window.getComputedStyle(gd).display;\n",
       "        if (!display || display === 'none') {{\n",
       "            console.log([gd, 'removed!']);\n",
       "            Plotly.purge(gd);\n",
       "            observer.disconnect();\n",
       "        }}\n",
       "}});\n",
       "\n",
       "// Listen for the removal of the full notebook cells\n",
       "var notebookContainer = gd.closest('#notebook-container');\n",
       "if (notebookContainer) {{\n",
       "    x.observe(notebookContainer, {childList: true});\n",
       "}}\n",
       "\n",
       "// Listen for the clearing of the current output cell\n",
       "var outputEl = gd.closest('.output');\n",
       "if (outputEl) {{\n",
       "    x.observe(outputEl, {childList: true});\n",
       "}}\n",
       "\n",
       "                        })                };                });            </script>        </div>"
      ]
     },
     "metadata": {},
     "output_type": "display_data"
    }
   ],
   "source": [
    "left = krbank.copy()\n",
    "# left = ohlcv.copy()\n",
    "\n",
    "# right = exchange.copy()\n",
    "right = margin.copy()\n",
    "\n",
    "# mycorr = corrmodel(ohlcv2hlc(left), ohlcv2hlc(right))\n",
    "mycorr = corrmodel(ohlcv2hlc(left), right)\n",
    "# mycorr = corrmodel(right, ohlcv2hlc(left))\n",
    "print(mycorr.coeff)\n",
    "print(mycorr.coeffmd)\n",
    "print(mycorr.coeffrl)\n",
    "\n",
    "mycorr.show_aligned()\n",
    "# mycorr.show_scatter()"
   ]
  },
  {
   "cell_type": "markdown",
   "id": "6c9bdbb6",
   "metadata": {},
   "source": [
    "## VISUALIZE"
   ]
  },
  {
   "cell_type": "markdown",
   "id": "47fcff5e",
   "metadata": {},
   "source": [
    "### Scatter"
   ]
  },
  {
   "cell_type": "code",
   "execution_count": 23,
   "id": "7feba59b",
   "metadata": {
    "ExecuteTime": {
     "end_time": "2022-10-20T09:28:09.140840Z",
     "start_time": "2022-10-20T09:28:09.104916Z"
    }
   },
   "outputs": [
    {
     "data": {
      "application/vnd.plotly.v1+json": {
       "config": {
        "plotlyServerURL": "https://plot.ly"
       },
       "data": [
        {
         "mode": "markers",
         "name": "산포도",
         "type": "scatter",
         "x": [
          0.6721741742691354,
          0.724318940028776,
          0.7723212168166078,
          0.7592296867835628,
          0.7375685803279206,
          0.7450630069410407,
          0.6975034388982877,
          0.7121760715923287,
          0.6948471864278147,
          0.7258051765301119,
          0.6458646259901655,
          0.6327098518506808,
          0.5940360807627239,
          0.6048192009107152,
          0.5835375590937117,
          0.5614337438929908,
          0.5772763925561686,
          0.6105427925435201,
          0.6544974465192026,
          0.6023843028127815,
          0.6092146663082834,
          0.5786993849510649,
          0.6133571552800925,
          0.6124401157367145,
          0.6046927126978354,
          0.6259743545148388,
          0.6551298875836007,
          0.6656284092526128,
          0.677549923316521,
          0.5969136876057362,
          0.6512719970907712,
          0.6625610700902809,
          0.6676522206586872,
          0.6342593324584567,
          0.6409948297942987,
          0.62919980394327,
          0.6119974069916359,
          0.6839375780669437,
          0.7225481050484608,
          0.7585656236659446,
          0.7554034183439531,
          0.7602732145398199,
          0.7919901339193955,
          0.7902509209922999,
          0.8012553955128305,
          0.825541132385726,
          0.7606843012316788,
          0.7545180008537955,
          0.7696017202396952,
          0.7789934700460102,
          0.7644789476180689,
          0.8093190190839092,
          0.9037740920517967,
          0.9294828213195885,
          0.9273325217006341,
          0.9566461650354956,
          0.9810267680680507,
          0.9637295049567567,
          0.9065252106819295,
          0.926573592423356,
          0.89887267380271,
          0.9691052540041425,
          0.9077900928107263,
          1,
          0.9584802441222509,
          0.919047543757016,
          0.9236011194206841,
          0.9338150426107166,
          0.9463373756858031,
          0.9511123057220103,
          0.9139880152418296,
          0.9279017186585927,
          0.9761569718721839,
          0.8328142046263063,
          0.7710879567410311,
          0.7535377172039779,
          0.69668126551457,
          0.7944566540705489,
          0.7965437095830632,
          0.7933498822078517,
          0.8727844798962796,
          0.8562777681154836,
          0.8290511802931362,
          0.8322450076683481,
          0.8722469049915411,
          0.8591237529052762,
          0.838601040365551,
          0.8196278084336017,
          0.7794045567378691,
          0.7168245134156563,
          0.6953531392793333,
          0.6517779499422898,
          0.6754312457507867,
          0.6770123484117825,
          0.7702341613040935,
          0.6975034388982877,
          0.6560469271269784,
          0.660663746897086,
          0.6968393757806695,
          0.713440953721125,
          0.7080019605672996,
          0.7113222761553908,
          0.7597672616883013,
          0.6537701392951445,
          0.6335004031811786,
          0.6620551172387623,
          0.5793002039622435,
          0.6066216579442505,
          0.6068746343700095,
          0.5550460891425679,
          0.46716840324442277,
          0.45951586636520325,
          0.4739355226334845,
          0.48323240628013986,
          0.46634622986070484,
          0.5245308077853494,
          0.5179534207156069,
          0.5452116305911741,
          0.5910636077600517,
          0.5851186617547075,
          0.5724698404667414,
          0.5923601119420685,
          0.6183534396888388,
          0.6094992647872626,
          0.6901671225512671,
          0.7271649248185685,
          0.6901671225512671,
          0.7001596913687604,
          0.7053773301500468,
          0.7321612092273151,
          0.7131563552421458,
          0.6821983651398484,
          0.6434297278922321,
          0.6270178822710957,
          0.6302749537527472,
          0.6496908944297755,
          0.6553828640093602,
          0.6657548974654923,
          0.6378642465255269,
          0.66670355906209,
          0.6451373187661074,
          0.6036808069947981,
          0.6222745742881084,
          0.5909687416003921,
          0.593656616124085,
          0.5674419340047752,
          0.5507138678514394,
          0.5403102123420873,
          0.44882761237687174,
          0.43447120021502994,
          0.45300172340190037,
          0.5482157256470663,
          0.5674419340047752,
          0.6348601514696348,
          0.6388445301753443,
          0.6679684411908866,
          0.66660869290243,
          0.6166458488149635,
          0.5594415545401361,
          0.5898935917909149,
          0.5542555378120699,
          0.5848340632757287,
          0.47722421616835575,
          0.49411039258779077,
          0.5275665248944614,
          0.5342704001770837,
          0.5090676237608107,
          0.44092209907189295,
          0.47551662529448024,
          0.4609072367068794,
          0.4353566177051875,
          0.43099277436083905,
          0.44218698120068956,
          0.5114076556990845,
          0.5599475073916551,
          0.5278511233734404,
          0.5242145872531503,
          0.48051290970322724,
          0.5678846427498538,
          0.5244043195724699,
          0.5484687020728258,
          0.5192499248976237,
          0.481208594874065,
          0.48854491122108556,
          0.5209258937182792,
          0.5079292298448939,
          0.5458756937087925,
          0.5108384587411259,
          0.5323414549306686,
          0.5286100526507185,
          0.5246889180514489,
          0.5385393773617719,
          0.47994371274526837,
          0.49309848688475366,
          0.49230793555425567,
          0.465587300583427,
          0.5031542998086866,
          0.468623017692539,
          0.454361471690357,
          0.4214112922352047,
          0.4408272329122329,
          0.42675541922937077,
          0.4391196420383576,
          0.44623460401283865,
          0.4508514237829464,
          0.4253640488876942,
          0.4027542808354547,
          0.42343510364127934,
          0.45834585039606646,
          0.478678830616472,
          0.48490837510079543,
          0.43671636599364394,
          0.44642433633215783,
          0.4356095941309468,
          0.4363052793017852,
          0.3884294907268331,
          0.3741679447246511,
          0.3926036017518617,
          0.4003193827375213,
          0.40566350973168674,
          0.4230556390026403,
          0.46179265419703697,
          0.43216279032997607,
          0.41255711733362865,
          0.38476133255332257,
          0.3826110329343684,
          0.4366847439404242,
          0.48728002909228896,
          0.5016680633073505,
          0.5389504640536311,
          0.5747150062453554,
          0.5553623096747671,
          0.6006450898856863,
          0.5939412146030643,
          0.5906841431214127,
          0.5815137476876373,
          0.44427403671320387,
          0.4299176245513623,
          0.43798124812244055,
          0.4265656869100509,
          0.4573339446930289,
          0.42498458424905516,
          0.41938748082913024,
          0.4780147674988535,
          0.4138852435688649,
          0.4648916154125886,
          0.4016791310259775,
          0.3910857431973056,
          0.3978844846395877,
          0.2859424162410864,
          0.2888832671905388,
          0.2802820687147216,
          0.3361898588075325,
          0.305959175929293,
          0.3155722801081473,
          0.30052018277546755,
          0.32132749379417214,
          0.3110819485509193,
          0.3228137302955081,
          0.3144655082454506,
          0.3039669865764385,
          0.30286021471374136,
          0.305959175929293,
          0.2933735987477666,
          0.30248075007510233,
          0.299223678593451,
          0.30497889227947583,
          0.296693914335858,
          0.3053267348648947,
          0.323635903679226,
          0.2932154884816671,
          0.3110819485509193,
          0.2555852451499676,
          0.2565971508530047,
          0.2689613736619918,
          0.2652932154884815,
          0.25150600028459835,
          0.23974259648679008,
          0.18984299650576308,
          0.18288614479738174,
          0.2117570793871646,
          0.22548105048460787,
          0.24843866112226687,
          0.2572928360238431,
          0.2923933150979494,
          0.28104099799199966,
          0.29425901623792416,
          0.31345360254241306,
          0.30251237212832227,
          0.2607712618780338,
          0.16660078738912532,
          0.18797729536578833,
          0.1545527851123374,
          0.15720903758281035,
          0.13055164671842134,
          0.0939649311429791,
          0.09851850680664676,
          0.13279681249703534,
          0.1033250588960739,
          0.10983920185937679,
          0.08735592202001685,
          0.15638686419909265,
          0.1955033440321281,
          0.211946811706484,
          0.19034894935728186,
          0.17776337217575544,
          0.1703638117222952,
          0.1674862048792829,
          0.2038515660821858,
          0.21425522159153787,
          0.20748810220247593,
          0.21431846569797774,
          0.23386089458788573,
          0.2814520846838584,
          0.29555552041994093,
          0.29764257593245524,
          0.29100194475627283,
          0.2590004268977184,
          0.23639065884547872,
          0.28161019494995787,
          0.3146868626179897,
          0.2836656284092527,
          0.2917924960867708,
          0.26658971967049805,
          0.25931664742991756,
          0.25362467785033305,
          0.24809081853684778,
          0.25735608013028277,
          0.22231884516261613,
          0.21555172577355441,
          0.2184925767230066,
          0.1702689455626354,
          0.16574699195218723,
          0.169004063433839,
          0.15739876990212975,
          0.11565765965184127,
          0.15135895773712593,
          0.17175518206397156,
          0.16495644062168946,
          0.18007178206080932,
          0.22804243679542124,
          0.23246952424620915,
          0.22503834173952897,
          0.21931475010672452,
          0.18136828624282586,
          0.14984109918256983,
          0.10307208247031485,
          0.08403560643192587,
          0.09326924597214092,
          0.07252517905987643,
          0.096937404145651,
          0.17823770297405406,
          0.2306986892658942,
          0.2497351653042832,
          0.25805176530112095,
          0.25669201701266453,
          0.24853352728192646,
          0.24002719496576908,
          0.2504624725283413,
          0.24786946416430822,
          0.25128464591205923,
          0.2546998276598098,
          0.2552374025645485,
          0.2480275744304079,
          0.2195044824260437,
          0.20581213338182058,
          0.1930052018277546,
          0.21469793033661677,
          0.17694119879203773,
          0.19717931285278367,
          0.1649880626749094,
          0.20805729916043436,
          0.18570050753395417,
          0.22462725504767023,
          0.2073616139895964,
          0.22099071892737987,
          0.22143342767245877,
          0.18083071133808737,
          0.18668079118377134,
          0.1722611349154901,
          0.1612250383417395,
          0.18649105886445216,
          0.1830442550634812,
          0.1741268360554653,
          0.18984299650576308,
          0.21008111056650924,
          0.2133698041013803,
          0.2084367637990734,
          0.23661201321801828,
          0.22070612044840066,
          0.23171059496893132,
          0.18367669612787973,
          0.18813540563188758,
          0.14987272123578976,
          0.17820608092083434,
          0.20255506190016903,
          0.1753917181842617,
          0.17722579727101673,
          0.20084747102629374,
          0.19923474631207805,
          0.21036570904548824,
          0.1916454535392984,
          0.19208816228437708,
          0.19796986418328144,
          0.21147248090818538,
          0.23436684743940428,
          0.20549591284962143,
          0.19101301247489988,
          0.1956930763514475,
          0.19202491817793743,
          0.20461049535946385,
          0.2158047021993139,
          0.21207329991936397,
          0.22456401094123035,
          0.21555172577355441,
          0.17276708776700866,
          0.1828229006909421,
          0.17371574936360634,
          0.13482062390311,
          0.12305722010530129,
          0.12372128322291975,
          0.13820418359764108,
          0.15534333644283516,
          0.16179423529969794,
          0.17520198586494207,
          0.17333628472496732,
          0.15935933720176454,
          0.1823169478394231,
          0.17434819042800442,
          0.21216816607902356,
          0.19230951665691665,
          0.14607807484940016,
          0.1151517068003225,
          0.09462899426059712,
          0.08106313342925353,
          0.07401141556121238,
          0.08605941783800031,
          0.006593198096352504,
          -0.007605103799389612,
          -0.033630053599380205,
          -0.059085806441412037,
          -0.07467547867883062,
          -0.07119705282463984,
          -0.08900026878745226,
          -0.12621942542729292,
          -0.13210112732619717,
          -0.14759593340395571,
          -0.10705646117602419,
          -0.11404493493762535,
          -0.11825066801587425,
          -0.11483548626812323,
          -0.12207693645548412,
          -0.141556121238952,
          -0.1621104558318971,
          -0.15135895773712593,
          -0.14269451515486897,
          -0.08643888247663933,
          -0.08684996916849819,
          -0.08937973342609129,
          -0.06310180720034164,
          -0.07012190301516263,
          -0.044065331161952215,
          -0.026198871092699916,
          0.02300504371748846,
          0.05450060872452456,
          0.09260518285452268,
          0.07976662924723699,
          0.05895931822853262,
          0.04634211899378626,
          0.10136449159643912,
          0.08476291365598354,
          0.07650955776558588,
          0.05851660948345372,
          0.0804939364712951,
          0.010198112163422923,
          0.03641279428273281,
          0.030467848277388576,
          -0.013328695432194504,
          -0.03223868325770407,
          -0.03998608629658318,
          -0.039227157019305126,
          -0.09617847486837305,
          -0.05244517526523007,
          0.0065615760431325665,
          0.002102866539124282,
          0.008933230034626316,
          0.026578335731338942,
          0.013992758549812523,
          0.03502142394105667,
          0.07511818742390952,
          0.054627096937404085,
          0.07122867487785967,
          0.041725299223678736,
          -0.0016601577940454915,
          0.008395655129887603,
          -0.02607238287982039,
          -0.0416304330640187,
          -0.030689202649928138,
          0.004537764637058128,
          0.0354008885796957,
          0.023321264249687834,
          0.0354008885796957,
          0.05203408857337122,
          0.03853147184846728,
          0.057441459673976514,
          0.030025139532309897,
          0.031606242193305656,
          0.05706199503533749,
          0.053646813287586914,
          0.06465128780811757,
          0.08485777981564357,
          0.04491912659889019,
          0.06307018514712182,
          0.06844593419450717,
          0.07028001328126243,
          0.07065947791990146,
          0.06993217069584334,
          0.03922715701930524,
          0.046658339525985415,
          0.03135326576754616,
          0.028981611776052407,
          0.041409078691479584,
          0.05042136385915552,
          0.08160070833399202,
          0.08024096004553583,
          0.07837525890556063,
          0.11818742390943449,
          0.18838838205764707,
          0.1399433965247363,
          0.12425885812765802,
          0.16653754328268522,
          0.1736208832039463,
          0.16786566951792192,
          0.19098139042167994,
          0.1728935759798882,
          0.1875345866207092,
          0.10360965737505334,
          0.08001960567299626,
          0.031859218619065155,
          0.04166205511723864,
          0.0024190870713234336,
          0.018799310639239897,
          -0.030246493904849014,
          -0.026862934210318268,
          -0.03979635397726389,
          -0.03502142394105667,
          -0.009344316726485169,
          -0.007605103799389612,
          -0.011494616345439246,
          -0.01652252280740596,
          -0.0016917798472654288,
          -0.015763593530127906,
          -0.017376318244343603,
          -0.02607238287982039,
          -0.10800512277262153,
          -0.11534143911964212,
          -0.1210966528056665,
          -0.14345344443214703,
          -0.1457618543172009,
          -0.14984109918256994,
          -0.12191882618938432,
          -0.07919743228927845,
          -0.1118313912122314,
          -0.15309817066422116,
          -0.13826742770408085,
          -0.11632172276945929,
          -0.15177004442898478,
          -0.16543077141998808,
          -0.1855740193210743,
          -0.20644457444621866,
          -0.20970164592786988,
          -0.21871393109554593,
          -0.24584565275823356,
          -0.3323319683147028,
          -0.30915300330450446,
          -0.31566714626780734,
          -0.3073821683241894,
          -0.3514633105127515,
          -0.3756541812259868,
          -0.39083276677154655,
          -0.358451784274353,
          -0.3796701819849161,
          -0.42397267854601817,
          -0.5323730769838886,
          -0.5416067165241039,
          -0.5387923537875314,
          -0.633690135500498,
          -0.6997169826236816,
          -0.7407624077031321,
          -0.8386010403655508,
          -0.8789507802741631,
          -1,
          -0.8522933894097743,
          -0.9855170996252786,
          -0.9127863772194728,
          -0.7802899742280266,
          -0.7653643651082264,
          -0.6821034989801886,
          -0.715717741552959,
          -0.68915521684823,
          -0.7784242730880516,
          -0.7605578130187992,
          -0.7765585719480765,
          -0.7124290480180878,
          -0.6822299871930684,
          -0.7183739940234319,
          -0.7023416130409348,
          -0.639666703559062,
          -0.6697708982244217,
          -0.6399829240912611,
          -0.6847281293974417,
          -0.6575964077347541,
          -0.6742928518348696,
          -0.7048397552453081,
          -0.7112906541021708,
          -0.717203978054295,
          -0.7350388160703274,
          -0.5892927727797366,
          -0.5750628488307746,
          -0.5532436321090329,
          -0.6210096921593118,
          -0.6222429522348885,
          -0.6184483058484986,
          -0.6108906351289389,
          -0.6372001834079086,
          -0.6746090723670687,
          -0.661043211535725,
          -0.6984204784416652,
          -0.6706246936613594,
          -0.6915901149461634,
          -0.6237608107894446,
          -0.6359036792258921,
          -0.6416272708586968,
          -0.6760953088684047,
          -0.6603159043116669,
          -0.6168672031875029,
          -0.590968741600392,
          -0.5345549986560626,
          -0.5091624899204705,
          -0.4848135089411353,
          -0.39658798045757093,
          -0.2798393599696428,
          -0.33571552800923354,
          -0.3147817287776494,
          -0.3202523439846948,
          -0.3354625515834744,
          -0.3831802298923267,
          -0.4369693424194031,
          -0.49894856673043764,
          -0.573829588755198,
          -0.4537290306259586,
          -0.4863629895489112,
          -0.49041061236106065,
          -0.48933546255158344,
          -0.5263648868721047,
          -0.538634243521432,
          -0.5195977674830425,
          -0.5717425332426833,
          -0.542302401694942,
          -0.5835691811469317,
          -0.5767071955982102,
          -0.5522633484592154,
          -0.5478046389552074,
          -0.5413537400983447,
          -0.5174790899173083,
          -0.5337960693787847,
          -0.5503976473192402,
          -0.5649437918004014,
          -0.6071276107957689,
          -0.552389836672095,
          -0.5596945309658956,
          -0.5297800686198554,
          -0.515645010830553,
          -0.5267759735639637,
          -0.4780780116052933,
          -0.47855234240359235,
          -0.4990118108368775,
          -0.5100795294638478,
          -0.5146647271807359,
          -0.5154869005644536,
          -0.5137160655841384,
          -0.4893987066580232,
          -0.48835517890176594,
          -0.5245940518917893,
          -0.5324363210903283,
          -0.5189653264186443,
          -0.5278827454266604,
          -0.49363606178949204,
          -0.508624915015732,
          -0.46283618195329423,
          -0.39661960251079087,
          -0.35117871203377216,
          -0.339763150821383,
          -0.39140196372950486,
          -0.466314607807485,
          -0.46878112795863836,
          -0.5358831248912992,
          -0.5141271522759974,
          -0.5075813872594748,
          -0.46656758423324407,
          -0.4871535408794091,
          -0.5128938922004207,
          -0.49294037661865375,
          -0.5338593134852248,
          -0.5124195614021216,
          -0.5037551188198648,
          -0.5134947112115988,
          -0.5300646670988347,
          -0.5199139880152417,
          -0.5243410754660298,
          -0.5432510632915394,
          -0.5369898967539961,
          -0.538918842000411,
          -0.5103957499960472,
          -0.5106487264218066,
          -0.5185858617800054,
          -0.5256375796480466,
          -0.5360728572106186,
          -0.5415118503644442,
          -0.5653548784922604,
          -0.5652283902793809,
          -0.5851502838079274,
          -0.5644062168956631,
          -0.5508719781175393,
          -0.5434724176640789,
          -0.4987272123578985,
          -0.5024586146378484,
          -0.48108210666118545,
          -0.4761174443056586,
          -0.458061251917087,
          -0.4713425142694513,
          -0.5066011036096575,
          -0.5000869606463547,
          -0.4992647872626369,
          -0.45233766028428213,
          -0.4473413758755357,
          -0.4159406770281593,
          -0.3744525432036301,
          -0.32474267554192304,
          -0.3415023637484782,
          -0.3961768937657121,
          -0.36012775309500844,
          -0.384255379701804,
          -0.42397267854601817,
          -0.3398580169810427,
          -0.31370657896817256,
          -0.3517479089917308,
          -0.3177858238335415,
          -0.3121570983603966,
          -0.29719986718737645,
          -0.22560753869748773,
          -0.15524847028317557,
          -0.18974813034610338,
          -0.2278527044761015,
          -0.17697282084525756,
          -0.16245829841731618,
          -0.16742296077284313,
          -0.18535266494853508,
          -0.1873448543013898,
          -0.16179423529969794,
          -0.16315398358815447,
          -0.1270099767577908,
          -0.1269151105981311,
          -0.14870270526665286,
          -0.2398690846996696,
          -0.1942700839565511,
          -0.15600739956045362,
          -0.1541100763672586,
          -0.14174585355827163,
          -0.16679051970844472,
          -0.19869717140733956,
          -0.1824118139990828,
          -0.1707116543077143,
          -0.13583252960614745,
          -0.15452116305911745,
          -0.1664110550698057,
          -0.1612882824481794,
          -0.17947096304963084,
          -0.19278384745521537,
          -0.18355020791499976,
          -0.2022388413679701,
          -0.21798662387148782,
          -0.17823770297405417,
          -0.17188167027685108,
          -0.2718389805050043,
          -0.26605214476575956,
          -0.31076572801872016,
          -0.27860609989406615,
          -0.2644710421047638,
          -0.18298101095704145,
          -0.1658102360586271,
          -0.19370088699859278,
          -0.16486157446202976,
          -0.1094913592739577,
          -0.12748430755608942,
          -0.1744114345344442,
          -0.1952503676063687,
          -0.18038800259300825,
          -0.20179613262289098,
          -0.20868974022483278,
          -0.24176640789286463,
          -0.24280993564912157,
          -0.2835075181431529,
          -0.2916976299271111,
          -0.3292013850459311,
          -0.3980742169589071,
          -0.32259237592296863,
          -0.3179755561528609,
          -0.31354846870207276,
          -0.3365060793397314,
          -0.26140370294243187,
          -0.21912501778740479,
          -0.23765554097427533,
          -0.21264249687732228,
          -0.21191518965326417,
          -0.21226303223868326,
          -0.201890998782551,
          -0.24726864515312996,
          -0.2295286732967573,
          -0.2448021250019763,
          -0.23082517747877374,
          -0.225133207899189,
          -0.1796290733157302,
          -0.22617673565544605,
          -0.19809635239616097,
          -0.1596755577339637,
          -0.14908216990529188,
          -0.14535076762534205,
          -0.06031906651698904,
          -0.0064034657770328796,
          -0.02774835170047585,
          -0.02110772052429355,
          -0.030815690862807776,
          -0.012727876421015916,
          -0.006087245244833617,
          -0.017344696191123776,
          -0.013834648283713058,
          0.003525858934020576,
          0.008711875662086754,
          -0.009122962353945607,
          -0.033535187439720504,
          -0.008901607981406046,
          0.009407560832924933,
          0.031416509873986254,
          0.04757537906936293,
          0.08564833114614134,
          0.04327477983145456,
          0.016143058168766933,
          0.041409078691479584,
          0.022435846759530254,
          0.07625658133982638,
          0.054279254351984996,
          0.03312410074786154,
          0.053836545606906094,
          0.0443183075877116,
          0.037551188198649665,
          0.05753632583363655,
          0.019336885543978388,
          0.01607981406232728,
          0.0569671288756779,
          0.02379559504798645,
          0.06098312963460706,
          0.08716618970069745,
          0.11179976915901157,
          0.1432637121128273,
          0.1688459531677391,
          0.15638686419909265,
          0.19445981627587083,
          0.14146125507929241,
          0.13143706420857915,
          0.26630512119151906,
          0.28334940787705354,
          0.33239521242114245,
          0.3429253561433745,
          0.2801555805018421,
          0.3158252565339068,
          0.29062248011763403,
          0.29799041851787433,
          0.33274305500656154,
          0.29599822916501983,
          0.22876974401947936,
          0.2636488687210461,
          0.2919189842996508,
          0.2770249972330703,
          0.2369282337502172,
          0.28919948772273796,
          0.3236042816260061,
          0.32967571584422983,
          0.340142615460022,
          0.33644283523329155,
          0.33732825272344913,
          0.3507360032886935,
          0.3449175454962292,
          0.30554808923743426,
          0.29836988315651336,
          0.29071734627729406,
          0.24954543298496357,
          0.2538776542760921,
          0.3153825477888279,
          0.3052318687052349,
          0.2715860040792448,
          0.2106819295776874,
          0.2516324884974783,
          0.2285800117001595,
          0.26709567252201705,
          0.32610242383037935,
          0.3337865827628186,
          0.28328616377061366,
          0.2658624124464404,
          0.23433522538618434,
          0.24287317975556144,
          0.2275364839439027,
          0.22712539725204373,
          0.1857321295871741,
          0.17124922921245278,
          0.10892216231599927,
          0.15189653264186442,
          0.17842743529337346,
          0.1464259174348188,
          0.16207883377867716,
          0.17251411134124917,
          0.13339763150821393,
          0.10727781554856342,
          0.10598131136654709,
          0.1726089775009092,
          0.16062421933056092,
          0.13880500260881923,
          0.158062833019748,
          0.1913924771135389,
          0.1963255174158458,
          0.15316141477066125,
          0.12998244976046291,
          0.14383290907078594,
          0.1868705235030912,
          0.15787310070042837,
          0.161762613246478,
          0.18838838205764707,
          0.17741552959033635,
          0.21299033946274126,
          0.21574145809287404,
          0.19357439878571325,
          0.18589023985327358,
          0.18721836608851028,
          0.11047164292377532,
          0.07179787183581832,
          0.09832877448732757,
          0.16789729157114186,
          0.19967745505715673,
          0.21846095466978688,
          0.23664363527123822,
          0.16663240944234525,
          0.2022388413679701,
          0.21700634022167065,
          0.20217559726153045,
          0.1994561006846176,
          0.17241924518158958,
          0.1524024854933832,
          0.17845905734659362,
          0.15246572959982307,
          0.13225923759229707,
          0.12602969310797363,
          0.18206397141366404,
          0.17624551362119956,
          0.15414169842047842,
          0.15281357218524216,
          0.14013312884405593,
          0.188420004110867,
          0.19303682388097454,
          0.2410391006688064,
          0.2361060603664995,
          0.2648188846901829,
          0.22804243679542124,
          0.18645943681123223,
          0.16565212579252764,
          0.211946811706484,
          0.1669802520277639,
          0.1455088778914415,
          0.14604645279618023,
          0.1642607554508515,
          0.19752715543820276,
          0.21232627634512302,
          0.22374183755751265,
          0.25204357518933707,
          0.28021882460828174,
          0.2811042420984393,
          0.3230034626148275,
          0.34137587553559867,
          0.3125998071054754,
          0.28470915616550974,
          0.25517415845810887,
          0.2674118930542162,
          0.27206033487754344,
          0.20818378737331433,
          0.2305405789997943,
          0.18209559346688398,
          0.17905987635777199,
          0.1893054216010246,
          0.1897797523993232,
          0.18000853795436922,
          0.21314844972884073,
          0.222888042120575,
          0.2447072588423167,
          0.20644457444621866,
          0.20650781855265854,
          0.21096652805666682,
          0.20783594478789524,
          0.2248486094202098,
          0.2511897797523994,
          0.2429048018087816,
          0.19493414707416945,
          0.17286195392666825,
          0.07916581023605862,
          0.10398912201369237,
          0.14098692428099358,
          0.21232627634512302,
          0.21090328395022695,
          0.23847771435799303,
          0.24081774629626684,
          0.23012949230793556,
          0.21959934858570374,
          0.22155991588533852,
          0.22092747482094022,
          0.2221923569497366,
          0.22627160181510564,
          0.2807563995130202,
          0.23224816987367003,
          0.23911015542239156,
          0.2358214618875205,
          0.236359036792259,
          0.23405062690720513,
          0.21071355163090733,
          0.22250857748193598,
          0.15575442313469412,
          0.131405442155359,
          0.1450661691463626,
          0.15970717978718363,
          0.15711417142315076,
          0.14490805888026315,
          0.15221275317406358,
          0.20960677976821018,
          0.25356143374389317,
          0.2866697234651445,
          0.29090707859661324,
          0.2660205227125396,
          0.22159153793855846,
          0.2216231599917784,
          0.2428415577023415,
          0.18943190981390412,
          0.21352791436747975,
          0.15164355621610515,
          0.0847945357092037,
          0.13665470298986526,
          0.11183139121223151,
          0.15521684822995563,
          0.1612250383417395,
          0.22696728698594382,
          0.2320584375543504,
          0.2396161082739101,
          0.32170695843281116,
          0.32584944740461985,
          0.35238035005612933,
          0.31595174474678633,
          0.30403023068287816,
          0.34270400177083493,
          0.39266684585830136,
          0.37397821240533147,
          0.3497557196388763,
          0.3203155880911346,
          0.3077616329628283,
          0.26153019115531184,
          0.22633484592154574,
          0.24410643983113833,
          0.1644504877701709,
          0.2059386215947001,
          0.18219045962654357,
          0.10677186269704486,
          0.07173462772937866,
          0.12669375622559187,
          0.1486394611602131,
          0.16856135468875988,
          0.20913244896991157,
          0.2121997881322435,
          0.2348411782377029,
          0.2376239189210554,
          0.21397062311255866,
          0.2527076383069551,
          0.31414928771325124,
          0.31984125729283597,
          0.3107973500719401,
          0.32502727402090215,
          0.32414185653074457,
          0.3063070185147121,
          0.33435577972077724,
          0.3239205021582052,
          0.3283792116622133,
          0.26497699495628235,
          0.2747798314544563,
          0.23708634401631712,
          0.2338292725346658,
          0.2713330276534853,
          0.2659889006593199,
          0.2689613736619918,
          0.2732619728999002,
          0.25204357518933707,
          0.24600376302433302,
          0.2806931554065806,
          0.2922352048318495,
          0.3084889401868862,
          0.3351147089980553,
          0.28625863677328556,
          0.27636093411545204,
          0.2191566398406246,
          0.2679494679589547,
          0.23775040713393536,
          0.22266668774803544,
          0.2282005470615205,
          0.26693756225591714,
          0.2491343462931046,
          0.2519803310828974,
          0.1952187455531489,
          0.14835486268123388,
          0.16033962085158193,
          0.21789175771182823,
          0.23035084668047512,
          0.23307034325738774,
          0.2037566999225262,
          0.1410185463342135,
          0.19815959650260084,
          0.20878460638449248,
          0.2275681059971224,
          0.24192451815896399,
          0.24657295998229167,
          0.27455847708191716,
          0.2870808101570035,
          0.28388698278179203,
          0.2210223409805998,
          0.23022435846759515,
          0.20426265277404476,
          0.20366183376286617,
          0.2106819295776874,
          0.1594225813082042,
          0.0556073805872217,
          0.07720524293642383,
          0.05336221480860748,
          0.04128259047859961,
          0.005612914446534889,
          -0.027115910636077767,
          -0.025186965389662808,
          -0.11328600566034763,
          -0.14743782313785636,
          -0.09962527866934401,
          -0.1199266368365296,
          -0.11097759577529376,
          -0.18804053947222799,
          -0.21235789839834296,
          -0.2146346862301769,
          -0.25106329153951956,
          -0.21874555314876576,
          -0.2768668869669706,
          -0.27538065046563487,
          -0.2524230398279762,
          -0.26649485351083835,
          -0.30222777364934317,
          -0.30023558429648856,
          -0.32673486489477777,
          -0.3753695827470078,
          -0.29925530064667094,
          -0.29950827707243044,
          -0.24932407861242434,
          -0.22402643603649197,
          -0.2529922367859345,
          -0.25634417442724533,
          -0.2707322086423072,
          -0.2720287128243236,
          -0.26415482157256465,
          -0.24002719496576908,
          -0.2588739386848389,
          -0.2702262557907886,
          -0.2529922367859345,
          -0.22867487785981921,
          -0.20255506190016903,
          -0.18434075924549764,
          -0.16062421933056104,
          -0.19338466646639352,
          -0.1385836482362801,
          -0.1444969721884043,
          -0.16242667636409636,
          -0.15550144670893462,
          -0.19895014783309872,
          -0.220200167596882,
          -0.2529606147327146,
          -0.26991003525858936,
          -0.230350846680475,
          -0.22051638812908125,
          -0.2267459326134047,
          -0.2762028238493526,
          -0.2566603949594446,
          -0.24205100637184362,
          -0.3213907379006118,
          -0.3332490078580802,
          -0.32037883219757435,
          -0.3240786124243047,
          -0.36711622685660983,
          -0.34298860024981426,
          -0.26137208088921204,
          -0.29116005502237274,
          -0.2888832671905387,
          -0.28300156529163434,
          -0.29280440178980827,
          -0.27240817746296264,
          -0.29682040254873754,
          -0.309785444368903,
          -0.2916976299271111,
          -0.3862159470014388,
          -0.4293484275934035,
          -0.43823422454820005,
          -0.4515154869005643,
          -0.48816544658244654,
          -0.43671636599364405,
          -0.40961626638417625,
          -0.42390943443957796,
          -0.42191724508672335,
          -0.46688380476544333,
          -0.45379227473239836,
          -0.4651129697851283,
          -0.40531566714626766,
          -0.42001992189352866,
          -0.3800496466235551,
          -0.36544025803595404,
          -0.3919079165810234
         ],
         "y": [
          0.5625000000000029,
          0.5625000000000029,
          0.6250000000000018,
          0.8125000000000009,
          0.8750000000000024,
          0.9375000000000011,
          0.8750000000000024,
          0.8750000000000024,
          0.8750000000000024,
          0.8125000000000009,
          0.750000000000002,
          0.750000000000002,
          0.6875000000000033,
          0.5625000000000029,
          0.5625000000000029,
          0.5000000000000013,
          0.5000000000000042,
          0.5625000000000029,
          0.43750000000000266,
          0.3750000000000011,
          0.3125000000000022,
          0.06250000000000155,
          -0.12500000000000033,
          -0.25000000000000344,
          -0.4374999999999998,
          -0.4374999999999998,
          -0.25000000000000067,
          -0.25000000000000067,
          -0.1874999999999991,
          -0.3125000000000022,
          -0.375000000000001,
          -0.49999999999999856,
          -0.6250000000000018,
          -0.6875000000000004,
          -0.8125000000000009,
          -0.9375000000000012,
          -1,
          -0.8750000000000024,
          -0.6875000000000004,
          -0.6250000000000018,
          -0.375000000000001,
          -0.25000000000000067,
          -0.25000000000000067,
          -0.25000000000000067,
          -0.31249999999999944,
          -0.31249999999999944,
          -0.31249999999999944,
          -0.1874999999999991,
          -0.06249999999999878,
          0.06250000000000155,
          0.06250000000000155,
          0.25000000000000067,
          0.3750000000000011,
          0.6250000000000018,
          0.8125000000000009,
          0.8750000000000024,
          1,
          0.8125000000000036,
          0.9375000000000011
         ]
        }
       ],
       "layout": {
        "height": 700,
        "template": {
         "data": {
          "bar": [
           {
            "error_x": {
             "color": "#2a3f5f"
            },
            "error_y": {
             "color": "#2a3f5f"
            },
            "marker": {
             "line": {
              "color": "#E5ECF6",
              "width": 0.5
             },
             "pattern": {
              "fillmode": "overlay",
              "size": 10,
              "solidity": 0.2
             }
            },
            "type": "bar"
           }
          ],
          "barpolar": [
           {
            "marker": {
             "line": {
              "color": "#E5ECF6",
              "width": 0.5
             },
             "pattern": {
              "fillmode": "overlay",
              "size": 10,
              "solidity": 0.2
             }
            },
            "type": "barpolar"
           }
          ],
          "carpet": [
           {
            "aaxis": {
             "endlinecolor": "#2a3f5f",
             "gridcolor": "white",
             "linecolor": "white",
             "minorgridcolor": "white",
             "startlinecolor": "#2a3f5f"
            },
            "baxis": {
             "endlinecolor": "#2a3f5f",
             "gridcolor": "white",
             "linecolor": "white",
             "minorgridcolor": "white",
             "startlinecolor": "#2a3f5f"
            },
            "type": "carpet"
           }
          ],
          "choropleth": [
           {
            "colorbar": {
             "outlinewidth": 0,
             "ticks": ""
            },
            "type": "choropleth"
           }
          ],
          "contour": [
           {
            "colorbar": {
             "outlinewidth": 0,
             "ticks": ""
            },
            "colorscale": [
             [
              0,
              "#0d0887"
             ],
             [
              0.1111111111111111,
              "#46039f"
             ],
             [
              0.2222222222222222,
              "#7201a8"
             ],
             [
              0.3333333333333333,
              "#9c179e"
             ],
             [
              0.4444444444444444,
              "#bd3786"
             ],
             [
              0.5555555555555556,
              "#d8576b"
             ],
             [
              0.6666666666666666,
              "#ed7953"
             ],
             [
              0.7777777777777778,
              "#fb9f3a"
             ],
             [
              0.8888888888888888,
              "#fdca26"
             ],
             [
              1,
              "#f0f921"
             ]
            ],
            "type": "contour"
           }
          ],
          "contourcarpet": [
           {
            "colorbar": {
             "outlinewidth": 0,
             "ticks": ""
            },
            "type": "contourcarpet"
           }
          ],
          "heatmap": [
           {
            "colorbar": {
             "outlinewidth": 0,
             "ticks": ""
            },
            "colorscale": [
             [
              0,
              "#0d0887"
             ],
             [
              0.1111111111111111,
              "#46039f"
             ],
             [
              0.2222222222222222,
              "#7201a8"
             ],
             [
              0.3333333333333333,
              "#9c179e"
             ],
             [
              0.4444444444444444,
              "#bd3786"
             ],
             [
              0.5555555555555556,
              "#d8576b"
             ],
             [
              0.6666666666666666,
              "#ed7953"
             ],
             [
              0.7777777777777778,
              "#fb9f3a"
             ],
             [
              0.8888888888888888,
              "#fdca26"
             ],
             [
              1,
              "#f0f921"
             ]
            ],
            "type": "heatmap"
           }
          ],
          "heatmapgl": [
           {
            "colorbar": {
             "outlinewidth": 0,
             "ticks": ""
            },
            "colorscale": [
             [
              0,
              "#0d0887"
             ],
             [
              0.1111111111111111,
              "#46039f"
             ],
             [
              0.2222222222222222,
              "#7201a8"
             ],
             [
              0.3333333333333333,
              "#9c179e"
             ],
             [
              0.4444444444444444,
              "#bd3786"
             ],
             [
              0.5555555555555556,
              "#d8576b"
             ],
             [
              0.6666666666666666,
              "#ed7953"
             ],
             [
              0.7777777777777778,
              "#fb9f3a"
             ],
             [
              0.8888888888888888,
              "#fdca26"
             ],
             [
              1,
              "#f0f921"
             ]
            ],
            "type": "heatmapgl"
           }
          ],
          "histogram": [
           {
            "marker": {
             "pattern": {
              "fillmode": "overlay",
              "size": 10,
              "solidity": 0.2
             }
            },
            "type": "histogram"
           }
          ],
          "histogram2d": [
           {
            "colorbar": {
             "outlinewidth": 0,
             "ticks": ""
            },
            "colorscale": [
             [
              0,
              "#0d0887"
             ],
             [
              0.1111111111111111,
              "#46039f"
             ],
             [
              0.2222222222222222,
              "#7201a8"
             ],
             [
              0.3333333333333333,
              "#9c179e"
             ],
             [
              0.4444444444444444,
              "#bd3786"
             ],
             [
              0.5555555555555556,
              "#d8576b"
             ],
             [
              0.6666666666666666,
              "#ed7953"
             ],
             [
              0.7777777777777778,
              "#fb9f3a"
             ],
             [
              0.8888888888888888,
              "#fdca26"
             ],
             [
              1,
              "#f0f921"
             ]
            ],
            "type": "histogram2d"
           }
          ],
          "histogram2dcontour": [
           {
            "colorbar": {
             "outlinewidth": 0,
             "ticks": ""
            },
            "colorscale": [
             [
              0,
              "#0d0887"
             ],
             [
              0.1111111111111111,
              "#46039f"
             ],
             [
              0.2222222222222222,
              "#7201a8"
             ],
             [
              0.3333333333333333,
              "#9c179e"
             ],
             [
              0.4444444444444444,
              "#bd3786"
             ],
             [
              0.5555555555555556,
              "#d8576b"
             ],
             [
              0.6666666666666666,
              "#ed7953"
             ],
             [
              0.7777777777777778,
              "#fb9f3a"
             ],
             [
              0.8888888888888888,
              "#fdca26"
             ],
             [
              1,
              "#f0f921"
             ]
            ],
            "type": "histogram2dcontour"
           }
          ],
          "mesh3d": [
           {
            "colorbar": {
             "outlinewidth": 0,
             "ticks": ""
            },
            "type": "mesh3d"
           }
          ],
          "parcoords": [
           {
            "line": {
             "colorbar": {
              "outlinewidth": 0,
              "ticks": ""
             }
            },
            "type": "parcoords"
           }
          ],
          "pie": [
           {
            "automargin": true,
            "type": "pie"
           }
          ],
          "scatter": [
           {
            "fillpattern": {
             "fillmode": "overlay",
             "size": 10,
             "solidity": 0.2
            },
            "type": "scatter"
           }
          ],
          "scatter3d": [
           {
            "line": {
             "colorbar": {
              "outlinewidth": 0,
              "ticks": ""
             }
            },
            "marker": {
             "colorbar": {
              "outlinewidth": 0,
              "ticks": ""
             }
            },
            "type": "scatter3d"
           }
          ],
          "scattercarpet": [
           {
            "marker": {
             "colorbar": {
              "outlinewidth": 0,
              "ticks": ""
             }
            },
            "type": "scattercarpet"
           }
          ],
          "scattergeo": [
           {
            "marker": {
             "colorbar": {
              "outlinewidth": 0,
              "ticks": ""
             }
            },
            "type": "scattergeo"
           }
          ],
          "scattergl": [
           {
            "marker": {
             "colorbar": {
              "outlinewidth": 0,
              "ticks": ""
             }
            },
            "type": "scattergl"
           }
          ],
          "scattermapbox": [
           {
            "marker": {
             "colorbar": {
              "outlinewidth": 0,
              "ticks": ""
             }
            },
            "type": "scattermapbox"
           }
          ],
          "scatterpolar": [
           {
            "marker": {
             "colorbar": {
              "outlinewidth": 0,
              "ticks": ""
             }
            },
            "type": "scatterpolar"
           }
          ],
          "scatterpolargl": [
           {
            "marker": {
             "colorbar": {
              "outlinewidth": 0,
              "ticks": ""
             }
            },
            "type": "scatterpolargl"
           }
          ],
          "scatterternary": [
           {
            "marker": {
             "colorbar": {
              "outlinewidth": 0,
              "ticks": ""
             }
            },
            "type": "scatterternary"
           }
          ],
          "surface": [
           {
            "colorbar": {
             "outlinewidth": 0,
             "ticks": ""
            },
            "colorscale": [
             [
              0,
              "#0d0887"
             ],
             [
              0.1111111111111111,
              "#46039f"
             ],
             [
              0.2222222222222222,
              "#7201a8"
             ],
             [
              0.3333333333333333,
              "#9c179e"
             ],
             [
              0.4444444444444444,
              "#bd3786"
             ],
             [
              0.5555555555555556,
              "#d8576b"
             ],
             [
              0.6666666666666666,
              "#ed7953"
             ],
             [
              0.7777777777777778,
              "#fb9f3a"
             ],
             [
              0.8888888888888888,
              "#fdca26"
             ],
             [
              1,
              "#f0f921"
             ]
            ],
            "type": "surface"
           }
          ],
          "table": [
           {
            "cells": {
             "fill": {
              "color": "#EBF0F8"
             },
             "line": {
              "color": "white"
             }
            },
            "header": {
             "fill": {
              "color": "#C8D4E3"
             },
             "line": {
              "color": "white"
             }
            },
            "type": "table"
           }
          ]
         },
         "layout": {
          "annotationdefaults": {
           "arrowcolor": "#2a3f5f",
           "arrowhead": 0,
           "arrowwidth": 1
          },
          "autotypenumbers": "strict",
          "coloraxis": {
           "colorbar": {
            "outlinewidth": 0,
            "ticks": ""
           }
          },
          "colorscale": {
           "diverging": [
            [
             0,
             "#8e0152"
            ],
            [
             0.1,
             "#c51b7d"
            ],
            [
             0.2,
             "#de77ae"
            ],
            [
             0.3,
             "#f1b6da"
            ],
            [
             0.4,
             "#fde0ef"
            ],
            [
             0.5,
             "#f7f7f7"
            ],
            [
             0.6,
             "#e6f5d0"
            ],
            [
             0.7,
             "#b8e186"
            ],
            [
             0.8,
             "#7fbc41"
            ],
            [
             0.9,
             "#4d9221"
            ],
            [
             1,
             "#276419"
            ]
           ],
           "sequential": [
            [
             0,
             "#0d0887"
            ],
            [
             0.1111111111111111,
             "#46039f"
            ],
            [
             0.2222222222222222,
             "#7201a8"
            ],
            [
             0.3333333333333333,
             "#9c179e"
            ],
            [
             0.4444444444444444,
             "#bd3786"
            ],
            [
             0.5555555555555556,
             "#d8576b"
            ],
            [
             0.6666666666666666,
             "#ed7953"
            ],
            [
             0.7777777777777778,
             "#fb9f3a"
            ],
            [
             0.8888888888888888,
             "#fdca26"
            ],
            [
             1,
             "#f0f921"
            ]
           ],
           "sequentialminus": [
            [
             0,
             "#0d0887"
            ],
            [
             0.1111111111111111,
             "#46039f"
            ],
            [
             0.2222222222222222,
             "#7201a8"
            ],
            [
             0.3333333333333333,
             "#9c179e"
            ],
            [
             0.4444444444444444,
             "#bd3786"
            ],
            [
             0.5555555555555556,
             "#d8576b"
            ],
            [
             0.6666666666666666,
             "#ed7953"
            ],
            [
             0.7777777777777778,
             "#fb9f3a"
            ],
            [
             0.8888888888888888,
             "#fdca26"
            ],
            [
             1,
             "#f0f921"
            ]
           ]
          },
          "colorway": [
           "#636efa",
           "#EF553B",
           "#00cc96",
           "#ab63fa",
           "#FFA15A",
           "#19d3f3",
           "#FF6692",
           "#B6E880",
           "#FF97FF",
           "#FECB52"
          ],
          "font": {
           "color": "#2a3f5f"
          },
          "geo": {
           "bgcolor": "white",
           "lakecolor": "white",
           "landcolor": "#E5ECF6",
           "showlakes": true,
           "showland": true,
           "subunitcolor": "white"
          },
          "hoverlabel": {
           "align": "left"
          },
          "hovermode": "closest",
          "mapbox": {
           "style": "light"
          },
          "paper_bgcolor": "white",
          "plot_bgcolor": "#E5ECF6",
          "polar": {
           "angularaxis": {
            "gridcolor": "white",
            "linecolor": "white",
            "ticks": ""
           },
           "bgcolor": "#E5ECF6",
           "radialaxis": {
            "gridcolor": "white",
            "linecolor": "white",
            "ticks": ""
           }
          },
          "scene": {
           "xaxis": {
            "backgroundcolor": "#E5ECF6",
            "gridcolor": "white",
            "gridwidth": 2,
            "linecolor": "white",
            "showbackground": true,
            "ticks": "",
            "zerolinecolor": "white"
           },
           "yaxis": {
            "backgroundcolor": "#E5ECF6",
            "gridcolor": "white",
            "gridwidth": 2,
            "linecolor": "white",
            "showbackground": true,
            "ticks": "",
            "zerolinecolor": "white"
           },
           "zaxis": {
            "backgroundcolor": "#E5ECF6",
            "gridcolor": "white",
            "gridwidth": 2,
            "linecolor": "white",
            "showbackground": true,
            "ticks": "",
            "zerolinecolor": "white"
           }
          },
          "shapedefaults": {
           "line": {
            "color": "#2a3f5f"
           }
          },
          "ternary": {
           "aaxis": {
            "gridcolor": "white",
            "linecolor": "white",
            "ticks": ""
           },
           "baxis": {
            "gridcolor": "white",
            "linecolor": "white",
            "ticks": ""
           },
           "bgcolor": "#E5ECF6",
           "caxis": {
            "gridcolor": "white",
            "linecolor": "white",
            "ticks": ""
           }
          },
          "title": {
           "x": 0.05
          },
          "xaxis": {
           "automargin": true,
           "gridcolor": "white",
           "linecolor": "white",
           "ticks": "",
           "title": {
            "standoff": 15
           },
           "zerolinecolor": "white",
           "zerolinewidth": 2
          },
          "yaxis": {
           "automargin": true,
           "gridcolor": "white",
           "linecolor": "white",
           "ticks": "",
           "title": {
            "standoff": 15
           },
           "zerolinecolor": "white",
           "zerolinewidth": 2
          }
         }
        }
       }
      },
      "text/html": [
       "<div>                            <div id=\"07e22608-5195-4b0e-8a76-41fc5ca4b3ab\" class=\"plotly-graph-div\" style=\"height:700px; width:100%;\"></div>            <script type=\"text/javascript\">                require([\"plotly\"], function(Plotly) {                    window.PLOTLYENV=window.PLOTLYENV || {};                                    if (document.getElementById(\"07e22608-5195-4b0e-8a76-41fc5ca4b3ab\")) {                    Plotly.newPlot(                        \"07e22608-5195-4b0e-8a76-41fc5ca4b3ab\",                        [{\"mode\":\"markers\",\"name\":\"\\uc0b0\\ud3ec\\ub3c4\",\"x\":[0.6721741742691354,0.724318940028776,0.7723212168166078,0.7592296867835628,0.7375685803279206,0.7450630069410407,0.6975034388982877,0.7121760715923287,0.6948471864278147,0.7258051765301119,0.6458646259901655,0.6327098518506808,0.5940360807627239,0.6048192009107152,0.5835375590937117,0.5614337438929908,0.5772763925561686,0.6105427925435201,0.6544974465192026,0.6023843028127815,0.6092146663082834,0.5786993849510649,0.6133571552800925,0.6124401157367145,0.6046927126978354,0.6259743545148388,0.6551298875836007,0.6656284092526128,0.677549923316521,0.5969136876057362,0.6512719970907712,0.6625610700902809,0.6676522206586872,0.6342593324584567,0.6409948297942987,0.62919980394327,0.6119974069916359,0.6839375780669437,0.7225481050484608,0.7585656236659446,0.7554034183439531,0.7602732145398199,0.7919901339193955,0.7902509209922999,0.8012553955128305,0.825541132385726,0.7606843012316788,0.7545180008537955,0.7696017202396952,0.7789934700460102,0.7644789476180689,0.8093190190839092,0.9037740920517967,0.9294828213195885,0.9273325217006341,0.9566461650354956,0.9810267680680507,0.9637295049567567,0.9065252106819295,0.926573592423356,0.89887267380271,0.9691052540041425,0.9077900928107263,1.0,0.9584802441222509,0.919047543757016,0.9236011194206841,0.9338150426107166,0.9463373756858031,0.9511123057220103,0.9139880152418296,0.9279017186585927,0.9761569718721839,0.8328142046263063,0.7710879567410311,0.7535377172039779,0.69668126551457,0.7944566540705489,0.7965437095830632,0.7933498822078517,0.8727844798962796,0.8562777681154836,0.8290511802931362,0.8322450076683481,0.8722469049915411,0.8591237529052762,0.838601040365551,0.8196278084336017,0.7794045567378691,0.7168245134156563,0.6953531392793333,0.6517779499422898,0.6754312457507867,0.6770123484117825,0.7702341613040935,0.6975034388982877,0.6560469271269784,0.660663746897086,0.6968393757806695,0.713440953721125,0.7080019605672996,0.7113222761553908,0.7597672616883013,0.6537701392951445,0.6335004031811786,0.6620551172387623,0.5793002039622435,0.6066216579442505,0.6068746343700095,0.5550460891425679,0.46716840324442277,0.45951586636520325,0.4739355226334845,0.48323240628013986,0.46634622986070484,0.5245308077853494,0.5179534207156069,0.5452116305911741,0.5910636077600517,0.5851186617547075,0.5724698404667414,0.5923601119420685,0.6183534396888388,0.6094992647872626,0.6901671225512671,0.7271649248185685,0.6901671225512671,0.7001596913687604,0.7053773301500468,0.7321612092273151,0.7131563552421458,0.6821983651398484,0.6434297278922321,0.6270178822710957,0.6302749537527472,0.6496908944297755,0.6553828640093602,0.6657548974654923,0.6378642465255269,0.66670355906209,0.6451373187661074,0.6036808069947981,0.6222745742881084,0.5909687416003921,0.593656616124085,0.5674419340047752,0.5507138678514394,0.5403102123420873,0.44882761237687174,0.43447120021502994,0.45300172340190037,0.5482157256470663,0.5674419340047752,0.6348601514696348,0.6388445301753443,0.6679684411908866,0.66660869290243,0.6166458488149635,0.5594415545401361,0.5898935917909149,0.5542555378120699,0.5848340632757287,0.47722421616835575,0.49411039258779077,0.5275665248944614,0.5342704001770837,0.5090676237608107,0.44092209907189295,0.47551662529448024,0.4609072367068794,0.4353566177051875,0.43099277436083905,0.44218698120068956,0.5114076556990845,0.5599475073916551,0.5278511233734404,0.5242145872531503,0.48051290970322724,0.5678846427498538,0.5244043195724699,0.5484687020728258,0.5192499248976237,0.481208594874065,0.48854491122108556,0.5209258937182792,0.5079292298448939,0.5458756937087925,0.5108384587411259,0.5323414549306686,0.5286100526507185,0.5246889180514489,0.5385393773617719,0.47994371274526837,0.49309848688475366,0.49230793555425567,0.465587300583427,0.5031542998086866,0.468623017692539,0.454361471690357,0.4214112922352047,0.4408272329122329,0.42675541922937077,0.4391196420383576,0.44623460401283865,0.4508514237829464,0.4253640488876942,0.4027542808354547,0.42343510364127934,0.45834585039606646,0.478678830616472,0.48490837510079543,0.43671636599364394,0.44642433633215783,0.4356095941309468,0.4363052793017852,0.3884294907268331,0.3741679447246511,0.3926036017518617,0.4003193827375213,0.40566350973168674,0.4230556390026403,0.46179265419703697,0.43216279032997607,0.41255711733362865,0.38476133255332257,0.3826110329343684,0.4366847439404242,0.48728002909228896,0.5016680633073505,0.5389504640536311,0.5747150062453554,0.5553623096747671,0.6006450898856863,0.5939412146030643,0.5906841431214127,0.5815137476876373,0.44427403671320387,0.4299176245513623,0.43798124812244055,0.4265656869100509,0.4573339446930289,0.42498458424905516,0.41938748082913024,0.4780147674988535,0.4138852435688649,0.4648916154125886,0.4016791310259775,0.3910857431973056,0.3978844846395877,0.2859424162410864,0.2888832671905388,0.2802820687147216,0.3361898588075325,0.305959175929293,0.3155722801081473,0.30052018277546755,0.32132749379417214,0.3110819485509193,0.3228137302955081,0.3144655082454506,0.3039669865764385,0.30286021471374136,0.305959175929293,0.2933735987477666,0.30248075007510233,0.299223678593451,0.30497889227947583,0.296693914335858,0.3053267348648947,0.323635903679226,0.2932154884816671,0.3110819485509193,0.2555852451499676,0.2565971508530047,0.2689613736619918,0.2652932154884815,0.25150600028459835,0.23974259648679008,0.18984299650576308,0.18288614479738174,0.2117570793871646,0.22548105048460787,0.24843866112226687,0.2572928360238431,0.2923933150979494,0.28104099799199966,0.29425901623792416,0.31345360254241306,0.30251237212832227,0.2607712618780338,0.16660078738912532,0.18797729536578833,0.1545527851123374,0.15720903758281035,0.13055164671842134,0.0939649311429791,0.09851850680664676,0.13279681249703534,0.1033250588960739,0.10983920185937679,0.08735592202001685,0.15638686419909265,0.1955033440321281,0.211946811706484,0.19034894935728186,0.17776337217575544,0.1703638117222952,0.1674862048792829,0.2038515660821858,0.21425522159153787,0.20748810220247593,0.21431846569797774,0.23386089458788573,0.2814520846838584,0.29555552041994093,0.29764257593245524,0.29100194475627283,0.2590004268977184,0.23639065884547872,0.28161019494995787,0.3146868626179897,0.2836656284092527,0.2917924960867708,0.26658971967049805,0.25931664742991756,0.25362467785033305,0.24809081853684778,0.25735608013028277,0.22231884516261613,0.21555172577355441,0.2184925767230066,0.1702689455626354,0.16574699195218723,0.169004063433839,0.15739876990212975,0.11565765965184127,0.15135895773712593,0.17175518206397156,0.16495644062168946,0.18007178206080932,0.22804243679542124,0.23246952424620915,0.22503834173952897,0.21931475010672452,0.18136828624282586,0.14984109918256983,0.10307208247031485,0.08403560643192587,0.09326924597214092,0.07252517905987643,0.096937404145651,0.17823770297405406,0.2306986892658942,0.2497351653042832,0.25805176530112095,0.25669201701266453,0.24853352728192646,0.24002719496576908,0.2504624725283413,0.24786946416430822,0.25128464591205923,0.2546998276598098,0.2552374025645485,0.2480275744304079,0.2195044824260437,0.20581213338182058,0.1930052018277546,0.21469793033661677,0.17694119879203773,0.19717931285278367,0.1649880626749094,0.20805729916043436,0.18570050753395417,0.22462725504767023,0.2073616139895964,0.22099071892737987,0.22143342767245877,0.18083071133808737,0.18668079118377134,0.1722611349154901,0.1612250383417395,0.18649105886445216,0.1830442550634812,0.1741268360554653,0.18984299650576308,0.21008111056650924,0.2133698041013803,0.2084367637990734,0.23661201321801828,0.22070612044840066,0.23171059496893132,0.18367669612787973,0.18813540563188758,0.14987272123578976,0.17820608092083434,0.20255506190016903,0.1753917181842617,0.17722579727101673,0.20084747102629374,0.19923474631207805,0.21036570904548824,0.1916454535392984,0.19208816228437708,0.19796986418328144,0.21147248090818538,0.23436684743940428,0.20549591284962143,0.19101301247489988,0.1956930763514475,0.19202491817793743,0.20461049535946385,0.2158047021993139,0.21207329991936397,0.22456401094123035,0.21555172577355441,0.17276708776700866,0.1828229006909421,0.17371574936360634,0.13482062390311,0.12305722010530129,0.12372128322291975,0.13820418359764108,0.15534333644283516,0.16179423529969794,0.17520198586494207,0.17333628472496732,0.15935933720176454,0.1823169478394231,0.17434819042800442,0.21216816607902356,0.19230951665691665,0.14607807484940016,0.1151517068003225,0.09462899426059712,0.08106313342925353,0.07401141556121238,0.08605941783800031,0.006593198096352504,-0.007605103799389612,-0.033630053599380205,-0.059085806441412037,-0.07467547867883062,-0.07119705282463984,-0.08900026878745226,-0.12621942542729292,-0.13210112732619717,-0.14759593340395571,-0.10705646117602419,-0.11404493493762535,-0.11825066801587425,-0.11483548626812323,-0.12207693645548412,-0.141556121238952,-0.1621104558318971,-0.15135895773712593,-0.14269451515486897,-0.08643888247663933,-0.08684996916849819,-0.08937973342609129,-0.06310180720034164,-0.07012190301516263,-0.044065331161952215,-0.026198871092699916,0.02300504371748846,0.05450060872452456,0.09260518285452268,0.07976662924723699,0.05895931822853262,0.04634211899378626,0.10136449159643912,0.08476291365598354,0.07650955776558588,0.05851660948345372,0.0804939364712951,0.010198112163422923,0.03641279428273281,0.030467848277388576,-0.013328695432194504,-0.03223868325770407,-0.03998608629658318,-0.039227157019305126,-0.09617847486837305,-0.05244517526523007,0.0065615760431325665,0.002102866539124282,0.008933230034626316,0.026578335731338942,0.013992758549812523,0.03502142394105667,0.07511818742390952,0.054627096937404085,0.07122867487785967,0.041725299223678736,-0.0016601577940454915,0.008395655129887603,-0.02607238287982039,-0.0416304330640187,-0.030689202649928138,0.004537764637058128,0.0354008885796957,0.023321264249687834,0.0354008885796957,0.05203408857337122,0.03853147184846728,0.057441459673976514,0.030025139532309897,0.031606242193305656,0.05706199503533749,0.053646813287586914,0.06465128780811757,0.08485777981564357,0.04491912659889019,0.06307018514712182,0.06844593419450717,0.07028001328126243,0.07065947791990146,0.06993217069584334,0.03922715701930524,0.046658339525985415,0.03135326576754616,0.028981611776052407,0.041409078691479584,0.05042136385915552,0.08160070833399202,0.08024096004553583,0.07837525890556063,0.11818742390943449,0.18838838205764707,0.1399433965247363,0.12425885812765802,0.16653754328268522,0.1736208832039463,0.16786566951792192,0.19098139042167994,0.1728935759798882,0.1875345866207092,0.10360965737505334,0.08001960567299626,0.031859218619065155,0.04166205511723864,0.0024190870713234336,0.018799310639239897,-0.030246493904849014,-0.026862934210318268,-0.03979635397726389,-0.03502142394105667,-0.009344316726485169,-0.007605103799389612,-0.011494616345439246,-0.01652252280740596,-0.0016917798472654288,-0.015763593530127906,-0.017376318244343603,-0.02607238287982039,-0.10800512277262153,-0.11534143911964212,-0.1210966528056665,-0.14345344443214703,-0.1457618543172009,-0.14984109918256994,-0.12191882618938432,-0.07919743228927845,-0.1118313912122314,-0.15309817066422116,-0.13826742770408085,-0.11632172276945929,-0.15177004442898478,-0.16543077141998808,-0.1855740193210743,-0.20644457444621866,-0.20970164592786988,-0.21871393109554593,-0.24584565275823356,-0.3323319683147028,-0.30915300330450446,-0.31566714626780734,-0.3073821683241894,-0.3514633105127515,-0.3756541812259868,-0.39083276677154655,-0.358451784274353,-0.3796701819849161,-0.42397267854601817,-0.5323730769838886,-0.5416067165241039,-0.5387923537875314,-0.633690135500498,-0.6997169826236816,-0.7407624077031321,-0.8386010403655508,-0.8789507802741631,-1.0,-0.8522933894097743,-0.9855170996252786,-0.9127863772194728,-0.7802899742280266,-0.7653643651082264,-0.6821034989801886,-0.715717741552959,-0.68915521684823,-0.7784242730880516,-0.7605578130187992,-0.7765585719480765,-0.7124290480180878,-0.6822299871930684,-0.7183739940234319,-0.7023416130409348,-0.639666703559062,-0.6697708982244217,-0.6399829240912611,-0.6847281293974417,-0.6575964077347541,-0.6742928518348696,-0.7048397552453081,-0.7112906541021708,-0.717203978054295,-0.7350388160703274,-0.5892927727797366,-0.5750628488307746,-0.5532436321090329,-0.6210096921593118,-0.6222429522348885,-0.6184483058484986,-0.6108906351289389,-0.6372001834079086,-0.6746090723670687,-0.661043211535725,-0.6984204784416652,-0.6706246936613594,-0.6915901149461634,-0.6237608107894446,-0.6359036792258921,-0.6416272708586968,-0.6760953088684047,-0.6603159043116669,-0.6168672031875029,-0.590968741600392,-0.5345549986560626,-0.5091624899204705,-0.4848135089411353,-0.39658798045757093,-0.2798393599696428,-0.33571552800923354,-0.3147817287776494,-0.3202523439846948,-0.3354625515834744,-0.3831802298923267,-0.4369693424194031,-0.49894856673043764,-0.573829588755198,-0.4537290306259586,-0.4863629895489112,-0.49041061236106065,-0.48933546255158344,-0.5263648868721047,-0.538634243521432,-0.5195977674830425,-0.5717425332426833,-0.542302401694942,-0.5835691811469317,-0.5767071955982102,-0.5522633484592154,-0.5478046389552074,-0.5413537400983447,-0.5174790899173083,-0.5337960693787847,-0.5503976473192402,-0.5649437918004014,-0.6071276107957689,-0.552389836672095,-0.5596945309658956,-0.5297800686198554,-0.515645010830553,-0.5267759735639637,-0.4780780116052933,-0.47855234240359235,-0.4990118108368775,-0.5100795294638478,-0.5146647271807359,-0.5154869005644536,-0.5137160655841384,-0.4893987066580232,-0.48835517890176594,-0.5245940518917893,-0.5324363210903283,-0.5189653264186443,-0.5278827454266604,-0.49363606178949204,-0.508624915015732,-0.46283618195329423,-0.39661960251079087,-0.35117871203377216,-0.339763150821383,-0.39140196372950486,-0.466314607807485,-0.46878112795863836,-0.5358831248912992,-0.5141271522759974,-0.5075813872594748,-0.46656758423324407,-0.4871535408794091,-0.5128938922004207,-0.49294037661865375,-0.5338593134852248,-0.5124195614021216,-0.5037551188198648,-0.5134947112115988,-0.5300646670988347,-0.5199139880152417,-0.5243410754660298,-0.5432510632915394,-0.5369898967539961,-0.538918842000411,-0.5103957499960472,-0.5106487264218066,-0.5185858617800054,-0.5256375796480466,-0.5360728572106186,-0.5415118503644442,-0.5653548784922604,-0.5652283902793809,-0.5851502838079274,-0.5644062168956631,-0.5508719781175393,-0.5434724176640789,-0.4987272123578985,-0.5024586146378484,-0.48108210666118545,-0.4761174443056586,-0.458061251917087,-0.4713425142694513,-0.5066011036096575,-0.5000869606463547,-0.4992647872626369,-0.45233766028428213,-0.4473413758755357,-0.4159406770281593,-0.3744525432036301,-0.32474267554192304,-0.3415023637484782,-0.3961768937657121,-0.36012775309500844,-0.384255379701804,-0.42397267854601817,-0.3398580169810427,-0.31370657896817256,-0.3517479089917308,-0.3177858238335415,-0.3121570983603966,-0.29719986718737645,-0.22560753869748773,-0.15524847028317557,-0.18974813034610338,-0.2278527044761015,-0.17697282084525756,-0.16245829841731618,-0.16742296077284313,-0.18535266494853508,-0.1873448543013898,-0.16179423529969794,-0.16315398358815447,-0.1270099767577908,-0.1269151105981311,-0.14870270526665286,-0.2398690846996696,-0.1942700839565511,-0.15600739956045362,-0.1541100763672586,-0.14174585355827163,-0.16679051970844472,-0.19869717140733956,-0.1824118139990828,-0.1707116543077143,-0.13583252960614745,-0.15452116305911745,-0.1664110550698057,-0.1612882824481794,-0.17947096304963084,-0.19278384745521537,-0.18355020791499976,-0.2022388413679701,-0.21798662387148782,-0.17823770297405417,-0.17188167027685108,-0.2718389805050043,-0.26605214476575956,-0.31076572801872016,-0.27860609989406615,-0.2644710421047638,-0.18298101095704145,-0.1658102360586271,-0.19370088699859278,-0.16486157446202976,-0.1094913592739577,-0.12748430755608942,-0.1744114345344442,-0.1952503676063687,-0.18038800259300825,-0.20179613262289098,-0.20868974022483278,-0.24176640789286463,-0.24280993564912157,-0.2835075181431529,-0.2916976299271111,-0.3292013850459311,-0.3980742169589071,-0.32259237592296863,-0.3179755561528609,-0.31354846870207276,-0.3365060793397314,-0.26140370294243187,-0.21912501778740479,-0.23765554097427533,-0.21264249687732228,-0.21191518965326417,-0.21226303223868326,-0.201890998782551,-0.24726864515312996,-0.2295286732967573,-0.2448021250019763,-0.23082517747877374,-0.225133207899189,-0.1796290733157302,-0.22617673565544605,-0.19809635239616097,-0.1596755577339637,-0.14908216990529188,-0.14535076762534205,-0.06031906651698904,-0.0064034657770328796,-0.02774835170047585,-0.02110772052429355,-0.030815690862807776,-0.012727876421015916,-0.006087245244833617,-0.017344696191123776,-0.013834648283713058,0.003525858934020576,0.008711875662086754,-0.009122962353945607,-0.033535187439720504,-0.008901607981406046,0.009407560832924933,0.031416509873986254,0.04757537906936293,0.08564833114614134,0.04327477983145456,0.016143058168766933,0.041409078691479584,0.022435846759530254,0.07625658133982638,0.054279254351984996,0.03312410074786154,0.053836545606906094,0.0443183075877116,0.037551188198649665,0.05753632583363655,0.019336885543978388,0.01607981406232728,0.0569671288756779,0.02379559504798645,0.06098312963460706,0.08716618970069745,0.11179976915901157,0.1432637121128273,0.1688459531677391,0.15638686419909265,0.19445981627587083,0.14146125507929241,0.13143706420857915,0.26630512119151906,0.28334940787705354,0.33239521242114245,0.3429253561433745,0.2801555805018421,0.3158252565339068,0.29062248011763403,0.29799041851787433,0.33274305500656154,0.29599822916501983,0.22876974401947936,0.2636488687210461,0.2919189842996508,0.2770249972330703,0.2369282337502172,0.28919948772273796,0.3236042816260061,0.32967571584422983,0.340142615460022,0.33644283523329155,0.33732825272344913,0.3507360032886935,0.3449175454962292,0.30554808923743426,0.29836988315651336,0.29071734627729406,0.24954543298496357,0.2538776542760921,0.3153825477888279,0.3052318687052349,0.2715860040792448,0.2106819295776874,0.2516324884974783,0.2285800117001595,0.26709567252201705,0.32610242383037935,0.3337865827628186,0.28328616377061366,0.2658624124464404,0.23433522538618434,0.24287317975556144,0.2275364839439027,0.22712539725204373,0.1857321295871741,0.17124922921245278,0.10892216231599927,0.15189653264186442,0.17842743529337346,0.1464259174348188,0.16207883377867716,0.17251411134124917,0.13339763150821393,0.10727781554856342,0.10598131136654709,0.1726089775009092,0.16062421933056092,0.13880500260881923,0.158062833019748,0.1913924771135389,0.1963255174158458,0.15316141477066125,0.12998244976046291,0.14383290907078594,0.1868705235030912,0.15787310070042837,0.161762613246478,0.18838838205764707,0.17741552959033635,0.21299033946274126,0.21574145809287404,0.19357439878571325,0.18589023985327358,0.18721836608851028,0.11047164292377532,0.07179787183581832,0.09832877448732757,0.16789729157114186,0.19967745505715673,0.21846095466978688,0.23664363527123822,0.16663240944234525,0.2022388413679701,0.21700634022167065,0.20217559726153045,0.1994561006846176,0.17241924518158958,0.1524024854933832,0.17845905734659362,0.15246572959982307,0.13225923759229707,0.12602969310797363,0.18206397141366404,0.17624551362119956,0.15414169842047842,0.15281357218524216,0.14013312884405593,0.188420004110867,0.19303682388097454,0.2410391006688064,0.2361060603664995,0.2648188846901829,0.22804243679542124,0.18645943681123223,0.16565212579252764,0.211946811706484,0.1669802520277639,0.1455088778914415,0.14604645279618023,0.1642607554508515,0.19752715543820276,0.21232627634512302,0.22374183755751265,0.25204357518933707,0.28021882460828174,0.2811042420984393,0.3230034626148275,0.34137587553559867,0.3125998071054754,0.28470915616550974,0.25517415845810887,0.2674118930542162,0.27206033487754344,0.20818378737331433,0.2305405789997943,0.18209559346688398,0.17905987635777199,0.1893054216010246,0.1897797523993232,0.18000853795436922,0.21314844972884073,0.222888042120575,0.2447072588423167,0.20644457444621866,0.20650781855265854,0.21096652805666682,0.20783594478789524,0.2248486094202098,0.2511897797523994,0.2429048018087816,0.19493414707416945,0.17286195392666825,0.07916581023605862,0.10398912201369237,0.14098692428099358,0.21232627634512302,0.21090328395022695,0.23847771435799303,0.24081774629626684,0.23012949230793556,0.21959934858570374,0.22155991588533852,0.22092747482094022,0.2221923569497366,0.22627160181510564,0.2807563995130202,0.23224816987367003,0.23911015542239156,0.2358214618875205,0.236359036792259,0.23405062690720513,0.21071355163090733,0.22250857748193598,0.15575442313469412,0.131405442155359,0.1450661691463626,0.15970717978718363,0.15711417142315076,0.14490805888026315,0.15221275317406358,0.20960677976821018,0.25356143374389317,0.2866697234651445,0.29090707859661324,0.2660205227125396,0.22159153793855846,0.2216231599917784,0.2428415577023415,0.18943190981390412,0.21352791436747975,0.15164355621610515,0.0847945357092037,0.13665470298986526,0.11183139121223151,0.15521684822995563,0.1612250383417395,0.22696728698594382,0.2320584375543504,0.2396161082739101,0.32170695843281116,0.32584944740461985,0.35238035005612933,0.31595174474678633,0.30403023068287816,0.34270400177083493,0.39266684585830136,0.37397821240533147,0.3497557196388763,0.3203155880911346,0.3077616329628283,0.26153019115531184,0.22633484592154574,0.24410643983113833,0.1644504877701709,0.2059386215947001,0.18219045962654357,0.10677186269704486,0.07173462772937866,0.12669375622559187,0.1486394611602131,0.16856135468875988,0.20913244896991157,0.2121997881322435,0.2348411782377029,0.2376239189210554,0.21397062311255866,0.2527076383069551,0.31414928771325124,0.31984125729283597,0.3107973500719401,0.32502727402090215,0.32414185653074457,0.3063070185147121,0.33435577972077724,0.3239205021582052,0.3283792116622133,0.26497699495628235,0.2747798314544563,0.23708634401631712,0.2338292725346658,0.2713330276534853,0.2659889006593199,0.2689613736619918,0.2732619728999002,0.25204357518933707,0.24600376302433302,0.2806931554065806,0.2922352048318495,0.3084889401868862,0.3351147089980553,0.28625863677328556,0.27636093411545204,0.2191566398406246,0.2679494679589547,0.23775040713393536,0.22266668774803544,0.2282005470615205,0.26693756225591714,0.2491343462931046,0.2519803310828974,0.1952187455531489,0.14835486268123388,0.16033962085158193,0.21789175771182823,0.23035084668047512,0.23307034325738774,0.2037566999225262,0.1410185463342135,0.19815959650260084,0.20878460638449248,0.2275681059971224,0.24192451815896399,0.24657295998229167,0.27455847708191716,0.2870808101570035,0.28388698278179203,0.2210223409805998,0.23022435846759515,0.20426265277404476,0.20366183376286617,0.2106819295776874,0.1594225813082042,0.0556073805872217,0.07720524293642383,0.05336221480860748,0.04128259047859961,0.005612914446534889,-0.027115910636077767,-0.025186965389662808,-0.11328600566034763,-0.14743782313785636,-0.09962527866934401,-0.1199266368365296,-0.11097759577529376,-0.18804053947222799,-0.21235789839834296,-0.2146346862301769,-0.25106329153951956,-0.21874555314876576,-0.2768668869669706,-0.27538065046563487,-0.2524230398279762,-0.26649485351083835,-0.30222777364934317,-0.30023558429648856,-0.32673486489477777,-0.3753695827470078,-0.29925530064667094,-0.29950827707243044,-0.24932407861242434,-0.22402643603649197,-0.2529922367859345,-0.25634417442724533,-0.2707322086423072,-0.2720287128243236,-0.26415482157256465,-0.24002719496576908,-0.2588739386848389,-0.2702262557907886,-0.2529922367859345,-0.22867487785981921,-0.20255506190016903,-0.18434075924549764,-0.16062421933056104,-0.19338466646639352,-0.1385836482362801,-0.1444969721884043,-0.16242667636409636,-0.15550144670893462,-0.19895014783309872,-0.220200167596882,-0.2529606147327146,-0.26991003525858936,-0.230350846680475,-0.22051638812908125,-0.2267459326134047,-0.2762028238493526,-0.2566603949594446,-0.24205100637184362,-0.3213907379006118,-0.3332490078580802,-0.32037883219757435,-0.3240786124243047,-0.36711622685660983,-0.34298860024981426,-0.26137208088921204,-0.29116005502237274,-0.2888832671905387,-0.28300156529163434,-0.29280440178980827,-0.27240817746296264,-0.29682040254873754,-0.309785444368903,-0.2916976299271111,-0.3862159470014388,-0.4293484275934035,-0.43823422454820005,-0.4515154869005643,-0.48816544658244654,-0.43671636599364405,-0.40961626638417625,-0.42390943443957796,-0.42191724508672335,-0.46688380476544333,-0.45379227473239836,-0.4651129697851283,-0.40531566714626766,-0.42001992189352866,-0.3800496466235551,-0.36544025803595404,-0.3919079165810234],\"y\":[0.5625000000000029,0.5625000000000029,0.6250000000000018,0.8125000000000009,0.8750000000000024,0.9375000000000011,0.8750000000000024,0.8750000000000024,0.8750000000000024,0.8125000000000009,0.750000000000002,0.750000000000002,0.6875000000000033,0.5625000000000029,0.5625000000000029,0.5000000000000013,0.5000000000000042,0.5625000000000029,0.43750000000000266,0.3750000000000011,0.3125000000000022,0.06250000000000155,-0.12500000000000033,-0.25000000000000344,-0.4374999999999998,-0.4374999999999998,-0.25000000000000067,-0.25000000000000067,-0.1874999999999991,-0.3125000000000022,-0.375000000000001,-0.49999999999999856,-0.6250000000000018,-0.6875000000000004,-0.8125000000000009,-0.9375000000000012,-1.0,-0.8750000000000024,-0.6875000000000004,-0.6250000000000018,-0.375000000000001,-0.25000000000000067,-0.25000000000000067,-0.25000000000000067,-0.31249999999999944,-0.31249999999999944,-0.31249999999999944,-0.1874999999999991,-0.06249999999999878,0.06250000000000155,0.06250000000000155,0.25000000000000067,0.3750000000000011,0.6250000000000018,0.8125000000000009,0.8750000000000024,1.0,0.8125000000000036,0.9375000000000011],\"type\":\"scatter\"}],                        {\"template\":{\"data\":{\"histogram2dcontour\":[{\"type\":\"histogram2dcontour\",\"colorbar\":{\"outlinewidth\":0,\"ticks\":\"\"},\"colorscale\":[[0.0,\"#0d0887\"],[0.1111111111111111,\"#46039f\"],[0.2222222222222222,\"#7201a8\"],[0.3333333333333333,\"#9c179e\"],[0.4444444444444444,\"#bd3786\"],[0.5555555555555556,\"#d8576b\"],[0.6666666666666666,\"#ed7953\"],[0.7777777777777778,\"#fb9f3a\"],[0.8888888888888888,\"#fdca26\"],[1.0,\"#f0f921\"]]}],\"choropleth\":[{\"type\":\"choropleth\",\"colorbar\":{\"outlinewidth\":0,\"ticks\":\"\"}}],\"histogram2d\":[{\"type\":\"histogram2d\",\"colorbar\":{\"outlinewidth\":0,\"ticks\":\"\"},\"colorscale\":[[0.0,\"#0d0887\"],[0.1111111111111111,\"#46039f\"],[0.2222222222222222,\"#7201a8\"],[0.3333333333333333,\"#9c179e\"],[0.4444444444444444,\"#bd3786\"],[0.5555555555555556,\"#d8576b\"],[0.6666666666666666,\"#ed7953\"],[0.7777777777777778,\"#fb9f3a\"],[0.8888888888888888,\"#fdca26\"],[1.0,\"#f0f921\"]]}],\"heatmap\":[{\"type\":\"heatmap\",\"colorbar\":{\"outlinewidth\":0,\"ticks\":\"\"},\"colorscale\":[[0.0,\"#0d0887\"],[0.1111111111111111,\"#46039f\"],[0.2222222222222222,\"#7201a8\"],[0.3333333333333333,\"#9c179e\"],[0.4444444444444444,\"#bd3786\"],[0.5555555555555556,\"#d8576b\"],[0.6666666666666666,\"#ed7953\"],[0.7777777777777778,\"#fb9f3a\"],[0.8888888888888888,\"#fdca26\"],[1.0,\"#f0f921\"]]}],\"heatmapgl\":[{\"type\":\"heatmapgl\",\"colorbar\":{\"outlinewidth\":0,\"ticks\":\"\"},\"colorscale\":[[0.0,\"#0d0887\"],[0.1111111111111111,\"#46039f\"],[0.2222222222222222,\"#7201a8\"],[0.3333333333333333,\"#9c179e\"],[0.4444444444444444,\"#bd3786\"],[0.5555555555555556,\"#d8576b\"],[0.6666666666666666,\"#ed7953\"],[0.7777777777777778,\"#fb9f3a\"],[0.8888888888888888,\"#fdca26\"],[1.0,\"#f0f921\"]]}],\"contourcarpet\":[{\"type\":\"contourcarpet\",\"colorbar\":{\"outlinewidth\":0,\"ticks\":\"\"}}],\"contour\":[{\"type\":\"contour\",\"colorbar\":{\"outlinewidth\":0,\"ticks\":\"\"},\"colorscale\":[[0.0,\"#0d0887\"],[0.1111111111111111,\"#46039f\"],[0.2222222222222222,\"#7201a8\"],[0.3333333333333333,\"#9c179e\"],[0.4444444444444444,\"#bd3786\"],[0.5555555555555556,\"#d8576b\"],[0.6666666666666666,\"#ed7953\"],[0.7777777777777778,\"#fb9f3a\"],[0.8888888888888888,\"#fdca26\"],[1.0,\"#f0f921\"]]}],\"surface\":[{\"type\":\"surface\",\"colorbar\":{\"outlinewidth\":0,\"ticks\":\"\"},\"colorscale\":[[0.0,\"#0d0887\"],[0.1111111111111111,\"#46039f\"],[0.2222222222222222,\"#7201a8\"],[0.3333333333333333,\"#9c179e\"],[0.4444444444444444,\"#bd3786\"],[0.5555555555555556,\"#d8576b\"],[0.6666666666666666,\"#ed7953\"],[0.7777777777777778,\"#fb9f3a\"],[0.8888888888888888,\"#fdca26\"],[1.0,\"#f0f921\"]]}],\"mesh3d\":[{\"type\":\"mesh3d\",\"colorbar\":{\"outlinewidth\":0,\"ticks\":\"\"}}],\"scatter\":[{\"fillpattern\":{\"fillmode\":\"overlay\",\"size\":10,\"solidity\":0.2},\"type\":\"scatter\"}],\"parcoords\":[{\"type\":\"parcoords\",\"line\":{\"colorbar\":{\"outlinewidth\":0,\"ticks\":\"\"}}}],\"scatterpolargl\":[{\"type\":\"scatterpolargl\",\"marker\":{\"colorbar\":{\"outlinewidth\":0,\"ticks\":\"\"}}}],\"bar\":[{\"error_x\":{\"color\":\"#2a3f5f\"},\"error_y\":{\"color\":\"#2a3f5f\"},\"marker\":{\"line\":{\"color\":\"#E5ECF6\",\"width\":0.5},\"pattern\":{\"fillmode\":\"overlay\",\"size\":10,\"solidity\":0.2}},\"type\":\"bar\"}],\"scattergeo\":[{\"type\":\"scattergeo\",\"marker\":{\"colorbar\":{\"outlinewidth\":0,\"ticks\":\"\"}}}],\"scatterpolar\":[{\"type\":\"scatterpolar\",\"marker\":{\"colorbar\":{\"outlinewidth\":0,\"ticks\":\"\"}}}],\"histogram\":[{\"marker\":{\"pattern\":{\"fillmode\":\"overlay\",\"size\":10,\"solidity\":0.2}},\"type\":\"histogram\"}],\"scattergl\":[{\"type\":\"scattergl\",\"marker\":{\"colorbar\":{\"outlinewidth\":0,\"ticks\":\"\"}}}],\"scatter3d\":[{\"type\":\"scatter3d\",\"line\":{\"colorbar\":{\"outlinewidth\":0,\"ticks\":\"\"}},\"marker\":{\"colorbar\":{\"outlinewidth\":0,\"ticks\":\"\"}}}],\"scattermapbox\":[{\"type\":\"scattermapbox\",\"marker\":{\"colorbar\":{\"outlinewidth\":0,\"ticks\":\"\"}}}],\"scatterternary\":[{\"type\":\"scatterternary\",\"marker\":{\"colorbar\":{\"outlinewidth\":0,\"ticks\":\"\"}}}],\"scattercarpet\":[{\"type\":\"scattercarpet\",\"marker\":{\"colorbar\":{\"outlinewidth\":0,\"ticks\":\"\"}}}],\"carpet\":[{\"aaxis\":{\"endlinecolor\":\"#2a3f5f\",\"gridcolor\":\"white\",\"linecolor\":\"white\",\"minorgridcolor\":\"white\",\"startlinecolor\":\"#2a3f5f\"},\"baxis\":{\"endlinecolor\":\"#2a3f5f\",\"gridcolor\":\"white\",\"linecolor\":\"white\",\"minorgridcolor\":\"white\",\"startlinecolor\":\"#2a3f5f\"},\"type\":\"carpet\"}],\"table\":[{\"cells\":{\"fill\":{\"color\":\"#EBF0F8\"},\"line\":{\"color\":\"white\"}},\"header\":{\"fill\":{\"color\":\"#C8D4E3\"},\"line\":{\"color\":\"white\"}},\"type\":\"table\"}],\"barpolar\":[{\"marker\":{\"line\":{\"color\":\"#E5ECF6\",\"width\":0.5},\"pattern\":{\"fillmode\":\"overlay\",\"size\":10,\"solidity\":0.2}},\"type\":\"barpolar\"}],\"pie\":[{\"automargin\":true,\"type\":\"pie\"}]},\"layout\":{\"autotypenumbers\":\"strict\",\"colorway\":[\"#636efa\",\"#EF553B\",\"#00cc96\",\"#ab63fa\",\"#FFA15A\",\"#19d3f3\",\"#FF6692\",\"#B6E880\",\"#FF97FF\",\"#FECB52\"],\"font\":{\"color\":\"#2a3f5f\"},\"hovermode\":\"closest\",\"hoverlabel\":{\"align\":\"left\"},\"paper_bgcolor\":\"white\",\"plot_bgcolor\":\"#E5ECF6\",\"polar\":{\"bgcolor\":\"#E5ECF6\",\"angularaxis\":{\"gridcolor\":\"white\",\"linecolor\":\"white\",\"ticks\":\"\"},\"radialaxis\":{\"gridcolor\":\"white\",\"linecolor\":\"white\",\"ticks\":\"\"}},\"ternary\":{\"bgcolor\":\"#E5ECF6\",\"aaxis\":{\"gridcolor\":\"white\",\"linecolor\":\"white\",\"ticks\":\"\"},\"baxis\":{\"gridcolor\":\"white\",\"linecolor\":\"white\",\"ticks\":\"\"},\"caxis\":{\"gridcolor\":\"white\",\"linecolor\":\"white\",\"ticks\":\"\"}},\"coloraxis\":{\"colorbar\":{\"outlinewidth\":0,\"ticks\":\"\"}},\"colorscale\":{\"sequential\":[[0.0,\"#0d0887\"],[0.1111111111111111,\"#46039f\"],[0.2222222222222222,\"#7201a8\"],[0.3333333333333333,\"#9c179e\"],[0.4444444444444444,\"#bd3786\"],[0.5555555555555556,\"#d8576b\"],[0.6666666666666666,\"#ed7953\"],[0.7777777777777778,\"#fb9f3a\"],[0.8888888888888888,\"#fdca26\"],[1.0,\"#f0f921\"]],\"sequentialminus\":[[0.0,\"#0d0887\"],[0.1111111111111111,\"#46039f\"],[0.2222222222222222,\"#7201a8\"],[0.3333333333333333,\"#9c179e\"],[0.4444444444444444,\"#bd3786\"],[0.5555555555555556,\"#d8576b\"],[0.6666666666666666,\"#ed7953\"],[0.7777777777777778,\"#fb9f3a\"],[0.8888888888888888,\"#fdca26\"],[1.0,\"#f0f921\"]],\"diverging\":[[0,\"#8e0152\"],[0.1,\"#c51b7d\"],[0.2,\"#de77ae\"],[0.3,\"#f1b6da\"],[0.4,\"#fde0ef\"],[0.5,\"#f7f7f7\"],[0.6,\"#e6f5d0\"],[0.7,\"#b8e186\"],[0.8,\"#7fbc41\"],[0.9,\"#4d9221\"],[1,\"#276419\"]]},\"xaxis\":{\"gridcolor\":\"white\",\"linecolor\":\"white\",\"ticks\":\"\",\"title\":{\"standoff\":15},\"zerolinecolor\":\"white\",\"automargin\":true,\"zerolinewidth\":2},\"yaxis\":{\"gridcolor\":\"white\",\"linecolor\":\"white\",\"ticks\":\"\",\"title\":{\"standoff\":15},\"zerolinecolor\":\"white\",\"automargin\":true,\"zerolinewidth\":2},\"scene\":{\"xaxis\":{\"backgroundcolor\":\"#E5ECF6\",\"gridcolor\":\"white\",\"linecolor\":\"white\",\"showbackground\":true,\"ticks\":\"\",\"zerolinecolor\":\"white\",\"gridwidth\":2},\"yaxis\":{\"backgroundcolor\":\"#E5ECF6\",\"gridcolor\":\"white\",\"linecolor\":\"white\",\"showbackground\":true,\"ticks\":\"\",\"zerolinecolor\":\"white\",\"gridwidth\":2},\"zaxis\":{\"backgroundcolor\":\"#E5ECF6\",\"gridcolor\":\"white\",\"linecolor\":\"white\",\"showbackground\":true,\"ticks\":\"\",\"zerolinecolor\":\"white\",\"gridwidth\":2}},\"shapedefaults\":{\"line\":{\"color\":\"#2a3f5f\"}},\"annotationdefaults\":{\"arrowcolor\":\"#2a3f5f\",\"arrowhead\":0,\"arrowwidth\":1},\"geo\":{\"bgcolor\":\"white\",\"landcolor\":\"#E5ECF6\",\"subunitcolor\":\"white\",\"showland\":true,\"showlakes\":true,\"lakecolor\":\"white\"},\"title\":{\"x\":0.05},\"mapbox\":{\"style\":\"light\"}}},\"height\":700},                        {\"responsive\": true}                    ).then(function(){\n",
       "                            \n",
       "var gd = document.getElementById('07e22608-5195-4b0e-8a76-41fc5ca4b3ab');\n",
       "var x = new MutationObserver(function (mutations, observer) {{\n",
       "        var display = window.getComputedStyle(gd).display;\n",
       "        if (!display || display === 'none') {{\n",
       "            console.log([gd, 'removed!']);\n",
       "            Plotly.purge(gd);\n",
       "            observer.disconnect();\n",
       "        }}\n",
       "}});\n",
       "\n",
       "// Listen for the removal of the full notebook cells\n",
       "var notebookContainer = gd.closest('#notebook-container');\n",
       "if (notebookContainer) {{\n",
       "    x.observe(notebookContainer, {childList: true});\n",
       "}}\n",
       "\n",
       "// Listen for the clearing of the current output cell\n",
       "var outputEl = gd.closest('.output');\n",
       "if (outputEl) {{\n",
       "    x.observe(outputEl, {childList: true});\n",
       "}}\n",
       "\n",
       "                        })                };                });            </script>        </div>"
      ]
     },
     "metadata": {},
     "output_type": "display_data"
    }
   ],
   "source": [
    "_x, _y = left.종가, right\n",
    "\n",
    "x, y = normalize(_x, a=-1, b=1), normalize(_y, a=-1, b=1)\n",
    "# x, y = _x.resample('M').last(), _y.resample('M').last()\n",
    "# x = _x.resample('M').last().pct_change()\n",
    "# y = _y.resample('M').last().pct_change()\n",
    "\n",
    "fig = go.Figure()\n",
    "fig.add_trace(go.Scatter(\n",
    "    x=x, y=y, name='산포도',\n",
    "    mode='markers',\n",
    "    \n",
    "))\n",
    "fig.update_layout(height=700)\n",
    "fig.show()"
   ]
  },
  {
   "cell_type": "markdown",
   "id": "809bcf57",
   "metadata": {},
   "source": [
    "### x-y"
   ]
  },
  {
   "cell_type": "code",
   "execution_count": null,
   "id": "3396849c",
   "metadata": {
    "ExecuteTime": {
     "end_time": "2022-10-20T01:50:30.256830Z",
     "start_time": "2022-10-20T01:50:30.032433Z"
    }
   },
   "outputs": [],
   "source": [
    "y1 = price_rel(comparatee.종가)\n",
    "y2 = price_rel(comparator.종가)\n",
    "\n",
    "fig = go.Figure()\n",
    "fig.add_trace(go.Scatter(\n",
    "    x=y1.index, y=y1, name='LEFT',\n",
    "    xhoverformat='%Y/%m/%d'\n",
    "))\n",
    "\n",
    "fig.add_trace(go.Scatter(\n",
    "    x=y2.index, y=y2, name='RIGHT',\n",
    "    xhoverformat='%Y/%m/%d'\n",
    "))\n",
    "fig.update_layout(height=700)\n",
    "fig.show()"
   ]
  },
  {
   "cell_type": "markdown",
   "id": "e5c21f6b",
   "metadata": {},
   "source": [
    "### x-y1, y2"
   ]
  },
  {
   "cell_type": "code",
   "execution_count": 24,
   "id": "aa6e9181",
   "metadata": {
    "ExecuteTime": {
     "end_time": "2022-10-20T09:28:25.084537Z",
     "start_time": "2022-10-20T09:28:24.960867Z"
    }
   },
   "outputs": [
    {
     "data": {
      "application/vnd.plotly.v1+json": {
       "config": {
        "plotlyServerURL": "https://plot.ly"
       },
       "data": [
        {
         "name": "LEFT",
         "type": "scatter",
         "x": [
          "2017-10-23T00:00:00",
          "2017-10-24T00:00:00",
          "2017-10-25T00:00:00",
          "2017-10-26T00:00:00",
          "2017-10-27T00:00:00",
          "2017-10-30T00:00:00",
          "2017-10-31T00:00:00",
          "2017-11-01T00:00:00",
          "2017-11-02T00:00:00",
          "2017-11-03T00:00:00",
          "2017-11-06T00:00:00",
          "2017-11-07T00:00:00",
          "2017-11-08T00:00:00",
          "2017-11-09T00:00:00",
          "2017-11-10T00:00:00",
          "2017-11-13T00:00:00",
          "2017-11-14T00:00:00",
          "2017-11-15T00:00:00",
          "2017-11-16T00:00:00",
          "2017-11-17T00:00:00",
          "2017-11-20T00:00:00",
          "2017-11-21T00:00:00",
          "2017-11-22T00:00:00",
          "2017-11-23T00:00:00",
          "2017-11-24T00:00:00",
          "2017-11-27T00:00:00",
          "2017-11-28T00:00:00",
          "2017-11-29T00:00:00",
          "2017-11-30T00:00:00",
          "2017-12-01T00:00:00",
          "2017-12-04T00:00:00",
          "2017-12-05T00:00:00",
          "2017-12-06T00:00:00",
          "2017-12-07T00:00:00",
          "2017-12-08T00:00:00",
          "2017-12-11T00:00:00",
          "2017-12-12T00:00:00",
          "2017-12-13T00:00:00",
          "2017-12-14T00:00:00",
          "2017-12-15T00:00:00",
          "2017-12-18T00:00:00",
          "2017-12-19T00:00:00",
          "2017-12-20T00:00:00",
          "2017-12-21T00:00:00",
          "2017-12-22T00:00:00",
          "2017-12-26T00:00:00",
          "2017-12-27T00:00:00",
          "2017-12-28T00:00:00",
          "2018-01-02T00:00:00",
          "2018-01-03T00:00:00",
          "2018-01-04T00:00:00",
          "2018-01-05T00:00:00",
          "2018-01-08T00:00:00",
          "2018-01-09T00:00:00",
          "2018-01-10T00:00:00",
          "2018-01-11T00:00:00",
          "2018-01-12T00:00:00",
          "2018-01-15T00:00:00",
          "2018-01-16T00:00:00",
          "2018-01-17T00:00:00",
          "2018-01-18T00:00:00",
          "2018-01-19T00:00:00",
          "2018-01-22T00:00:00",
          "2018-01-23T00:00:00",
          "2018-01-24T00:00:00",
          "2018-01-25T00:00:00",
          "2018-01-26T00:00:00",
          "2018-01-29T00:00:00",
          "2018-01-30T00:00:00",
          "2018-01-31T00:00:00",
          "2018-02-01T00:00:00",
          "2018-02-02T00:00:00",
          "2018-02-05T00:00:00",
          "2018-02-06T00:00:00",
          "2018-02-07T00:00:00",
          "2018-02-08T00:00:00",
          "2018-02-09T00:00:00",
          "2018-02-12T00:00:00",
          "2018-02-13T00:00:00",
          "2018-02-14T00:00:00",
          "2018-02-19T00:00:00",
          "2018-02-20T00:00:00",
          "2018-02-21T00:00:00",
          "2018-02-22T00:00:00",
          "2018-02-23T00:00:00",
          "2018-02-26T00:00:00",
          "2018-02-27T00:00:00",
          "2018-02-28T00:00:00",
          "2018-03-02T00:00:00",
          "2018-03-05T00:00:00",
          "2018-03-06T00:00:00",
          "2018-03-07T00:00:00",
          "2018-03-08T00:00:00",
          "2018-03-09T00:00:00",
          "2018-03-12T00:00:00",
          "2018-03-13T00:00:00",
          "2018-03-14T00:00:00",
          "2018-03-15T00:00:00",
          "2018-03-16T00:00:00",
          "2018-03-19T00:00:00",
          "2018-03-20T00:00:00",
          "2018-03-21T00:00:00",
          "2018-03-22T00:00:00",
          "2018-03-23T00:00:00",
          "2018-03-26T00:00:00",
          "2018-03-27T00:00:00",
          "2018-03-28T00:00:00",
          "2018-03-29T00:00:00",
          "2018-03-30T00:00:00",
          "2018-04-02T00:00:00",
          "2018-04-03T00:00:00",
          "2018-04-04T00:00:00",
          "2018-04-05T00:00:00",
          "2018-04-06T00:00:00",
          "2018-04-09T00:00:00",
          "2018-04-10T00:00:00",
          "2018-04-11T00:00:00",
          "2018-04-12T00:00:00",
          "2018-04-13T00:00:00",
          "2018-04-16T00:00:00",
          "2018-04-17T00:00:00",
          "2018-04-18T00:00:00",
          "2018-04-19T00:00:00",
          "2018-04-20T00:00:00",
          "2018-04-23T00:00:00",
          "2018-04-24T00:00:00",
          "2018-04-25T00:00:00",
          "2018-04-26T00:00:00",
          "2018-04-27T00:00:00",
          "2018-04-30T00:00:00",
          "2018-05-02T00:00:00",
          "2018-05-03T00:00:00",
          "2018-05-04T00:00:00",
          "2018-05-08T00:00:00",
          "2018-05-09T00:00:00",
          "2018-05-10T00:00:00",
          "2018-05-11T00:00:00",
          "2018-05-14T00:00:00",
          "2018-05-15T00:00:00",
          "2018-05-16T00:00:00",
          "2018-05-17T00:00:00",
          "2018-05-18T00:00:00",
          "2018-05-21T00:00:00",
          "2018-05-23T00:00:00",
          "2018-05-24T00:00:00",
          "2018-05-25T00:00:00",
          "2018-05-28T00:00:00",
          "2018-05-29T00:00:00",
          "2018-05-30T00:00:00",
          "2018-05-31T00:00:00",
          "2018-06-01T00:00:00",
          "2018-06-04T00:00:00",
          "2018-06-05T00:00:00",
          "2018-06-07T00:00:00",
          "2018-06-08T00:00:00",
          "2018-06-11T00:00:00",
          "2018-06-12T00:00:00",
          "2018-06-14T00:00:00",
          "2018-06-15T00:00:00",
          "2018-06-18T00:00:00",
          "2018-06-19T00:00:00",
          "2018-06-20T00:00:00",
          "2018-06-21T00:00:00",
          "2018-06-22T00:00:00",
          "2018-06-25T00:00:00",
          "2018-06-26T00:00:00",
          "2018-06-27T00:00:00",
          "2018-06-28T00:00:00",
          "2018-06-29T00:00:00",
          "2018-07-02T00:00:00",
          "2018-07-03T00:00:00",
          "2018-07-04T00:00:00",
          "2018-07-05T00:00:00",
          "2018-07-06T00:00:00",
          "2018-07-09T00:00:00",
          "2018-07-10T00:00:00",
          "2018-07-11T00:00:00",
          "2018-07-12T00:00:00",
          "2018-07-13T00:00:00",
          "2018-07-16T00:00:00",
          "2018-07-17T00:00:00",
          "2018-07-18T00:00:00",
          "2018-07-19T00:00:00",
          "2018-07-20T00:00:00",
          "2018-07-23T00:00:00",
          "2018-07-24T00:00:00",
          "2018-07-25T00:00:00",
          "2018-07-26T00:00:00",
          "2018-07-27T00:00:00",
          "2018-07-30T00:00:00",
          "2018-07-31T00:00:00",
          "2018-08-01T00:00:00",
          "2018-08-02T00:00:00",
          "2018-08-03T00:00:00",
          "2018-08-06T00:00:00",
          "2018-08-07T00:00:00",
          "2018-08-08T00:00:00",
          "2018-08-09T00:00:00",
          "2018-08-10T00:00:00",
          "2018-08-13T00:00:00",
          "2018-08-14T00:00:00",
          "2018-08-16T00:00:00",
          "2018-08-17T00:00:00",
          "2018-08-20T00:00:00",
          "2018-08-21T00:00:00",
          "2018-08-22T00:00:00",
          "2018-08-23T00:00:00",
          "2018-08-24T00:00:00",
          "2018-08-27T00:00:00",
          "2018-08-28T00:00:00",
          "2018-08-29T00:00:00",
          "2018-08-30T00:00:00",
          "2018-08-31T00:00:00",
          "2018-09-03T00:00:00",
          "2018-09-04T00:00:00",
          "2018-09-05T00:00:00",
          "2018-09-06T00:00:00",
          "2018-09-07T00:00:00",
          "2018-09-10T00:00:00",
          "2018-09-11T00:00:00",
          "2018-09-12T00:00:00",
          "2018-09-13T00:00:00",
          "2018-09-14T00:00:00",
          "2018-09-17T00:00:00",
          "2018-09-18T00:00:00",
          "2018-09-19T00:00:00",
          "2018-09-20T00:00:00",
          "2018-09-21T00:00:00",
          "2018-09-27T00:00:00",
          "2018-09-28T00:00:00",
          "2018-10-01T00:00:00",
          "2018-10-02T00:00:00",
          "2018-10-04T00:00:00",
          "2018-10-05T00:00:00",
          "2018-10-08T00:00:00",
          "2018-10-10T00:00:00",
          "2018-10-11T00:00:00",
          "2018-10-12T00:00:00",
          "2018-10-15T00:00:00",
          "2018-10-16T00:00:00",
          "2018-10-17T00:00:00",
          "2018-10-18T00:00:00",
          "2018-10-19T00:00:00",
          "2018-10-22T00:00:00",
          "2018-10-23T00:00:00",
          "2018-10-24T00:00:00",
          "2018-10-25T00:00:00",
          "2018-10-26T00:00:00",
          "2018-10-29T00:00:00",
          "2018-10-30T00:00:00",
          "2018-10-31T00:00:00",
          "2018-11-01T00:00:00",
          "2018-11-02T00:00:00",
          "2018-11-05T00:00:00",
          "2018-11-06T00:00:00",
          "2018-11-07T00:00:00",
          "2018-11-08T00:00:00",
          "2018-11-09T00:00:00",
          "2018-11-12T00:00:00",
          "2018-11-13T00:00:00",
          "2018-11-14T00:00:00",
          "2018-11-15T00:00:00",
          "2018-11-16T00:00:00",
          "2018-11-19T00:00:00",
          "2018-11-20T00:00:00",
          "2018-11-21T00:00:00",
          "2018-11-22T00:00:00",
          "2018-11-23T00:00:00",
          "2018-11-26T00:00:00",
          "2018-11-27T00:00:00",
          "2018-11-28T00:00:00",
          "2018-11-29T00:00:00",
          "2018-11-30T00:00:00",
          "2018-12-03T00:00:00",
          "2018-12-04T00:00:00",
          "2018-12-05T00:00:00",
          "2018-12-06T00:00:00",
          "2018-12-07T00:00:00",
          "2018-12-10T00:00:00",
          "2018-12-11T00:00:00",
          "2018-12-12T00:00:00",
          "2018-12-13T00:00:00",
          "2018-12-14T00:00:00",
          "2018-12-17T00:00:00",
          "2018-12-18T00:00:00",
          "2018-12-19T00:00:00",
          "2018-12-20T00:00:00",
          "2018-12-21T00:00:00",
          "2018-12-24T00:00:00",
          "2018-12-26T00:00:00",
          "2018-12-27T00:00:00",
          "2018-12-28T00:00:00",
          "2019-01-02T00:00:00",
          "2019-01-03T00:00:00",
          "2019-01-04T00:00:00",
          "2019-01-07T00:00:00",
          "2019-01-08T00:00:00",
          "2019-01-09T00:00:00",
          "2019-01-10T00:00:00",
          "2019-01-11T00:00:00",
          "2019-01-14T00:00:00",
          "2019-01-15T00:00:00",
          "2019-01-16T00:00:00",
          "2019-01-17T00:00:00",
          "2019-01-18T00:00:00",
          "2019-01-21T00:00:00",
          "2019-01-22T00:00:00",
          "2019-01-23T00:00:00",
          "2019-01-24T00:00:00",
          "2019-01-25T00:00:00",
          "2019-01-28T00:00:00",
          "2019-01-29T00:00:00",
          "2019-01-30T00:00:00",
          "2019-01-31T00:00:00",
          "2019-02-01T00:00:00",
          "2019-02-07T00:00:00",
          "2019-02-08T00:00:00",
          "2019-02-11T00:00:00",
          "2019-02-12T00:00:00",
          "2019-02-13T00:00:00",
          "2019-02-14T00:00:00",
          "2019-02-15T00:00:00",
          "2019-02-18T00:00:00",
          "2019-02-19T00:00:00",
          "2019-02-20T00:00:00",
          "2019-02-21T00:00:00",
          "2019-02-22T00:00:00",
          "2019-02-25T00:00:00",
          "2019-02-26T00:00:00",
          "2019-02-27T00:00:00",
          "2019-02-28T00:00:00",
          "2019-03-04T00:00:00",
          "2019-03-05T00:00:00",
          "2019-03-06T00:00:00",
          "2019-03-07T00:00:00",
          "2019-03-08T00:00:00",
          "2019-03-11T00:00:00",
          "2019-03-12T00:00:00",
          "2019-03-13T00:00:00",
          "2019-03-14T00:00:00",
          "2019-03-15T00:00:00",
          "2019-03-18T00:00:00",
          "2019-03-19T00:00:00",
          "2019-03-20T00:00:00",
          "2019-03-21T00:00:00",
          "2019-03-22T00:00:00",
          "2019-03-25T00:00:00",
          "2019-03-26T00:00:00",
          "2019-03-27T00:00:00",
          "2019-03-28T00:00:00",
          "2019-03-29T00:00:00",
          "2019-04-01T00:00:00",
          "2019-04-02T00:00:00",
          "2019-04-03T00:00:00",
          "2019-04-04T00:00:00",
          "2019-04-05T00:00:00",
          "2019-04-08T00:00:00",
          "2019-04-09T00:00:00",
          "2019-04-10T00:00:00",
          "2019-04-11T00:00:00",
          "2019-04-12T00:00:00",
          "2019-04-15T00:00:00",
          "2019-04-16T00:00:00",
          "2019-04-17T00:00:00",
          "2019-04-18T00:00:00",
          "2019-04-19T00:00:00",
          "2019-04-22T00:00:00",
          "2019-04-23T00:00:00",
          "2019-04-24T00:00:00",
          "2019-04-25T00:00:00",
          "2019-04-26T00:00:00",
          "2019-04-29T00:00:00",
          "2019-04-30T00:00:00",
          "2019-05-02T00:00:00",
          "2019-05-03T00:00:00",
          "2019-05-07T00:00:00",
          "2019-05-08T00:00:00",
          "2019-05-09T00:00:00",
          "2019-05-10T00:00:00",
          "2019-05-13T00:00:00",
          "2019-05-14T00:00:00",
          "2019-05-15T00:00:00",
          "2019-05-16T00:00:00",
          "2019-05-17T00:00:00",
          "2019-05-20T00:00:00",
          "2019-05-21T00:00:00",
          "2019-05-22T00:00:00",
          "2019-05-23T00:00:00",
          "2019-05-24T00:00:00",
          "2019-05-27T00:00:00",
          "2019-05-28T00:00:00",
          "2019-05-29T00:00:00",
          "2019-05-30T00:00:00",
          "2019-05-31T00:00:00",
          "2019-06-03T00:00:00",
          "2019-06-04T00:00:00",
          "2019-06-05T00:00:00",
          "2019-06-07T00:00:00",
          "2019-06-10T00:00:00",
          "2019-06-11T00:00:00",
          "2019-06-12T00:00:00",
          "2019-06-13T00:00:00",
          "2019-06-14T00:00:00",
          "2019-06-17T00:00:00",
          "2019-06-18T00:00:00",
          "2019-06-19T00:00:00",
          "2019-06-20T00:00:00",
          "2019-06-21T00:00:00",
          "2019-06-24T00:00:00",
          "2019-06-25T00:00:00",
          "2019-06-26T00:00:00",
          "2019-06-27T00:00:00",
          "2019-06-28T00:00:00",
          "2019-07-01T00:00:00",
          "2019-07-02T00:00:00",
          "2019-07-03T00:00:00",
          "2019-07-04T00:00:00",
          "2019-07-05T00:00:00",
          "2019-07-08T00:00:00",
          "2019-07-09T00:00:00",
          "2019-07-10T00:00:00",
          "2019-07-11T00:00:00",
          "2019-07-12T00:00:00",
          "2019-07-15T00:00:00",
          "2019-07-16T00:00:00",
          "2019-07-17T00:00:00",
          "2019-07-18T00:00:00",
          "2019-07-19T00:00:00",
          "2019-07-22T00:00:00",
          "2019-07-23T00:00:00",
          "2019-07-24T00:00:00",
          "2019-07-25T00:00:00",
          "2019-07-26T00:00:00",
          "2019-07-29T00:00:00",
          "2019-07-30T00:00:00",
          "2019-07-31T00:00:00",
          "2019-08-01T00:00:00",
          "2019-08-02T00:00:00",
          "2019-08-05T00:00:00",
          "2019-08-06T00:00:00",
          "2019-08-07T00:00:00",
          "2019-08-08T00:00:00",
          "2019-08-09T00:00:00",
          "2019-08-12T00:00:00",
          "2019-08-13T00:00:00",
          "2019-08-14T00:00:00",
          "2019-08-16T00:00:00",
          "2019-08-19T00:00:00",
          "2019-08-20T00:00:00",
          "2019-08-21T00:00:00",
          "2019-08-22T00:00:00",
          "2019-08-23T00:00:00",
          "2019-08-26T00:00:00",
          "2019-08-27T00:00:00",
          "2019-08-28T00:00:00",
          "2019-08-29T00:00:00",
          "2019-08-30T00:00:00",
          "2019-09-02T00:00:00",
          "2019-09-03T00:00:00",
          "2019-09-04T00:00:00",
          "2019-09-05T00:00:00",
          "2019-09-06T00:00:00",
          "2019-09-09T00:00:00",
          "2019-09-10T00:00:00",
          "2019-09-11T00:00:00",
          "2019-09-16T00:00:00",
          "2019-09-17T00:00:00",
          "2019-09-18T00:00:00",
          "2019-09-19T00:00:00",
          "2019-09-20T00:00:00",
          "2019-09-23T00:00:00",
          "2019-09-24T00:00:00",
          "2019-09-25T00:00:00",
          "2019-09-26T00:00:00",
          "2019-09-27T00:00:00",
          "2019-09-30T00:00:00",
          "2019-10-01T00:00:00",
          "2019-10-02T00:00:00",
          "2019-10-04T00:00:00",
          "2019-10-07T00:00:00",
          "2019-10-08T00:00:00",
          "2019-10-10T00:00:00",
          "2019-10-11T00:00:00",
          "2019-10-14T00:00:00",
          "2019-10-15T00:00:00",
          "2019-10-16T00:00:00",
          "2019-10-17T00:00:00",
          "2019-10-18T00:00:00",
          "2019-10-21T00:00:00",
          "2019-10-22T00:00:00",
          "2019-10-23T00:00:00",
          "2019-10-24T00:00:00",
          "2019-10-25T00:00:00",
          "2019-10-28T00:00:00",
          "2019-10-29T00:00:00",
          "2019-10-30T00:00:00",
          "2019-10-31T00:00:00",
          "2019-11-01T00:00:00",
          "2019-11-04T00:00:00",
          "2019-11-05T00:00:00",
          "2019-11-06T00:00:00",
          "2019-11-07T00:00:00",
          "2019-11-08T00:00:00",
          "2019-11-11T00:00:00",
          "2019-11-12T00:00:00",
          "2019-11-13T00:00:00",
          "2019-11-14T00:00:00",
          "2019-11-15T00:00:00",
          "2019-11-18T00:00:00",
          "2019-11-19T00:00:00",
          "2019-11-20T00:00:00",
          "2019-11-21T00:00:00",
          "2019-11-22T00:00:00",
          "2019-11-25T00:00:00",
          "2019-11-26T00:00:00",
          "2019-11-27T00:00:00",
          "2019-11-28T00:00:00",
          "2019-11-29T00:00:00",
          "2019-12-02T00:00:00",
          "2019-12-03T00:00:00",
          "2019-12-04T00:00:00",
          "2019-12-05T00:00:00",
          "2019-12-06T00:00:00",
          "2019-12-09T00:00:00",
          "2019-12-10T00:00:00",
          "2019-12-11T00:00:00",
          "2019-12-12T00:00:00",
          "2019-12-13T00:00:00",
          "2019-12-16T00:00:00",
          "2019-12-17T00:00:00",
          "2019-12-18T00:00:00",
          "2019-12-19T00:00:00",
          "2019-12-20T00:00:00",
          "2019-12-23T00:00:00",
          "2019-12-24T00:00:00",
          "2019-12-26T00:00:00",
          "2019-12-27T00:00:00",
          "2019-12-30T00:00:00",
          "2020-01-02T00:00:00",
          "2020-01-03T00:00:00",
          "2020-01-06T00:00:00",
          "2020-01-07T00:00:00",
          "2020-01-08T00:00:00",
          "2020-01-09T00:00:00",
          "2020-01-10T00:00:00",
          "2020-01-13T00:00:00",
          "2020-01-14T00:00:00",
          "2020-01-15T00:00:00",
          "2020-01-16T00:00:00",
          "2020-01-17T00:00:00",
          "2020-01-20T00:00:00",
          "2020-01-21T00:00:00",
          "2020-01-22T00:00:00",
          "2020-01-23T00:00:00",
          "2020-01-28T00:00:00",
          "2020-01-29T00:00:00",
          "2020-01-30T00:00:00",
          "2020-01-31T00:00:00",
          "2020-02-03T00:00:00",
          "2020-02-04T00:00:00",
          "2020-02-05T00:00:00",
          "2020-02-06T00:00:00",
          "2020-02-07T00:00:00",
          "2020-02-10T00:00:00",
          "2020-02-11T00:00:00",
          "2020-02-12T00:00:00",
          "2020-02-13T00:00:00",
          "2020-02-14T00:00:00",
          "2020-02-17T00:00:00",
          "2020-02-18T00:00:00",
          "2020-02-19T00:00:00",
          "2020-02-20T00:00:00",
          "2020-02-21T00:00:00",
          "2020-02-24T00:00:00",
          "2020-02-25T00:00:00",
          "2020-02-26T00:00:00",
          "2020-02-27T00:00:00",
          "2020-02-28T00:00:00",
          "2020-03-02T00:00:00",
          "2020-03-03T00:00:00",
          "2020-03-04T00:00:00",
          "2020-03-05T00:00:00",
          "2020-03-06T00:00:00",
          "2020-03-09T00:00:00",
          "2020-03-10T00:00:00",
          "2020-03-11T00:00:00",
          "2020-03-12T00:00:00",
          "2020-03-13T00:00:00",
          "2020-03-16T00:00:00",
          "2020-03-17T00:00:00",
          "2020-03-18T00:00:00",
          "2020-03-19T00:00:00",
          "2020-03-20T00:00:00",
          "2020-03-23T00:00:00",
          "2020-03-24T00:00:00",
          "2020-03-25T00:00:00",
          "2020-03-26T00:00:00",
          "2020-03-27T00:00:00",
          "2020-03-30T00:00:00",
          "2020-03-31T00:00:00",
          "2020-04-01T00:00:00",
          "2020-04-02T00:00:00",
          "2020-04-03T00:00:00",
          "2020-04-06T00:00:00",
          "2020-04-07T00:00:00",
          "2020-04-08T00:00:00",
          "2020-04-09T00:00:00",
          "2020-04-10T00:00:00",
          "2020-04-13T00:00:00",
          "2020-04-14T00:00:00",
          "2020-04-16T00:00:00",
          "2020-04-17T00:00:00",
          "2020-04-20T00:00:00",
          "2020-04-21T00:00:00",
          "2020-04-22T00:00:00",
          "2020-04-23T00:00:00",
          "2020-04-24T00:00:00",
          "2020-04-27T00:00:00",
          "2020-04-28T00:00:00",
          "2020-04-29T00:00:00",
          "2020-05-04T00:00:00",
          "2020-05-06T00:00:00",
          "2020-05-07T00:00:00",
          "2020-05-08T00:00:00",
          "2020-05-11T00:00:00",
          "2020-05-12T00:00:00",
          "2020-05-13T00:00:00",
          "2020-05-14T00:00:00",
          "2020-05-15T00:00:00",
          "2020-05-18T00:00:00",
          "2020-05-19T00:00:00",
          "2020-05-20T00:00:00",
          "2020-05-21T00:00:00",
          "2020-05-22T00:00:00",
          "2020-05-25T00:00:00",
          "2020-05-26T00:00:00",
          "2020-05-27T00:00:00",
          "2020-05-28T00:00:00",
          "2020-05-29T00:00:00",
          "2020-06-01T00:00:00",
          "2020-06-02T00:00:00",
          "2020-06-03T00:00:00",
          "2020-06-04T00:00:00",
          "2020-06-05T00:00:00",
          "2020-06-08T00:00:00",
          "2020-06-09T00:00:00",
          "2020-06-10T00:00:00",
          "2020-06-11T00:00:00",
          "2020-06-12T00:00:00",
          "2020-06-15T00:00:00",
          "2020-06-16T00:00:00",
          "2020-06-17T00:00:00",
          "2020-06-18T00:00:00",
          "2020-06-19T00:00:00",
          "2020-06-22T00:00:00",
          "2020-06-23T00:00:00",
          "2020-06-24T00:00:00",
          "2020-06-25T00:00:00",
          "2020-06-26T00:00:00",
          "2020-06-29T00:00:00",
          "2020-06-30T00:00:00",
          "2020-07-01T00:00:00",
          "2020-07-02T00:00:00",
          "2020-07-03T00:00:00",
          "2020-07-06T00:00:00",
          "2020-07-07T00:00:00",
          "2020-07-08T00:00:00",
          "2020-07-09T00:00:00",
          "2020-07-10T00:00:00",
          "2020-07-13T00:00:00",
          "2020-07-14T00:00:00",
          "2020-07-15T00:00:00",
          "2020-07-16T00:00:00",
          "2020-07-17T00:00:00",
          "2020-07-20T00:00:00",
          "2020-07-21T00:00:00",
          "2020-07-22T00:00:00",
          "2020-07-23T00:00:00",
          "2020-07-24T00:00:00",
          "2020-07-27T00:00:00",
          "2020-07-28T00:00:00",
          "2020-07-29T00:00:00",
          "2020-07-30T00:00:00",
          "2020-07-31T00:00:00",
          "2020-08-03T00:00:00",
          "2020-08-04T00:00:00",
          "2020-08-05T00:00:00",
          "2020-08-06T00:00:00",
          "2020-08-07T00:00:00",
          "2020-08-10T00:00:00",
          "2020-08-11T00:00:00",
          "2020-08-12T00:00:00",
          "2020-08-13T00:00:00",
          "2020-08-14T00:00:00",
          "2020-08-18T00:00:00",
          "2020-08-19T00:00:00",
          "2020-08-20T00:00:00",
          "2020-08-21T00:00:00",
          "2020-08-24T00:00:00",
          "2020-08-25T00:00:00",
          "2020-08-26T00:00:00",
          "2020-08-27T00:00:00",
          "2020-08-28T00:00:00",
          "2020-08-31T00:00:00",
          "2020-09-01T00:00:00",
          "2020-09-02T00:00:00",
          "2020-09-03T00:00:00",
          "2020-09-04T00:00:00",
          "2020-09-07T00:00:00",
          "2020-09-08T00:00:00",
          "2020-09-09T00:00:00",
          "2020-09-10T00:00:00",
          "2020-09-11T00:00:00",
          "2020-09-14T00:00:00",
          "2020-09-15T00:00:00",
          "2020-09-16T00:00:00",
          "2020-09-17T00:00:00",
          "2020-09-18T00:00:00",
          "2020-09-21T00:00:00",
          "2020-09-22T00:00:00",
          "2020-09-23T00:00:00",
          "2020-09-24T00:00:00",
          "2020-09-25T00:00:00",
          "2020-09-28T00:00:00",
          "2020-09-29T00:00:00",
          "2020-10-05T00:00:00",
          "2020-10-06T00:00:00",
          "2020-10-07T00:00:00",
          "2020-10-08T00:00:00",
          "2020-10-12T00:00:00",
          "2020-10-13T00:00:00",
          "2020-10-14T00:00:00",
          "2020-10-15T00:00:00",
          "2020-10-16T00:00:00",
          "2020-10-19T00:00:00",
          "2020-10-20T00:00:00",
          "2020-10-21T00:00:00",
          "2020-10-22T00:00:00",
          "2020-10-23T00:00:00",
          "2020-10-26T00:00:00",
          "2020-10-27T00:00:00",
          "2020-10-28T00:00:00",
          "2020-10-29T00:00:00",
          "2020-10-30T00:00:00",
          "2020-11-02T00:00:00",
          "2020-11-03T00:00:00",
          "2020-11-04T00:00:00",
          "2020-11-05T00:00:00",
          "2020-11-06T00:00:00",
          "2020-11-09T00:00:00",
          "2020-11-10T00:00:00",
          "2020-11-11T00:00:00",
          "2020-11-12T00:00:00",
          "2020-11-13T00:00:00",
          "2020-11-16T00:00:00",
          "2020-11-17T00:00:00",
          "2020-11-18T00:00:00",
          "2020-11-19T00:00:00",
          "2020-11-20T00:00:00",
          "2020-11-23T00:00:00",
          "2020-11-24T00:00:00",
          "2020-11-25T00:00:00",
          "2020-11-26T00:00:00",
          "2020-11-27T00:00:00",
          "2020-11-30T00:00:00",
          "2020-12-01T00:00:00",
          "2020-12-02T00:00:00",
          "2020-12-03T00:00:00",
          "2020-12-04T00:00:00",
          "2020-12-07T00:00:00",
          "2020-12-08T00:00:00",
          "2020-12-09T00:00:00",
          "2020-12-10T00:00:00",
          "2020-12-11T00:00:00",
          "2020-12-14T00:00:00",
          "2020-12-15T00:00:00",
          "2020-12-16T00:00:00",
          "2020-12-17T00:00:00",
          "2020-12-18T00:00:00",
          "2020-12-21T00:00:00",
          "2020-12-22T00:00:00",
          "2020-12-23T00:00:00",
          "2020-12-24T00:00:00",
          "2020-12-28T00:00:00",
          "2020-12-29T00:00:00",
          "2020-12-30T00:00:00",
          "2021-01-04T00:00:00",
          "2021-01-05T00:00:00",
          "2021-01-06T00:00:00",
          "2021-01-07T00:00:00",
          "2021-01-08T00:00:00",
          "2021-01-11T00:00:00",
          "2021-01-12T00:00:00",
          "2021-01-13T00:00:00",
          "2021-01-14T00:00:00",
          "2021-01-15T00:00:00",
          "2021-01-18T00:00:00",
          "2021-01-19T00:00:00",
          "2021-01-20T00:00:00",
          "2021-01-21T00:00:00",
          "2021-01-22T00:00:00",
          "2021-01-25T00:00:00",
          "2021-01-26T00:00:00",
          "2021-01-27T00:00:00",
          "2021-01-28T00:00:00",
          "2021-01-29T00:00:00",
          "2021-02-01T00:00:00",
          "2021-02-02T00:00:00",
          "2021-02-03T00:00:00",
          "2021-02-04T00:00:00",
          "2021-02-05T00:00:00",
          "2021-02-08T00:00:00",
          "2021-02-09T00:00:00",
          "2021-02-10T00:00:00",
          "2021-02-15T00:00:00",
          "2021-02-16T00:00:00",
          "2021-02-17T00:00:00",
          "2021-02-18T00:00:00",
          "2021-02-19T00:00:00",
          "2021-02-22T00:00:00",
          "2021-02-23T00:00:00",
          "2021-02-24T00:00:00",
          "2021-02-25T00:00:00",
          "2021-02-26T00:00:00",
          "2021-03-02T00:00:00",
          "2021-03-03T00:00:00",
          "2021-03-04T00:00:00",
          "2021-03-05T00:00:00",
          "2021-03-08T00:00:00",
          "2021-03-09T00:00:00",
          "2021-03-10T00:00:00",
          "2021-03-11T00:00:00",
          "2021-03-12T00:00:00",
          "2021-03-15T00:00:00",
          "2021-03-16T00:00:00",
          "2021-03-17T00:00:00",
          "2021-03-18T00:00:00",
          "2021-03-19T00:00:00",
          "2021-03-22T00:00:00",
          "2021-03-23T00:00:00",
          "2021-03-24T00:00:00",
          "2021-03-25T00:00:00",
          "2021-03-26T00:00:00",
          "2021-03-29T00:00:00",
          "2021-03-30T00:00:00",
          "2021-03-31T00:00:00",
          "2021-04-01T00:00:00",
          "2021-04-02T00:00:00",
          "2021-04-05T00:00:00",
          "2021-04-06T00:00:00",
          "2021-04-07T00:00:00",
          "2021-04-08T00:00:00",
          "2021-04-09T00:00:00",
          "2021-04-12T00:00:00",
          "2021-04-13T00:00:00",
          "2021-04-14T00:00:00",
          "2021-04-15T00:00:00",
          "2021-04-16T00:00:00",
          "2021-04-19T00:00:00",
          "2021-04-20T00:00:00",
          "2021-04-21T00:00:00",
          "2021-04-22T00:00:00",
          "2021-04-23T00:00:00",
          "2021-04-26T00:00:00",
          "2021-04-27T00:00:00",
          "2021-04-28T00:00:00",
          "2021-04-29T00:00:00",
          "2021-04-30T00:00:00",
          "2021-05-03T00:00:00",
          "2021-05-04T00:00:00",
          "2021-05-06T00:00:00",
          "2021-05-07T00:00:00",
          "2021-05-10T00:00:00",
          "2021-05-11T00:00:00",
          "2021-05-12T00:00:00",
          "2021-05-13T00:00:00",
          "2021-05-14T00:00:00",
          "2021-05-17T00:00:00",
          "2021-05-18T00:00:00",
          "2021-05-20T00:00:00",
          "2021-05-21T00:00:00",
          "2021-05-24T00:00:00",
          "2021-05-25T00:00:00",
          "2021-05-26T00:00:00",
          "2021-05-27T00:00:00",
          "2021-05-28T00:00:00",
          "2021-05-31T00:00:00",
          "2021-06-01T00:00:00",
          "2021-06-02T00:00:00",
          "2021-06-03T00:00:00",
          "2021-06-04T00:00:00",
          "2021-06-07T00:00:00",
          "2021-06-08T00:00:00",
          "2021-06-09T00:00:00",
          "2021-06-10T00:00:00",
          "2021-06-11T00:00:00",
          "2021-06-14T00:00:00",
          "2021-06-15T00:00:00",
          "2021-06-16T00:00:00",
          "2021-06-17T00:00:00",
          "2021-06-18T00:00:00",
          "2021-06-21T00:00:00",
          "2021-06-22T00:00:00",
          "2021-06-23T00:00:00",
          "2021-06-24T00:00:00",
          "2021-06-25T00:00:00",
          "2021-06-28T00:00:00",
          "2021-06-29T00:00:00",
          "2021-06-30T00:00:00",
          "2021-07-01T00:00:00",
          "2021-07-02T00:00:00",
          "2021-07-05T00:00:00",
          "2021-07-06T00:00:00",
          "2021-07-07T00:00:00",
          "2021-07-08T00:00:00",
          "2021-07-09T00:00:00",
          "2021-07-12T00:00:00",
          "2021-07-13T00:00:00",
          "2021-07-14T00:00:00",
          "2021-07-15T00:00:00",
          "2021-07-16T00:00:00",
          "2021-07-19T00:00:00",
          "2021-07-20T00:00:00",
          "2021-07-21T00:00:00",
          "2021-07-22T00:00:00",
          "2021-07-23T00:00:00",
          "2021-07-26T00:00:00",
          "2021-07-27T00:00:00",
          "2021-07-28T00:00:00",
          "2021-07-29T00:00:00",
          "2021-07-30T00:00:00",
          "2021-08-02T00:00:00",
          "2021-08-03T00:00:00",
          "2021-08-04T00:00:00",
          "2021-08-05T00:00:00",
          "2021-08-06T00:00:00",
          "2021-08-09T00:00:00",
          "2021-08-10T00:00:00",
          "2021-08-11T00:00:00",
          "2021-08-12T00:00:00",
          "2021-08-13T00:00:00",
          "2021-08-17T00:00:00",
          "2021-08-18T00:00:00",
          "2021-08-19T00:00:00",
          "2021-08-20T00:00:00",
          "2021-08-23T00:00:00",
          "2021-08-24T00:00:00",
          "2021-08-25T00:00:00",
          "2021-08-26T00:00:00",
          "2021-08-27T00:00:00",
          "2021-08-30T00:00:00",
          "2021-08-31T00:00:00",
          "2021-09-01T00:00:00",
          "2021-09-02T00:00:00",
          "2021-09-03T00:00:00",
          "2021-09-06T00:00:00",
          "2021-09-07T00:00:00",
          "2021-09-08T00:00:00",
          "2021-09-09T00:00:00",
          "2021-09-10T00:00:00",
          "2021-09-13T00:00:00",
          "2021-09-14T00:00:00",
          "2021-09-15T00:00:00",
          "2021-09-16T00:00:00",
          "2021-09-17T00:00:00",
          "2021-09-23T00:00:00",
          "2021-09-24T00:00:00",
          "2021-09-27T00:00:00",
          "2021-09-28T00:00:00",
          "2021-09-29T00:00:00",
          "2021-09-30T00:00:00",
          "2021-10-01T00:00:00",
          "2021-10-05T00:00:00",
          "2021-10-06T00:00:00",
          "2021-10-07T00:00:00",
          "2021-10-08T00:00:00",
          "2021-10-12T00:00:00",
          "2021-10-13T00:00:00",
          "2021-10-14T00:00:00",
          "2021-10-15T00:00:00",
          "2021-10-18T00:00:00",
          "2021-10-19T00:00:00",
          "2021-10-20T00:00:00",
          "2021-10-21T00:00:00",
          "2021-10-22T00:00:00",
          "2021-10-25T00:00:00",
          "2021-10-26T00:00:00",
          "2021-10-27T00:00:00",
          "2021-10-28T00:00:00",
          "2021-10-29T00:00:00",
          "2021-11-01T00:00:00",
          "2021-11-02T00:00:00",
          "2021-11-03T00:00:00",
          "2021-11-04T00:00:00",
          "2021-11-05T00:00:00",
          "2021-11-08T00:00:00",
          "2021-11-09T00:00:00",
          "2021-11-10T00:00:00",
          "2021-11-11T00:00:00",
          "2021-11-12T00:00:00",
          "2021-11-15T00:00:00",
          "2021-11-16T00:00:00",
          "2021-11-17T00:00:00",
          "2021-11-18T00:00:00",
          "2021-11-19T00:00:00",
          "2021-11-22T00:00:00",
          "2021-11-23T00:00:00",
          "2021-11-24T00:00:00",
          "2021-11-25T00:00:00",
          "2021-11-26T00:00:00",
          "2021-11-29T00:00:00",
          "2021-11-30T00:00:00",
          "2021-12-01T00:00:00",
          "2021-12-02T00:00:00",
          "2021-12-03T00:00:00",
          "2021-12-06T00:00:00",
          "2021-12-07T00:00:00",
          "2021-12-08T00:00:00",
          "2021-12-09T00:00:00",
          "2021-12-10T00:00:00",
          "2021-12-13T00:00:00",
          "2021-12-14T00:00:00",
          "2021-12-15T00:00:00",
          "2021-12-16T00:00:00",
          "2021-12-17T00:00:00",
          "2021-12-20T00:00:00",
          "2021-12-21T00:00:00",
          "2021-12-22T00:00:00",
          "2021-12-23T00:00:00",
          "2021-12-24T00:00:00",
          "2021-12-27T00:00:00",
          "2021-12-28T00:00:00",
          "2021-12-29T00:00:00",
          "2021-12-30T00:00:00",
          "2022-01-03T00:00:00",
          "2022-01-04T00:00:00",
          "2022-01-05T00:00:00",
          "2022-01-06T00:00:00",
          "2022-01-07T00:00:00",
          "2022-01-10T00:00:00",
          "2022-01-11T00:00:00",
          "2022-01-12T00:00:00",
          "2022-01-13T00:00:00",
          "2022-01-14T00:00:00",
          "2022-01-17T00:00:00",
          "2022-01-18T00:00:00",
          "2022-01-19T00:00:00",
          "2022-01-20T00:00:00",
          "2022-01-21T00:00:00",
          "2022-01-24T00:00:00",
          "2022-01-25T00:00:00",
          "2022-01-26T00:00:00",
          "2022-01-27T00:00:00",
          "2022-01-28T00:00:00",
          "2022-02-03T00:00:00",
          "2022-02-04T00:00:00",
          "2022-02-07T00:00:00",
          "2022-02-08T00:00:00",
          "2022-02-09T00:00:00",
          "2022-02-10T00:00:00",
          "2022-02-11T00:00:00",
          "2022-02-14T00:00:00",
          "2022-02-15T00:00:00",
          "2022-02-16T00:00:00",
          "2022-02-17T00:00:00",
          "2022-02-18T00:00:00",
          "2022-02-21T00:00:00",
          "2022-02-22T00:00:00",
          "2022-02-23T00:00:00",
          "2022-02-24T00:00:00",
          "2022-02-25T00:00:00",
          "2022-02-28T00:00:00",
          "2022-03-02T00:00:00",
          "2022-03-03T00:00:00",
          "2022-03-04T00:00:00",
          "2022-03-07T00:00:00",
          "2022-03-08T00:00:00",
          "2022-03-10T00:00:00",
          "2022-03-11T00:00:00",
          "2022-03-14T00:00:00",
          "2022-03-15T00:00:00",
          "2022-03-16T00:00:00",
          "2022-03-17T00:00:00",
          "2022-03-18T00:00:00",
          "2022-03-21T00:00:00",
          "2022-03-22T00:00:00",
          "2022-03-23T00:00:00",
          "2022-03-24T00:00:00",
          "2022-03-25T00:00:00",
          "2022-03-28T00:00:00",
          "2022-03-29T00:00:00",
          "2022-03-30T00:00:00",
          "2022-03-31T00:00:00",
          "2022-04-01T00:00:00",
          "2022-04-04T00:00:00",
          "2022-04-05T00:00:00",
          "2022-04-06T00:00:00",
          "2022-04-07T00:00:00",
          "2022-04-08T00:00:00",
          "2022-04-11T00:00:00",
          "2022-04-12T00:00:00",
          "2022-04-13T00:00:00",
          "2022-04-14T00:00:00",
          "2022-04-15T00:00:00",
          "2022-04-18T00:00:00",
          "2022-04-19T00:00:00",
          "2022-04-20T00:00:00",
          "2022-04-21T00:00:00",
          "2022-04-22T00:00:00",
          "2022-04-25T00:00:00",
          "2022-04-26T00:00:00",
          "2022-04-27T00:00:00",
          "2022-04-28T00:00:00",
          "2022-04-29T00:00:00",
          "2022-05-02T00:00:00",
          "2022-05-03T00:00:00",
          "2022-05-04T00:00:00",
          "2022-05-06T00:00:00",
          "2022-05-09T00:00:00",
          "2022-05-10T00:00:00",
          "2022-05-11T00:00:00",
          "2022-05-12T00:00:00",
          "2022-05-13T00:00:00",
          "2022-05-16T00:00:00",
          "2022-05-17T00:00:00",
          "2022-05-18T00:00:00",
          "2022-05-19T00:00:00",
          "2022-05-20T00:00:00",
          "2022-05-23T00:00:00",
          "2022-05-24T00:00:00",
          "2022-05-25T00:00:00",
          "2022-05-26T00:00:00",
          "2022-05-27T00:00:00",
          "2022-05-30T00:00:00",
          "2022-05-31T00:00:00",
          "2022-06-02T00:00:00",
          "2022-06-03T00:00:00",
          "2022-06-07T00:00:00",
          "2022-06-08T00:00:00",
          "2022-06-09T00:00:00",
          "2022-06-10T00:00:00",
          "2022-06-13T00:00:00",
          "2022-06-14T00:00:00",
          "2022-06-15T00:00:00",
          "2022-06-16T00:00:00",
          "2022-06-17T00:00:00",
          "2022-06-20T00:00:00",
          "2022-06-21T00:00:00",
          "2022-06-22T00:00:00",
          "2022-06-23T00:00:00",
          "2022-06-24T00:00:00",
          "2022-06-27T00:00:00",
          "2022-06-28T00:00:00",
          "2022-06-29T00:00:00",
          "2022-06-30T00:00:00",
          "2022-07-01T00:00:00",
          "2022-07-04T00:00:00",
          "2022-07-05T00:00:00",
          "2022-07-06T00:00:00",
          "2022-07-07T00:00:00",
          "2022-07-08T00:00:00",
          "2022-07-11T00:00:00",
          "2022-07-12T00:00:00",
          "2022-07-13T00:00:00",
          "2022-07-14T00:00:00",
          "2022-07-15T00:00:00",
          "2022-07-18T00:00:00",
          "2022-07-19T00:00:00",
          "2022-07-20T00:00:00",
          "2022-07-21T00:00:00",
          "2022-07-22T00:00:00",
          "2022-07-25T00:00:00",
          "2022-07-26T00:00:00",
          "2022-07-27T00:00:00",
          "2022-07-28T00:00:00",
          "2022-07-29T00:00:00",
          "2022-08-01T00:00:00",
          "2022-08-02T00:00:00",
          "2022-08-03T00:00:00",
          "2022-08-04T00:00:00",
          "2022-08-05T00:00:00",
          "2022-08-08T00:00:00",
          "2022-08-09T00:00:00",
          "2022-08-10T00:00:00",
          "2022-08-11T00:00:00",
          "2022-08-12T00:00:00",
          "2022-08-16T00:00:00",
          "2022-08-17T00:00:00",
          "2022-08-18T00:00:00",
          "2022-08-19T00:00:00",
          "2022-08-22T00:00:00",
          "2022-08-23T00:00:00",
          "2022-08-24T00:00:00",
          "2022-08-25T00:00:00",
          "2022-08-26T00:00:00",
          "2022-08-29T00:00:00",
          "2022-08-30T00:00:00",
          "2022-08-31T00:00:00",
          "2022-09-01T00:00:00",
          "2022-09-02T00:00:00",
          "2022-09-05T00:00:00",
          "2022-09-06T00:00:00",
          "2022-09-07T00:00:00",
          "2022-09-08T00:00:00",
          "2022-09-13T00:00:00",
          "2022-09-14T00:00:00",
          "2022-09-15T00:00:00",
          "2022-09-16T00:00:00",
          "2022-09-19T00:00:00",
          "2022-09-20T00:00:00",
          "2022-09-21T00:00:00",
          "2022-09-22T00:00:00",
          "2022-09-23T00:00:00",
          "2022-09-26T00:00:00",
          "2022-09-27T00:00:00",
          "2022-09-28T00:00:00",
          "2022-09-29T00:00:00",
          "2022-09-30T00:00:00",
          "2022-10-04T00:00:00",
          "2022-10-05T00:00:00",
          "2022-10-06T00:00:00",
          "2022-10-07T00:00:00",
          "2022-10-11T00:00:00",
          "2022-10-12T00:00:00",
          "2022-10-13T00:00:00",
          "2022-10-14T00:00:00",
          "2022-10-17T00:00:00",
          "2022-10-18T00:00:00",
          "2022-10-19T00:00:00",
          "2022-10-20T00:00:00"
         ],
         "xaxis": "x",
         "xhoverformat": "%Y/%m/%d",
         "y": [
          910.82,
          927.31,
          942.49,
          938.35,
          931.5,
          933.87,
          918.83,
          923.47,
          917.99,
          927.78,
          902.5,
          898.34,
          886.11,
          889.52,
          882.79,
          875.8,
          880.81,
          891.33,
          905.23,
          888.75,
          890.91,
          881.26,
          892.22,
          891.93,
          889.48,
          896.21,
          905.43,
          908.75,
          912.52,
          887.02,
          904.21,
          907.78,
          909.39,
          898.83,
          900.96,
          897.23,
          891.79,
          914.54,
          926.75,
          938.14,
          937.14,
          938.68,
          948.71,
          948.16,
          951.64,
          959.32,
          938.81,
          936.86,
          941.63,
          944.6,
          940.01,
          954.19,
          984.06,
          992.19,
          991.51,
          1000.78,
          1008.49,
          1003.02,
          984.93,
          991.27,
          982.51,
          1004.72,
          985.33,
          1014.49,
          1001.36,
          988.89,
          990.33,
          993.56,
          997.52,
          999.03,
          987.29,
          991.69,
          1006.95,
          961.62,
          942.1,
          936.55,
          918.57,
          949.49,
          950.15,
          949.14,
          974.26,
          969.04,
          960.43,
          961.44,
          974.09,
          969.94,
          963.45,
          957.45,
          944.73,
          924.94,
          918.15,
          904.37,
          911.85,
          912.35,
          941.83,
          918.83,
          905.72,
          907.18,
          918.62,
          923.87,
          922.15,
          923.2,
          938.52,
          905,
          898.59,
          907.62,
          881.45,
          890.09,
          890.17,
          873.78,
          845.99,
          843.57,
          848.13,
          851.07,
          845.73,
          864.13,
          862.05,
          870.67,
          885.17,
          883.29,
          879.29,
          885.58,
          893.8,
          891,
          916.51,
          928.21,
          916.51,
          919.67,
          921.32,
          929.79,
          923.78,
          913.99,
          901.73,
          896.54,
          897.57,
          903.71,
          905.51,
          908.79,
          899.97,
          909.09,
          902.27,
          889.16,
          895.04,
          885.14,
          885.99,
          877.7,
          872.41,
          869.12,
          840.19,
          835.65,
          841.51,
          871.62,
          877.7,
          899.02,
          900.28,
          909.49,
          909.06,
          893.26,
          875.17,
          884.8,
          873.53,
          883.2,
          849.17,
          854.51,
          865.09,
          867.21,
          859.24,
          837.69,
          848.63,
          844.01,
          835.93,
          834.55,
          838.09,
          859.98,
          875.33,
          865.18,
          864.03,
          850.21,
          877.84,
          864.09,
          871.7,
          862.46,
          850.43,
          852.75,
          862.99,
          858.88,
          870.88,
          859.8,
          866.6,
          865.42,
          864.18,
          868.56,
          850.03,
          854.19,
          853.94,
          845.49,
          857.37,
          846.45,
          841.94,
          831.52,
          837.66,
          833.21,
          837.12,
          839.37,
          840.83,
          832.77,
          825.62,
          832.16,
          843.2,
          849.63,
          851.6,
          836.36,
          839.43,
          836.01,
          836.23,
          821.09,
          816.58,
          822.41,
          824.85,
          826.54,
          832.04,
          844.29,
          834.92,
          828.72,
          819.93,
          819.25,
          836.35,
          852.35,
          856.9,
          868.69,
          880,
          873.88,
          888.2,
          886.08,
          885.05,
          882.15,
          838.75,
          834.21,
          836.76,
          833.15,
          842.88,
          832.65,
          830.88,
          849.42,
          829.14,
          845.27,
          825.28,
          821.93,
          824.08,
          788.68,
          789.61,
          786.89,
          804.57,
          795.01,
          798.05,
          793.29,
          799.87,
          796.63,
          800.34,
          797.7,
          794.38,
          794.03,
          795.01,
          791.03,
          793.91,
          792.88,
          794.7,
          792.08,
          794.81,
          800.6,
          790.98,
          796.63,
          779.08,
          779.4,
          783.31,
          782.15,
          777.79,
          774.07,
          758.29,
          756.09,
          765.22,
          769.56,
          776.82,
          779.62,
          790.72,
          787.13,
          791.31,
          797.38,
          793.92,
          780.72,
          750.94,
          757.7,
          747.13,
          747.97,
          739.54,
          727.97,
          729.41,
          740.25,
          730.93,
          732.99,
          725.88,
          747.71,
          760.08,
          765.28,
          758.45,
          754.47,
          752.13,
          751.22,
          762.72,
          766.01,
          763.87,
          766.03,
          772.21,
          787.26,
          791.72,
          792.38,
          790.28,
          780.16,
          773.01,
          787.31,
          797.77,
          787.96,
          790.53,
          782.56,
          780.26,
          778.46,
          776.71,
          779.64,
          768.56,
          766.42,
          767.35,
          752.1,
          750.67,
          751.7,
          748.03,
          734.83,
          746.12,
          752.57,
          750.42,
          755.2,
          770.37,
          771.77,
          769.42,
          767.61,
          755.61,
          745.64,
          730.85,
          724.83,
          727.75,
          721.19,
          728.91,
          754.62,
          771.21,
          777.23,
          779.86,
          779.43,
          776.85,
          774.16,
          777.46,
          776.64,
          777.72,
          778.8,
          778.97,
          776.69,
          767.67,
          763.34,
          759.29,
          766.15,
          754.21,
          760.61,
          750.43,
          764.05,
          756.98,
          769.29,
          763.83,
          768.14,
          768.28,
          755.44,
          757.29,
          752.73,
          749.24,
          757.23,
          756.14,
          753.32,
          758.29,
          764.69,
          765.73,
          764.17,
          773.08,
          768.05,
          771.53,
          756.34,
          757.75,
          745.65,
          754.61,
          762.31,
          753.72,
          754.3,
          761.77,
          761.26,
          764.78,
          758.86,
          759,
          760.86,
          765.13,
          772.37,
          763.24,
          758.66,
          760.14,
          758.98,
          762.96,
          766.5,
          765.32,
          769.27,
          766.42,
          752.89,
          756.07,
          753.19,
          740.89,
          737.17,
          737.38,
          741.96,
          747.38,
          749.42,
          753.66,
          753.07,
          748.65,
          755.91,
          753.39,
          765.35,
          759.07,
          744.45,
          734.67,
          728.18,
          723.89,
          721.66,
          725.47,
          700.34,
          695.85,
          687.62,
          679.57,
          674.64,
          675.74,
          670.11,
          658.34,
          656.48,
          651.58,
          664.4,
          662.19,
          660.86,
          661.94,
          659.65,
          653.49,
          646.99,
          650.39,
          653.13,
          670.92,
          670.79,
          669.99,
          678.3,
          676.08,
          684.32,
          689.97,
          705.53,
          715.49,
          727.54,
          723.48,
          716.9,
          712.91,
          730.31,
          725.06,
          722.45,
          716.76,
          723.71,
          701.48,
          709.77,
          707.89,
          694.04,
          688.06,
          685.61,
          685.85,
          667.84,
          681.67,
          700.33,
          698.92,
          701.08,
          706.66,
          702.68,
          709.33,
          722.01,
          715.53,
          720.78,
          711.45,
          697.73,
          700.91,
          690.01,
          685.09,
          688.55,
          699.69,
          709.45,
          705.63,
          709.45,
          714.71,
          710.44,
          716.42,
          707.75,
          708.25,
          716.3,
          715.22,
          718.7,
          725.09,
          712.46,
          718.2,
          719.9,
          720.48,
          720.6,
          720.37,
          710.66,
          713.01,
          708.17,
          707.42,
          711.35,
          714.2,
          724.06,
          723.63,
          723.04,
          735.63,
          757.83,
          742.51,
          737.55,
          750.92,
          753.16,
          751.34,
          758.65,
          752.93,
          757.56,
          731.02,
          723.56,
          708.33,
          711.43,
          699.02,
          704.2,
          688.69,
          689.76,
          685.67,
          687.18,
          695.3,
          695.85,
          694.62,
          693.03,
          697.72,
          693.27,
          692.76,
          690.01,
          664.1,
          661.78,
          659.96,
          652.89,
          652.16,
          650.87,
          659.7,
          673.21,
          662.89,
          649.84,
          654.53,
          661.47,
          650.26,
          645.94,
          639.57,
          632.97,
          631.94,
          629.09,
          620.51,
          593.16,
          600.49,
          598.43,
          601.05,
          587.11,
          579.46,
          574.66,
          584.9,
          578.19,
          564.18,
          529.9,
          526.98,
          527.87,
          497.86,
          476.98,
          464,
          433.06,
          420.3,
          382.02,
          428.73,
          386.6,
          409.6,
          451.5,
          456.22,
          482.55,
          471.92,
          480.32,
          452.09,
          457.74,
          452.68,
          472.96,
          482.51,
          471.08,
          476.15,
          495.97,
          486.45,
          495.87,
          481.72,
          490.3,
          485.02,
          475.36,
          473.32,
          471.45,
          465.81,
          511.9,
          516.4,
          523.3,
          501.87,
          501.48,
          502.68,
          505.07,
          496.75,
          484.92,
          489.21,
          477.39,
          486.18,
          479.55,
          501,
          497.16,
          495.35,
          484.45,
          489.44,
          503.18,
          511.37,
          529.21,
          537.24,
          544.94,
          572.84,
          609.76,
          592.09,
          598.71,
          596.98,
          592.17,
          577.08,
          560.07,
          540.47,
          516.79,
          554.77,
          544.45,
          543.17,
          543.51,
          531.8,
          527.92,
          533.94,
          517.45,
          526.76,
          513.71,
          515.88,
          523.61,
          525.02,
          527.06,
          534.61,
          529.45,
          524.2,
          519.6,
          506.26,
          523.57,
          521.26,
          530.72,
          535.19,
          531.67,
          547.07,
          546.92,
          540.45,
          536.95,
          535.5,
          535.24,
          535.8,
          543.49,
          543.82,
          532.36,
          529.88,
          534.14,
          531.32,
          542.15,
          537.41,
          551.89,
          572.83,
          587.2,
          590.81,
          574.48,
          550.79,
          550.01,
          528.79,
          535.67,
          537.74,
          550.71,
          544.2,
          536.06,
          542.37,
          529.43,
          536.21,
          538.95,
          535.87,
          530.63,
          533.84,
          532.44,
          526.46,
          528.44,
          527.83,
          536.85,
          536.77,
          534.26,
          532.03,
          528.73,
          527.01,
          519.47,
          519.51,
          513.21,
          519.77,
          524.05,
          526.39,
          540.54,
          539.36,
          546.12,
          547.69,
          553.4,
          549.2,
          538.05,
          540.11,
          540.37,
          555.21,
          556.79,
          566.72,
          579.84,
          595.56,
          590.26,
          572.97,
          584.37,
          576.74,
          564.18,
          590.78,
          599.05,
          587.02,
          597.76,
          599.54,
          604.27,
          626.91,
          649.16,
          638.25,
          626.2,
          642.29,
          646.88,
          645.31,
          639.64,
          639.01,
          647.09,
          646.66,
          658.09,
          658.12,
          651.23,
          622.4,
          636.82,
          648.92,
          649.52,
          653.43,
          645.51,
          635.42,
          640.57,
          644.27,
          655.3,
          649.39,
          645.63,
          647.25,
          641.5,
          637.29,
          640.21,
          634.3,
          629.32,
          641.89,
          643.9,
          612.29,
          614.12,
          599.98,
          610.15,
          614.62,
          640.39,
          645.82,
          637,
          646.12,
          663.63,
          657.94,
          643.1,
          636.51,
          641.21,
          634.44,
          632.26,
          621.8,
          621.47,
          608.6,
          606.01,
          594.15,
          572.37,
          596.24,
          597.7,
          599.1,
          591.84,
          615.59,
          628.96,
          623.1,
          631.01,
          631.24,
          631.13,
          634.41,
          620.06,
          625.67,
          620.84,
          625.26,
          627.06,
          641.45,
          626.73,
          635.61,
          647.76,
          651.11,
          652.29,
          679.18,
          696.23,
          689.48,
          691.58,
          688.51,
          694.23,
          696.33,
          692.77,
          693.88,
          699.37,
          701.01,
          695.37,
          687.65,
          695.44,
          701.23,
          708.19,
          713.3,
          725.34,
          711.94,
          703.36,
          711.35,
          705.35,
          722.37,
          715.42,
          708.73,
          715.28,
          712.27,
          710.13,
          716.45,
          704.37,
          703.34,
          716.27,
          705.78,
          717.54,
          725.82,
          733.61,
          743.56,
          751.65,
          747.71,
          759.75,
          742.99,
          739.82,
          782.47,
          787.86,
          803.37,
          806.7,
          786.85,
          798.13,
          790.16,
          792.49,
          803.48,
          791.86,
          770.6,
          781.63,
          790.57,
          785.86,
          773.18,
          789.71,
          800.59,
          802.51,
          805.82,
          804.65,
          804.93,
          809.17,
          807.33,
          794.88,
          792.61,
          790.19,
          777.17,
          778.54,
          797.99,
          794.78,
          784.14,
          764.88,
          777.83,
          770.54,
          782.72,
          801.38,
          803.81,
          787.84,
          782.33,
          772.36,
          775.06,
          770.21,
          770.08,
          756.99,
          752.41,
          732.7,
          746.29,
          754.68,
          744.56,
          749.51,
          752.81,
          740.44,
          732.18,
          731.77,
          752.84,
          749.05,
          742.15,
          748.24,
          758.78,
          760.34,
          746.69,
          739.36,
          743.74,
          757.35,
          748.18,
          749.41,
          757.83,
          754.36,
          765.61,
          766.48,
          759.47,
          757.04,
          757.46,
          733.19,
          720.96,
          729.35,
          751.35,
          761.4,
          767.34,
          773.09,
          750.95,
          762.21,
          766.88,
          762.19,
          761.33,
          752.78,
          746.45,
          754.69,
          746.47,
          740.08,
          738.11,
          755.83,
          753.99,
          747,
          746.58,
          742.57,
          757.84,
          759.3,
          774.48,
          772.92,
          782,
          770.37,
          757.22,
          750.64,
          765.28,
          751.06,
          744.27,
          744.44,
          750.2,
          760.72,
          765.4,
          769.01,
          777.96,
          786.87,
          787.15,
          800.4,
          806.21,
          797.11,
          788.29,
          778.95,
          782.82,
          784.29,
          764.09,
          771.16,
          755.84,
          754.88,
          758.12,
          758.27,
          755.18,
          765.66,
          768.74,
          775.64,
          763.54,
          763.56,
          764.97,
          763.98,
          769.36,
          777.69,
          775.07,
          759.9,
          752.92,
          723.29,
          731.14,
          742.84,
          765.4,
          764.95,
          773.67,
          774.41,
          771.03,
          767.7,
          768.32,
          768.12,
          768.52,
          769.81,
          787.04,
          771.7,
          773.87,
          772.83,
          773,
          772.27,
          764.89,
          768.62,
          747.51,
          739.81,
          744.13,
          748.76,
          747.94,
          744.08,
          746.39,
          764.54,
          778.44,
          788.91,
          790.25,
          782.38,
          768.33,
          768.34,
          775.05,
          758.16,
          765.78,
          746.21,
          725.07,
          741.47,
          733.62,
          747.34,
          749.24,
          770.03,
          771.64,
          774.03,
          799.99,
          801.3,
          809.69,
          798.17,
          794.4,
          806.63,
          822.43,
          816.52,
          808.86,
          799.55,
          795.58,
          780.96,
          769.83,
          775.45,
          750.26,
          763.38,
          755.87,
          732.02,
          720.94,
          738.32,
          745.26,
          751.56,
          764.39,
          765.36,
          772.52,
          773.4,
          765.92,
          778.17,
          797.6,
          799.4,
          796.54,
          801.04,
          800.76,
          795.12,
          803.99,
          800.69,
          802.1,
          782.05,
          785.15,
          773.23,
          772.2,
          784.06,
          782.37,
          783.31,
          784.67,
          777.96,
          776.05,
          787.02,
          790.67,
          795.81,
          804.23,
          788.78,
          785.65,
          767.56,
          782.99,
          773.44,
          768.67,
          770.42,
          782.67,
          777.04,
          777.94,
          759.99,
          745.17,
          748.96,
          767.16,
          771.1,
          771.96,
          762.69,
          742.85,
          760.92,
          764.28,
          770.22,
          774.76,
          776.23,
          785.08,
          789.04,
          788.03,
          768.15,
          771.06,
          762.85,
          762.66,
          764.88,
          748.67,
          715.84,
          722.67,
          715.13,
          711.31,
          700.03,
          689.68,
          690.29,
          662.43,
          651.63,
          666.75,
          660.33,
          663.16,
          638.79,
          631.1,
          630.38,
          618.86,
          629.08,
          610.7,
          611.17,
          618.43,
          613.98,
          602.68,
          603.31,
          594.93,
          579.55,
          603.62,
          603.54,
          619.41,
          627.41,
          618.25,
          617.19,
          612.64,
          612.23,
          614.72,
          622.35,
          616.39,
          612.8,
          618.25,
          625.94,
          634.2,
          639.96,
          647.46,
          637.1,
          654.43,
          652.56,
          646.89,
          649.08,
          635.34,
          628.62,
          618.26,
          612.9,
          625.41,
          628.52,
          626.55,
          610.91,
          617.09,
          621.71,
          596.62,
          592.87,
          596.94,
          595.77,
          582.16,
          589.79,
          615.6,
          606.18,
          606.9,
          608.76,
          605.66,
          612.11,
          604.39,
          600.29,
          606.01,
          576.12,
          562.48,
          559.67,
          555.47,
          543.88,
          560.15,
          568.72,
          564.2,
          564.83,
          550.61,
          554.75,
          551.17,
          570.08,
          565.43,
          578.07,
          582.69,
          574.32
         ],
         "yaxis": "y"
        },
        {
         "name": "RIGHT",
         "type": "scatter",
         "x": [
          "2017-10-31T00:00:00",
          "2017-11-30T00:00:00",
          "2017-12-31T00:00:00",
          "2018-01-31T00:00:00",
          "2018-02-28T00:00:00",
          "2018-03-31T00:00:00",
          "2018-04-30T00:00:00",
          "2018-05-31T00:00:00",
          "2018-06-30T00:00:00",
          "2018-07-31T00:00:00",
          "2018-08-31T00:00:00",
          "2018-09-30T00:00:00",
          "2018-10-31T00:00:00",
          "2018-11-30T00:00:00",
          "2018-12-31T00:00:00",
          "2019-01-31T00:00:00",
          "2019-02-28T00:00:00",
          "2019-03-31T00:00:00",
          "2019-04-30T00:00:00",
          "2019-05-31T00:00:00",
          "2019-06-30T00:00:00",
          "2019-07-31T00:00:00",
          "2019-08-31T00:00:00",
          "2019-09-30T00:00:00",
          "2019-10-31T00:00:00",
          "2019-11-30T00:00:00",
          "2019-12-31T00:00:00",
          "2020-01-31T00:00:00",
          "2020-02-29T00:00:00",
          "2020-03-31T00:00:00",
          "2020-04-30T00:00:00",
          "2020-05-31T00:00:00",
          "2020-06-30T00:00:00",
          "2020-07-31T00:00:00",
          "2020-08-31T00:00:00",
          "2020-09-30T00:00:00",
          "2020-10-31T00:00:00",
          "2020-11-30T00:00:00",
          "2020-12-31T00:00:00",
          "2021-01-31T00:00:00",
          "2021-02-28T00:00:00",
          "2021-03-31T00:00:00",
          "2021-04-30T00:00:00",
          "2021-05-31T00:00:00",
          "2021-06-30T00:00:00",
          "2021-07-31T00:00:00",
          "2021-08-31T00:00:00",
          "2021-09-30T00:00:00",
          "2021-10-31T00:00:00",
          "2021-11-30T00:00:00",
          "2021-12-31T00:00:00",
          "2022-01-31T00:00:00",
          "2022-02-28T00:00:00",
          "2022-03-31T00:00:00",
          "2022-04-30T00:00:00",
          "2022-05-31T00:00:00",
          "2022-06-30T00:00:00",
          "2022-07-31T00:00:00",
          "2022-08-31T00:00:00"
         ],
         "xaxis": "x",
         "xhoverformat": "%Y/%m/%d",
         "y": [
          2.2800000000000002,
          2.2800000000000002,
          2.29,
          2.32,
          2.33,
          2.34,
          2.33,
          2.33,
          2.33,
          2.32,
          2.31,
          2.31,
          2.3000000000000003,
          2.2800000000000002,
          2.2800000000000002,
          2.27,
          2.2700000000000005,
          2.2800000000000002,
          2.2600000000000002,
          2.25,
          2.24,
          2.2,
          2.17,
          2.1499999999999995,
          2.12,
          2.12,
          2.15,
          2.15,
          2.16,
          2.1399999999999997,
          2.13,
          2.1100000000000003,
          2.09,
          2.08,
          2.06,
          2.04,
          2.0300000000000002,
          2.05,
          2.08,
          2.09,
          2.13,
          2.15,
          2.15,
          2.15,
          2.14,
          2.14,
          2.14,
          2.16,
          2.18,
          2.2,
          2.2,
          2.23,
          2.25,
          2.29,
          2.32,
          2.33,
          2.3499999999999996,
          2.3200000000000003,
          2.34
         ],
         "yaxis": "y2"
        },
        {
         "name": "Rolling",
         "type": "scatter",
         "x": [
          -4,
          -3,
          -2,
          -1,
          0,
          1,
          2,
          3,
          4
         ],
         "xaxis": "x2",
         "y": [
          0.7136358462288082,
          0.7745238277217174,
          0.8111834293963844,
          0.762175187947009,
          0.6459166523387765,
          0.5634869488913223,
          0.4979120980208267,
          0.3984487164626235,
          0.2847373567112634
         ],
         "yaxis": "y3"
        }
       ],
       "layout": {
        "height": 700,
        "template": {
         "data": {
          "bar": [
           {
            "error_x": {
             "color": "#2a3f5f"
            },
            "error_y": {
             "color": "#2a3f5f"
            },
            "marker": {
             "line": {
              "color": "#E5ECF6",
              "width": 0.5
             },
             "pattern": {
              "fillmode": "overlay",
              "size": 10,
              "solidity": 0.2
             }
            },
            "type": "bar"
           }
          ],
          "barpolar": [
           {
            "marker": {
             "line": {
              "color": "#E5ECF6",
              "width": 0.5
             },
             "pattern": {
              "fillmode": "overlay",
              "size": 10,
              "solidity": 0.2
             }
            },
            "type": "barpolar"
           }
          ],
          "carpet": [
           {
            "aaxis": {
             "endlinecolor": "#2a3f5f",
             "gridcolor": "white",
             "linecolor": "white",
             "minorgridcolor": "white",
             "startlinecolor": "#2a3f5f"
            },
            "baxis": {
             "endlinecolor": "#2a3f5f",
             "gridcolor": "white",
             "linecolor": "white",
             "minorgridcolor": "white",
             "startlinecolor": "#2a3f5f"
            },
            "type": "carpet"
           }
          ],
          "choropleth": [
           {
            "colorbar": {
             "outlinewidth": 0,
             "ticks": ""
            },
            "type": "choropleth"
           }
          ],
          "contour": [
           {
            "colorbar": {
             "outlinewidth": 0,
             "ticks": ""
            },
            "colorscale": [
             [
              0,
              "#0d0887"
             ],
             [
              0.1111111111111111,
              "#46039f"
             ],
             [
              0.2222222222222222,
              "#7201a8"
             ],
             [
              0.3333333333333333,
              "#9c179e"
             ],
             [
              0.4444444444444444,
              "#bd3786"
             ],
             [
              0.5555555555555556,
              "#d8576b"
             ],
             [
              0.6666666666666666,
              "#ed7953"
             ],
             [
              0.7777777777777778,
              "#fb9f3a"
             ],
             [
              0.8888888888888888,
              "#fdca26"
             ],
             [
              1,
              "#f0f921"
             ]
            ],
            "type": "contour"
           }
          ],
          "contourcarpet": [
           {
            "colorbar": {
             "outlinewidth": 0,
             "ticks": ""
            },
            "type": "contourcarpet"
           }
          ],
          "heatmap": [
           {
            "colorbar": {
             "outlinewidth": 0,
             "ticks": ""
            },
            "colorscale": [
             [
              0,
              "#0d0887"
             ],
             [
              0.1111111111111111,
              "#46039f"
             ],
             [
              0.2222222222222222,
              "#7201a8"
             ],
             [
              0.3333333333333333,
              "#9c179e"
             ],
             [
              0.4444444444444444,
              "#bd3786"
             ],
             [
              0.5555555555555556,
              "#d8576b"
             ],
             [
              0.6666666666666666,
              "#ed7953"
             ],
             [
              0.7777777777777778,
              "#fb9f3a"
             ],
             [
              0.8888888888888888,
              "#fdca26"
             ],
             [
              1,
              "#f0f921"
             ]
            ],
            "type": "heatmap"
           }
          ],
          "heatmapgl": [
           {
            "colorbar": {
             "outlinewidth": 0,
             "ticks": ""
            },
            "colorscale": [
             [
              0,
              "#0d0887"
             ],
             [
              0.1111111111111111,
              "#46039f"
             ],
             [
              0.2222222222222222,
              "#7201a8"
             ],
             [
              0.3333333333333333,
              "#9c179e"
             ],
             [
              0.4444444444444444,
              "#bd3786"
             ],
             [
              0.5555555555555556,
              "#d8576b"
             ],
             [
              0.6666666666666666,
              "#ed7953"
             ],
             [
              0.7777777777777778,
              "#fb9f3a"
             ],
             [
              0.8888888888888888,
              "#fdca26"
             ],
             [
              1,
              "#f0f921"
             ]
            ],
            "type": "heatmapgl"
           }
          ],
          "histogram": [
           {
            "marker": {
             "pattern": {
              "fillmode": "overlay",
              "size": 10,
              "solidity": 0.2
             }
            },
            "type": "histogram"
           }
          ],
          "histogram2d": [
           {
            "colorbar": {
             "outlinewidth": 0,
             "ticks": ""
            },
            "colorscale": [
             [
              0,
              "#0d0887"
             ],
             [
              0.1111111111111111,
              "#46039f"
             ],
             [
              0.2222222222222222,
              "#7201a8"
             ],
             [
              0.3333333333333333,
              "#9c179e"
             ],
             [
              0.4444444444444444,
              "#bd3786"
             ],
             [
              0.5555555555555556,
              "#d8576b"
             ],
             [
              0.6666666666666666,
              "#ed7953"
             ],
             [
              0.7777777777777778,
              "#fb9f3a"
             ],
             [
              0.8888888888888888,
              "#fdca26"
             ],
             [
              1,
              "#f0f921"
             ]
            ],
            "type": "histogram2d"
           }
          ],
          "histogram2dcontour": [
           {
            "colorbar": {
             "outlinewidth": 0,
             "ticks": ""
            },
            "colorscale": [
             [
              0,
              "#0d0887"
             ],
             [
              0.1111111111111111,
              "#46039f"
             ],
             [
              0.2222222222222222,
              "#7201a8"
             ],
             [
              0.3333333333333333,
              "#9c179e"
             ],
             [
              0.4444444444444444,
              "#bd3786"
             ],
             [
              0.5555555555555556,
              "#d8576b"
             ],
             [
              0.6666666666666666,
              "#ed7953"
             ],
             [
              0.7777777777777778,
              "#fb9f3a"
             ],
             [
              0.8888888888888888,
              "#fdca26"
             ],
             [
              1,
              "#f0f921"
             ]
            ],
            "type": "histogram2dcontour"
           }
          ],
          "mesh3d": [
           {
            "colorbar": {
             "outlinewidth": 0,
             "ticks": ""
            },
            "type": "mesh3d"
           }
          ],
          "parcoords": [
           {
            "line": {
             "colorbar": {
              "outlinewidth": 0,
              "ticks": ""
             }
            },
            "type": "parcoords"
           }
          ],
          "pie": [
           {
            "automargin": true,
            "type": "pie"
           }
          ],
          "scatter": [
           {
            "fillpattern": {
             "fillmode": "overlay",
             "size": 10,
             "solidity": 0.2
            },
            "type": "scatter"
           }
          ],
          "scatter3d": [
           {
            "line": {
             "colorbar": {
              "outlinewidth": 0,
              "ticks": ""
             }
            },
            "marker": {
             "colorbar": {
              "outlinewidth": 0,
              "ticks": ""
             }
            },
            "type": "scatter3d"
           }
          ],
          "scattercarpet": [
           {
            "marker": {
             "colorbar": {
              "outlinewidth": 0,
              "ticks": ""
             }
            },
            "type": "scattercarpet"
           }
          ],
          "scattergeo": [
           {
            "marker": {
             "colorbar": {
              "outlinewidth": 0,
              "ticks": ""
             }
            },
            "type": "scattergeo"
           }
          ],
          "scattergl": [
           {
            "marker": {
             "colorbar": {
              "outlinewidth": 0,
              "ticks": ""
             }
            },
            "type": "scattergl"
           }
          ],
          "scattermapbox": [
           {
            "marker": {
             "colorbar": {
              "outlinewidth": 0,
              "ticks": ""
             }
            },
            "type": "scattermapbox"
           }
          ],
          "scatterpolar": [
           {
            "marker": {
             "colorbar": {
              "outlinewidth": 0,
              "ticks": ""
             }
            },
            "type": "scatterpolar"
           }
          ],
          "scatterpolargl": [
           {
            "marker": {
             "colorbar": {
              "outlinewidth": 0,
              "ticks": ""
             }
            },
            "type": "scatterpolargl"
           }
          ],
          "scatterternary": [
           {
            "marker": {
             "colorbar": {
              "outlinewidth": 0,
              "ticks": ""
             }
            },
            "type": "scatterternary"
           }
          ],
          "surface": [
           {
            "colorbar": {
             "outlinewidth": 0,
             "ticks": ""
            },
            "colorscale": [
             [
              0,
              "#0d0887"
             ],
             [
              0.1111111111111111,
              "#46039f"
             ],
             [
              0.2222222222222222,
              "#7201a8"
             ],
             [
              0.3333333333333333,
              "#9c179e"
             ],
             [
              0.4444444444444444,
              "#bd3786"
             ],
             [
              0.5555555555555556,
              "#d8576b"
             ],
             [
              0.6666666666666666,
              "#ed7953"
             ],
             [
              0.7777777777777778,
              "#fb9f3a"
             ],
             [
              0.8888888888888888,
              "#fdca26"
             ],
             [
              1,
              "#f0f921"
             ]
            ],
            "type": "surface"
           }
          ],
          "table": [
           {
            "cells": {
             "fill": {
              "color": "#EBF0F8"
             },
             "line": {
              "color": "white"
             }
            },
            "header": {
             "fill": {
              "color": "#C8D4E3"
             },
             "line": {
              "color": "white"
             }
            },
            "type": "table"
           }
          ]
         },
         "layout": {
          "annotationdefaults": {
           "arrowcolor": "#2a3f5f",
           "arrowhead": 0,
           "arrowwidth": 1
          },
          "autotypenumbers": "strict",
          "coloraxis": {
           "colorbar": {
            "outlinewidth": 0,
            "ticks": ""
           }
          },
          "colorscale": {
           "diverging": [
            [
             0,
             "#8e0152"
            ],
            [
             0.1,
             "#c51b7d"
            ],
            [
             0.2,
             "#de77ae"
            ],
            [
             0.3,
             "#f1b6da"
            ],
            [
             0.4,
             "#fde0ef"
            ],
            [
             0.5,
             "#f7f7f7"
            ],
            [
             0.6,
             "#e6f5d0"
            ],
            [
             0.7,
             "#b8e186"
            ],
            [
             0.8,
             "#7fbc41"
            ],
            [
             0.9,
             "#4d9221"
            ],
            [
             1,
             "#276419"
            ]
           ],
           "sequential": [
            [
             0,
             "#0d0887"
            ],
            [
             0.1111111111111111,
             "#46039f"
            ],
            [
             0.2222222222222222,
             "#7201a8"
            ],
            [
             0.3333333333333333,
             "#9c179e"
            ],
            [
             0.4444444444444444,
             "#bd3786"
            ],
            [
             0.5555555555555556,
             "#d8576b"
            ],
            [
             0.6666666666666666,
             "#ed7953"
            ],
            [
             0.7777777777777778,
             "#fb9f3a"
            ],
            [
             0.8888888888888888,
             "#fdca26"
            ],
            [
             1,
             "#f0f921"
            ]
           ],
           "sequentialminus": [
            [
             0,
             "#0d0887"
            ],
            [
             0.1111111111111111,
             "#46039f"
            ],
            [
             0.2222222222222222,
             "#7201a8"
            ],
            [
             0.3333333333333333,
             "#9c179e"
            ],
            [
             0.4444444444444444,
             "#bd3786"
            ],
            [
             0.5555555555555556,
             "#d8576b"
            ],
            [
             0.6666666666666666,
             "#ed7953"
            ],
            [
             0.7777777777777778,
             "#fb9f3a"
            ],
            [
             0.8888888888888888,
             "#fdca26"
            ],
            [
             1,
             "#f0f921"
            ]
           ]
          },
          "colorway": [
           "#636efa",
           "#EF553B",
           "#00cc96",
           "#ab63fa",
           "#FFA15A",
           "#19d3f3",
           "#FF6692",
           "#B6E880",
           "#FF97FF",
           "#FECB52"
          ],
          "font": {
           "color": "#2a3f5f"
          },
          "geo": {
           "bgcolor": "white",
           "lakecolor": "white",
           "landcolor": "#E5ECF6",
           "showlakes": true,
           "showland": true,
           "subunitcolor": "white"
          },
          "hoverlabel": {
           "align": "left"
          },
          "hovermode": "closest",
          "mapbox": {
           "style": "light"
          },
          "paper_bgcolor": "white",
          "plot_bgcolor": "#E5ECF6",
          "polar": {
           "angularaxis": {
            "gridcolor": "white",
            "linecolor": "white",
            "ticks": ""
           },
           "bgcolor": "#E5ECF6",
           "radialaxis": {
            "gridcolor": "white",
            "linecolor": "white",
            "ticks": ""
           }
          },
          "scene": {
           "xaxis": {
            "backgroundcolor": "#E5ECF6",
            "gridcolor": "white",
            "gridwidth": 2,
            "linecolor": "white",
            "showbackground": true,
            "ticks": "",
            "zerolinecolor": "white"
           },
           "yaxis": {
            "backgroundcolor": "#E5ECF6",
            "gridcolor": "white",
            "gridwidth": 2,
            "linecolor": "white",
            "showbackground": true,
            "ticks": "",
            "zerolinecolor": "white"
           },
           "zaxis": {
            "backgroundcolor": "#E5ECF6",
            "gridcolor": "white",
            "gridwidth": 2,
            "linecolor": "white",
            "showbackground": true,
            "ticks": "",
            "zerolinecolor": "white"
           }
          },
          "shapedefaults": {
           "line": {
            "color": "#2a3f5f"
           }
          },
          "ternary": {
           "aaxis": {
            "gridcolor": "white",
            "linecolor": "white",
            "ticks": ""
           },
           "baxis": {
            "gridcolor": "white",
            "linecolor": "white",
            "ticks": ""
           },
           "bgcolor": "#E5ECF6",
           "caxis": {
            "gridcolor": "white",
            "linecolor": "white",
            "ticks": ""
           }
          },
          "title": {
           "x": 0.05
          },
          "xaxis": {
           "automargin": true,
           "gridcolor": "white",
           "linecolor": "white",
           "ticks": "",
           "title": {
            "standoff": 15
           },
           "zerolinecolor": "white",
           "zerolinewidth": 2
          },
          "yaxis": {
           "automargin": true,
           "gridcolor": "white",
           "linecolor": "white",
           "ticks": "",
           "title": {
            "standoff": 15
           },
           "zerolinecolor": "white",
           "zerolinewidth": 2
          }
         }
        },
        "xaxis": {
         "anchor": "y",
         "domain": [
          0,
          0.94
         ]
        },
        "xaxis2": {
         "anchor": "y3",
         "domain": [
          0,
          0.94
         ]
        },
        "yaxis": {
         "anchor": "x",
         "domain": [
          0.314,
          1
         ]
        },
        "yaxis2": {
         "anchor": "x",
         "overlaying": "y",
         "side": "right"
        },
        "yaxis3": {
         "anchor": "x2",
         "domain": [
          0,
          0.294
         ]
        }
       }
      },
      "text/html": [
       "<div>                            <div id=\"2292b875-e068-4836-941f-d2190ae6731c\" class=\"plotly-graph-div\" style=\"height:700px; width:100%;\"></div>            <script type=\"text/javascript\">                require([\"plotly\"], function(Plotly) {                    window.PLOTLYENV=window.PLOTLYENV || {};                                    if (document.getElementById(\"2292b875-e068-4836-941f-d2190ae6731c\")) {                    Plotly.newPlot(                        \"2292b875-e068-4836-941f-d2190ae6731c\",                        [{\"name\":\"LEFT\",\"x\":[\"2017-10-23T00:00:00\",\"2017-10-24T00:00:00\",\"2017-10-25T00:00:00\",\"2017-10-26T00:00:00\",\"2017-10-27T00:00:00\",\"2017-10-30T00:00:00\",\"2017-10-31T00:00:00\",\"2017-11-01T00:00:00\",\"2017-11-02T00:00:00\",\"2017-11-03T00:00:00\",\"2017-11-06T00:00:00\",\"2017-11-07T00:00:00\",\"2017-11-08T00:00:00\",\"2017-11-09T00:00:00\",\"2017-11-10T00:00:00\",\"2017-11-13T00:00:00\",\"2017-11-14T00:00:00\",\"2017-11-15T00:00:00\",\"2017-11-16T00:00:00\",\"2017-11-17T00:00:00\",\"2017-11-20T00:00:00\",\"2017-11-21T00:00:00\",\"2017-11-22T00:00:00\",\"2017-11-23T00:00:00\",\"2017-11-24T00:00:00\",\"2017-11-27T00:00:00\",\"2017-11-28T00:00:00\",\"2017-11-29T00:00:00\",\"2017-11-30T00:00:00\",\"2017-12-01T00:00:00\",\"2017-12-04T00:00:00\",\"2017-12-05T00:00:00\",\"2017-12-06T00:00:00\",\"2017-12-07T00:00:00\",\"2017-12-08T00:00:00\",\"2017-12-11T00:00:00\",\"2017-12-12T00:00:00\",\"2017-12-13T00:00:00\",\"2017-12-14T00:00:00\",\"2017-12-15T00:00:00\",\"2017-12-18T00:00:00\",\"2017-12-19T00:00:00\",\"2017-12-20T00:00:00\",\"2017-12-21T00:00:00\",\"2017-12-22T00:00:00\",\"2017-12-26T00:00:00\",\"2017-12-27T00:00:00\",\"2017-12-28T00:00:00\",\"2018-01-02T00:00:00\",\"2018-01-03T00:00:00\",\"2018-01-04T00:00:00\",\"2018-01-05T00:00:00\",\"2018-01-08T00:00:00\",\"2018-01-09T00:00:00\",\"2018-01-10T00:00:00\",\"2018-01-11T00:00:00\",\"2018-01-12T00:00:00\",\"2018-01-15T00:00:00\",\"2018-01-16T00:00:00\",\"2018-01-17T00:00:00\",\"2018-01-18T00:00:00\",\"2018-01-19T00:00:00\",\"2018-01-22T00:00:00\",\"2018-01-23T00:00:00\",\"2018-01-24T00:00:00\",\"2018-01-25T00:00:00\",\"2018-01-26T00:00:00\",\"2018-01-29T00:00:00\",\"2018-01-30T00:00:00\",\"2018-01-31T00:00:00\",\"2018-02-01T00:00:00\",\"2018-02-02T00:00:00\",\"2018-02-05T00:00:00\",\"2018-02-06T00:00:00\",\"2018-02-07T00:00:00\",\"2018-02-08T00:00:00\",\"2018-02-09T00:00:00\",\"2018-02-12T00:00:00\",\"2018-02-13T00:00:00\",\"2018-02-14T00:00:00\",\"2018-02-19T00:00:00\",\"2018-02-20T00:00:00\",\"2018-02-21T00:00:00\",\"2018-02-22T00:00:00\",\"2018-02-23T00:00:00\",\"2018-02-26T00:00:00\",\"2018-02-27T00:00:00\",\"2018-02-28T00:00:00\",\"2018-03-02T00:00:00\",\"2018-03-05T00:00:00\",\"2018-03-06T00:00:00\",\"2018-03-07T00:00:00\",\"2018-03-08T00:00:00\",\"2018-03-09T00:00:00\",\"2018-03-12T00:00:00\",\"2018-03-13T00:00:00\",\"2018-03-14T00:00:00\",\"2018-03-15T00:00:00\",\"2018-03-16T00:00:00\",\"2018-03-19T00:00:00\",\"2018-03-20T00:00:00\",\"2018-03-21T00:00:00\",\"2018-03-22T00:00:00\",\"2018-03-23T00:00:00\",\"2018-03-26T00:00:00\",\"2018-03-27T00:00:00\",\"2018-03-28T00:00:00\",\"2018-03-29T00:00:00\",\"2018-03-30T00:00:00\",\"2018-04-02T00:00:00\",\"2018-04-03T00:00:00\",\"2018-04-04T00:00:00\",\"2018-04-05T00:00:00\",\"2018-04-06T00:00:00\",\"2018-04-09T00:00:00\",\"2018-04-10T00:00:00\",\"2018-04-11T00:00:00\",\"2018-04-12T00:00:00\",\"2018-04-13T00:00:00\",\"2018-04-16T00:00:00\",\"2018-04-17T00:00:00\",\"2018-04-18T00:00:00\",\"2018-04-19T00:00:00\",\"2018-04-20T00:00:00\",\"2018-04-23T00:00:00\",\"2018-04-24T00:00:00\",\"2018-04-25T00:00:00\",\"2018-04-26T00:00:00\",\"2018-04-27T00:00:00\",\"2018-04-30T00:00:00\",\"2018-05-02T00:00:00\",\"2018-05-03T00:00:00\",\"2018-05-04T00:00:00\",\"2018-05-08T00:00:00\",\"2018-05-09T00:00:00\",\"2018-05-10T00:00:00\",\"2018-05-11T00:00:00\",\"2018-05-14T00:00:00\",\"2018-05-15T00:00:00\",\"2018-05-16T00:00:00\",\"2018-05-17T00:00:00\",\"2018-05-18T00:00:00\",\"2018-05-21T00:00:00\",\"2018-05-23T00:00:00\",\"2018-05-24T00:00:00\",\"2018-05-25T00:00:00\",\"2018-05-28T00:00:00\",\"2018-05-29T00:00:00\",\"2018-05-30T00:00:00\",\"2018-05-31T00:00:00\",\"2018-06-01T00:00:00\",\"2018-06-04T00:00:00\",\"2018-06-05T00:00:00\",\"2018-06-07T00:00:00\",\"2018-06-08T00:00:00\",\"2018-06-11T00:00:00\",\"2018-06-12T00:00:00\",\"2018-06-14T00:00:00\",\"2018-06-15T00:00:00\",\"2018-06-18T00:00:00\",\"2018-06-19T00:00:00\",\"2018-06-20T00:00:00\",\"2018-06-21T00:00:00\",\"2018-06-22T00:00:00\",\"2018-06-25T00:00:00\",\"2018-06-26T00:00:00\",\"2018-06-27T00:00:00\",\"2018-06-28T00:00:00\",\"2018-06-29T00:00:00\",\"2018-07-02T00:00:00\",\"2018-07-03T00:00:00\",\"2018-07-04T00:00:00\",\"2018-07-05T00:00:00\",\"2018-07-06T00:00:00\",\"2018-07-09T00:00:00\",\"2018-07-10T00:00:00\",\"2018-07-11T00:00:00\",\"2018-07-12T00:00:00\",\"2018-07-13T00:00:00\",\"2018-07-16T00:00:00\",\"2018-07-17T00:00:00\",\"2018-07-18T00:00:00\",\"2018-07-19T00:00:00\",\"2018-07-20T00:00:00\",\"2018-07-23T00:00:00\",\"2018-07-24T00:00:00\",\"2018-07-25T00:00:00\",\"2018-07-26T00:00:00\",\"2018-07-27T00:00:00\",\"2018-07-30T00:00:00\",\"2018-07-31T00:00:00\",\"2018-08-01T00:00:00\",\"2018-08-02T00:00:00\",\"2018-08-03T00:00:00\",\"2018-08-06T00:00:00\",\"2018-08-07T00:00:00\",\"2018-08-08T00:00:00\",\"2018-08-09T00:00:00\",\"2018-08-10T00:00:00\",\"2018-08-13T00:00:00\",\"2018-08-14T00:00:00\",\"2018-08-16T00:00:00\",\"2018-08-17T00:00:00\",\"2018-08-20T00:00:00\",\"2018-08-21T00:00:00\",\"2018-08-22T00:00:00\",\"2018-08-23T00:00:00\",\"2018-08-24T00:00:00\",\"2018-08-27T00:00:00\",\"2018-08-28T00:00:00\",\"2018-08-29T00:00:00\",\"2018-08-30T00:00:00\",\"2018-08-31T00:00:00\",\"2018-09-03T00:00:00\",\"2018-09-04T00:00:00\",\"2018-09-05T00:00:00\",\"2018-09-06T00:00:00\",\"2018-09-07T00:00:00\",\"2018-09-10T00:00:00\",\"2018-09-11T00:00:00\",\"2018-09-12T00:00:00\",\"2018-09-13T00:00:00\",\"2018-09-14T00:00:00\",\"2018-09-17T00:00:00\",\"2018-09-18T00:00:00\",\"2018-09-19T00:00:00\",\"2018-09-20T00:00:00\",\"2018-09-21T00:00:00\",\"2018-09-27T00:00:00\",\"2018-09-28T00:00:00\",\"2018-10-01T00:00:00\",\"2018-10-02T00:00:00\",\"2018-10-04T00:00:00\",\"2018-10-05T00:00:00\",\"2018-10-08T00:00:00\",\"2018-10-10T00:00:00\",\"2018-10-11T00:00:00\",\"2018-10-12T00:00:00\",\"2018-10-15T00:00:00\",\"2018-10-16T00:00:00\",\"2018-10-17T00:00:00\",\"2018-10-18T00:00:00\",\"2018-10-19T00:00:00\",\"2018-10-22T00:00:00\",\"2018-10-23T00:00:00\",\"2018-10-24T00:00:00\",\"2018-10-25T00:00:00\",\"2018-10-26T00:00:00\",\"2018-10-29T00:00:00\",\"2018-10-30T00:00:00\",\"2018-10-31T00:00:00\",\"2018-11-01T00:00:00\",\"2018-11-02T00:00:00\",\"2018-11-05T00:00:00\",\"2018-11-06T00:00:00\",\"2018-11-07T00:00:00\",\"2018-11-08T00:00:00\",\"2018-11-09T00:00:00\",\"2018-11-12T00:00:00\",\"2018-11-13T00:00:00\",\"2018-11-14T00:00:00\",\"2018-11-15T00:00:00\",\"2018-11-16T00:00:00\",\"2018-11-19T00:00:00\",\"2018-11-20T00:00:00\",\"2018-11-21T00:00:00\",\"2018-11-22T00:00:00\",\"2018-11-23T00:00:00\",\"2018-11-26T00:00:00\",\"2018-11-27T00:00:00\",\"2018-11-28T00:00:00\",\"2018-11-29T00:00:00\",\"2018-11-30T00:00:00\",\"2018-12-03T00:00:00\",\"2018-12-04T00:00:00\",\"2018-12-05T00:00:00\",\"2018-12-06T00:00:00\",\"2018-12-07T00:00:00\",\"2018-12-10T00:00:00\",\"2018-12-11T00:00:00\",\"2018-12-12T00:00:00\",\"2018-12-13T00:00:00\",\"2018-12-14T00:00:00\",\"2018-12-17T00:00:00\",\"2018-12-18T00:00:00\",\"2018-12-19T00:00:00\",\"2018-12-20T00:00:00\",\"2018-12-21T00:00:00\",\"2018-12-24T00:00:00\",\"2018-12-26T00:00:00\",\"2018-12-27T00:00:00\",\"2018-12-28T00:00:00\",\"2019-01-02T00:00:00\",\"2019-01-03T00:00:00\",\"2019-01-04T00:00:00\",\"2019-01-07T00:00:00\",\"2019-01-08T00:00:00\",\"2019-01-09T00:00:00\",\"2019-01-10T00:00:00\",\"2019-01-11T00:00:00\",\"2019-01-14T00:00:00\",\"2019-01-15T00:00:00\",\"2019-01-16T00:00:00\",\"2019-01-17T00:00:00\",\"2019-01-18T00:00:00\",\"2019-01-21T00:00:00\",\"2019-01-22T00:00:00\",\"2019-01-23T00:00:00\",\"2019-01-24T00:00:00\",\"2019-01-25T00:00:00\",\"2019-01-28T00:00:00\",\"2019-01-29T00:00:00\",\"2019-01-30T00:00:00\",\"2019-01-31T00:00:00\",\"2019-02-01T00:00:00\",\"2019-02-07T00:00:00\",\"2019-02-08T00:00:00\",\"2019-02-11T00:00:00\",\"2019-02-12T00:00:00\",\"2019-02-13T00:00:00\",\"2019-02-14T00:00:00\",\"2019-02-15T00:00:00\",\"2019-02-18T00:00:00\",\"2019-02-19T00:00:00\",\"2019-02-20T00:00:00\",\"2019-02-21T00:00:00\",\"2019-02-22T00:00:00\",\"2019-02-25T00:00:00\",\"2019-02-26T00:00:00\",\"2019-02-27T00:00:00\",\"2019-02-28T00:00:00\",\"2019-03-04T00:00:00\",\"2019-03-05T00:00:00\",\"2019-03-06T00:00:00\",\"2019-03-07T00:00:00\",\"2019-03-08T00:00:00\",\"2019-03-11T00:00:00\",\"2019-03-12T00:00:00\",\"2019-03-13T00:00:00\",\"2019-03-14T00:00:00\",\"2019-03-15T00:00:00\",\"2019-03-18T00:00:00\",\"2019-03-19T00:00:00\",\"2019-03-20T00:00:00\",\"2019-03-21T00:00:00\",\"2019-03-22T00:00:00\",\"2019-03-25T00:00:00\",\"2019-03-26T00:00:00\",\"2019-03-27T00:00:00\",\"2019-03-28T00:00:00\",\"2019-03-29T00:00:00\",\"2019-04-01T00:00:00\",\"2019-04-02T00:00:00\",\"2019-04-03T00:00:00\",\"2019-04-04T00:00:00\",\"2019-04-05T00:00:00\",\"2019-04-08T00:00:00\",\"2019-04-09T00:00:00\",\"2019-04-10T00:00:00\",\"2019-04-11T00:00:00\",\"2019-04-12T00:00:00\",\"2019-04-15T00:00:00\",\"2019-04-16T00:00:00\",\"2019-04-17T00:00:00\",\"2019-04-18T00:00:00\",\"2019-04-19T00:00:00\",\"2019-04-22T00:00:00\",\"2019-04-23T00:00:00\",\"2019-04-24T00:00:00\",\"2019-04-25T00:00:00\",\"2019-04-26T00:00:00\",\"2019-04-29T00:00:00\",\"2019-04-30T00:00:00\",\"2019-05-02T00:00:00\",\"2019-05-03T00:00:00\",\"2019-05-07T00:00:00\",\"2019-05-08T00:00:00\",\"2019-05-09T00:00:00\",\"2019-05-10T00:00:00\",\"2019-05-13T00:00:00\",\"2019-05-14T00:00:00\",\"2019-05-15T00:00:00\",\"2019-05-16T00:00:00\",\"2019-05-17T00:00:00\",\"2019-05-20T00:00:00\",\"2019-05-21T00:00:00\",\"2019-05-22T00:00:00\",\"2019-05-23T00:00:00\",\"2019-05-24T00:00:00\",\"2019-05-27T00:00:00\",\"2019-05-28T00:00:00\",\"2019-05-29T00:00:00\",\"2019-05-30T00:00:00\",\"2019-05-31T00:00:00\",\"2019-06-03T00:00:00\",\"2019-06-04T00:00:00\",\"2019-06-05T00:00:00\",\"2019-06-07T00:00:00\",\"2019-06-10T00:00:00\",\"2019-06-11T00:00:00\",\"2019-06-12T00:00:00\",\"2019-06-13T00:00:00\",\"2019-06-14T00:00:00\",\"2019-06-17T00:00:00\",\"2019-06-18T00:00:00\",\"2019-06-19T00:00:00\",\"2019-06-20T00:00:00\",\"2019-06-21T00:00:00\",\"2019-06-24T00:00:00\",\"2019-06-25T00:00:00\",\"2019-06-26T00:00:00\",\"2019-06-27T00:00:00\",\"2019-06-28T00:00:00\",\"2019-07-01T00:00:00\",\"2019-07-02T00:00:00\",\"2019-07-03T00:00:00\",\"2019-07-04T00:00:00\",\"2019-07-05T00:00:00\",\"2019-07-08T00:00:00\",\"2019-07-09T00:00:00\",\"2019-07-10T00:00:00\",\"2019-07-11T00:00:00\",\"2019-07-12T00:00:00\",\"2019-07-15T00:00:00\",\"2019-07-16T00:00:00\",\"2019-07-17T00:00:00\",\"2019-07-18T00:00:00\",\"2019-07-19T00:00:00\",\"2019-07-22T00:00:00\",\"2019-07-23T00:00:00\",\"2019-07-24T00:00:00\",\"2019-07-25T00:00:00\",\"2019-07-26T00:00:00\",\"2019-07-29T00:00:00\",\"2019-07-30T00:00:00\",\"2019-07-31T00:00:00\",\"2019-08-01T00:00:00\",\"2019-08-02T00:00:00\",\"2019-08-05T00:00:00\",\"2019-08-06T00:00:00\",\"2019-08-07T00:00:00\",\"2019-08-08T00:00:00\",\"2019-08-09T00:00:00\",\"2019-08-12T00:00:00\",\"2019-08-13T00:00:00\",\"2019-08-14T00:00:00\",\"2019-08-16T00:00:00\",\"2019-08-19T00:00:00\",\"2019-08-20T00:00:00\",\"2019-08-21T00:00:00\",\"2019-08-22T00:00:00\",\"2019-08-23T00:00:00\",\"2019-08-26T00:00:00\",\"2019-08-27T00:00:00\",\"2019-08-28T00:00:00\",\"2019-08-29T00:00:00\",\"2019-08-30T00:00:00\",\"2019-09-02T00:00:00\",\"2019-09-03T00:00:00\",\"2019-09-04T00:00:00\",\"2019-09-05T00:00:00\",\"2019-09-06T00:00:00\",\"2019-09-09T00:00:00\",\"2019-09-10T00:00:00\",\"2019-09-11T00:00:00\",\"2019-09-16T00:00:00\",\"2019-09-17T00:00:00\",\"2019-09-18T00:00:00\",\"2019-09-19T00:00:00\",\"2019-09-20T00:00:00\",\"2019-09-23T00:00:00\",\"2019-09-24T00:00:00\",\"2019-09-25T00:00:00\",\"2019-09-26T00:00:00\",\"2019-09-27T00:00:00\",\"2019-09-30T00:00:00\",\"2019-10-01T00:00:00\",\"2019-10-02T00:00:00\",\"2019-10-04T00:00:00\",\"2019-10-07T00:00:00\",\"2019-10-08T00:00:00\",\"2019-10-10T00:00:00\",\"2019-10-11T00:00:00\",\"2019-10-14T00:00:00\",\"2019-10-15T00:00:00\",\"2019-10-16T00:00:00\",\"2019-10-17T00:00:00\",\"2019-10-18T00:00:00\",\"2019-10-21T00:00:00\",\"2019-10-22T00:00:00\",\"2019-10-23T00:00:00\",\"2019-10-24T00:00:00\",\"2019-10-25T00:00:00\",\"2019-10-28T00:00:00\",\"2019-10-29T00:00:00\",\"2019-10-30T00:00:00\",\"2019-10-31T00:00:00\",\"2019-11-01T00:00:00\",\"2019-11-04T00:00:00\",\"2019-11-05T00:00:00\",\"2019-11-06T00:00:00\",\"2019-11-07T00:00:00\",\"2019-11-08T00:00:00\",\"2019-11-11T00:00:00\",\"2019-11-12T00:00:00\",\"2019-11-13T00:00:00\",\"2019-11-14T00:00:00\",\"2019-11-15T00:00:00\",\"2019-11-18T00:00:00\",\"2019-11-19T00:00:00\",\"2019-11-20T00:00:00\",\"2019-11-21T00:00:00\",\"2019-11-22T00:00:00\",\"2019-11-25T00:00:00\",\"2019-11-26T00:00:00\",\"2019-11-27T00:00:00\",\"2019-11-28T00:00:00\",\"2019-11-29T00:00:00\",\"2019-12-02T00:00:00\",\"2019-12-03T00:00:00\",\"2019-12-04T00:00:00\",\"2019-12-05T00:00:00\",\"2019-12-06T00:00:00\",\"2019-12-09T00:00:00\",\"2019-12-10T00:00:00\",\"2019-12-11T00:00:00\",\"2019-12-12T00:00:00\",\"2019-12-13T00:00:00\",\"2019-12-16T00:00:00\",\"2019-12-17T00:00:00\",\"2019-12-18T00:00:00\",\"2019-12-19T00:00:00\",\"2019-12-20T00:00:00\",\"2019-12-23T00:00:00\",\"2019-12-24T00:00:00\",\"2019-12-26T00:00:00\",\"2019-12-27T00:00:00\",\"2019-12-30T00:00:00\",\"2020-01-02T00:00:00\",\"2020-01-03T00:00:00\",\"2020-01-06T00:00:00\",\"2020-01-07T00:00:00\",\"2020-01-08T00:00:00\",\"2020-01-09T00:00:00\",\"2020-01-10T00:00:00\",\"2020-01-13T00:00:00\",\"2020-01-14T00:00:00\",\"2020-01-15T00:00:00\",\"2020-01-16T00:00:00\",\"2020-01-17T00:00:00\",\"2020-01-20T00:00:00\",\"2020-01-21T00:00:00\",\"2020-01-22T00:00:00\",\"2020-01-23T00:00:00\",\"2020-01-28T00:00:00\",\"2020-01-29T00:00:00\",\"2020-01-30T00:00:00\",\"2020-01-31T00:00:00\",\"2020-02-03T00:00:00\",\"2020-02-04T00:00:00\",\"2020-02-05T00:00:00\",\"2020-02-06T00:00:00\",\"2020-02-07T00:00:00\",\"2020-02-10T00:00:00\",\"2020-02-11T00:00:00\",\"2020-02-12T00:00:00\",\"2020-02-13T00:00:00\",\"2020-02-14T00:00:00\",\"2020-02-17T00:00:00\",\"2020-02-18T00:00:00\",\"2020-02-19T00:00:00\",\"2020-02-20T00:00:00\",\"2020-02-21T00:00:00\",\"2020-02-24T00:00:00\",\"2020-02-25T00:00:00\",\"2020-02-26T00:00:00\",\"2020-02-27T00:00:00\",\"2020-02-28T00:00:00\",\"2020-03-02T00:00:00\",\"2020-03-03T00:00:00\",\"2020-03-04T00:00:00\",\"2020-03-05T00:00:00\",\"2020-03-06T00:00:00\",\"2020-03-09T00:00:00\",\"2020-03-10T00:00:00\",\"2020-03-11T00:00:00\",\"2020-03-12T00:00:00\",\"2020-03-13T00:00:00\",\"2020-03-16T00:00:00\",\"2020-03-17T00:00:00\",\"2020-03-18T00:00:00\",\"2020-03-19T00:00:00\",\"2020-03-20T00:00:00\",\"2020-03-23T00:00:00\",\"2020-03-24T00:00:00\",\"2020-03-25T00:00:00\",\"2020-03-26T00:00:00\",\"2020-03-27T00:00:00\",\"2020-03-30T00:00:00\",\"2020-03-31T00:00:00\",\"2020-04-01T00:00:00\",\"2020-04-02T00:00:00\",\"2020-04-03T00:00:00\",\"2020-04-06T00:00:00\",\"2020-04-07T00:00:00\",\"2020-04-08T00:00:00\",\"2020-04-09T00:00:00\",\"2020-04-10T00:00:00\",\"2020-04-13T00:00:00\",\"2020-04-14T00:00:00\",\"2020-04-16T00:00:00\",\"2020-04-17T00:00:00\",\"2020-04-20T00:00:00\",\"2020-04-21T00:00:00\",\"2020-04-22T00:00:00\",\"2020-04-23T00:00:00\",\"2020-04-24T00:00:00\",\"2020-04-27T00:00:00\",\"2020-04-28T00:00:00\",\"2020-04-29T00:00:00\",\"2020-05-04T00:00:00\",\"2020-05-06T00:00:00\",\"2020-05-07T00:00:00\",\"2020-05-08T00:00:00\",\"2020-05-11T00:00:00\",\"2020-05-12T00:00:00\",\"2020-05-13T00:00:00\",\"2020-05-14T00:00:00\",\"2020-05-15T00:00:00\",\"2020-05-18T00:00:00\",\"2020-05-19T00:00:00\",\"2020-05-20T00:00:00\",\"2020-05-21T00:00:00\",\"2020-05-22T00:00:00\",\"2020-05-25T00:00:00\",\"2020-05-26T00:00:00\",\"2020-05-27T00:00:00\",\"2020-05-28T00:00:00\",\"2020-05-29T00:00:00\",\"2020-06-01T00:00:00\",\"2020-06-02T00:00:00\",\"2020-06-03T00:00:00\",\"2020-06-04T00:00:00\",\"2020-06-05T00:00:00\",\"2020-06-08T00:00:00\",\"2020-06-09T00:00:00\",\"2020-06-10T00:00:00\",\"2020-06-11T00:00:00\",\"2020-06-12T00:00:00\",\"2020-06-15T00:00:00\",\"2020-06-16T00:00:00\",\"2020-06-17T00:00:00\",\"2020-06-18T00:00:00\",\"2020-06-19T00:00:00\",\"2020-06-22T00:00:00\",\"2020-06-23T00:00:00\",\"2020-06-24T00:00:00\",\"2020-06-25T00:00:00\",\"2020-06-26T00:00:00\",\"2020-06-29T00:00:00\",\"2020-06-30T00:00:00\",\"2020-07-01T00:00:00\",\"2020-07-02T00:00:00\",\"2020-07-03T00:00:00\",\"2020-07-06T00:00:00\",\"2020-07-07T00:00:00\",\"2020-07-08T00:00:00\",\"2020-07-09T00:00:00\",\"2020-07-10T00:00:00\",\"2020-07-13T00:00:00\",\"2020-07-14T00:00:00\",\"2020-07-15T00:00:00\",\"2020-07-16T00:00:00\",\"2020-07-17T00:00:00\",\"2020-07-20T00:00:00\",\"2020-07-21T00:00:00\",\"2020-07-22T00:00:00\",\"2020-07-23T00:00:00\",\"2020-07-24T00:00:00\",\"2020-07-27T00:00:00\",\"2020-07-28T00:00:00\",\"2020-07-29T00:00:00\",\"2020-07-30T00:00:00\",\"2020-07-31T00:00:00\",\"2020-08-03T00:00:00\",\"2020-08-04T00:00:00\",\"2020-08-05T00:00:00\",\"2020-08-06T00:00:00\",\"2020-08-07T00:00:00\",\"2020-08-10T00:00:00\",\"2020-08-11T00:00:00\",\"2020-08-12T00:00:00\",\"2020-08-13T00:00:00\",\"2020-08-14T00:00:00\",\"2020-08-18T00:00:00\",\"2020-08-19T00:00:00\",\"2020-08-20T00:00:00\",\"2020-08-21T00:00:00\",\"2020-08-24T00:00:00\",\"2020-08-25T00:00:00\",\"2020-08-26T00:00:00\",\"2020-08-27T00:00:00\",\"2020-08-28T00:00:00\",\"2020-08-31T00:00:00\",\"2020-09-01T00:00:00\",\"2020-09-02T00:00:00\",\"2020-09-03T00:00:00\",\"2020-09-04T00:00:00\",\"2020-09-07T00:00:00\",\"2020-09-08T00:00:00\",\"2020-09-09T00:00:00\",\"2020-09-10T00:00:00\",\"2020-09-11T00:00:00\",\"2020-09-14T00:00:00\",\"2020-09-15T00:00:00\",\"2020-09-16T00:00:00\",\"2020-09-17T00:00:00\",\"2020-09-18T00:00:00\",\"2020-09-21T00:00:00\",\"2020-09-22T00:00:00\",\"2020-09-23T00:00:00\",\"2020-09-24T00:00:00\",\"2020-09-25T00:00:00\",\"2020-09-28T00:00:00\",\"2020-09-29T00:00:00\",\"2020-10-05T00:00:00\",\"2020-10-06T00:00:00\",\"2020-10-07T00:00:00\",\"2020-10-08T00:00:00\",\"2020-10-12T00:00:00\",\"2020-10-13T00:00:00\",\"2020-10-14T00:00:00\",\"2020-10-15T00:00:00\",\"2020-10-16T00:00:00\",\"2020-10-19T00:00:00\",\"2020-10-20T00:00:00\",\"2020-10-21T00:00:00\",\"2020-10-22T00:00:00\",\"2020-10-23T00:00:00\",\"2020-10-26T00:00:00\",\"2020-10-27T00:00:00\",\"2020-10-28T00:00:00\",\"2020-10-29T00:00:00\",\"2020-10-30T00:00:00\",\"2020-11-02T00:00:00\",\"2020-11-03T00:00:00\",\"2020-11-04T00:00:00\",\"2020-11-05T00:00:00\",\"2020-11-06T00:00:00\",\"2020-11-09T00:00:00\",\"2020-11-10T00:00:00\",\"2020-11-11T00:00:00\",\"2020-11-12T00:00:00\",\"2020-11-13T00:00:00\",\"2020-11-16T00:00:00\",\"2020-11-17T00:00:00\",\"2020-11-18T00:00:00\",\"2020-11-19T00:00:00\",\"2020-11-20T00:00:00\",\"2020-11-23T00:00:00\",\"2020-11-24T00:00:00\",\"2020-11-25T00:00:00\",\"2020-11-26T00:00:00\",\"2020-11-27T00:00:00\",\"2020-11-30T00:00:00\",\"2020-12-01T00:00:00\",\"2020-12-02T00:00:00\",\"2020-12-03T00:00:00\",\"2020-12-04T00:00:00\",\"2020-12-07T00:00:00\",\"2020-12-08T00:00:00\",\"2020-12-09T00:00:00\",\"2020-12-10T00:00:00\",\"2020-12-11T00:00:00\",\"2020-12-14T00:00:00\",\"2020-12-15T00:00:00\",\"2020-12-16T00:00:00\",\"2020-12-17T00:00:00\",\"2020-12-18T00:00:00\",\"2020-12-21T00:00:00\",\"2020-12-22T00:00:00\",\"2020-12-23T00:00:00\",\"2020-12-24T00:00:00\",\"2020-12-28T00:00:00\",\"2020-12-29T00:00:00\",\"2020-12-30T00:00:00\",\"2021-01-04T00:00:00\",\"2021-01-05T00:00:00\",\"2021-01-06T00:00:00\",\"2021-01-07T00:00:00\",\"2021-01-08T00:00:00\",\"2021-01-11T00:00:00\",\"2021-01-12T00:00:00\",\"2021-01-13T00:00:00\",\"2021-01-14T00:00:00\",\"2021-01-15T00:00:00\",\"2021-01-18T00:00:00\",\"2021-01-19T00:00:00\",\"2021-01-20T00:00:00\",\"2021-01-21T00:00:00\",\"2021-01-22T00:00:00\",\"2021-01-25T00:00:00\",\"2021-01-26T00:00:00\",\"2021-01-27T00:00:00\",\"2021-01-28T00:00:00\",\"2021-01-29T00:00:00\",\"2021-02-01T00:00:00\",\"2021-02-02T00:00:00\",\"2021-02-03T00:00:00\",\"2021-02-04T00:00:00\",\"2021-02-05T00:00:00\",\"2021-02-08T00:00:00\",\"2021-02-09T00:00:00\",\"2021-02-10T00:00:00\",\"2021-02-15T00:00:00\",\"2021-02-16T00:00:00\",\"2021-02-17T00:00:00\",\"2021-02-18T00:00:00\",\"2021-02-19T00:00:00\",\"2021-02-22T00:00:00\",\"2021-02-23T00:00:00\",\"2021-02-24T00:00:00\",\"2021-02-25T00:00:00\",\"2021-02-26T00:00:00\",\"2021-03-02T00:00:00\",\"2021-03-03T00:00:00\",\"2021-03-04T00:00:00\",\"2021-03-05T00:00:00\",\"2021-03-08T00:00:00\",\"2021-03-09T00:00:00\",\"2021-03-10T00:00:00\",\"2021-03-11T00:00:00\",\"2021-03-12T00:00:00\",\"2021-03-15T00:00:00\",\"2021-03-16T00:00:00\",\"2021-03-17T00:00:00\",\"2021-03-18T00:00:00\",\"2021-03-19T00:00:00\",\"2021-03-22T00:00:00\",\"2021-03-23T00:00:00\",\"2021-03-24T00:00:00\",\"2021-03-25T00:00:00\",\"2021-03-26T00:00:00\",\"2021-03-29T00:00:00\",\"2021-03-30T00:00:00\",\"2021-03-31T00:00:00\",\"2021-04-01T00:00:00\",\"2021-04-02T00:00:00\",\"2021-04-05T00:00:00\",\"2021-04-06T00:00:00\",\"2021-04-07T00:00:00\",\"2021-04-08T00:00:00\",\"2021-04-09T00:00:00\",\"2021-04-12T00:00:00\",\"2021-04-13T00:00:00\",\"2021-04-14T00:00:00\",\"2021-04-15T00:00:00\",\"2021-04-16T00:00:00\",\"2021-04-19T00:00:00\",\"2021-04-20T00:00:00\",\"2021-04-21T00:00:00\",\"2021-04-22T00:00:00\",\"2021-04-23T00:00:00\",\"2021-04-26T00:00:00\",\"2021-04-27T00:00:00\",\"2021-04-28T00:00:00\",\"2021-04-29T00:00:00\",\"2021-04-30T00:00:00\",\"2021-05-03T00:00:00\",\"2021-05-04T00:00:00\",\"2021-05-06T00:00:00\",\"2021-05-07T00:00:00\",\"2021-05-10T00:00:00\",\"2021-05-11T00:00:00\",\"2021-05-12T00:00:00\",\"2021-05-13T00:00:00\",\"2021-05-14T00:00:00\",\"2021-05-17T00:00:00\",\"2021-05-18T00:00:00\",\"2021-05-20T00:00:00\",\"2021-05-21T00:00:00\",\"2021-05-24T00:00:00\",\"2021-05-25T00:00:00\",\"2021-05-26T00:00:00\",\"2021-05-27T00:00:00\",\"2021-05-28T00:00:00\",\"2021-05-31T00:00:00\",\"2021-06-01T00:00:00\",\"2021-06-02T00:00:00\",\"2021-06-03T00:00:00\",\"2021-06-04T00:00:00\",\"2021-06-07T00:00:00\",\"2021-06-08T00:00:00\",\"2021-06-09T00:00:00\",\"2021-06-10T00:00:00\",\"2021-06-11T00:00:00\",\"2021-06-14T00:00:00\",\"2021-06-15T00:00:00\",\"2021-06-16T00:00:00\",\"2021-06-17T00:00:00\",\"2021-06-18T00:00:00\",\"2021-06-21T00:00:00\",\"2021-06-22T00:00:00\",\"2021-06-23T00:00:00\",\"2021-06-24T00:00:00\",\"2021-06-25T00:00:00\",\"2021-06-28T00:00:00\",\"2021-06-29T00:00:00\",\"2021-06-30T00:00:00\",\"2021-07-01T00:00:00\",\"2021-07-02T00:00:00\",\"2021-07-05T00:00:00\",\"2021-07-06T00:00:00\",\"2021-07-07T00:00:00\",\"2021-07-08T00:00:00\",\"2021-07-09T00:00:00\",\"2021-07-12T00:00:00\",\"2021-07-13T00:00:00\",\"2021-07-14T00:00:00\",\"2021-07-15T00:00:00\",\"2021-07-16T00:00:00\",\"2021-07-19T00:00:00\",\"2021-07-20T00:00:00\",\"2021-07-21T00:00:00\",\"2021-07-22T00:00:00\",\"2021-07-23T00:00:00\",\"2021-07-26T00:00:00\",\"2021-07-27T00:00:00\",\"2021-07-28T00:00:00\",\"2021-07-29T00:00:00\",\"2021-07-30T00:00:00\",\"2021-08-02T00:00:00\",\"2021-08-03T00:00:00\",\"2021-08-04T00:00:00\",\"2021-08-05T00:00:00\",\"2021-08-06T00:00:00\",\"2021-08-09T00:00:00\",\"2021-08-10T00:00:00\",\"2021-08-11T00:00:00\",\"2021-08-12T00:00:00\",\"2021-08-13T00:00:00\",\"2021-08-17T00:00:00\",\"2021-08-18T00:00:00\",\"2021-08-19T00:00:00\",\"2021-08-20T00:00:00\",\"2021-08-23T00:00:00\",\"2021-08-24T00:00:00\",\"2021-08-25T00:00:00\",\"2021-08-26T00:00:00\",\"2021-08-27T00:00:00\",\"2021-08-30T00:00:00\",\"2021-08-31T00:00:00\",\"2021-09-01T00:00:00\",\"2021-09-02T00:00:00\",\"2021-09-03T00:00:00\",\"2021-09-06T00:00:00\",\"2021-09-07T00:00:00\",\"2021-09-08T00:00:00\",\"2021-09-09T00:00:00\",\"2021-09-10T00:00:00\",\"2021-09-13T00:00:00\",\"2021-09-14T00:00:00\",\"2021-09-15T00:00:00\",\"2021-09-16T00:00:00\",\"2021-09-17T00:00:00\",\"2021-09-23T00:00:00\",\"2021-09-24T00:00:00\",\"2021-09-27T00:00:00\",\"2021-09-28T00:00:00\",\"2021-09-29T00:00:00\",\"2021-09-30T00:00:00\",\"2021-10-01T00:00:00\",\"2021-10-05T00:00:00\",\"2021-10-06T00:00:00\",\"2021-10-07T00:00:00\",\"2021-10-08T00:00:00\",\"2021-10-12T00:00:00\",\"2021-10-13T00:00:00\",\"2021-10-14T00:00:00\",\"2021-10-15T00:00:00\",\"2021-10-18T00:00:00\",\"2021-10-19T00:00:00\",\"2021-10-20T00:00:00\",\"2021-10-21T00:00:00\",\"2021-10-22T00:00:00\",\"2021-10-25T00:00:00\",\"2021-10-26T00:00:00\",\"2021-10-27T00:00:00\",\"2021-10-28T00:00:00\",\"2021-10-29T00:00:00\",\"2021-11-01T00:00:00\",\"2021-11-02T00:00:00\",\"2021-11-03T00:00:00\",\"2021-11-04T00:00:00\",\"2021-11-05T00:00:00\",\"2021-11-08T00:00:00\",\"2021-11-09T00:00:00\",\"2021-11-10T00:00:00\",\"2021-11-11T00:00:00\",\"2021-11-12T00:00:00\",\"2021-11-15T00:00:00\",\"2021-11-16T00:00:00\",\"2021-11-17T00:00:00\",\"2021-11-18T00:00:00\",\"2021-11-19T00:00:00\",\"2021-11-22T00:00:00\",\"2021-11-23T00:00:00\",\"2021-11-24T00:00:00\",\"2021-11-25T00:00:00\",\"2021-11-26T00:00:00\",\"2021-11-29T00:00:00\",\"2021-11-30T00:00:00\",\"2021-12-01T00:00:00\",\"2021-12-02T00:00:00\",\"2021-12-03T00:00:00\",\"2021-12-06T00:00:00\",\"2021-12-07T00:00:00\",\"2021-12-08T00:00:00\",\"2021-12-09T00:00:00\",\"2021-12-10T00:00:00\",\"2021-12-13T00:00:00\",\"2021-12-14T00:00:00\",\"2021-12-15T00:00:00\",\"2021-12-16T00:00:00\",\"2021-12-17T00:00:00\",\"2021-12-20T00:00:00\",\"2021-12-21T00:00:00\",\"2021-12-22T00:00:00\",\"2021-12-23T00:00:00\",\"2021-12-24T00:00:00\",\"2021-12-27T00:00:00\",\"2021-12-28T00:00:00\",\"2021-12-29T00:00:00\",\"2021-12-30T00:00:00\",\"2022-01-03T00:00:00\",\"2022-01-04T00:00:00\",\"2022-01-05T00:00:00\",\"2022-01-06T00:00:00\",\"2022-01-07T00:00:00\",\"2022-01-10T00:00:00\",\"2022-01-11T00:00:00\",\"2022-01-12T00:00:00\",\"2022-01-13T00:00:00\",\"2022-01-14T00:00:00\",\"2022-01-17T00:00:00\",\"2022-01-18T00:00:00\",\"2022-01-19T00:00:00\",\"2022-01-20T00:00:00\",\"2022-01-21T00:00:00\",\"2022-01-24T00:00:00\",\"2022-01-25T00:00:00\",\"2022-01-26T00:00:00\",\"2022-01-27T00:00:00\",\"2022-01-28T00:00:00\",\"2022-02-03T00:00:00\",\"2022-02-04T00:00:00\",\"2022-02-07T00:00:00\",\"2022-02-08T00:00:00\",\"2022-02-09T00:00:00\",\"2022-02-10T00:00:00\",\"2022-02-11T00:00:00\",\"2022-02-14T00:00:00\",\"2022-02-15T00:00:00\",\"2022-02-16T00:00:00\",\"2022-02-17T00:00:00\",\"2022-02-18T00:00:00\",\"2022-02-21T00:00:00\",\"2022-02-22T00:00:00\",\"2022-02-23T00:00:00\",\"2022-02-24T00:00:00\",\"2022-02-25T00:00:00\",\"2022-02-28T00:00:00\",\"2022-03-02T00:00:00\",\"2022-03-03T00:00:00\",\"2022-03-04T00:00:00\",\"2022-03-07T00:00:00\",\"2022-03-08T00:00:00\",\"2022-03-10T00:00:00\",\"2022-03-11T00:00:00\",\"2022-03-14T00:00:00\",\"2022-03-15T00:00:00\",\"2022-03-16T00:00:00\",\"2022-03-17T00:00:00\",\"2022-03-18T00:00:00\",\"2022-03-21T00:00:00\",\"2022-03-22T00:00:00\",\"2022-03-23T00:00:00\",\"2022-03-24T00:00:00\",\"2022-03-25T00:00:00\",\"2022-03-28T00:00:00\",\"2022-03-29T00:00:00\",\"2022-03-30T00:00:00\",\"2022-03-31T00:00:00\",\"2022-04-01T00:00:00\",\"2022-04-04T00:00:00\",\"2022-04-05T00:00:00\",\"2022-04-06T00:00:00\",\"2022-04-07T00:00:00\",\"2022-04-08T00:00:00\",\"2022-04-11T00:00:00\",\"2022-04-12T00:00:00\",\"2022-04-13T00:00:00\",\"2022-04-14T00:00:00\",\"2022-04-15T00:00:00\",\"2022-04-18T00:00:00\",\"2022-04-19T00:00:00\",\"2022-04-20T00:00:00\",\"2022-04-21T00:00:00\",\"2022-04-22T00:00:00\",\"2022-04-25T00:00:00\",\"2022-04-26T00:00:00\",\"2022-04-27T00:00:00\",\"2022-04-28T00:00:00\",\"2022-04-29T00:00:00\",\"2022-05-02T00:00:00\",\"2022-05-03T00:00:00\",\"2022-05-04T00:00:00\",\"2022-05-06T00:00:00\",\"2022-05-09T00:00:00\",\"2022-05-10T00:00:00\",\"2022-05-11T00:00:00\",\"2022-05-12T00:00:00\",\"2022-05-13T00:00:00\",\"2022-05-16T00:00:00\",\"2022-05-17T00:00:00\",\"2022-05-18T00:00:00\",\"2022-05-19T00:00:00\",\"2022-05-20T00:00:00\",\"2022-05-23T00:00:00\",\"2022-05-24T00:00:00\",\"2022-05-25T00:00:00\",\"2022-05-26T00:00:00\",\"2022-05-27T00:00:00\",\"2022-05-30T00:00:00\",\"2022-05-31T00:00:00\",\"2022-06-02T00:00:00\",\"2022-06-03T00:00:00\",\"2022-06-07T00:00:00\",\"2022-06-08T00:00:00\",\"2022-06-09T00:00:00\",\"2022-06-10T00:00:00\",\"2022-06-13T00:00:00\",\"2022-06-14T00:00:00\",\"2022-06-15T00:00:00\",\"2022-06-16T00:00:00\",\"2022-06-17T00:00:00\",\"2022-06-20T00:00:00\",\"2022-06-21T00:00:00\",\"2022-06-22T00:00:00\",\"2022-06-23T00:00:00\",\"2022-06-24T00:00:00\",\"2022-06-27T00:00:00\",\"2022-06-28T00:00:00\",\"2022-06-29T00:00:00\",\"2022-06-30T00:00:00\",\"2022-07-01T00:00:00\",\"2022-07-04T00:00:00\",\"2022-07-05T00:00:00\",\"2022-07-06T00:00:00\",\"2022-07-07T00:00:00\",\"2022-07-08T00:00:00\",\"2022-07-11T00:00:00\",\"2022-07-12T00:00:00\",\"2022-07-13T00:00:00\",\"2022-07-14T00:00:00\",\"2022-07-15T00:00:00\",\"2022-07-18T00:00:00\",\"2022-07-19T00:00:00\",\"2022-07-20T00:00:00\",\"2022-07-21T00:00:00\",\"2022-07-22T00:00:00\",\"2022-07-25T00:00:00\",\"2022-07-26T00:00:00\",\"2022-07-27T00:00:00\",\"2022-07-28T00:00:00\",\"2022-07-29T00:00:00\",\"2022-08-01T00:00:00\",\"2022-08-02T00:00:00\",\"2022-08-03T00:00:00\",\"2022-08-04T00:00:00\",\"2022-08-05T00:00:00\",\"2022-08-08T00:00:00\",\"2022-08-09T00:00:00\",\"2022-08-10T00:00:00\",\"2022-08-11T00:00:00\",\"2022-08-12T00:00:00\",\"2022-08-16T00:00:00\",\"2022-08-17T00:00:00\",\"2022-08-18T00:00:00\",\"2022-08-19T00:00:00\",\"2022-08-22T00:00:00\",\"2022-08-23T00:00:00\",\"2022-08-24T00:00:00\",\"2022-08-25T00:00:00\",\"2022-08-26T00:00:00\",\"2022-08-29T00:00:00\",\"2022-08-30T00:00:00\",\"2022-08-31T00:00:00\",\"2022-09-01T00:00:00\",\"2022-09-02T00:00:00\",\"2022-09-05T00:00:00\",\"2022-09-06T00:00:00\",\"2022-09-07T00:00:00\",\"2022-09-08T00:00:00\",\"2022-09-13T00:00:00\",\"2022-09-14T00:00:00\",\"2022-09-15T00:00:00\",\"2022-09-16T00:00:00\",\"2022-09-19T00:00:00\",\"2022-09-20T00:00:00\",\"2022-09-21T00:00:00\",\"2022-09-22T00:00:00\",\"2022-09-23T00:00:00\",\"2022-09-26T00:00:00\",\"2022-09-27T00:00:00\",\"2022-09-28T00:00:00\",\"2022-09-29T00:00:00\",\"2022-09-30T00:00:00\",\"2022-10-04T00:00:00\",\"2022-10-05T00:00:00\",\"2022-10-06T00:00:00\",\"2022-10-07T00:00:00\",\"2022-10-11T00:00:00\",\"2022-10-12T00:00:00\",\"2022-10-13T00:00:00\",\"2022-10-14T00:00:00\",\"2022-10-17T00:00:00\",\"2022-10-18T00:00:00\",\"2022-10-19T00:00:00\",\"2022-10-20T00:00:00\"],\"xhoverformat\":\"%Y/%m/%d\",\"y\":[910.82,927.31,942.49,938.35,931.5,933.87,918.83,923.47,917.99,927.78,902.5,898.34,886.11,889.52,882.79,875.8,880.81,891.33,905.23,888.75,890.91,881.26,892.22,891.93,889.48,896.21,905.43,908.75,912.52,887.02,904.21,907.78,909.39,898.83,900.96,897.23,891.79,914.54,926.75,938.14,937.14,938.68,948.71,948.16,951.64,959.32,938.81,936.86,941.63,944.6,940.01,954.19,984.06,992.19,991.51,1000.78,1008.49,1003.02,984.93,991.27,982.51,1004.72,985.33,1014.49,1001.36,988.89,990.33,993.56,997.52,999.03,987.29,991.69,1006.95,961.62,942.1,936.55,918.57,949.49,950.15,949.14,974.26,969.04,960.43,961.44,974.09,969.94,963.45,957.45,944.73,924.94,918.15,904.37,911.85,912.35,941.83,918.83,905.72,907.18,918.62,923.87,922.15,923.2,938.52,905.0,898.59,907.62,881.45,890.09,890.17,873.78,845.99,843.57,848.13,851.07,845.73,864.13,862.05,870.67,885.17,883.29,879.29,885.58,893.8,891.0,916.51,928.21,916.51,919.67,921.32,929.79,923.78,913.99,901.73,896.54,897.57,903.71,905.51,908.79,899.97,909.09,902.27,889.16,895.04,885.14,885.99,877.7,872.41,869.12,840.19,835.65,841.51,871.62,877.7,899.02,900.28,909.49,909.06,893.26,875.17,884.8,873.53,883.2,849.17,854.51,865.09,867.21,859.24,837.69,848.63,844.01,835.93,834.55,838.09,859.98,875.33,865.18,864.03,850.21,877.84,864.09,871.7,862.46,850.43,852.75,862.99,858.88,870.88,859.8,866.6,865.42,864.18,868.56,850.03,854.19,853.94,845.49,857.37,846.45,841.94,831.52,837.66,833.21,837.12,839.37,840.83,832.77,825.62,832.16,843.2,849.63,851.6,836.36,839.43,836.01,836.23,821.09,816.58,822.41,824.85,826.54,832.04,844.29,834.92,828.72,819.93,819.25,836.35,852.35,856.9,868.69,880.0,873.88,888.2,886.08,885.05,882.15,838.75,834.21,836.76,833.15,842.88,832.65,830.88,849.42,829.14,845.27,825.28,821.93,824.08,788.68,789.61,786.89,804.57,795.01,798.05,793.29,799.87,796.63,800.34,797.7,794.38,794.03,795.01,791.03,793.91,792.88,794.7,792.08,794.81,800.6,790.98,796.63,779.08,779.4,783.31,782.15,777.79,774.07,758.29,756.09,765.22,769.56,776.82,779.62,790.72,787.13,791.31,797.38,793.92,780.72,750.94,757.7,747.13,747.97,739.54,727.97,729.41,740.25,730.93,732.99,725.88,747.71,760.08,765.28,758.45,754.47,752.13,751.22,762.72,766.01,763.87,766.03,772.21,787.26,791.72,792.38,790.28,780.16,773.01,787.31,797.77,787.96,790.53,782.56,780.26,778.46,776.71,779.64,768.56,766.42,767.35,752.1,750.67,751.7,748.03,734.83,746.12,752.57,750.42,755.2,770.37,771.77,769.42,767.61,755.61,745.64,730.85,724.83,727.75,721.19,728.91,754.62,771.21,777.23,779.86,779.43,776.85,774.16,777.46,776.64,777.72,778.8,778.97,776.69,767.67,763.34,759.29,766.15,754.21,760.61,750.43,764.05,756.98,769.29,763.83,768.14,768.28,755.44,757.29,752.73,749.24,757.23,756.14,753.32,758.29,764.69,765.73,764.17,773.08,768.05,771.53,756.34,757.75,745.65,754.61,762.31,753.72,754.3,761.77,761.26,764.78,758.86,759.0,760.86,765.13,772.37,763.24,758.66,760.14,758.98,762.96,766.5,765.32,769.27,766.42,752.89,756.07,753.19,740.89,737.17,737.38,741.96,747.38,749.42,753.66,753.07,748.65,755.91,753.39,765.35,759.07,744.45,734.67,728.18,723.89,721.66,725.47,700.34,695.85,687.62,679.57,674.64,675.74,670.11,658.34,656.48,651.58,664.4,662.19,660.86,661.94,659.65,653.49,646.99,650.39,653.13,670.92,670.79,669.99,678.3,676.08,684.32,689.97,705.53,715.49,727.54,723.48,716.9,712.91,730.31,725.06,722.45,716.76,723.71,701.48,709.77,707.89,694.04,688.06,685.61,685.85,667.84,681.67,700.33,698.92,701.08,706.66,702.68,709.33,722.01,715.53,720.78,711.45,697.73,700.91,690.01,685.09,688.55,699.69,709.45,705.63,709.45,714.71,710.44,716.42,707.75,708.25,716.3,715.22,718.7,725.09,712.46,718.2,719.9,720.48,720.6,720.37,710.66,713.01,708.17,707.42,711.35,714.2,724.06,723.63,723.04,735.63,757.83,742.51,737.55,750.92,753.16,751.34,758.65,752.93,757.56,731.02,723.56,708.33,711.43,699.02,704.2,688.69,689.76,685.67,687.18,695.3,695.85,694.62,693.03,697.72,693.27,692.76,690.01,664.1,661.78,659.96,652.89,652.16,650.87,659.7,673.21,662.89,649.84,654.53,661.47,650.26,645.94,639.57,632.97,631.94,629.09,620.51,593.16,600.49,598.43,601.05,587.11,579.46,574.66,584.9,578.19,564.18,529.9,526.98,527.87,497.86,476.98,464.0,433.06,420.3,382.02,428.73,386.6,409.6,451.5,456.22,482.55,471.92,480.32,452.09,457.74,452.68,472.96,482.51,471.08,476.15,495.97,486.45,495.87,481.72,490.3,485.02,475.36,473.32,471.45,465.81,511.9,516.4,523.3,501.87,501.48,502.68,505.07,496.75,484.92,489.21,477.39,486.18,479.55,501.0,497.16,495.35,484.45,489.44,503.18,511.37,529.21,537.24,544.94,572.84,609.76,592.09,598.71,596.98,592.17,577.08,560.07,540.47,516.79,554.77,544.45,543.17,543.51,531.8,527.92,533.94,517.45,526.76,513.71,515.88,523.61,525.02,527.06,534.61,529.45,524.2,519.6,506.26,523.57,521.26,530.72,535.19,531.67,547.07,546.92,540.45,536.95,535.5,535.24,535.8,543.49,543.82,532.36,529.88,534.14,531.32,542.15,537.41,551.89,572.83,587.2,590.81,574.48,550.79,550.01,528.79,535.67,537.74,550.71,544.2,536.06,542.37,529.43,536.21,538.95,535.87,530.63,533.84,532.44,526.46,528.44,527.83,536.85,536.77,534.26,532.03,528.73,527.01,519.47,519.51,513.21,519.77,524.05,526.39,540.54,539.36,546.12,547.69,553.4,549.2,538.05,540.11,540.37,555.21,556.79,566.72,579.84,595.56,590.26,572.97,584.37,576.74,564.18,590.78,599.05,587.02,597.76,599.54,604.27,626.91,649.16,638.25,626.2,642.29,646.88,645.31,639.64,639.01,647.09,646.66,658.09,658.12,651.23,622.4,636.82,648.92,649.52,653.43,645.51,635.42,640.57,644.27,655.3,649.39,645.63,647.25,641.5,637.29,640.21,634.3,629.32,641.89,643.9,612.29,614.12,599.98,610.15,614.62,640.39,645.82,637.0,646.12,663.63,657.94,643.1,636.51,641.21,634.44,632.26,621.8,621.47,608.6,606.01,594.15,572.37,596.24,597.7,599.1,591.84,615.59,628.96,623.1,631.01,631.24,631.13,634.41,620.06,625.67,620.84,625.26,627.06,641.45,626.73,635.61,647.76,651.11,652.29,679.18,696.23,689.48,691.58,688.51,694.23,696.33,692.77,693.88,699.37,701.01,695.37,687.65,695.44,701.23,708.19,713.3,725.34,711.94,703.36,711.35,705.35,722.37,715.42,708.73,715.28,712.27,710.13,716.45,704.37,703.34,716.27,705.78,717.54,725.82,733.61,743.56,751.65,747.71,759.75,742.99,739.82,782.47,787.86,803.37,806.7,786.85,798.13,790.16,792.49,803.48,791.86,770.6,781.63,790.57,785.86,773.18,789.71,800.59,802.51,805.82,804.65,804.93,809.17,807.33,794.88,792.61,790.19,777.17,778.54,797.99,794.78,784.14,764.88,777.83,770.54,782.72,801.38,803.81,787.84,782.33,772.36,775.06,770.21,770.08,756.99,752.41,732.7,746.29,754.68,744.56,749.51,752.81,740.44,732.18,731.77,752.84,749.05,742.15,748.24,758.78,760.34,746.69,739.36,743.74,757.35,748.18,749.41,757.83,754.36,765.61,766.48,759.47,757.04,757.46,733.19,720.96,729.35,751.35,761.4,767.34,773.09,750.95,762.21,766.88,762.19,761.33,752.78,746.45,754.69,746.47,740.08,738.11,755.83,753.99,747.0,746.58,742.57,757.84,759.3,774.48,772.92,782.0,770.37,757.22,750.64,765.28,751.06,744.27,744.44,750.2,760.72,765.4,769.01,777.96,786.87,787.15,800.4,806.21,797.11,788.29,778.95,782.82,784.29,764.09,771.16,755.84,754.88,758.12,758.27,755.18,765.66,768.74,775.64,763.54,763.56,764.97,763.98,769.36,777.69,775.07,759.9,752.92,723.29,731.14,742.84,765.4,764.95,773.67,774.41,771.03,767.7,768.32,768.12,768.52,769.81,787.04,771.7,773.87,772.83,773.0,772.27,764.89,768.62,747.51,739.81,744.13,748.76,747.94,744.08,746.39,764.54,778.44,788.91,790.25,782.38,768.33,768.34,775.05,758.16,765.78,746.21,725.07,741.47,733.62,747.34,749.24,770.03,771.64,774.03,799.99,801.3,809.69,798.17,794.4,806.63,822.43,816.52,808.86,799.55,795.58,780.96,769.83,775.45,750.26,763.38,755.87,732.02,720.94,738.32,745.26,751.56,764.39,765.36,772.52,773.4,765.92,778.17,797.6,799.4,796.54,801.04,800.76,795.12,803.99,800.69,802.1,782.05,785.15,773.23,772.2,784.06,782.37,783.31,784.67,777.96,776.05,787.02,790.67,795.81,804.23,788.78,785.65,767.56,782.99,773.44,768.67,770.42,782.67,777.04,777.94,759.99,745.17,748.96,767.16,771.1,771.96,762.69,742.85,760.92,764.28,770.22,774.76,776.23,785.08,789.04,788.03,768.15,771.06,762.85,762.66,764.88,748.67,715.84,722.67,715.13,711.31,700.03,689.68,690.29,662.43,651.63,666.75,660.33,663.16,638.79,631.1,630.38,618.86,629.08,610.7,611.17,618.43,613.98,602.68,603.31,594.93,579.55,603.62,603.54,619.41,627.41,618.25,617.19,612.64,612.23,614.72,622.35,616.39,612.8,618.25,625.94,634.2,639.96,647.46,637.1,654.43,652.56,646.89,649.08,635.34,628.62,618.26,612.9,625.41,628.52,626.55,610.91,617.09,621.71,596.62,592.87,596.94,595.77,582.16,589.79,615.6,606.18,606.9,608.76,605.66,612.11,604.39,600.29,606.01,576.12,562.48,559.67,555.47,543.88,560.15,568.72,564.2,564.83,550.61,554.75,551.17,570.08,565.43,578.07,582.69,574.32],\"type\":\"scatter\",\"xaxis\":\"x\",\"yaxis\":\"y\"},{\"name\":\"RIGHT\",\"x\":[\"2017-10-31T00:00:00\",\"2017-11-30T00:00:00\",\"2017-12-31T00:00:00\",\"2018-01-31T00:00:00\",\"2018-02-28T00:00:00\",\"2018-03-31T00:00:00\",\"2018-04-30T00:00:00\",\"2018-05-31T00:00:00\",\"2018-06-30T00:00:00\",\"2018-07-31T00:00:00\",\"2018-08-31T00:00:00\",\"2018-09-30T00:00:00\",\"2018-10-31T00:00:00\",\"2018-11-30T00:00:00\",\"2018-12-31T00:00:00\",\"2019-01-31T00:00:00\",\"2019-02-28T00:00:00\",\"2019-03-31T00:00:00\",\"2019-04-30T00:00:00\",\"2019-05-31T00:00:00\",\"2019-06-30T00:00:00\",\"2019-07-31T00:00:00\",\"2019-08-31T00:00:00\",\"2019-09-30T00:00:00\",\"2019-10-31T00:00:00\",\"2019-11-30T00:00:00\",\"2019-12-31T00:00:00\",\"2020-01-31T00:00:00\",\"2020-02-29T00:00:00\",\"2020-03-31T00:00:00\",\"2020-04-30T00:00:00\",\"2020-05-31T00:00:00\",\"2020-06-30T00:00:00\",\"2020-07-31T00:00:00\",\"2020-08-31T00:00:00\",\"2020-09-30T00:00:00\",\"2020-10-31T00:00:00\",\"2020-11-30T00:00:00\",\"2020-12-31T00:00:00\",\"2021-01-31T00:00:00\",\"2021-02-28T00:00:00\",\"2021-03-31T00:00:00\",\"2021-04-30T00:00:00\",\"2021-05-31T00:00:00\",\"2021-06-30T00:00:00\",\"2021-07-31T00:00:00\",\"2021-08-31T00:00:00\",\"2021-09-30T00:00:00\",\"2021-10-31T00:00:00\",\"2021-11-30T00:00:00\",\"2021-12-31T00:00:00\",\"2022-01-31T00:00:00\",\"2022-02-28T00:00:00\",\"2022-03-31T00:00:00\",\"2022-04-30T00:00:00\",\"2022-05-31T00:00:00\",\"2022-06-30T00:00:00\",\"2022-07-31T00:00:00\",\"2022-08-31T00:00:00\"],\"xhoverformat\":\"%Y/%m/%d\",\"y\":[2.2800000000000002,2.2800000000000002,2.29,2.32,2.33,2.34,2.33,2.33,2.33,2.32,2.31,2.31,2.3000000000000003,2.2800000000000002,2.2800000000000002,2.27,2.2700000000000005,2.2800000000000002,2.2600000000000002,2.25,2.24,2.2,2.17,2.1499999999999995,2.12,2.12,2.15,2.15,2.16,2.1399999999999997,2.13,2.1100000000000003,2.09,2.08,2.06,2.04,2.0300000000000002,2.05,2.08,2.09,2.13,2.15,2.15,2.15,2.14,2.14,2.14,2.16,2.18,2.2,2.2,2.23,2.25,2.29,2.32,2.33,2.3499999999999996,2.3200000000000003,2.34],\"type\":\"scatter\",\"xaxis\":\"x\",\"yaxis\":\"y2\"},{\"name\":\"Rolling\",\"x\":[-4,-3,-2,-1,0,1,2,3,4],\"y\":[0.7136358462288082,0.7745238277217174,0.8111834293963844,0.762175187947009,0.6459166523387765,0.5634869488913223,0.4979120980208267,0.3984487164626235,0.2847373567112634],\"type\":\"scatter\",\"xaxis\":\"x2\",\"yaxis\":\"y3\"}],                        {\"template\":{\"data\":{\"histogram2dcontour\":[{\"type\":\"histogram2dcontour\",\"colorbar\":{\"outlinewidth\":0,\"ticks\":\"\"},\"colorscale\":[[0.0,\"#0d0887\"],[0.1111111111111111,\"#46039f\"],[0.2222222222222222,\"#7201a8\"],[0.3333333333333333,\"#9c179e\"],[0.4444444444444444,\"#bd3786\"],[0.5555555555555556,\"#d8576b\"],[0.6666666666666666,\"#ed7953\"],[0.7777777777777778,\"#fb9f3a\"],[0.8888888888888888,\"#fdca26\"],[1.0,\"#f0f921\"]]}],\"choropleth\":[{\"type\":\"choropleth\",\"colorbar\":{\"outlinewidth\":0,\"ticks\":\"\"}}],\"histogram2d\":[{\"type\":\"histogram2d\",\"colorbar\":{\"outlinewidth\":0,\"ticks\":\"\"},\"colorscale\":[[0.0,\"#0d0887\"],[0.1111111111111111,\"#46039f\"],[0.2222222222222222,\"#7201a8\"],[0.3333333333333333,\"#9c179e\"],[0.4444444444444444,\"#bd3786\"],[0.5555555555555556,\"#d8576b\"],[0.6666666666666666,\"#ed7953\"],[0.7777777777777778,\"#fb9f3a\"],[0.8888888888888888,\"#fdca26\"],[1.0,\"#f0f921\"]]}],\"heatmap\":[{\"type\":\"heatmap\",\"colorbar\":{\"outlinewidth\":0,\"ticks\":\"\"},\"colorscale\":[[0.0,\"#0d0887\"],[0.1111111111111111,\"#46039f\"],[0.2222222222222222,\"#7201a8\"],[0.3333333333333333,\"#9c179e\"],[0.4444444444444444,\"#bd3786\"],[0.5555555555555556,\"#d8576b\"],[0.6666666666666666,\"#ed7953\"],[0.7777777777777778,\"#fb9f3a\"],[0.8888888888888888,\"#fdca26\"],[1.0,\"#f0f921\"]]}],\"heatmapgl\":[{\"type\":\"heatmapgl\",\"colorbar\":{\"outlinewidth\":0,\"ticks\":\"\"},\"colorscale\":[[0.0,\"#0d0887\"],[0.1111111111111111,\"#46039f\"],[0.2222222222222222,\"#7201a8\"],[0.3333333333333333,\"#9c179e\"],[0.4444444444444444,\"#bd3786\"],[0.5555555555555556,\"#d8576b\"],[0.6666666666666666,\"#ed7953\"],[0.7777777777777778,\"#fb9f3a\"],[0.8888888888888888,\"#fdca26\"],[1.0,\"#f0f921\"]]}],\"contourcarpet\":[{\"type\":\"contourcarpet\",\"colorbar\":{\"outlinewidth\":0,\"ticks\":\"\"}}],\"contour\":[{\"type\":\"contour\",\"colorbar\":{\"outlinewidth\":0,\"ticks\":\"\"},\"colorscale\":[[0.0,\"#0d0887\"],[0.1111111111111111,\"#46039f\"],[0.2222222222222222,\"#7201a8\"],[0.3333333333333333,\"#9c179e\"],[0.4444444444444444,\"#bd3786\"],[0.5555555555555556,\"#d8576b\"],[0.6666666666666666,\"#ed7953\"],[0.7777777777777778,\"#fb9f3a\"],[0.8888888888888888,\"#fdca26\"],[1.0,\"#f0f921\"]]}],\"surface\":[{\"type\":\"surface\",\"colorbar\":{\"outlinewidth\":0,\"ticks\":\"\"},\"colorscale\":[[0.0,\"#0d0887\"],[0.1111111111111111,\"#46039f\"],[0.2222222222222222,\"#7201a8\"],[0.3333333333333333,\"#9c179e\"],[0.4444444444444444,\"#bd3786\"],[0.5555555555555556,\"#d8576b\"],[0.6666666666666666,\"#ed7953\"],[0.7777777777777778,\"#fb9f3a\"],[0.8888888888888888,\"#fdca26\"],[1.0,\"#f0f921\"]]}],\"mesh3d\":[{\"type\":\"mesh3d\",\"colorbar\":{\"outlinewidth\":0,\"ticks\":\"\"}}],\"scatter\":[{\"fillpattern\":{\"fillmode\":\"overlay\",\"size\":10,\"solidity\":0.2},\"type\":\"scatter\"}],\"parcoords\":[{\"type\":\"parcoords\",\"line\":{\"colorbar\":{\"outlinewidth\":0,\"ticks\":\"\"}}}],\"scatterpolargl\":[{\"type\":\"scatterpolargl\",\"marker\":{\"colorbar\":{\"outlinewidth\":0,\"ticks\":\"\"}}}],\"bar\":[{\"error_x\":{\"color\":\"#2a3f5f\"},\"error_y\":{\"color\":\"#2a3f5f\"},\"marker\":{\"line\":{\"color\":\"#E5ECF6\",\"width\":0.5},\"pattern\":{\"fillmode\":\"overlay\",\"size\":10,\"solidity\":0.2}},\"type\":\"bar\"}],\"scattergeo\":[{\"type\":\"scattergeo\",\"marker\":{\"colorbar\":{\"outlinewidth\":0,\"ticks\":\"\"}}}],\"scatterpolar\":[{\"type\":\"scatterpolar\",\"marker\":{\"colorbar\":{\"outlinewidth\":0,\"ticks\":\"\"}}}],\"histogram\":[{\"marker\":{\"pattern\":{\"fillmode\":\"overlay\",\"size\":10,\"solidity\":0.2}},\"type\":\"histogram\"}],\"scattergl\":[{\"type\":\"scattergl\",\"marker\":{\"colorbar\":{\"outlinewidth\":0,\"ticks\":\"\"}}}],\"scatter3d\":[{\"type\":\"scatter3d\",\"line\":{\"colorbar\":{\"outlinewidth\":0,\"ticks\":\"\"}},\"marker\":{\"colorbar\":{\"outlinewidth\":0,\"ticks\":\"\"}}}],\"scattermapbox\":[{\"type\":\"scattermapbox\",\"marker\":{\"colorbar\":{\"outlinewidth\":0,\"ticks\":\"\"}}}],\"scatterternary\":[{\"type\":\"scatterternary\",\"marker\":{\"colorbar\":{\"outlinewidth\":0,\"ticks\":\"\"}}}],\"scattercarpet\":[{\"type\":\"scattercarpet\",\"marker\":{\"colorbar\":{\"outlinewidth\":0,\"ticks\":\"\"}}}],\"carpet\":[{\"aaxis\":{\"endlinecolor\":\"#2a3f5f\",\"gridcolor\":\"white\",\"linecolor\":\"white\",\"minorgridcolor\":\"white\",\"startlinecolor\":\"#2a3f5f\"},\"baxis\":{\"endlinecolor\":\"#2a3f5f\",\"gridcolor\":\"white\",\"linecolor\":\"white\",\"minorgridcolor\":\"white\",\"startlinecolor\":\"#2a3f5f\"},\"type\":\"carpet\"}],\"table\":[{\"cells\":{\"fill\":{\"color\":\"#EBF0F8\"},\"line\":{\"color\":\"white\"}},\"header\":{\"fill\":{\"color\":\"#C8D4E3\"},\"line\":{\"color\":\"white\"}},\"type\":\"table\"}],\"barpolar\":[{\"marker\":{\"line\":{\"color\":\"#E5ECF6\",\"width\":0.5},\"pattern\":{\"fillmode\":\"overlay\",\"size\":10,\"solidity\":0.2}},\"type\":\"barpolar\"}],\"pie\":[{\"automargin\":true,\"type\":\"pie\"}]},\"layout\":{\"autotypenumbers\":\"strict\",\"colorway\":[\"#636efa\",\"#EF553B\",\"#00cc96\",\"#ab63fa\",\"#FFA15A\",\"#19d3f3\",\"#FF6692\",\"#B6E880\",\"#FF97FF\",\"#FECB52\"],\"font\":{\"color\":\"#2a3f5f\"},\"hovermode\":\"closest\",\"hoverlabel\":{\"align\":\"left\"},\"paper_bgcolor\":\"white\",\"plot_bgcolor\":\"#E5ECF6\",\"polar\":{\"bgcolor\":\"#E5ECF6\",\"angularaxis\":{\"gridcolor\":\"white\",\"linecolor\":\"white\",\"ticks\":\"\"},\"radialaxis\":{\"gridcolor\":\"white\",\"linecolor\":\"white\",\"ticks\":\"\"}},\"ternary\":{\"bgcolor\":\"#E5ECF6\",\"aaxis\":{\"gridcolor\":\"white\",\"linecolor\":\"white\",\"ticks\":\"\"},\"baxis\":{\"gridcolor\":\"white\",\"linecolor\":\"white\",\"ticks\":\"\"},\"caxis\":{\"gridcolor\":\"white\",\"linecolor\":\"white\",\"ticks\":\"\"}},\"coloraxis\":{\"colorbar\":{\"outlinewidth\":0,\"ticks\":\"\"}},\"colorscale\":{\"sequential\":[[0.0,\"#0d0887\"],[0.1111111111111111,\"#46039f\"],[0.2222222222222222,\"#7201a8\"],[0.3333333333333333,\"#9c179e\"],[0.4444444444444444,\"#bd3786\"],[0.5555555555555556,\"#d8576b\"],[0.6666666666666666,\"#ed7953\"],[0.7777777777777778,\"#fb9f3a\"],[0.8888888888888888,\"#fdca26\"],[1.0,\"#f0f921\"]],\"sequentialminus\":[[0.0,\"#0d0887\"],[0.1111111111111111,\"#46039f\"],[0.2222222222222222,\"#7201a8\"],[0.3333333333333333,\"#9c179e\"],[0.4444444444444444,\"#bd3786\"],[0.5555555555555556,\"#d8576b\"],[0.6666666666666666,\"#ed7953\"],[0.7777777777777778,\"#fb9f3a\"],[0.8888888888888888,\"#fdca26\"],[1.0,\"#f0f921\"]],\"diverging\":[[0,\"#8e0152\"],[0.1,\"#c51b7d\"],[0.2,\"#de77ae\"],[0.3,\"#f1b6da\"],[0.4,\"#fde0ef\"],[0.5,\"#f7f7f7\"],[0.6,\"#e6f5d0\"],[0.7,\"#b8e186\"],[0.8,\"#7fbc41\"],[0.9,\"#4d9221\"],[1,\"#276419\"]]},\"xaxis\":{\"gridcolor\":\"white\",\"linecolor\":\"white\",\"ticks\":\"\",\"title\":{\"standoff\":15},\"zerolinecolor\":\"white\",\"automargin\":true,\"zerolinewidth\":2},\"yaxis\":{\"gridcolor\":\"white\",\"linecolor\":\"white\",\"ticks\":\"\",\"title\":{\"standoff\":15},\"zerolinecolor\":\"white\",\"automargin\":true,\"zerolinewidth\":2},\"scene\":{\"xaxis\":{\"backgroundcolor\":\"#E5ECF6\",\"gridcolor\":\"white\",\"linecolor\":\"white\",\"showbackground\":true,\"ticks\":\"\",\"zerolinecolor\":\"white\",\"gridwidth\":2},\"yaxis\":{\"backgroundcolor\":\"#E5ECF6\",\"gridcolor\":\"white\",\"linecolor\":\"white\",\"showbackground\":true,\"ticks\":\"\",\"zerolinecolor\":\"white\",\"gridwidth\":2},\"zaxis\":{\"backgroundcolor\":\"#E5ECF6\",\"gridcolor\":\"white\",\"linecolor\":\"white\",\"showbackground\":true,\"ticks\":\"\",\"zerolinecolor\":\"white\",\"gridwidth\":2}},\"shapedefaults\":{\"line\":{\"color\":\"#2a3f5f\"}},\"annotationdefaults\":{\"arrowcolor\":\"#2a3f5f\",\"arrowhead\":0,\"arrowwidth\":1},\"geo\":{\"bgcolor\":\"white\",\"landcolor\":\"#E5ECF6\",\"subunitcolor\":\"white\",\"showland\":true,\"showlakes\":true,\"lakecolor\":\"white\"},\"title\":{\"x\":0.05},\"mapbox\":{\"style\":\"light\"}}},\"xaxis\":{\"anchor\":\"y\",\"domain\":[0.0,0.94]},\"yaxis\":{\"anchor\":\"x\",\"domain\":[0.314,1.0]},\"yaxis2\":{\"anchor\":\"x\",\"overlaying\":\"y\",\"side\":\"right\"},\"xaxis2\":{\"anchor\":\"y3\",\"domain\":[0.0,0.94]},\"yaxis3\":{\"anchor\":\"x2\",\"domain\":[0.0,0.294]},\"height\":700},                        {\"responsive\": true}                    ).then(function(){\n",
       "                            \n",
       "var gd = document.getElementById('2292b875-e068-4836-941f-d2190ae6731c');\n",
       "var x = new MutationObserver(function (mutations, observer) {{\n",
       "        var display = window.getComputedStyle(gd).display;\n",
       "        if (!display || display === 'none') {{\n",
       "            console.log([gd, 'removed!']);\n",
       "            Plotly.purge(gd);\n",
       "            observer.disconnect();\n",
       "        }}\n",
       "}});\n",
       "\n",
       "// Listen for the removal of the full notebook cells\n",
       "var notebookContainer = gd.closest('#notebook-container');\n",
       "if (notebookContainer) {{\n",
       "    x.observe(notebookContainer, {childList: true});\n",
       "}}\n",
       "\n",
       "// Listen for the clearing of the current output cell\n",
       "var outputEl = gd.closest('.output');\n",
       "if (outputEl) {{\n",
       "    x.observe(outputEl, {childList: true});\n",
       "}}\n",
       "\n",
       "                        })                };                });            </script>        </div>"
      ]
     },
     "metadata": {},
     "output_type": "display_data"
    }
   ],
   "source": [
    "y1 = left.종가\n",
    "# y2 = right.종가\n",
    "y2 = right\n",
    "\n",
    "fig = make_subplots(\n",
    "    rows=2, cols=1, row_width=[0.3, 0.7], vertical_spacing=0.02, shared_xaxes=False,\n",
    "    specs=[\n",
    "        [{\"type\": \"xy\", \"secondary_y\": True}],\n",
    "        [{\"type\": \"xy\"}]\n",
    "    ]\n",
    ")\n",
    "\n",
    "fig.add_trace(go.Scatter(\n",
    "    x=y1.index, y=y1, name='LEFT',\n",
    "    xhoverformat='%Y/%m/%d'\n",
    "), row=1, col=1, secondary_y=False)\n",
    "\n",
    "fig.add_trace(go.Scatter(\n",
    "    x=y2.index, y=y2, name='RIGHT',\n",
    "    xhoverformat='%Y/%m/%d'\n",
    "), row=1, col=1, secondary_y=True)\n",
    "\n",
    "fig.add_trace(go.Scatter(\n",
    "    x=rl.days, y=rl.corrcoef, name='Rolling'\n",
    "), row=2, col=1)\n",
    "\n",
    "fig.update_layout(height=700)\n",
    "fig.show()"
   ]
  }
 ],
 "metadata": {
  "kernelspec": {
   "display_name": "Python 3 (ipykernel)",
   "language": "python",
   "name": "python3"
  },
  "language_info": {
   "codemirror_mode": {
    "name": "ipython",
    "version": 3
   },
   "file_extension": ".py",
   "mimetype": "text/x-python",
   "name": "python",
   "nbconvert_exporter": "python",
   "pygments_lexer": "ipython3",
   "version": "3.10.3"
  },
  "toc": {
   "base_numbering": 1,
   "nav_menu": {},
   "number_sections": true,
   "sideBar": true,
   "skip_h1_title": false,
   "title_cell": "Table of Contents",
   "title_sidebar": "Contents",
   "toc_cell": false,
   "toc_position": {
    "height": "calc(100% - 180px)",
    "left": "10px",
    "top": "150px",
    "width": "274px"
   },
   "toc_section_display": true,
   "toc_window_display": true
  }
 },
 "nbformat": 4,
 "nbformat_minor": 5
}
