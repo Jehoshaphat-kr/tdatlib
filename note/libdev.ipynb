{
 "cells": [
  {
   "cell_type": "code",
   "execution_count": 1,
   "id": "95ac11cb",
   "metadata": {},
   "outputs": [
    {
     "name": "stdout",
     "output_type": "stream",
     "text": [
      "D:\\J.H.LEE\\05. CODING\\Python\\Project\\tdatlib\n"
     ]
    }
   ],
   "source": [
    "cd .."
   ]
  },
  {
   "cell_type": "code",
   "execution_count": 2,
   "id": "f2de498e",
   "metadata": {},
   "outputs": [
    {
     "data": {
      "text/html": [
       "<style>.container { width:80% !important;}</style>"
      ],
      "text/plain": [
       "<IPython.core.display.HTML object>"
      ]
     },
     "metadata": {},
     "output_type": "display_data"
    }
   ],
   "source": [
    "# For Library\n",
    "import plotly.graph_objects as go\n",
    "import pandas as pd\n",
    "import numpy as np\n",
    "from plotly.subplots import make_subplots\n",
    "from datetime import timedelta\n",
    "\n",
    "# For Testing\n",
    "import tdatlib as tdat\n",
    "from IPython.display import display, HTML\n",
    "display(HTML(\"<style>.container { width:80% !important;}</style>\"))"
   ]
  },
  {
   "cell_type": "markdown",
   "id": "351ec43b",
   "metadata": {},
   "source": [
    "# LIB DEV"
   ]
  },
  {
   "cell_type": "markdown",
   "id": "461e6398",
   "metadata": {},
   "source": [
    "## Functionality"
   ]
  },
  {
   "cell_type": "code",
   "execution_count": 4,
   "id": "38e5bec5",
   "metadata": {},
   "outputs": [],
   "source": [
    "def normalize(time_series:pd.Series or np.array, a:float=0, b:float=1):\n",
    "    return (b - a) * (time_series - time_series.min()) / (time_series.max() - time_series.min()) + a"
   ]
  },
  {
   "cell_type": "code",
   "execution_count": 5,
   "id": "683b74c5",
   "metadata": {},
   "outputs": [],
   "source": [
    "def price_rel(time_series:pd.Series or pd.DataFrame, init:float=100):\n",
    "    return init * ((time_series.dropna().pct_change() + 1).cumprod() - 1)"
   ]
  },
  {
   "cell_type": "code",
   "execution_count": 6,
   "id": "e909f98b",
   "metadata": {},
   "outputs": [],
   "source": [
    "def price_hlc(ohlcv:pd.DataFrame) -> pd.Series:\n",
    "    if not ('종가' in ohlcv.columns and '고가' in ohlcv.columns and '저가' in ohlcv.columns):\n",
    "        raise KeyError\n",
    "    return (1/3) * ohlcv.종가 + (1/3) * ohlcv.고가 + (1/3) * ohlcv.저가"
   ]
  },
  {
   "cell_type": "code",
   "execution_count": 12,
   "id": "157ace36",
   "metadata": {},
   "outputs": [],
   "source": [
    "def corrcoeff(l:pd.Series, r:pd.Series):\n",
    "    join = pd.concat(objs=[l, r], axis=1).dropna()\n",
    "    join = join[join.index.isin(l.index)]\n",
    "    return join.corr(method='pearson', min_periods=1).iloc[0, 1]"
   ]
  },
  {
   "cell_type": "markdown",
   "id": "a00c8a8f",
   "metadata": {},
   "source": [
    "# TESTER"
   ]
  },
  {
   "cell_type": "markdown",
   "id": "3ed2fa9d",
   "metadata": {},
   "source": [
    "## BASIC DATASET"
   ]
  },
  {
   "cell_type": "markdown",
   "id": "13297346",
   "metadata": {},
   "source": [
    "### Handler"
   ]
  },
  {
   "cell_type": "code",
   "execution_count": 8,
   "id": "1268e480",
   "metadata": {},
   "outputs": [],
   "source": [
    "ecos = tdat.macro.ecos()\n",
    "fred = tdat.macro.fred()\n",
    "index = tdat.market.index()\n",
    "\n",
    "period = 10\n",
    "ecos.period = fred.period = index.period = period\n",
    "\n",
    "ticker = '105560'\n",
    "stock = tdat.stock.kr(ticker=ticker)\n",
    "stock.period = period"
   ]
  },
  {
   "cell_type": "markdown",
   "id": "974330c0",
   "metadata": {},
   "source": [
    "### Indicator"
   ]
  },
  {
   "cell_type": "code",
   "execution_count": 18,
   "id": "7ade9c43",
   "metadata": {},
   "outputs": [
    {
     "data": {
      "text/html": [
       "<div>\n",
       "<style scoped>\n",
       "    .dataframe tbody tr th:only-of-type {\n",
       "        vertical-align: middle;\n",
       "    }\n",
       "\n",
       "    .dataframe tbody tr th {\n",
       "        vertical-align: top;\n",
       "    }\n",
       "\n",
       "    .dataframe thead tr th {\n",
       "        text-align: left;\n",
       "    }\n",
       "</style>\n",
       "<table border=\"1\" class=\"dataframe\">\n",
       "  <thead>\n",
       "    <tr>\n",
       "      <th></th>\n",
       "      <th colspan=\"4\" halign=\"left\">KB금융</th>\n",
       "      <th colspan=\"4\" halign=\"left\">환율</th>\n",
       "      <th colspan=\"4\" halign=\"left\">은행</th>\n",
       "    </tr>\n",
       "    <tr>\n",
       "      <th></th>\n",
       "      <th>시가</th>\n",
       "      <th>고가</th>\n",
       "      <th>저가</th>\n",
       "      <th>종가</th>\n",
       "      <th>시가</th>\n",
       "      <th>고가</th>\n",
       "      <th>저가</th>\n",
       "      <th>종가</th>\n",
       "      <th>시가</th>\n",
       "      <th>고가</th>\n",
       "      <th>저가</th>\n",
       "      <th>종가</th>\n",
       "    </tr>\n",
       "  </thead>\n",
       "  <tbody>\n",
       "    <tr>\n",
       "      <th>2012-10-22</th>\n",
       "      <td>38500</td>\n",
       "      <td>39000</td>\n",
       "      <td>38050</td>\n",
       "      <td>39000</td>\n",
       "      <td>1106.0</td>\n",
       "      <td>1106.5</td>\n",
       "      <td>1103.7</td>\n",
       "      <td>1104.2</td>\n",
       "      <td>702.56</td>\n",
       "      <td>710.71</td>\n",
       "      <td>702.09</td>\n",
       "      <td>710.65</td>\n",
       "    </tr>\n",
       "    <tr>\n",
       "      <th>2012-10-23</th>\n",
       "      <td>38700</td>\n",
       "      <td>38850</td>\n",
       "      <td>37450</td>\n",
       "      <td>38100</td>\n",
       "      <td>1101.5</td>\n",
       "      <td>1103.4</td>\n",
       "      <td>1100.0</td>\n",
       "      <td>1103.1</td>\n",
       "      <td>708.44</td>\n",
       "      <td>710.14</td>\n",
       "      <td>695.50</td>\n",
       "      <td>699.11</td>\n",
       "    </tr>\n",
       "    <tr>\n",
       "      <th>2012-10-24</th>\n",
       "      <td>37650</td>\n",
       "      <td>38200</td>\n",
       "      <td>37450</td>\n",
       "      <td>37750</td>\n",
       "      <td>1106.0</td>\n",
       "      <td>1106.0</td>\n",
       "      <td>1102.6</td>\n",
       "      <td>1103.6</td>\n",
       "      <td>692.08</td>\n",
       "      <td>698.34</td>\n",
       "      <td>690.80</td>\n",
       "      <td>692.75</td>\n",
       "    </tr>\n",
       "    <tr>\n",
       "      <th>2012-10-25</th>\n",
       "      <td>37300</td>\n",
       "      <td>37600</td>\n",
       "      <td>36850</td>\n",
       "      <td>37300</td>\n",
       "      <td>1103.4</td>\n",
       "      <td>1103.5</td>\n",
       "      <td>1097.7</td>\n",
       "      <td>1098.2</td>\n",
       "      <td>687.32</td>\n",
       "      <td>691.28</td>\n",
       "      <td>684.14</td>\n",
       "      <td>690.57</td>\n",
       "    </tr>\n",
       "    <tr>\n",
       "      <th>2012-10-26</th>\n",
       "      <td>37200</td>\n",
       "      <td>37950</td>\n",
       "      <td>37000</td>\n",
       "      <td>37000</td>\n",
       "      <td>1096.5</td>\n",
       "      <td>1098.3</td>\n",
       "      <td>1094.8</td>\n",
       "      <td>1097.0</td>\n",
       "      <td>686.32</td>\n",
       "      <td>696.73</td>\n",
       "      <td>683.42</td>\n",
       "      <td>685.23</td>\n",
       "    </tr>\n",
       "    <tr>\n",
       "      <th>...</th>\n",
       "      <td>...</td>\n",
       "      <td>...</td>\n",
       "      <td>...</td>\n",
       "      <td>...</td>\n",
       "      <td>...</td>\n",
       "      <td>...</td>\n",
       "      <td>...</td>\n",
       "      <td>...</td>\n",
       "      <td>...</td>\n",
       "      <td>...</td>\n",
       "      <td>...</td>\n",
       "      <td>...</td>\n",
       "    </tr>\n",
       "    <tr>\n",
       "      <th>2022-10-13</th>\n",
       "      <td>44700</td>\n",
       "      <td>45600</td>\n",
       "      <td>44500</td>\n",
       "      <td>44700</td>\n",
       "      <td>1424.5</td>\n",
       "      <td>1431.4</td>\n",
       "      <td>1423.2</td>\n",
       "      <td>1431.3</td>\n",
       "      <td>553.55</td>\n",
       "      <td>559.55</td>\n",
       "      <td>550.02</td>\n",
       "      <td>551.17</td>\n",
       "    </tr>\n",
       "    <tr>\n",
       "      <th>2022-10-14</th>\n",
       "      <td>45550</td>\n",
       "      <td>47100</td>\n",
       "      <td>45550</td>\n",
       "      <td>46750</td>\n",
       "      <td>1431.5</td>\n",
       "      <td>1434.2</td>\n",
       "      <td>1425.0</td>\n",
       "      <td>1428.5</td>\n",
       "      <td>561.64</td>\n",
       "      <td>574.50</td>\n",
       "      <td>560.62</td>\n",
       "      <td>570.08</td>\n",
       "    </tr>\n",
       "    <tr>\n",
       "      <th>2022-10-17</th>\n",
       "      <td>46000</td>\n",
       "      <td>46950</td>\n",
       "      <td>45800</td>\n",
       "      <td>45900</td>\n",
       "      <td>1440.9</td>\n",
       "      <td>1441.4</td>\n",
       "      <td>1432.4</td>\n",
       "      <td>1435.3</td>\n",
       "      <td>561.19</td>\n",
       "      <td>567.98</td>\n",
       "      <td>560.58</td>\n",
       "      <td>565.43</td>\n",
       "    </tr>\n",
       "    <tr>\n",
       "      <th>2022-10-18</th>\n",
       "      <td>46500</td>\n",
       "      <td>47600</td>\n",
       "      <td>46350</td>\n",
       "      <td>47350</td>\n",
       "      <td>1430.0</td>\n",
       "      <td>1431.3</td>\n",
       "      <td>1418.7</td>\n",
       "      <td>1422.7</td>\n",
       "      <td>576.46</td>\n",
       "      <td>579.59</td>\n",
       "      <td>570.26</td>\n",
       "      <td>578.07</td>\n",
       "    </tr>\n",
       "    <tr>\n",
       "      <th>2022-10-19</th>\n",
       "      <td>47700</td>\n",
       "      <td>48150</td>\n",
       "      <td>47400</td>\n",
       "      <td>47950</td>\n",
       "      <td>NaN</td>\n",
       "      <td>NaN</td>\n",
       "      <td>NaN</td>\n",
       "      <td>NaN</td>\n",
       "      <td>581.04</td>\n",
       "      <td>589.41</td>\n",
       "      <td>581.04</td>\n",
       "      <td>583.32</td>\n",
       "    </tr>\n",
       "  </tbody>\n",
       "</table>\n",
       "<p>2458 rows × 12 columns</p>\n",
       "</div>"
      ],
      "text/plain": [
       "             KB금융                           환율                          \\\n",
       "               시가     고가     저가     종가      시가      고가      저가      종가   \n",
       "2012-10-22  38500  39000  38050  39000  1106.0  1106.5  1103.7  1104.2   \n",
       "2012-10-23  38700  38850  37450  38100  1101.5  1103.4  1100.0  1103.1   \n",
       "2012-10-24  37650  38200  37450  37750  1106.0  1106.0  1102.6  1103.6   \n",
       "2012-10-25  37300  37600  36850  37300  1103.4  1103.5  1097.7  1098.2   \n",
       "2012-10-26  37200  37950  37000  37000  1096.5  1098.3  1094.8  1097.0   \n",
       "...           ...    ...    ...    ...     ...     ...     ...     ...   \n",
       "2022-10-13  44700  45600  44500  44700  1424.5  1431.4  1423.2  1431.3   \n",
       "2022-10-14  45550  47100  45550  46750  1431.5  1434.2  1425.0  1428.5   \n",
       "2022-10-17  46000  46950  45800  45900  1440.9  1441.4  1432.4  1435.3   \n",
       "2022-10-18  46500  47600  46350  47350  1430.0  1431.3  1418.7  1422.7   \n",
       "2022-10-19  47700  48150  47400  47950     NaN     NaN     NaN     NaN   \n",
       "\n",
       "                은행                          \n",
       "                시가      고가      저가      종가  \n",
       "2012-10-22  702.56  710.71  702.09  710.65  \n",
       "2012-10-23  708.44  710.14  695.50  699.11  \n",
       "2012-10-24  692.08  698.34  690.80  692.75  \n",
       "2012-10-25  687.32  691.28  684.14  690.57  \n",
       "2012-10-26  686.32  696.73  683.42  685.23  \n",
       "...            ...     ...     ...     ...  \n",
       "2022-10-13  553.55  559.55  550.02  551.17  \n",
       "2022-10-14  561.64  574.50  560.62  570.08  \n",
       "2022-10-17  561.19  567.98  560.58  565.43  \n",
       "2022-10-18  576.46  579.59  570.26  578.07  \n",
       "2022-10-19  581.04  589.41  581.04  583.32  \n",
       "\n",
       "[2458 rows x 12 columns]"
      ]
     },
     "execution_count": 18,
     "metadata": {},
     "output_type": "execute_result"
    }
   ],
   "source": [
    "cols = ['시가', '고가', '저가', '종가']\n",
    "kospi = index.kospi\n",
    "krbank = index.bank\n",
    "exchange = ecos.원달러환율\n",
    "\n",
    "ohlcv = stock.ohlcv\n",
    "pd.concat(objs={stock.name:ohlcv[cols], '환율':exchange, '은행':krbank[cols]}, axis=1)"
   ]
  },
  {
   "cell_type": "markdown",
   "id": "a04fcb33",
   "metadata": {},
   "source": [
    "## TESTING DATASET"
   ]
  },
  {
   "cell_type": "code",
   "execution_count": 19,
   "id": "f8e2fc92",
   "metadata": {},
   "outputs": [
    {
     "name": "stdout",
     "output_type": "stream",
     "text": [
      "KB금융\n",
      "-0.5091720178091894\n",
      "-0.5102482107499312\n",
      "-0.5091720178091849\n",
      "-0.5092586385849106\n"
     ]
    }
   ],
   "source": [
    "basic = corrcoef(krbank.종가, exchange.종가)\n",
    "hlc = corrcoeff(price_hlc(krbank), price_hlc(exchange))\n",
    "norm = corrcoeff(normalize(krbank.종가), normalize(exchange.종가))\n",
    "rel = corrcoeff(price_rel(krbank.종가), price_rel(exchange.종가))\n",
    "\n",
    "print(basic)\n",
    "print(hlc)\n",
    "print(norm)\n",
    "print(rel)"
   ]
  },
  {
   "cell_type": "markdown",
   "id": "716bf17c",
   "metadata": {},
   "source": [
    "## VISUALIZE"
   ]
  },
  {
   "cell_type": "code",
   "execution_count": null,
   "id": "7acfde17",
   "metadata": {},
   "outputs": [],
   "source": []
  }
 ],
 "metadata": {
  "kernelspec": {
   "display_name": "Python 3 (ipykernel)",
   "language": "python",
   "name": "python3"
  },
  "language_info": {
   "codemirror_mode": {
    "name": "ipython",
    "version": 3
   },
   "file_extension": ".py",
   "mimetype": "text/x-python",
   "name": "python",
   "nbconvert_exporter": "python",
   "pygments_lexer": "ipython3",
   "version": "3.8.6"
  },
  "toc": {
   "base_numbering": 1,
   "nav_menu": {},
   "number_sections": true,
   "sideBar": true,
   "skip_h1_title": false,
   "title_cell": "Table of Contents",
   "title_sidebar": "Contents",
   "toc_cell": false,
   "toc_position": {},
   "toc_section_display": true,
   "toc_window_display": true
  }
 },
 "nbformat": 4,
 "nbformat_minor": 5
}
