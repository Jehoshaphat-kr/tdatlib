{
 "cells": [
  {
   "cell_type": "code",
   "execution_count": 1,
   "id": "79e3a4f3",
   "metadata": {
    "ExecuteTime": {
     "end_time": "2022-10-05T13:40:54.528095Z",
     "start_time": "2022-10-05T13:40:54.501167Z"
    }
   },
   "outputs": [
    {
     "name": "stdout",
     "output_type": "stream",
     "text": [
      "D:\\J.H.LEE\\05. CODING\\Python\\Project\\tdatlib\n"
     ]
    }
   ],
   "source": [
    "cd .."
   ]
  },
  {
   "cell_type": "code",
   "execution_count": 2,
   "id": "739a8e1b",
   "metadata": {
    "ExecuteTime": {
     "end_time": "2022-10-05T13:40:58.840111Z",
     "start_time": "2022-10-05T13:40:54.531087Z"
    }
   },
   "outputs": [
    {
     "data": {
      "text/html": [
       "<style>.container { width:80% !important;}</style>"
      ],
      "text/plain": [
       "<IPython.core.display.HTML object>"
      ]
     },
     "metadata": {},
     "output_type": "display_data"
    }
   ],
   "source": [
    "import plotly.graph_objects as go\n",
    "import pandas as pd\n",
    "import tdatlib as tlib\n",
    "from plotly.subplots import make_subplots\n",
    "from IPython.display import display, HTML\n",
    "display(HTML(\"<style>.container { width:80% !important;}</style>\"))"
   ]
  },
  {
   "cell_type": "markdown",
   "id": "538066a2",
   "metadata": {},
   "source": [
    "# Initialize"
   ]
  },
  {
   "cell_type": "code",
   "execution_count": 4,
   "id": "e966940c",
   "metadata": {
    "ExecuteTime": {
     "end_time": "2022-10-05T13:41:02.698796Z",
     "start_time": "2022-10-05T13:40:58.844097Z"
    }
   },
   "outputs": [],
   "source": [
    "ecos, fred = tlib.macro.ecos(), tlib.macro.fred()\n",
    "market = tlib.market.KR()\n",
    "index = tlib.index()\n",
    "index.data.period = ecos.period = fred.period = 20\n",
    "\n",
    "tickers = pd.DataFrame(\n",
    "    data=[\n",
    "        dict(ticker=\"5046\",   종류=\"지수\", 이름=\"KRX은행\"),\n",
    "        dict(ticker=\"091170\", 종류=\"ETF\", 이름=\"KODEX은행\"),\n",
    "        dict(ticker=\"091220\", 종류=\"ETF\", 이름=\"TIGER은행\"),\n",
    "        dict(ticker=\"105560\", 종류=\"주식\", 이름=\"KB금융\"),\n",
    "        dict(ticker=\"086790\", 종류=\"주식\", 이름=\"하나금융지주\"),\n",
    "        dict(ticker=\"139130\", 종류=\"주식\", 이름=\"DGB금융지주\"),\n",
    "        dict(ticker=\"055550\", 종류=\"주식\", 이름=\"신한지주\"),\n",
    "        dict(ticker=\"024110\", 종류=\"주식\", 이름=\"기업은행\"),\n",
    "        dict(ticker=\"138930\", 종류=\"주식\", 이름=\"BNK금융지주\"),\n",
    "        dict(ticker=\"316140\", 종류=\"주식\", 이름=\"우리금융지주\"),\n",
    "        dict(ticker=\"038540\", 종류=\"주식\", 이름=\"상상인\"),\n",
    "    ]\n",
    ").set_index(keys='ticker').join(other=market.icm)\n",
    "\n",
    "stock_objs = {ticker: tlib.stock.kr(ticker=ticker) for ticker in tickers[tickers.종류 == '주식'].index}"
   ]
  },
  {
   "cell_type": "code",
   "execution_count": 5,
   "id": "437f12ab",
   "metadata": {
    "ExecuteTime": {
     "end_time": "2022-10-05T13:41:02.714754Z",
     "start_time": "2022-10-05T13:41:02.702787Z"
    }
   },
   "outputs": [],
   "source": [
    "# 레이아웃\n",
    "layout = dict(\n",
    "    plot_bgcolor='white',\n",
    "    height=750,\n",
    "    legend=dict(\n",
    "        orientation=\"h\",\n",
    "        xanchor=\"right\", yanchor=\"bottom\",\n",
    "        x=0.96, y=1,\n",
    "    ),\n",
    ")"
   ]
  },
  {
   "cell_type": "markdown",
   "id": "4a8bf7aa",
   "metadata": {},
   "source": [
    "# Data Collection"
   ]
  },
  {
   "cell_type": "markdown",
   "id": "02d44649",
   "metadata": {},
   "source": [
    "## KRX은행지수"
   ]
  },
  {
   "cell_type": "code",
   "execution_count": 10,
   "id": "2022f6bf",
   "metadata": {
    "ExecuteTime": {
     "end_time": "2022-10-05T13:41:07.412962Z",
     "start_time": "2022-10-05T13:41:02.718743Z"
    }
   },
   "outputs": [],
   "source": [
    "# KRX 은행 지수\n",
    "krx_bank = index.data.bank\n",
    "krx_bank_trace = tlib.toolbox.tracer.line(krx_bank, 'KRX은행')\n",
    "krx_bank_trace.lineconfig(dict(color='black', width=1))"
   ]
  },
  {
   "cell_type": "markdown",
   "id": "f13536f9",
   "metadata": {},
   "source": [
    "## 수신/대출 금리 정보"
   ]
  },
  {
   "cell_type": "code",
   "execution_count": 17,
   "id": "3d820193",
   "metadata": {
    "ExecuteTime": {
     "end_time": "2022-10-05T13:41:14.602992Z",
     "start_time": "2022-10-05T13:41:07.415914Z"
    }
   },
   "outputs": [
    {
     "data": {
      "text/html": [
       "<div>\n",
       "<style scoped>\n",
       "    .dataframe tbody tr th:only-of-type {\n",
       "        vertical-align: middle;\n",
       "    }\n",
       "\n",
       "    .dataframe tbody tr th {\n",
       "        vertical-align: top;\n",
       "    }\n",
       "\n",
       "    .dataframe thead th {\n",
       "        text-align: right;\n",
       "    }\n",
       "</style>\n",
       "<table border=\"1\" class=\"dataframe\">\n",
       "  <thead>\n",
       "    <tr style=\"text-align: right;\">\n",
       "      <th></th>\n",
       "      <th>수신신규 121Y002</th>\n",
       "      <th>수신잔액 121Y013</th>\n",
       "      <th>대출신규 121Y006</th>\n",
       "      <th>대출잔액 121Y015</th>\n",
       "    </tr>\n",
       "  </thead>\n",
       "  <tbody>\n",
       "    <tr>\n",
       "      <th>0</th>\n",
       "      <td>저축성수신</td>\n",
       "      <td>총수신(요구불예금 및 수시입출식 저축성예금 포함)</td>\n",
       "      <td>대출평균 1)</td>\n",
       "      <td>총대출 1)</td>\n",
       "    </tr>\n",
       "    <tr>\n",
       "      <th>3</th>\n",
       "      <td>순수저축성예금 1)</td>\n",
       "      <td>수시입출식 저축성예금</td>\n",
       "      <td>기업대출</td>\n",
       "      <td>총대출(당좌대출 제외)</td>\n",
       "    </tr>\n",
       "    <tr>\n",
       "      <th>6</th>\n",
       "      <td>정기예금</td>\n",
       "      <td>저축성수신(요구불예금 및 수시입출식 저축성예금 제외)</td>\n",
       "      <td>대기업대출</td>\n",
       "      <td>기업대출 2)</td>\n",
       "    </tr>\n",
       "    <tr>\n",
       "      <th>9</th>\n",
       "      <td>정기예금(6개월 미만) 2)</td>\n",
       "      <td>저축성수신(금융채 제외)</td>\n",
       "      <td>중소기업대출</td>\n",
       "      <td>대기업대출</td>\n",
       "    </tr>\n",
       "    <tr>\n",
       "      <th>12</th>\n",
       "      <td>정기예금(6개월~1년 미만) 2)</td>\n",
       "      <td>순수저축성예금</td>\n",
       "      <td>운전자금대출</td>\n",
       "      <td>중소기업대출</td>\n",
       "    </tr>\n",
       "    <tr>\n",
       "      <th>15</th>\n",
       "      <td>정기예금(1~2년 미만) 2)</td>\n",
       "      <td>정기예금</td>\n",
       "      <td>시설자금대출</td>\n",
       "      <td>운전자금대출</td>\n",
       "    </tr>\n",
       "    <tr>\n",
       "      <th>18</th>\n",
       "      <td>정기예금(2~3년 미만)</td>\n",
       "      <td>정기적금</td>\n",
       "      <td>가계대출</td>\n",
       "      <td>시설자금대출</td>\n",
       "    </tr>\n",
       "    <tr>\n",
       "      <th>21</th>\n",
       "      <td>정기예금(3~4년 미만)</td>\n",
       "      <td>상호부금</td>\n",
       "      <td>소액대출 (500만원 이하)</td>\n",
       "      <td>가계대출 2)</td>\n",
       "    </tr>\n",
       "    <tr>\n",
       "      <th>24</th>\n",
       "      <td>정기예금(4~5년 미만)</td>\n",
       "      <td>주택부금</td>\n",
       "      <td>주택담보대출</td>\n",
       "      <td>소액대출 (500만원 이하)</td>\n",
       "    </tr>\n",
       "    <tr>\n",
       "      <th>27</th>\n",
       "      <td>정기예금(5년 이상)</td>\n",
       "      <td>시장형금융상품</td>\n",
       "      <td>예·적금담보대출</td>\n",
       "      <td>주택담보대출</td>\n",
       "    </tr>\n",
       "    <tr>\n",
       "      <th>30</th>\n",
       "      <td>정기예금(1년)</td>\n",
       "      <td>양도성예금증서</td>\n",
       "      <td>보증대출</td>\n",
       "      <td>예·적금담보대출</td>\n",
       "    </tr>\n",
       "    <tr>\n",
       "      <th>33</th>\n",
       "      <td>정기적금</td>\n",
       "      <td>환매조건부채권매도</td>\n",
       "      <td>일반신용대출 2)</td>\n",
       "      <td>보증대출</td>\n",
       "    </tr>\n",
       "    <tr>\n",
       "      <th>36</th>\n",
       "      <td>정기적금(3-4년)</td>\n",
       "      <td>표지어음</td>\n",
       "      <td>집단대출 2)</td>\n",
       "      <td>일반신용대출 3)</td>\n",
       "    </tr>\n",
       "    <tr>\n",
       "      <th>39</th>\n",
       "      <td>상호부금</td>\n",
       "      <td>금융채 1)</td>\n",
       "      <td>공공및기타부문대출</td>\n",
       "      <td>집단대출 3)</td>\n",
       "    </tr>\n",
       "    <tr>\n",
       "      <th>42</th>\n",
       "      <td>상호부금(3-4년)</td>\n",
       "      <td>저축예금</td>\n",
       "      <td>상업어음할인</td>\n",
       "      <td>공공및기타부문대출</td>\n",
       "    </tr>\n",
       "    <tr>\n",
       "      <th>45</th>\n",
       "      <td>주택부금</td>\n",
       "      <td>개인MMDA</td>\n",
       "      <td>기업일반자금대출</td>\n",
       "      <td>당좌대출 4)</td>\n",
       "    </tr>\n",
       "    <tr>\n",
       "      <th>48</th>\n",
       "      <td>시장형금융상품</td>\n",
       "      <td>기업자유예금</td>\n",
       "      <td>NaN</td>\n",
       "      <td>NaN</td>\n",
       "    </tr>\n",
       "    <tr>\n",
       "      <th>51</th>\n",
       "      <td>양도성예금증서</td>\n",
       "      <td>기업MMDA</td>\n",
       "      <td>NaN</td>\n",
       "      <td>NaN</td>\n",
       "    </tr>\n",
       "    <tr>\n",
       "      <th>54</th>\n",
       "      <td>양도성예금증서(91일)</td>\n",
       "      <td>요구불예금</td>\n",
       "      <td>NaN</td>\n",
       "      <td>NaN</td>\n",
       "    </tr>\n",
       "    <tr>\n",
       "      <th>57</th>\n",
       "      <td>환매조건부채권매도</td>\n",
       "      <td>NaN</td>\n",
       "      <td>NaN</td>\n",
       "      <td>NaN</td>\n",
       "    </tr>\n",
       "    <tr>\n",
       "      <th>60</th>\n",
       "      <td>환매조건부채권매도(91-180일)</td>\n",
       "      <td>NaN</td>\n",
       "      <td>NaN</td>\n",
       "      <td>NaN</td>\n",
       "    </tr>\n",
       "    <tr>\n",
       "      <th>63</th>\n",
       "      <td>표지어음</td>\n",
       "      <td>NaN</td>\n",
       "      <td>NaN</td>\n",
       "      <td>NaN</td>\n",
       "    </tr>\n",
       "    <tr>\n",
       "      <th>66</th>\n",
       "      <td>표지어음(91-120일)</td>\n",
       "      <td>NaN</td>\n",
       "      <td>NaN</td>\n",
       "      <td>NaN</td>\n",
       "    </tr>\n",
       "    <tr>\n",
       "      <th>69</th>\n",
       "      <td>금융채 3)</td>\n",
       "      <td>NaN</td>\n",
       "      <td>NaN</td>\n",
       "      <td>NaN</td>\n",
       "    </tr>\n",
       "    <tr>\n",
       "      <th>72</th>\n",
       "      <td>저축성수신(금융채 제외) 1)</td>\n",
       "      <td>NaN</td>\n",
       "      <td>NaN</td>\n",
       "      <td>NaN</td>\n",
       "    </tr>\n",
       "  </tbody>\n",
       "</table>\n",
       "</div>"
      ],
      "text/plain": [
       "          수신신규 121Y002                   수신잔액 121Y013     대출신규 121Y006  \\\n",
       "0                저축성수신    총수신(요구불예금 및 수시입출식 저축성예금 포함)          대출평균 1)   \n",
       "3           순수저축성예금 1)                    수시입출식 저축성예금             기업대출   \n",
       "6                 정기예금  저축성수신(요구불예금 및 수시입출식 저축성예금 제외)            대기업대출   \n",
       "9      정기예금(6개월 미만) 2)                  저축성수신(금융채 제외)           중소기업대출   \n",
       "12  정기예금(6개월~1년 미만) 2)                        순수저축성예금           운전자금대출   \n",
       "15    정기예금(1~2년 미만) 2)                           정기예금           시설자금대출   \n",
       "18       정기예금(2~3년 미만)                           정기적금             가계대출   \n",
       "21       정기예금(3~4년 미만)                           상호부금  소액대출 (500만원 이하)   \n",
       "24       정기예금(4~5년 미만)                           주택부금           주택담보대출   \n",
       "27         정기예금(5년 이상)                        시장형금융상품         예·적금담보대출   \n",
       "30            정기예금(1년)                        양도성예금증서             보증대출   \n",
       "33                정기적금                      환매조건부채권매도        일반신용대출 2)   \n",
       "36          정기적금(3-4년)                           표지어음          집단대출 2)   \n",
       "39                상호부금                         금융채 1)        공공및기타부문대출   \n",
       "42          상호부금(3-4년)                           저축예금           상업어음할인   \n",
       "45                주택부금                         개인MMDA         기업일반자금대출   \n",
       "48             시장형금융상품                         기업자유예금              NaN   \n",
       "51             양도성예금증서                         기업MMDA              NaN   \n",
       "54        양도성예금증서(91일)                          요구불예금              NaN   \n",
       "57           환매조건부채권매도                            NaN              NaN   \n",
       "60  환매조건부채권매도(91-180일)                            NaN              NaN   \n",
       "63                표지어음                            NaN              NaN   \n",
       "66       표지어음(91-120일)                            NaN              NaN   \n",
       "69              금융채 3)                            NaN              NaN   \n",
       "72    저축성수신(금융채 제외) 1)                            NaN              NaN   \n",
       "\n",
       "       대출잔액 121Y015  \n",
       "0            총대출 1)  \n",
       "3      총대출(당좌대출 제외)  \n",
       "6           기업대출 2)  \n",
       "9             대기업대출  \n",
       "12           중소기업대출  \n",
       "15           운전자금대출  \n",
       "18           시설자금대출  \n",
       "21          가계대출 2)  \n",
       "24  소액대출 (500만원 이하)  \n",
       "27           주택담보대출  \n",
       "30         예·적금담보대출  \n",
       "33             보증대출  \n",
       "36        일반신용대출 3)  \n",
       "39          집단대출 3)  \n",
       "42        공공및기타부문대출  \n",
       "45          당좌대출 4)  \n",
       "48              NaN  \n",
       "51              NaN  \n",
       "54              NaN  \n",
       "57              NaN  \n",
       "60              NaN  \n",
       "63              NaN  \n",
       "66              NaN  \n",
       "69              NaN  \n",
       "72              NaN  "
      ]
     },
     "execution_count": 17,
     "metadata": {},
     "output_type": "execute_result"
    }
   ],
   "source": [
    "col_table = pd.concat(\n",
    "    objs={\n",
    "        \"수신신규 121Y002\":ecos.contains('121Y002').이름.drop_duplicates(keep='first'),\n",
    "        \"수신잔액 121Y013\":ecos.contains('121Y013').이름.drop_duplicates(keep='first'),\n",
    "        \"대출신규 121Y006\":ecos.contains('121Y006').이름.drop_duplicates(keep='first'),\n",
    "        \"대출잔액 121Y015\":ecos.contains('121Y015').이름.drop_duplicates(keep='first'),\n",
    "    }, axis=1\n",
    ")\n",
    "col_table"
   ]
  },
  {
   "cell_type": "code",
   "execution_count": 18,
   "id": "622effca",
   "metadata": {
    "ExecuteTime": {
     "end_time": "2022-10-05T13:41:14.634902Z",
     "start_time": "2022-10-05T13:41:14.607974Z"
    }
   },
   "outputs": [
    {
     "ename": "ParserError",
     "evalue": "month must be in 1..12: 201301 present at position 99",
     "output_type": "error",
     "traceback": [
      "\u001b[1;31m---------------------------------------------------------------------------\u001b[0m",
      "\u001b[1;31mValueError\u001b[0m                                Traceback (most recent call last)",
      "File \u001b[1;32m~\\AppData\\Local\\Programs\\Python\\Python38\\lib\\site-packages\\dateutil\\parser\\_parser.py:649\u001b[0m, in \u001b[0;36mparser.parse\u001b[1;34m(self, timestr, default, ignoretz, tzinfos, **kwargs)\u001b[0m\n\u001b[0;32m    648\u001b[0m \u001b[38;5;28;01mtry\u001b[39;00m:\n\u001b[1;32m--> 649\u001b[0m     ret \u001b[38;5;241m=\u001b[39m \u001b[38;5;28;43mself\u001b[39;49m\u001b[38;5;241;43m.\u001b[39;49m\u001b[43m_build_naive\u001b[49m\u001b[43m(\u001b[49m\u001b[43mres\u001b[49m\u001b[43m,\u001b[49m\u001b[43m \u001b[49m\u001b[43mdefault\u001b[49m\u001b[43m)\u001b[49m\n\u001b[0;32m    650\u001b[0m \u001b[38;5;28;01mexcept\u001b[39;00m \u001b[38;5;167;01mValueError\u001b[39;00m \u001b[38;5;28;01mas\u001b[39;00m e:\n",
      "File \u001b[1;32m~\\AppData\\Local\\Programs\\Python\\Python38\\lib\\site-packages\\dateutil\\parser\\_parser.py:1235\u001b[0m, in \u001b[0;36mparser._build_naive\u001b[1;34m(self, res, default)\u001b[0m\n\u001b[0;32m   1233\u001b[0m         repl[\u001b[38;5;124m'\u001b[39m\u001b[38;5;124mday\u001b[39m\u001b[38;5;124m'\u001b[39m] \u001b[38;5;241m=\u001b[39m monthrange(cyear, cmonth)[\u001b[38;5;241m1\u001b[39m]\n\u001b[1;32m-> 1235\u001b[0m naive \u001b[38;5;241m=\u001b[39m \u001b[43mdefault\u001b[49m\u001b[38;5;241;43m.\u001b[39;49m\u001b[43mreplace\u001b[49m\u001b[43m(\u001b[49m\u001b[38;5;241;43m*\u001b[39;49m\u001b[38;5;241;43m*\u001b[39;49m\u001b[43mrepl\u001b[49m\u001b[43m)\u001b[49m\n\u001b[0;32m   1237\u001b[0m \u001b[38;5;28;01mif\u001b[39;00m res\u001b[38;5;241m.\u001b[39mweekday \u001b[38;5;129;01mis\u001b[39;00m \u001b[38;5;129;01mnot\u001b[39;00m \u001b[38;5;28;01mNone\u001b[39;00m \u001b[38;5;129;01mand\u001b[39;00m \u001b[38;5;129;01mnot\u001b[39;00m res\u001b[38;5;241m.\u001b[39mday:\n",
      "\u001b[1;31mValueError\u001b[0m: month must be in 1..12",
      "\nThe above exception was the direct cause of the following exception:\n",
      "\u001b[1;31mParserError\u001b[0m                               Traceback (most recent call last)",
      "File \u001b[1;32m~\\AppData\\Local\\Programs\\Python\\Python38\\lib\\site-packages\\pandas\\_libs\\tslib.pyx:606\u001b[0m, in \u001b[0;36mpandas._libs.tslib.array_to_datetime\u001b[1;34m()\u001b[0m\n",
      "File \u001b[1;32m~\\AppData\\Local\\Programs\\Python\\Python38\\lib\\site-packages\\pandas\\_libs\\tslibs\\parsing.pyx:321\u001b[0m, in \u001b[0;36mpandas._libs.tslibs.parsing.parse_datetime_string\u001b[1;34m()\u001b[0m\n",
      "File \u001b[1;32m~\\AppData\\Local\\Programs\\Python\\Python38\\lib\\site-packages\\dateutil\\parser\\_parser.py:1368\u001b[0m, in \u001b[0;36mparse\u001b[1;34m(timestr, parserinfo, **kwargs)\u001b[0m\n\u001b[0;32m   1367\u001b[0m \u001b[38;5;28;01melse\u001b[39;00m:\n\u001b[1;32m-> 1368\u001b[0m     \u001b[38;5;28;01mreturn\u001b[39;00m \u001b[43mDEFAULTPARSER\u001b[49m\u001b[38;5;241;43m.\u001b[39;49m\u001b[43mparse\u001b[49m\u001b[43m(\u001b[49m\u001b[43mtimestr\u001b[49m\u001b[43m,\u001b[49m\u001b[43m \u001b[49m\u001b[38;5;241;43m*\u001b[39;49m\u001b[38;5;241;43m*\u001b[39;49m\u001b[43mkwargs\u001b[49m\u001b[43m)\u001b[49m\n",
      "File \u001b[1;32m~\\AppData\\Local\\Programs\\Python\\Python38\\lib\\site-packages\\dateutil\\parser\\_parser.py:651\u001b[0m, in \u001b[0;36mparser.parse\u001b[1;34m(self, timestr, default, ignoretz, tzinfos, **kwargs)\u001b[0m\n\u001b[0;32m    650\u001b[0m \u001b[38;5;28;01mexcept\u001b[39;00m \u001b[38;5;167;01mValueError\u001b[39;00m \u001b[38;5;28;01mas\u001b[39;00m e:\n\u001b[1;32m--> 651\u001b[0m     \u001b[43msix\u001b[49m\u001b[38;5;241;43m.\u001b[39;49m\u001b[43mraise_from\u001b[49m\u001b[43m(\u001b[49m\u001b[43mParserError\u001b[49m\u001b[43m(\u001b[49m\u001b[38;5;28;43mstr\u001b[39;49m\u001b[43m(\u001b[49m\u001b[43me\u001b[49m\u001b[43m)\u001b[49m\u001b[43m \u001b[49m\u001b[38;5;241;43m+\u001b[39;49m\u001b[43m \u001b[49m\u001b[38;5;124;43m\"\u001b[39;49m\u001b[38;5;124;43m: \u001b[39;49m\u001b[38;5;132;43;01m%s\u001b[39;49;00m\u001b[38;5;124;43m\"\u001b[39;49m\u001b[43m,\u001b[49m\u001b[43m \u001b[49m\u001b[43mtimestr\u001b[49m\u001b[43m)\u001b[49m\u001b[43m,\u001b[49m\u001b[43m \u001b[49m\u001b[43me\u001b[49m\u001b[43m)\u001b[49m\n\u001b[0;32m    653\u001b[0m \u001b[38;5;28;01mif\u001b[39;00m \u001b[38;5;129;01mnot\u001b[39;00m ignoretz:\n",
      "File \u001b[1;32m<string>:3\u001b[0m, in \u001b[0;36mraise_from\u001b[1;34m(value, from_value)\u001b[0m\n",
      "\u001b[1;31mParserError\u001b[0m: month must be in 1..12: 201301",
      "\nDuring handling of the above exception, another exception occurred:\n",
      "\u001b[1;31mTypeError\u001b[0m                                 Traceback (most recent call last)",
      "File \u001b[1;32m~\\AppData\\Local\\Programs\\Python\\Python38\\lib\\site-packages\\pandas\\_libs\\tslib.pyx:617\u001b[0m, in \u001b[0;36mpandas._libs.tslib.array_to_datetime\u001b[1;34m()\u001b[0m\n",
      "\u001b[1;31mTypeError\u001b[0m: invalid string coercion to datetime for \"201301\" at position 99",
      "\nDuring handling of the above exception, another exception occurred:\n",
      "\u001b[1;31mValueError\u001b[0m                                Traceback (most recent call last)",
      "File \u001b[1;32m~\\AppData\\Local\\Programs\\Python\\Python38\\lib\\site-packages\\dateutil\\parser\\_parser.py:649\u001b[0m, in \u001b[0;36mparser.parse\u001b[1;34m(self, timestr, default, ignoretz, tzinfos, **kwargs)\u001b[0m\n\u001b[0;32m    648\u001b[0m \u001b[38;5;28;01mtry\u001b[39;00m:\n\u001b[1;32m--> 649\u001b[0m     ret \u001b[38;5;241m=\u001b[39m \u001b[38;5;28;43mself\u001b[39;49m\u001b[38;5;241;43m.\u001b[39;49m\u001b[43m_build_naive\u001b[49m\u001b[43m(\u001b[49m\u001b[43mres\u001b[49m\u001b[43m,\u001b[49m\u001b[43m \u001b[49m\u001b[43mdefault\u001b[49m\u001b[43m)\u001b[49m\n\u001b[0;32m    650\u001b[0m \u001b[38;5;28;01mexcept\u001b[39;00m \u001b[38;5;167;01mValueError\u001b[39;00m \u001b[38;5;28;01mas\u001b[39;00m e:\n",
      "File \u001b[1;32m~\\AppData\\Local\\Programs\\Python\\Python38\\lib\\site-packages\\dateutil\\parser\\_parser.py:1235\u001b[0m, in \u001b[0;36mparser._build_naive\u001b[1;34m(self, res, default)\u001b[0m\n\u001b[0;32m   1233\u001b[0m         repl[\u001b[38;5;124m'\u001b[39m\u001b[38;5;124mday\u001b[39m\u001b[38;5;124m'\u001b[39m] \u001b[38;5;241m=\u001b[39m monthrange(cyear, cmonth)[\u001b[38;5;241m1\u001b[39m]\n\u001b[1;32m-> 1235\u001b[0m naive \u001b[38;5;241m=\u001b[39m \u001b[43mdefault\u001b[49m\u001b[38;5;241;43m.\u001b[39;49m\u001b[43mreplace\u001b[49m\u001b[43m(\u001b[49m\u001b[38;5;241;43m*\u001b[39;49m\u001b[38;5;241;43m*\u001b[39;49m\u001b[43mrepl\u001b[49m\u001b[43m)\u001b[49m\n\u001b[0;32m   1237\u001b[0m \u001b[38;5;28;01mif\u001b[39;00m res\u001b[38;5;241m.\u001b[39mweekday \u001b[38;5;129;01mis\u001b[39;00m \u001b[38;5;129;01mnot\u001b[39;00m \u001b[38;5;28;01mNone\u001b[39;00m \u001b[38;5;129;01mand\u001b[39;00m \u001b[38;5;129;01mnot\u001b[39;00m res\u001b[38;5;241m.\u001b[39mday:\n",
      "\u001b[1;31mValueError\u001b[0m: month must be in 1..12",
      "\nThe above exception was the direct cause of the following exception:\n",
      "\u001b[1;31mParserError\u001b[0m                               Traceback (most recent call last)",
      "Cell \u001b[1;32mIn [18], line 3\u001b[0m\n\u001b[0;32m      1\u001b[0m \u001b[38;5;66;03m# depo = ecos.load('121Y002', '저축성수신')\u001b[39;00m\n\u001b[0;32m      2\u001b[0m \u001b[38;5;66;03m# depo = ecos.load('121Y002', '저축성수신(금융채 제외) 1)')\u001b[39;00m\n\u001b[1;32m----> 3\u001b[0m depo \u001b[38;5;241m=\u001b[39m ecos\u001b[38;5;241m.\u001b[39mload(\u001b[38;5;124m'\u001b[39m\u001b[38;5;124m121Y013\u001b[39m\u001b[38;5;124m'\u001b[39m, \u001b[38;5;124m'\u001b[39m\u001b[38;5;124m총수신(요구불예금 및 수시입출식 저축성예금 포함)\u001b[39m\u001b[38;5;124m'\u001b[39m)\n\u001b[0;32m      5\u001b[0m \u001b[38;5;66;03m# loan = ecos.load('121Y006', '대출평균 1)')\u001b[39;00m\n\u001b[0;32m      6\u001b[0m \u001b[38;5;66;03m# loan = ecos.load('121Y015', '총대출 1)')\u001b[39;00m\n\u001b[0;32m      7\u001b[0m loan \u001b[38;5;241m=\u001b[39m ecos\u001b[38;5;241m.\u001b[39mload(\u001b[38;5;124m'\u001b[39m\u001b[38;5;124m121Y015\u001b[39m\u001b[38;5;124m'\u001b[39m, \u001b[38;5;124m'\u001b[39m\u001b[38;5;124m총대출(당좌대출 제외)\u001b[39m\u001b[38;5;124m'\u001b[39m)\n",
      "File \u001b[1;32mD:\\J.H.LEE\\05. CODING\\Python\\Project\\tdatlib\\tdatlib\\macro\\ecos.py:87\u001b[0m, in \u001b[0;36m_fetch.load\u001b[1;34m(self, symbol, label)\u001b[0m\n\u001b[0;32m     85\u001b[0m     tseries \u001b[38;5;241m=\u001b[39m data\u001b[38;5;241m.\u001b[39mxml_to_df(url\u001b[38;5;241m=\u001b[39murl)\u001b[38;5;241m.\u001b[39mset_index(keys\u001b[38;5;241m=\u001b[39m\u001b[38;5;124m'\u001b[39m\u001b[38;5;124mTIME\u001b[39m\u001b[38;5;124m'\u001b[39m)[\u001b[38;5;124m'\u001b[39m\u001b[38;5;124mDATA_VALUE\u001b[39m\u001b[38;5;124m'\u001b[39m]\n\u001b[0;32m     86\u001b[0m     tseries\u001b[38;5;241m.\u001b[39mname \u001b[38;5;241m=\u001b[39m name\n\u001b[1;32m---> 87\u001b[0m     tseries\u001b[38;5;241m.\u001b[39mindex \u001b[38;5;241m=\u001b[39m \u001b[43mpd\u001b[49m\u001b[38;5;241;43m.\u001b[39;49m\u001b[43mto_datetime\u001b[49m\u001b[43m(\u001b[49m\u001b[43mtseries\u001b[49m\u001b[38;5;241;43m.\u001b[39;49m\u001b[43mindex\u001b[49m\u001b[43m)\u001b[49m\n\u001b[0;32m     88\u001b[0m     \u001b[38;5;28mself\u001b[39m\u001b[38;5;241m.\u001b[39m\u001b[38;5;21m__setattr__\u001b[39m(\n\u001b[0;32m     89\u001b[0m         \u001b[38;5;124mf\u001b[39m\u001b[38;5;124m'\u001b[39m\u001b[38;5;124m__\u001b[39m\u001b[38;5;132;01m{\u001b[39;00msymbol\u001b[38;5;132;01m}\u001b[39;00m\u001b[38;5;124m_\u001b[39m\u001b[38;5;132;01m{\u001b[39;00mlabel\u001b[38;5;132;01m}\u001b[39;00m\u001b[38;5;124m_\u001b[39m\u001b[38;5;132;01m{\u001b[39;00m\u001b[38;5;28mself\u001b[39m\u001b[38;5;241m.\u001b[39m__p\u001b[38;5;132;01m}\u001b[39;00m\u001b[38;5;124m'\u001b[39m,\n\u001b[0;32m     90\u001b[0m         tseries[tseries\u001b[38;5;241m.\u001b[39mindex \u001b[38;5;241m>\u001b[39m\u001b[38;5;241m=\u001b[39m (\u001b[38;5;28mself\u001b[39m\u001b[38;5;241m.\u001b[39m__t \u001b[38;5;241m-\u001b[39m timedelta(\u001b[38;5;28mself\u001b[39m\u001b[38;5;241m.\u001b[39m__p \u001b[38;5;241m*\u001b[39m \u001b[38;5;241m365\u001b[39m))\u001b[38;5;241m.\u001b[39mstrftime(\u001b[38;5;124m\"\u001b[39m\u001b[38;5;124m%\u001b[39m\u001b[38;5;124mY-\u001b[39m\u001b[38;5;124m%\u001b[39m\u001b[38;5;124mm-\u001b[39m\u001b[38;5;132;01m%d\u001b[39;00m\u001b[38;5;124m\"\u001b[39m)]\u001b[38;5;241m.\u001b[39mastype(\u001b[38;5;28mfloat\u001b[39m)\n\u001b[0;32m     91\u001b[0m     )\n\u001b[0;32m     92\u001b[0m \u001b[38;5;28;01mreturn\u001b[39;00m \u001b[38;5;28mself\u001b[39m\u001b[38;5;241m.\u001b[39m\u001b[38;5;21m__getattribute__\u001b[39m(\u001b[38;5;124mf\u001b[39m\u001b[38;5;124m'\u001b[39m\u001b[38;5;124m__\u001b[39m\u001b[38;5;132;01m{\u001b[39;00msymbol\u001b[38;5;132;01m}\u001b[39;00m\u001b[38;5;124m_\u001b[39m\u001b[38;5;132;01m{\u001b[39;00mlabel\u001b[38;5;132;01m}\u001b[39;00m\u001b[38;5;124m_\u001b[39m\u001b[38;5;132;01m{\u001b[39;00m\u001b[38;5;28mself\u001b[39m\u001b[38;5;241m.\u001b[39m__p\u001b[38;5;132;01m}\u001b[39;00m\u001b[38;5;124m'\u001b[39m)\n",
      "File \u001b[1;32m~\\AppData\\Local\\Programs\\Python\\Python38\\lib\\site-packages\\pandas\\core\\tools\\datetimes.py:1078\u001b[0m, in \u001b[0;36mto_datetime\u001b[1;34m(arg, errors, dayfirst, yearfirst, utc, format, exact, unit, infer_datetime_format, origin, cache)\u001b[0m\n\u001b[0;32m   1076\u001b[0m         result \u001b[38;5;241m=\u001b[39m _convert_and_box_cache(arg, cache_array, name\u001b[38;5;241m=\u001b[39marg\u001b[38;5;241m.\u001b[39mname)\n\u001b[0;32m   1077\u001b[0m     \u001b[38;5;28;01melse\u001b[39;00m:\n\u001b[1;32m-> 1078\u001b[0m         result \u001b[38;5;241m=\u001b[39m \u001b[43mconvert_listlike\u001b[49m\u001b[43m(\u001b[49m\u001b[43marg\u001b[49m\u001b[43m,\u001b[49m\u001b[43m \u001b[49m\u001b[38;5;28;43mformat\u001b[39;49m\u001b[43m,\u001b[49m\u001b[43m \u001b[49m\u001b[43mname\u001b[49m\u001b[38;5;241;43m=\u001b[39;49m\u001b[43marg\u001b[49m\u001b[38;5;241;43m.\u001b[39;49m\u001b[43mname\u001b[49m\u001b[43m)\u001b[49m\n\u001b[0;32m   1079\u001b[0m \u001b[38;5;28;01melif\u001b[39;00m is_list_like(arg):\n\u001b[0;32m   1080\u001b[0m     \u001b[38;5;28;01mtry\u001b[39;00m:\n\u001b[0;32m   1081\u001b[0m         \u001b[38;5;66;03m# error: Argument 1 to \"_maybe_cache\" has incompatible type\u001b[39;00m\n\u001b[0;32m   1082\u001b[0m         \u001b[38;5;66;03m# \"Union[float, str, datetime, List[Any], Tuple[Any, ...], ExtensionArray,\u001b[39;00m\n\u001b[0;32m   1083\u001b[0m         \u001b[38;5;66;03m# ndarray[Any, Any], Series]\"; expected \"Union[List[Any], Tuple[Any, ...],\u001b[39;00m\n\u001b[0;32m   1084\u001b[0m         \u001b[38;5;66;03m# Union[Union[ExtensionArray, ndarray[Any, Any]], Index, Series], Series]\"\u001b[39;00m\n",
      "File \u001b[1;32m~\\AppData\\Local\\Programs\\Python\\Python38\\lib\\site-packages\\pandas\\core\\tools\\datetimes.py:439\u001b[0m, in \u001b[0;36m_convert_listlike_datetimes\u001b[1;34m(arg, format, name, tz, unit, errors, infer_datetime_format, dayfirst, yearfirst, exact)\u001b[0m\n\u001b[0;32m    437\u001b[0m \u001b[38;5;28;01massert\u001b[39;00m \u001b[38;5;28mformat\u001b[39m \u001b[38;5;129;01mis\u001b[39;00m \u001b[38;5;28;01mNone\u001b[39;00m \u001b[38;5;129;01mor\u001b[39;00m infer_datetime_format\n\u001b[0;32m    438\u001b[0m utc \u001b[38;5;241m=\u001b[39m tz \u001b[38;5;241m==\u001b[39m \u001b[38;5;124m\"\u001b[39m\u001b[38;5;124mutc\u001b[39m\u001b[38;5;124m\"\u001b[39m\n\u001b[1;32m--> 439\u001b[0m result, tz_parsed \u001b[38;5;241m=\u001b[39m \u001b[43mobjects_to_datetime64ns\u001b[49m\u001b[43m(\u001b[49m\n\u001b[0;32m    440\u001b[0m \u001b[43m    \u001b[49m\u001b[43marg\u001b[49m\u001b[43m,\u001b[49m\n\u001b[0;32m    441\u001b[0m \u001b[43m    \u001b[49m\u001b[43mdayfirst\u001b[49m\u001b[38;5;241;43m=\u001b[39;49m\u001b[43mdayfirst\u001b[49m\u001b[43m,\u001b[49m\n\u001b[0;32m    442\u001b[0m \u001b[43m    \u001b[49m\u001b[43myearfirst\u001b[49m\u001b[38;5;241;43m=\u001b[39;49m\u001b[43myearfirst\u001b[49m\u001b[43m,\u001b[49m\n\u001b[0;32m    443\u001b[0m \u001b[43m    \u001b[49m\u001b[43mutc\u001b[49m\u001b[38;5;241;43m=\u001b[39;49m\u001b[43mutc\u001b[49m\u001b[43m,\u001b[49m\n\u001b[0;32m    444\u001b[0m \u001b[43m    \u001b[49m\u001b[43merrors\u001b[49m\u001b[38;5;241;43m=\u001b[39;49m\u001b[43merrors\u001b[49m\u001b[43m,\u001b[49m\n\u001b[0;32m    445\u001b[0m \u001b[43m    \u001b[49m\u001b[43mrequire_iso8601\u001b[49m\u001b[38;5;241;43m=\u001b[39;49m\u001b[43mrequire_iso8601\u001b[49m\u001b[43m,\u001b[49m\n\u001b[0;32m    446\u001b[0m \u001b[43m    \u001b[49m\u001b[43mallow_object\u001b[49m\u001b[38;5;241;43m=\u001b[39;49m\u001b[38;5;28;43;01mTrue\u001b[39;49;00m\u001b[43m,\u001b[49m\n\u001b[0;32m    447\u001b[0m \u001b[43m\u001b[49m\u001b[43m)\u001b[49m\n\u001b[0;32m    449\u001b[0m \u001b[38;5;28;01mif\u001b[39;00m tz_parsed \u001b[38;5;129;01mis\u001b[39;00m \u001b[38;5;129;01mnot\u001b[39;00m \u001b[38;5;28;01mNone\u001b[39;00m:\n\u001b[0;32m    450\u001b[0m     \u001b[38;5;66;03m# We can take a shortcut since the datetime64 numpy array\u001b[39;00m\n\u001b[0;32m    451\u001b[0m     \u001b[38;5;66;03m# is in UTC\u001b[39;00m\n\u001b[0;32m    452\u001b[0m     dta \u001b[38;5;241m=\u001b[39m DatetimeArray(result, dtype\u001b[38;5;241m=\u001b[39mtz_to_dtype(tz_parsed))\n",
      "File \u001b[1;32m~\\AppData\\Local\\Programs\\Python\\Python38\\lib\\site-packages\\pandas\\core\\arrays\\datetimes.py:2178\u001b[0m, in \u001b[0;36mobjects_to_datetime64ns\u001b[1;34m(data, dayfirst, yearfirst, utc, errors, require_iso8601, allow_object, allow_mixed)\u001b[0m\n\u001b[0;32m   2176\u001b[0m order: Literal[\u001b[38;5;124m\"\u001b[39m\u001b[38;5;124mF\u001b[39m\u001b[38;5;124m\"\u001b[39m, \u001b[38;5;124m\"\u001b[39m\u001b[38;5;124mC\u001b[39m\u001b[38;5;124m\"\u001b[39m] \u001b[38;5;241m=\u001b[39m \u001b[38;5;124m\"\u001b[39m\u001b[38;5;124mF\u001b[39m\u001b[38;5;124m\"\u001b[39m \u001b[38;5;28;01mif\u001b[39;00m flags\u001b[38;5;241m.\u001b[39mf_contiguous \u001b[38;5;28;01melse\u001b[39;00m \u001b[38;5;124m\"\u001b[39m\u001b[38;5;124mC\u001b[39m\u001b[38;5;124m\"\u001b[39m\n\u001b[0;32m   2177\u001b[0m \u001b[38;5;28;01mtry\u001b[39;00m:\n\u001b[1;32m-> 2178\u001b[0m     result, tz_parsed \u001b[38;5;241m=\u001b[39m \u001b[43mtslib\u001b[49m\u001b[38;5;241;43m.\u001b[39;49m\u001b[43marray_to_datetime\u001b[49m\u001b[43m(\u001b[49m\n\u001b[0;32m   2179\u001b[0m \u001b[43m        \u001b[49m\u001b[43mdata\u001b[49m\u001b[38;5;241;43m.\u001b[39;49m\u001b[43mravel\u001b[49m\u001b[43m(\u001b[49m\u001b[38;5;124;43m\"\u001b[39;49m\u001b[38;5;124;43mK\u001b[39;49m\u001b[38;5;124;43m\"\u001b[39;49m\u001b[43m)\u001b[49m\u001b[43m,\u001b[49m\n\u001b[0;32m   2180\u001b[0m \u001b[43m        \u001b[49m\u001b[43merrors\u001b[49m\u001b[38;5;241;43m=\u001b[39;49m\u001b[43merrors\u001b[49m\u001b[43m,\u001b[49m\n\u001b[0;32m   2181\u001b[0m \u001b[43m        \u001b[49m\u001b[43mutc\u001b[49m\u001b[38;5;241;43m=\u001b[39;49m\u001b[43mutc\u001b[49m\u001b[43m,\u001b[49m\n\u001b[0;32m   2182\u001b[0m \u001b[43m        \u001b[49m\u001b[43mdayfirst\u001b[49m\u001b[38;5;241;43m=\u001b[39;49m\u001b[43mdayfirst\u001b[49m\u001b[43m,\u001b[49m\n\u001b[0;32m   2183\u001b[0m \u001b[43m        \u001b[49m\u001b[43myearfirst\u001b[49m\u001b[38;5;241;43m=\u001b[39;49m\u001b[43myearfirst\u001b[49m\u001b[43m,\u001b[49m\n\u001b[0;32m   2184\u001b[0m \u001b[43m        \u001b[49m\u001b[43mrequire_iso8601\u001b[49m\u001b[38;5;241;43m=\u001b[39;49m\u001b[43mrequire_iso8601\u001b[49m\u001b[43m,\u001b[49m\n\u001b[0;32m   2185\u001b[0m \u001b[43m        \u001b[49m\u001b[43mallow_mixed\u001b[49m\u001b[38;5;241;43m=\u001b[39;49m\u001b[43mallow_mixed\u001b[49m\u001b[43m,\u001b[49m\n\u001b[0;32m   2186\u001b[0m \u001b[43m    \u001b[49m\u001b[43m)\u001b[49m\n\u001b[0;32m   2187\u001b[0m     result \u001b[38;5;241m=\u001b[39m result\u001b[38;5;241m.\u001b[39mreshape(data\u001b[38;5;241m.\u001b[39mshape, order\u001b[38;5;241m=\u001b[39morder)\n\u001b[0;32m   2188\u001b[0m \u001b[38;5;28;01mexcept\u001b[39;00m \u001b[38;5;167;01mOverflowError\u001b[39;00m \u001b[38;5;28;01mas\u001b[39;00m err:\n\u001b[0;32m   2189\u001b[0m     \u001b[38;5;66;03m# Exception is raised when a part of date is greater than 32 bit signed int\u001b[39;00m\n",
      "File \u001b[1;32m~\\AppData\\Local\\Programs\\Python\\Python38\\lib\\site-packages\\pandas\\_libs\\tslib.pyx:428\u001b[0m, in \u001b[0;36mpandas._libs.tslib.array_to_datetime\u001b[1;34m()\u001b[0m\n",
      "File \u001b[1;32m~\\AppData\\Local\\Programs\\Python\\Python38\\lib\\site-packages\\pandas\\_libs\\tslib.pyx:684\u001b[0m, in \u001b[0;36mpandas._libs.tslib.array_to_datetime\u001b[1;34m()\u001b[0m\n",
      "File \u001b[1;32m~\\AppData\\Local\\Programs\\Python\\Python38\\lib\\site-packages\\pandas\\_libs\\tslib.pyx:830\u001b[0m, in \u001b[0;36mpandas._libs.tslib._array_to_datetime_object\u001b[1;34m()\u001b[0m\n",
      "File \u001b[1;32m~\\AppData\\Local\\Programs\\Python\\Python38\\lib\\site-packages\\pandas\\_libs\\tslib.pyx:820\u001b[0m, in \u001b[0;36mpandas._libs.tslib._array_to_datetime_object\u001b[1;34m()\u001b[0m\n",
      "File \u001b[1;32m~\\AppData\\Local\\Programs\\Python\\Python38\\lib\\site-packages\\pandas\\_libs\\tslibs\\parsing.pyx:321\u001b[0m, in \u001b[0;36mpandas._libs.tslibs.parsing.parse_datetime_string\u001b[1;34m()\u001b[0m\n",
      "File \u001b[1;32m~\\AppData\\Local\\Programs\\Python\\Python38\\lib\\site-packages\\dateutil\\parser\\_parser.py:1368\u001b[0m, in \u001b[0;36mparse\u001b[1;34m(timestr, parserinfo, **kwargs)\u001b[0m\n\u001b[0;32m   1366\u001b[0m     \u001b[38;5;28;01mreturn\u001b[39;00m parser(parserinfo)\u001b[38;5;241m.\u001b[39mparse(timestr, \u001b[38;5;241m*\u001b[39m\u001b[38;5;241m*\u001b[39mkwargs)\n\u001b[0;32m   1367\u001b[0m \u001b[38;5;28;01melse\u001b[39;00m:\n\u001b[1;32m-> 1368\u001b[0m     \u001b[38;5;28;01mreturn\u001b[39;00m \u001b[43mDEFAULTPARSER\u001b[49m\u001b[38;5;241;43m.\u001b[39;49m\u001b[43mparse\u001b[49m\u001b[43m(\u001b[49m\u001b[43mtimestr\u001b[49m\u001b[43m,\u001b[49m\u001b[43m \u001b[49m\u001b[38;5;241;43m*\u001b[39;49m\u001b[38;5;241;43m*\u001b[39;49m\u001b[43mkwargs\u001b[49m\u001b[43m)\u001b[49m\n",
      "File \u001b[1;32m~\\AppData\\Local\\Programs\\Python\\Python38\\lib\\site-packages\\dateutil\\parser\\_parser.py:651\u001b[0m, in \u001b[0;36mparser.parse\u001b[1;34m(self, timestr, default, ignoretz, tzinfos, **kwargs)\u001b[0m\n\u001b[0;32m    649\u001b[0m     ret \u001b[38;5;241m=\u001b[39m \u001b[38;5;28mself\u001b[39m\u001b[38;5;241m.\u001b[39m_build_naive(res, default)\n\u001b[0;32m    650\u001b[0m \u001b[38;5;28;01mexcept\u001b[39;00m \u001b[38;5;167;01mValueError\u001b[39;00m \u001b[38;5;28;01mas\u001b[39;00m e:\n\u001b[1;32m--> 651\u001b[0m     \u001b[43msix\u001b[49m\u001b[38;5;241;43m.\u001b[39;49m\u001b[43mraise_from\u001b[49m\u001b[43m(\u001b[49m\u001b[43mParserError\u001b[49m\u001b[43m(\u001b[49m\u001b[38;5;28;43mstr\u001b[39;49m\u001b[43m(\u001b[49m\u001b[43me\u001b[49m\u001b[43m)\u001b[49m\u001b[43m \u001b[49m\u001b[38;5;241;43m+\u001b[39;49m\u001b[43m \u001b[49m\u001b[38;5;124;43m\"\u001b[39;49m\u001b[38;5;124;43m: \u001b[39;49m\u001b[38;5;132;43;01m%s\u001b[39;49;00m\u001b[38;5;124;43m\"\u001b[39;49m\u001b[43m,\u001b[49m\u001b[43m \u001b[49m\u001b[43mtimestr\u001b[49m\u001b[43m)\u001b[49m\u001b[43m,\u001b[49m\u001b[43m \u001b[49m\u001b[43me\u001b[49m\u001b[43m)\u001b[49m\n\u001b[0;32m    653\u001b[0m \u001b[38;5;28;01mif\u001b[39;00m \u001b[38;5;129;01mnot\u001b[39;00m ignoretz:\n\u001b[0;32m    654\u001b[0m     ret \u001b[38;5;241m=\u001b[39m \u001b[38;5;28mself\u001b[39m\u001b[38;5;241m.\u001b[39m_build_tzaware(ret, res, tzinfos)\n",
      "File \u001b[1;32m<string>:3\u001b[0m, in \u001b[0;36mraise_from\u001b[1;34m(value, from_value)\u001b[0m\n",
      "\u001b[1;31mParserError\u001b[0m: month must be in 1..12: 201301 present at position 99"
     ]
    }
   ],
   "source": [
    "# depo = ecos.load('121Y002', '저축성수신')\n",
    "# depo = ecos.load('121Y002', '저축성수신(금융채 제외) 1)')\n",
    "depo = ecos.load('121Y013', '총수신(요구불예금 및 수시입출식 저축성예금 포함)')\n",
    "\n",
    "# loan = ecos.load('121Y006', '대출평균 1)')\n",
    "# loan = ecos.load('121Y015', '총대출 1)')\n",
    "loan = ecos.load('121Y015', '총대출(당좌대출 제외)')\n",
    "\n",
    "r_depo_loan = loan / depo\n",
    "d_depo_loan = loan - depo\n",
    "depo_trace = tlib.toolbox.tracer.line(depo, name='수신금리')\n",
    "loan_trace = tlib.toolbox.tracer.line(loan, name='대출금리')\n",
    "d_depo_loan_trace = tlib.toolbox.tracer.line(d_depo_loan, name='예대출금리차')\n",
    "r_depo_loan_trace = tlib.toolbox.tracer.line(r_depo_loan, name='예대출금리비')"
   ]
  },
  {
   "cell_type": "markdown",
   "id": "0e4717c4",
   "metadata": {},
   "source": [
    "## 기준 금리"
   ]
  },
  {
   "cell_type": "code",
   "execution_count": null,
   "id": "3b1f17d4",
   "metadata": {
    "ExecuteTime": {
     "end_time": "2022-10-05T13:41:27.485897Z",
     "start_time": "2022-10-05T13:41:14.638891Z"
    }
   },
   "outputs": [],
   "source": [
    "# 한국은행 기준금리\n",
    "kr_std = macro.data.KR_IR\n",
    "kr_std_trace = go.Scatter(\n",
    "    x=kr_std.index,\n",
    "    y=kr_std,\n",
    "    name='한국기준금리',\n",
    "    showlegend=True,\n",
    "    line_width=1.2,\n",
    "    xhoverformat='%Y/%m/%d',\n",
    "    hovertemplate='%{x}<br>%{y:.2f}%'\n",
    ")\n",
    "\n",
    "# 미국 기준금리\n",
    "us_std = macro.data.US_IR\n",
    "us_std_trace = go.Scatter(\n",
    "    x=us_std.index,\n",
    "    y=us_std,\n",
    "    name='미국기준금리',\n",
    "    showlegend=True,\n",
    "    line_width=1.2,\n",
    "    xhoverformat='%Y/%m/%d',\n",
    "    hovertemplate='%{x}<br>%{y:.2f}%'\n",
    ")"
   ]
  },
  {
   "cell_type": "markdown",
   "id": "9a652b49",
   "metadata": {},
   "source": [
    "## 2년물 금리"
   ]
  },
  {
   "cell_type": "code",
   "execution_count": null,
   "id": "40640df8",
   "metadata": {},
   "outputs": [],
   "source": [
    "df = macro.data.ecos('817Y002')\n",
    "print(len(df.columns), df.columns)"
   ]
  },
  {
   "cell_type": "code",
   "execution_count": null,
   "id": "57f409b2",
   "metadata": {
    "ExecuteTime": {
     "end_time": "2022-10-05T13:41:55.527943Z",
     "start_time": "2022-10-05T13:41:27.490889Z"
    }
   },
   "outputs": [],
   "source": [
    "# 한국채 2년물 금리\n",
    "# kr_2yt = macro.data.KR_2Y_TY\n",
    "kr_2yt = macro.data.ecos('817Y002')['국고채(1년)']\n",
    "kr_2yt_trace = go.Scatter(\n",
    "    x=kr_2yt.index,\n",
    "    y=kr_2yt,\n",
    "    name='한국국고채2년물',\n",
    "    showlegend=True,\n",
    "    line_width=1.2,\n",
    "    xhoverformat='%Y/%m/%d',\n",
    "    hovertemplate='%{x}<br>%{y:.2f}%'\n",
    ")\n",
    "\n",
    "# 미국채 2년물 금리\n",
    "us_2yt = macro.data.US_2Y_TY\n",
    "us_2yt_trace = go.Scatter(\n",
    "    x=us_2yt.index,\n",
    "    y=us_2yt,\n",
    "    name='미국국고채2년물',\n",
    "    showlegend=True,\n",
    "    line_width=1.2,\n",
    "    xhoverformat='%Y/%m/%d',\n",
    "    hovertemplate='%{x}<br>%{y:.2f}%'\n",
    ")"
   ]
  },
  {
   "cell_type": "markdown",
   "id": "7a490643",
   "metadata": {},
   "source": [
    "## 10년물 금리"
   ]
  },
  {
   "cell_type": "code",
   "execution_count": null,
   "id": "750868fe",
   "metadata": {
    "ExecuteTime": {
     "end_time": "2022-10-05T13:41:55.530900Z",
     "start_time": "2022-10-05T13:41:55.530900Z"
    }
   },
   "outputs": [],
   "source": [
    "# 한국채 10년물 금리\n",
    "kr_10yt = macro.data.KR_10Y_TY\n",
    "kr_10yt_trace = go.Scatter(\n",
    "    x=kr_10yt.index,\n",
    "    y=kr_10yt,\n",
    "    name='한국국고채10년물',\n",
    "    showlegend=True,\n",
    "    line_width=1.2,\n",
    "    xhoverformat='%Y/%m/%d',\n",
    "    hovertemplate='%{x}<br>%{y:.2f}%'\n",
    ")\n",
    "\n",
    "# 미국채 10년물 금리\n",
    "us_10yt = macro.data.US_10Y_TY\n",
    "us_10yt_trace = go.Scatter(\n",
    "    x=us_10yt.index,\n",
    "    y=us_10yt,\n",
    "    name='미국국고채10년물',\n",
    "    showlegend=True,\n",
    "    line_width=1.2,\n",
    "    xhoverformat='%Y/%m/%d',\n",
    "    hovertemplate='%{x}<br>%{y:.2f}%'\n",
    ")"
   ]
  },
  {
   "cell_type": "markdown",
   "id": "5598000a",
   "metadata": {},
   "source": [
    "## 원-달러 환율"
   ]
  },
  {
   "cell_type": "code",
   "execution_count": null,
   "id": "ba60d408",
   "metadata": {
    "ExecuteTime": {
     "end_time": "2022-10-05T13:41:55.533894Z",
     "start_time": "2022-10-05T13:41:55.533894Z"
    }
   },
   "outputs": [],
   "source": [
    "# 원-달러 환율\n",
    "exchange = macro.data.KRW_USD_exchange\n",
    "exchange_trace = go.Candlestick(\n",
    "    name='원-달러 환율',\n",
    "    x=exchange.index,\n",
    "    open=exchange.시가,\n",
    "    high=exchange.고가,\n",
    "    low=exchange.저가,\n",
    "    close=exchange.종가,\n",
    "    visible=True,\n",
    "    showlegend=True,\n",
    "    increasing_line=dict(color='red'),\n",
    "    decreasing_line=dict(color='royalblue'),\n",
    "    xhoverformat='%Y/%m/%d',\n",
    "    yhoverformat='.2f',\n",
    ")"
   ]
  },
  {
   "cell_type": "markdown",
   "id": "58779e5e",
   "metadata": {},
   "source": [
    "# BM & Products\n",
    "\n",
    "- 은행 사업 구조 및 최대 매출처 확인\n",
    "- 주요 매출처\n",
    "  * 유가 증권 평가 및 처분 이익<br>\n",
    "    : 1년 또는 1영업주기 내 현금화할 의도가 있는 증권을 유가 증권이라고 한다.<br>\n",
    "    : 증권은 CD, CP 등 단기 증서 및 보통주/우선주의 주식과 사채, 어음 등 채무 증권을 말한다.<br>\n",
    "    : 이러한 유가 증권을 취득 가액보다 높은 이익으로 처분할 때 발생하는 이익 및 보유 증권의 평가액을 매출에 반영한다.<br>\n",
    "  * 신탁 업무 운용 수익\n",
    "    : 운용"
   ]
  },
  {
   "cell_type": "markdown",
   "id": "7acc25a6",
   "metadata": {},
   "source": [
    "## 대표 시중은행 매출 구조"
   ]
  },
  {
   "cell_type": "code",
   "execution_count": null,
   "id": "6e259d02",
   "metadata": {
    "ExecuteTime": {
     "end_time": "2022-10-05T13:41:55.535889Z",
     "start_time": "2022-10-05T13:41:55.535889Z"
    }
   },
   "outputs": [],
   "source": [
    "target = tickers.sort_values(by='시가총액', ascending=False)[:4]\n",
    "fig = make_subplots(\n",
    "    rows=2, cols=2,\n",
    "    vertical_spacing=0.12, horizontal_spacing=0.1,\n",
    "    subplot_titles=tuple(target.이름.tolist()),\n",
    "    specs=[\n",
    "        [{\"type\": \"domain\"}, {\"type\": \"domain\"}],\n",
    "        [{\"type\": \"domain\"}, {\"type\": \"domain\"}]\n",
    "    ]\n",
    ")\n",
    "\n",
    "for n, ticker in enumerate(target.index):\n",
    "    obj = stock_objs[ticker]\n",
    "    products = obj.fnguide.Products\n",
    "    fig.add_trace(\n",
    "        trace = go.Pie(\n",
    "            name='Product',\n",
    "            labels=products.index,\n",
    "            values=products,\n",
    "            visible=True,\n",
    "            showlegend=True,\n",
    "            automargin=True,\n",
    "            textfont=dict(color='white'),\n",
    "            textinfo='label+percent',\n",
    "            insidetextorientation='radial',\n",
    "            hoverinfo='label+percent',\n",
    "        ), row = n // 2 + 1, col = n % 2 + 1\n",
    "    )\n",
    "\n",
    "fig.update_layout(layout)\n",
    "fig.update_layout(    \n",
    "    title=f'<b>은행주</b> 주요 매출',\n",
    "    legend=dict(y=1.08)\n",
    ")\n",
    "\n",
    "for n, annotation in enumerate(fig['layout']['annotations']):\n",
    "    annotation['x'] = 0 + 0.55 * (n % 2)\n",
    "    annotation['xanchor'] = 'center'\n",
    "    annotation['xref'] = 'paper'\n",
    "fig.show()"
   ]
  },
  {
   "cell_type": "markdown",
   "id": "e9c65dbe",
   "metadata": {},
   "source": [
    "## 매출 비중"
   ]
  },
  {
   "cell_type": "code",
   "execution_count": null,
   "id": "3a3c5250",
   "metadata": {
    "ExecuteTime": {
     "end_time": "2022-10-05T13:41:55.538882Z",
     "start_time": "2022-10-05T13:41:55.538882Z"
    }
   },
   "outputs": [],
   "source": [
    "p = pd.concat(objs=[stock_objs[ticker].fnguide.Products for n, ticker in enumerate(target.index)], axis=1).T.sum()\n",
    "portion = round(100 * p / p.sum(), 2).sort_values()\n",
    "\n",
    "fig = go.Figure()\n",
    "fig.add_trace(\n",
    "    trace=go.Bar(\n",
    "        x=portion, y=portion.index, orientation='h',\n",
    "        texttemplate='%{x:.2f}%', textposition='inside', hoverinfo='skip'\n",
    "    )\n",
    ")\n",
    "fig.update_layout(\n",
    "    title='시중은행 주요 매출처 비중', plot_bgcolor='white', height=500,\n",
    "    xaxis=dict(title='비중[%]', showgrid=True, gridcolor='lightgrey', showline=False, zeroline=False),\n",
    "    yaxis=dict(showgrid=False, zeroline=False),\n",
    ")"
   ]
  },
  {
   "cell_type": "markdown",
   "id": "e2c2e7bb",
   "metadata": {},
   "source": [
    "# Macro-Relation"
   ]
  },
  {
   "cell_type": "markdown",
   "id": "85bbed95",
   "metadata": {},
   "source": [
    "## KRX은행 vs 금리"
   ]
  },
  {
   "cell_type": "code",
   "execution_count": null,
   "id": "f375c37e",
   "metadata": {
    "ExecuteTime": {
     "end_time": "2022-10-05T13:41:55.541870Z",
     "start_time": "2022-10-05T13:41:55.541870Z"
    }
   },
   "outputs": [],
   "source": [
    "fig = make_subplots(specs=[[{\"secondary_y\": True}]])\n",
    "# fig.add_trace(trace=krx_bank_trace, secondary_y=False)\n",
    "# fig.add_trace(trace=depo_trace, secondary_y=True)\n",
    "# fig.add_trace(trace=loan_trace, secondary_y=True)\n",
    "# fig.add_trace(trace=l_d_diff_trace, secondary_y=True)\n",
    "# fig.add_trace(trace=l_d_ratio_trace, secondary_y=True)\n",
    "fig.add_trace(trace=kr_std_trace, secondary_y=True)\n",
    "fig.add_trace(trace=us_std_trace, secondary_y=True)\n",
    "fig.add_trace(trace=kr_2yt_trace, secondary_y=True)\n",
    "fig.add_trace(trace=us_2yt_trace, secondary_y=True)\n",
    "# fig.add_trace(trace=us_10yt_trace, secondary_y=True)\n",
    "\n",
    "add_recession(fig)\n",
    "fig.update_layout(layout)\n",
    "fig.update_layout(\n",
    "    title=f'<b>KRX은행지수</b>와 금리',\n",
    "    xaxis=dict(\n",
    "        title='날짜',\n",
    "        tickformat='%Y/%m/%d',\n",
    "        showticklabels=True,\n",
    "        showgrid=True,\n",
    "        gridcolor='lightgrey'\n",
    "    ),\n",
    "    yaxis=dict(\n",
    "        title='지수',\n",
    "        showticklabels=True,\n",
    "        showgrid=True,\n",
    "        gridcolor='lightgrey'\n",
    "    ),\n",
    "    yaxis2=dict(\n",
    "        title='이율[%]',\n",
    "        showticklabels=True\n",
    "    )\n",
    ")"
   ]
  },
  {
   "cell_type": "markdown",
   "id": "50de0009",
   "metadata": {},
   "source": [
    "## 원-달러 환율과 KRX은행지수"
   ]
  },
  {
   "cell_type": "code",
   "execution_count": null,
   "id": "70f04f55",
   "metadata": {
    "ExecuteTime": {
     "end_time": "2022-10-05T13:41:55.543868Z",
     "start_time": "2022-10-05T13:41:55.543868Z"
    }
   },
   "outputs": [],
   "source": [
    "fig = make_subplots(specs=[[{\"secondary_y\": True}]])\n",
    "\n",
    "fig.add_trace(trace=krx_bank_trace, secondary_y=False)\n",
    "fig.add_trace(trace=exchange_trace, secondary_y=True)\n",
    "add_recession(fig)\n",
    "fig.update_layout(layout)\n",
    "fig.update_layout(\n",
    "    title=f'<b>KRX은행지수</b>와 원-달러 환율',\n",
    "    xaxis=dict(\n",
    "        title='날짜',\n",
    "        tickformat='%Y/%m/%d',\n",
    "        showticklabels=True,\n",
    "        showgrid=True,\n",
    "        gridcolor='lightgrey',\n",
    "    ),\n",
    "    yaxis=dict(\n",
    "        title='지수',\n",
    "        showticklabels=True,\n",
    "        showgrid=True,\n",
    "        gridcolor='lightgrey'\n",
    "    ),\n",
    "    yaxis2=dict(\n",
    "        title='KRW',\n",
    "        showticklabels=True\n",
    "    ),\n",
    "    xaxis_rangeslider=dict(visible=False)\n",
    ")"
   ]
  },
  {
   "cell_type": "markdown",
   "id": "b1660883",
   "metadata": {},
   "source": [
    "# Foreigners"
   ]
  },
  {
   "cell_type": "code",
   "execution_count": null,
   "id": "2ae4cc7b",
   "metadata": {
    "ExecuteTime": {
     "end_time": "2022-10-05T13:41:55.546857Z",
     "start_time": "2022-10-05T13:41:55.545862Z"
    }
   },
   "outputs": [],
   "source": [
    "fig = make_subplots(\n",
    "    rows=2, cols=2,\n",
    "    vertical_spacing=0.12, horizontal_spacing=0.1,\n",
    "    subplot_titles=tuple(target.이름.tolist()),\n",
    "    specs=[\n",
    "        [{\"type\": \"xy\", \"secondary_y\": True}, {\"type\": \"xy\", \"secondary_y\": True}],\n",
    "        [{\"type\": \"xy\", \"secondary_y\": True}, {\"type\": \"xy\", \"secondary_y\": True}]\n",
    "    ]\n",
    ")\n",
    "\n",
    "for n, ticker in enumerate(target.index):\n",
    "    obj = stock_objs[ticker]\n",
    "    foreigner = obj.fnguide.Foreigner['3Y'].dropna()\n",
    "    fig.add_trace(\n",
    "        trace = go.Scatter(\n",
    "            name=ticker,\n",
    "            x=foreigner.index, y=foreigner['외국인보유비중'],\n",
    "            showlegend=False,\n",
    "            xhoverformat='%Y/%m/%d', \n",
    "            hovertemplate='%{x}<br>%{y:.2f}%<extra>보유비중</extra>'\n",
    "        ), row = n // 2 + 1, col = n % 2 + 1, secondary_y=False\n",
    "    )\n",
    "    fig.add_trace(\n",
    "        trace = go.Scatter(\n",
    "            name=ticker,\n",
    "            x=foreigner.index, y=foreigner['종가'],\n",
    "            line=dict(color='#000000', dash='dot', width=1),\n",
    "            showlegend=False,\n",
    "            xhoverformat='%Y/%m/%d', \n",
    "            hovertemplate='%{x}<br>%{y:,d}원<extra>종가</extra>'\n",
    "        ), row = n // 2 + 1, col = n % 2 + 1, secondary_y=True\n",
    "    )\n",
    "    \n",
    "\n",
    "add_recession(fig)\n",
    "fig.update_layout(layout)\n",
    "fig.update_layout(    \n",
    "    title=f'<b>은행주</b> 외국인 보유비중',\n",
    "    xaxis=dict(showgrid=True, gridcolor='lightgrey', tickformat=\"%Y/%m/%d\"),\n",
    "    xaxis2=dict(showgrid=True, gridcolor='lightgrey', tickformat=\"%Y/%m/%d\"),\n",
    "    xaxis3=dict(showgrid=True, gridcolor='lightgrey', tickformat=\"%Y/%m/%d\"),\n",
    "    xaxis4=dict(showgrid=True, gridcolor='lightgrey', tickformat=\"%Y/%m/%d\"),\n",
    "    yaxis=dict(title='[%]', showgrid=True, gridcolor='lightgrey'),\n",
    "    yaxis2=dict(title='[KRW]', showgrid=False),\n",
    "    yaxis3=dict(title='[%]', showgrid=True, gridcolor='lightgrey'),\n",
    "    yaxis4=dict(title='[KRW]', showgrid=False),\n",
    "    yaxis5=dict(title='[%]', showgrid=True, gridcolor='lightgrey'),\n",
    "    yaxis6=dict(title='[KRW]', showgrid=False),\n",
    "    yaxis7=dict(title='[%]', showgrid=True, gridcolor='lightgrey'),\n",
    "    yaxis8=dict(title='[KRW]', showgrid=False),\n",
    ")\n",
    "\n",
    "for n, annotation in enumerate(fig['layout']['annotations']):\n",
    "    annotation['x'] = 0 + 0.55 * (n % 2)\n",
    "    annotation['xanchor'] = 'center'\n",
    "    annotation['xref'] = 'paper'\n",
    "fig.show()"
   ]
  },
  {
   "cell_type": "markdown",
   "id": "d5931faa",
   "metadata": {},
   "source": [
    "* 습작 노트"
   ]
  },
  {
   "cell_type": "code",
   "execution_count": null,
   "id": "edcb245e",
   "metadata": {
    "ExecuteTime": {
     "end_time": "2022-10-05T13:41:55.548852Z",
     "start_time": "2022-10-05T13:41:55.548852Z"
    }
   },
   "outputs": [],
   "source": [
    "# 금리 정보\n",
    "kr_interests = macro.data.ecos('817Y002')\n",
    "print(f\"한국은행 금리정보:\\n{kr_interests.columns.to_list()}\\n\")"
   ]
  },
  {
   "cell_type": "code",
   "execution_count": null,
   "id": "729f0322",
   "metadata": {
    "ExecuteTime": {
     "end_time": "2022-10-05T13:41:55.550847Z",
     "start_time": "2022-10-05T13:41:55.550847Z"
    }
   },
   "outputs": [],
   "source": [
    "deposit = kr_interests['자금조정 예금금리'].dropna().astype(float)\n",
    "# loan = kr_interests['자금조정 대출금리'].dropna().astype(float)\n",
    "loan = kr_interests['정부대출금금리'].dropna().astype(float)\n",
    "margin = loan - deposit\n",
    "\n",
    "fig = go.Figure()\n",
    "\n",
    "fig.add_trace(\n",
    "    go.Scatter(\n",
    "        x=deposit.index,\n",
    "        y=deposit,\n",
    "        name='예금금리',\n",
    "    )\n",
    ")\n",
    "fig.add_trace(\n",
    "    go.Scatter(\n",
    "        x=loan.index,\n",
    "        y=loan,\n",
    "        name='대출금리'\n",
    "    )\n",
    ")\n",
    "fig.add_trace(\n",
    "    go.Scatter(\n",
    "        x=margin.index,\n",
    "        y=margin,\n",
    "        name='예대마진'\n",
    "    )\n",
    ")\n"
   ]
  }
 ],
 "metadata": {
  "kernelspec": {
   "display_name": "Python 3 (ipykernel)",
   "language": "python",
   "name": "python3"
  },
  "language_info": {
   "codemirror_mode": {
    "name": "ipython",
    "version": 3
   },
   "file_extension": ".py",
   "mimetype": "text/x-python",
   "name": "python",
   "nbconvert_exporter": "python",
   "pygments_lexer": "ipython3",
   "version": "3.8.6"
  },
  "toc": {
   "base_numbering": 1,
   "nav_menu": {},
   "number_sections": true,
   "sideBar": true,
   "skip_h1_title": false,
   "title_cell": "Table of Contents",
   "title_sidebar": "Contents",
   "toc_cell": false,
   "toc_position": {
    "height": "calc(100% - 180px)",
    "left": "10px",
    "top": "150px",
    "width": "329.797px"
   },
   "toc_section_display": true,
   "toc_window_display": true
  }
 },
 "nbformat": 4,
 "nbformat_minor": 5
}
