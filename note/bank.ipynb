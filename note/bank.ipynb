{
 "cells": [
  {
   "cell_type": "code",
   "execution_count": 1,
   "id": "79e3a4f3",
   "metadata": {
    "ExecuteTime": {
     "end_time": "2022-10-05T13:40:54.528095Z",
     "start_time": "2022-10-05T13:40:54.501167Z"
    }
   },
   "outputs": [
    {
     "name": "stdout",
     "output_type": "stream",
     "text": [
      "D:\\J.H.LEE\\05. CODING\\Python\\Project\\tdatlib\n"
     ]
    }
   ],
   "source": [
    "cd .."
   ]
  },
  {
   "cell_type": "code",
   "execution_count": 10,
   "id": "9e55e753",
   "metadata": {},
   "outputs": [
    {
     "data": {
      "text/html": [
       "<style>.container { width:80% !important;}</style>"
      ],
      "text/plain": [
       "<IPython.core.display.HTML object>"
      ]
     },
     "metadata": {},
     "output_type": "display_data"
    }
   ],
   "source": [
    "from IPython.display import display, HTML\n",
    "display(HTML(\"<style>.container { width:80% !important;}</style>\"))\n",
    "\n",
    "import plotly.graph_objects as go\n",
    "import plotly.offline as of\n",
    "import pandas as pd\n",
    "# import tdatlib as tdat\n",
    "from plotly.subplots import make_subplots\n",
    "from snob import tools, ecos, fred, krse, idex, kr"
   ]
  },
  {
   "cell_type": "markdown",
   "id": "538066a2",
   "metadata": {},
   "source": [
    "# Initialize"
   ]
  },
  {
   "cell_type": "code",
   "execution_count": 3,
   "id": "e966940c",
   "metadata": {
    "ExecuteTime": {
     "end_time": "2022-10-05T13:41:02.698796Z",
     "start_time": "2022-10-05T13:40:58.844097Z"
    }
   },
   "outputs": [],
   "source": [
    "idex.period = ecos.period = fred.period = 20\n",
    "\n",
    "tickers = pd.DataFrame(\n",
    "    data=[\n",
    "        dict(ticker=\"5046\",   종류=\"지수\", 이름=\"KRX은행\"),\n",
    "        dict(ticker=\"091170\", 종류=\"ETF\", 이름=\"KODEX은행\"),\n",
    "        dict(ticker=\"091220\", 종류=\"ETF\", 이름=\"TIGER은행\"),\n",
    "        dict(ticker=\"105560\", 종류=\"주식\", 이름=\"KB금융\"),\n",
    "        dict(ticker=\"086790\", 종류=\"주식\", 이름=\"하나금융지주\"),\n",
    "        dict(ticker=\"139130\", 종류=\"주식\", 이름=\"DGB금융지주\"),\n",
    "        dict(ticker=\"055550\", 종류=\"주식\", 이름=\"신한지주\"),\n",
    "        dict(ticker=\"024110\", 종류=\"주식\", 이름=\"기업은행\"),\n",
    "        dict(ticker=\"138930\", 종류=\"주식\", 이름=\"BNK금융지주\"),\n",
    "        dict(ticker=\"316140\", 종류=\"주식\", 이름=\"우리금융지주\"),\n",
    "        dict(ticker=\"038540\", 종류=\"주식\", 이름=\"상상인\"),\n",
    "    ]\n",
    ").set_index(keys='ticker').join(other=krse.overview)\n",
    "\n",
    "stock_objs = {ticker: kr(ticker=ticker) for ticker in tickers[tickers.종류 == '주식'].index}"
   ]
  },
  {
   "cell_type": "code",
   "execution_count": 4,
   "id": "437f12ab",
   "metadata": {
    "ExecuteTime": {
     "end_time": "2022-10-05T13:41:02.714754Z",
     "start_time": "2022-10-05T13:41:02.702787Z"
    }
   },
   "outputs": [],
   "source": [
    "# 레이아웃\n",
    "layout = dict(\n",
    "    plot_bgcolor='white', height=750,\n",
    "    legend=dict(orientation=\"h\", xanchor=\"right\", yanchor=\"bottom\", x=0.96, y=1),\n",
    "    xaxis_rangeslider=dict(visible=False)\n",
    ")"
   ]
  },
  {
   "cell_type": "markdown",
   "id": "4a8bf7aa",
   "metadata": {},
   "source": [
    "# Data Collection"
   ]
  },
  {
   "cell_type": "markdown",
   "id": "02d44649",
   "metadata": {},
   "source": [
    "## KRX은행지수"
   ]
  },
  {
   "cell_type": "code",
   "execution_count": null,
   "id": "2022f6bf",
   "metadata": {
    "ExecuteTime": {
     "end_time": "2022-10-05T13:41:07.412962Z",
     "start_time": "2022-10-05T13:41:02.718743Z"
    }
   },
   "outputs": [],
   "source": [
    "# KRX 은행 지수\n",
    "krx_bank = idex.bank\n",
    "krx_bank_trace = tools.draw_line(krx_bank.종가, 'KRX은행')\n",
    "krx_bank_trace.color = 'black'\n",
    "krx_bank_trace.width = 1.0"
   ]
  },
  {
   "cell_type": "markdown",
   "id": "f13536f9",
   "metadata": {},
   "source": [
    "## 수신/대출 금리"
   ]
  },
  {
   "cell_type": "markdown",
   "id": "6c85b13a",
   "metadata": {},
   "source": [
    "### 금리 정보"
   ]
  },
  {
   "cell_type": "code",
   "execution_count": 12,
   "id": "3d820193",
   "metadata": {
    "ExecuteTime": {
     "end_time": "2022-10-05T13:41:14.602992Z",
     "start_time": "2022-10-05T13:41:07.415914Z"
    }
   },
   "outputs": [
    {
     "data": {
      "text/html": [
       "<div>\n",
       "<style scoped>\n",
       "    .dataframe tbody tr th:only-of-type {\n",
       "        vertical-align: middle;\n",
       "    }\n",
       "\n",
       "    .dataframe tbody tr th {\n",
       "        vertical-align: top;\n",
       "    }\n",
       "\n",
       "    .dataframe thead th {\n",
       "        text-align: right;\n",
       "    }\n",
       "</style>\n",
       "<table border=\"1\" class=\"dataframe\">\n",
       "  <thead>\n",
       "    <tr style=\"text-align: right;\">\n",
       "      <th></th>\n",
       "      <th>수신신규 121Y002</th>\n",
       "      <th>수신잔액 121Y013</th>\n",
       "      <th>대출신규 121Y006</th>\n",
       "      <th>대출잔액 121Y015</th>\n",
       "    </tr>\n",
       "  </thead>\n",
       "  <tbody>\n",
       "    <tr>\n",
       "      <th>0</th>\n",
       "      <td>저축성수신</td>\n",
       "      <td>총수신(요구불예금 및 수시입출식 저축성예금 포함)</td>\n",
       "      <td>대출평균 1)</td>\n",
       "      <td>총대출 1)</td>\n",
       "    </tr>\n",
       "    <tr>\n",
       "      <th>3</th>\n",
       "      <td>순수저축성예금 1)</td>\n",
       "      <td>수시입출식 저축성예금</td>\n",
       "      <td>기업대출</td>\n",
       "      <td>총대출(당좌대출 제외)</td>\n",
       "    </tr>\n",
       "    <tr>\n",
       "      <th>6</th>\n",
       "      <td>정기예금</td>\n",
       "      <td>저축성수신(요구불예금 및 수시입출식 저축성예금 제외)</td>\n",
       "      <td>대기업대출</td>\n",
       "      <td>기업대출 2)</td>\n",
       "    </tr>\n",
       "    <tr>\n",
       "      <th>9</th>\n",
       "      <td>정기예금(6개월 미만) 2)</td>\n",
       "      <td>저축성수신(금융채 제외)</td>\n",
       "      <td>중소기업대출</td>\n",
       "      <td>대기업대출</td>\n",
       "    </tr>\n",
       "    <tr>\n",
       "      <th>12</th>\n",
       "      <td>정기예금(6개월~1년 미만) 2)</td>\n",
       "      <td>순수저축성예금</td>\n",
       "      <td>운전자금대출</td>\n",
       "      <td>중소기업대출</td>\n",
       "    </tr>\n",
       "    <tr>\n",
       "      <th>15</th>\n",
       "      <td>정기예금(1~2년 미만) 2)</td>\n",
       "      <td>정기예금</td>\n",
       "      <td>시설자금대출</td>\n",
       "      <td>운전자금대출</td>\n",
       "    </tr>\n",
       "    <tr>\n",
       "      <th>18</th>\n",
       "      <td>정기예금(2~3년 미만)</td>\n",
       "      <td>정기적금</td>\n",
       "      <td>가계대출</td>\n",
       "      <td>시설자금대출</td>\n",
       "    </tr>\n",
       "    <tr>\n",
       "      <th>21</th>\n",
       "      <td>정기예금(3~4년 미만)</td>\n",
       "      <td>상호부금</td>\n",
       "      <td>소액대출 (500만원 이하)</td>\n",
       "      <td>가계대출 2)</td>\n",
       "    </tr>\n",
       "    <tr>\n",
       "      <th>24</th>\n",
       "      <td>정기예금(4~5년 미만)</td>\n",
       "      <td>주택부금</td>\n",
       "      <td>주택담보대출</td>\n",
       "      <td>소액대출 (500만원 이하)</td>\n",
       "    </tr>\n",
       "    <tr>\n",
       "      <th>27</th>\n",
       "      <td>정기예금(5년 이상)</td>\n",
       "      <td>시장형금융상품</td>\n",
       "      <td>예·적금담보대출</td>\n",
       "      <td>주택담보대출</td>\n",
       "    </tr>\n",
       "    <tr>\n",
       "      <th>30</th>\n",
       "      <td>정기예금(1년)</td>\n",
       "      <td>양도성예금증서</td>\n",
       "      <td>보증대출</td>\n",
       "      <td>예·적금담보대출</td>\n",
       "    </tr>\n",
       "    <tr>\n",
       "      <th>33</th>\n",
       "      <td>정기적금</td>\n",
       "      <td>환매조건부채권매도</td>\n",
       "      <td>일반신용대출 2)</td>\n",
       "      <td>보증대출</td>\n",
       "    </tr>\n",
       "    <tr>\n",
       "      <th>36</th>\n",
       "      <td>정기적금(3-4년)</td>\n",
       "      <td>표지어음</td>\n",
       "      <td>집단대출 2)</td>\n",
       "      <td>일반신용대출 3)</td>\n",
       "    </tr>\n",
       "    <tr>\n",
       "      <th>39</th>\n",
       "      <td>상호부금</td>\n",
       "      <td>금융채 1)</td>\n",
       "      <td>공공및기타부문대출</td>\n",
       "      <td>집단대출 3)</td>\n",
       "    </tr>\n",
       "    <tr>\n",
       "      <th>42</th>\n",
       "      <td>상호부금(3-4년)</td>\n",
       "      <td>저축예금</td>\n",
       "      <td>상업어음할인</td>\n",
       "      <td>공공및기타부문대출</td>\n",
       "    </tr>\n",
       "    <tr>\n",
       "      <th>45</th>\n",
       "      <td>주택부금</td>\n",
       "      <td>개인MMDA</td>\n",
       "      <td>기업일반자금대출</td>\n",
       "      <td>당좌대출 4)</td>\n",
       "    </tr>\n",
       "    <tr>\n",
       "      <th>48</th>\n",
       "      <td>시장형금융상품</td>\n",
       "      <td>기업자유예금</td>\n",
       "      <td>NaN</td>\n",
       "      <td>NaN</td>\n",
       "    </tr>\n",
       "    <tr>\n",
       "      <th>51</th>\n",
       "      <td>양도성예금증서</td>\n",
       "      <td>기업MMDA</td>\n",
       "      <td>NaN</td>\n",
       "      <td>NaN</td>\n",
       "    </tr>\n",
       "    <tr>\n",
       "      <th>54</th>\n",
       "      <td>양도성예금증서(91일)</td>\n",
       "      <td>요구불예금</td>\n",
       "      <td>NaN</td>\n",
       "      <td>NaN</td>\n",
       "    </tr>\n",
       "    <tr>\n",
       "      <th>57</th>\n",
       "      <td>환매조건부채권매도</td>\n",
       "      <td>NaN</td>\n",
       "      <td>NaN</td>\n",
       "      <td>NaN</td>\n",
       "    </tr>\n",
       "    <tr>\n",
       "      <th>60</th>\n",
       "      <td>환매조건부채권매도(91-180일)</td>\n",
       "      <td>NaN</td>\n",
       "      <td>NaN</td>\n",
       "      <td>NaN</td>\n",
       "    </tr>\n",
       "    <tr>\n",
       "      <th>63</th>\n",
       "      <td>표지어음</td>\n",
       "      <td>NaN</td>\n",
       "      <td>NaN</td>\n",
       "      <td>NaN</td>\n",
       "    </tr>\n",
       "    <tr>\n",
       "      <th>66</th>\n",
       "      <td>표지어음(91-120일)</td>\n",
       "      <td>NaN</td>\n",
       "      <td>NaN</td>\n",
       "      <td>NaN</td>\n",
       "    </tr>\n",
       "    <tr>\n",
       "      <th>69</th>\n",
       "      <td>금융채 3)</td>\n",
       "      <td>NaN</td>\n",
       "      <td>NaN</td>\n",
       "      <td>NaN</td>\n",
       "    </tr>\n",
       "    <tr>\n",
       "      <th>72</th>\n",
       "      <td>저축성수신(금융채 제외) 1)</td>\n",
       "      <td>NaN</td>\n",
       "      <td>NaN</td>\n",
       "      <td>NaN</td>\n",
       "    </tr>\n",
       "  </tbody>\n",
       "</table>\n",
       "</div>"
      ],
      "text/plain": [
       "          수신신규 121Y002                   수신잔액 121Y013     대출신규 121Y006  \\\n",
       "0                저축성수신    총수신(요구불예금 및 수시입출식 저축성예금 포함)          대출평균 1)   \n",
       "3           순수저축성예금 1)                    수시입출식 저축성예금             기업대출   \n",
       "6                 정기예금  저축성수신(요구불예금 및 수시입출식 저축성예금 제외)            대기업대출   \n",
       "9      정기예금(6개월 미만) 2)                  저축성수신(금융채 제외)           중소기업대출   \n",
       "12  정기예금(6개월~1년 미만) 2)                        순수저축성예금           운전자금대출   \n",
       "15    정기예금(1~2년 미만) 2)                           정기예금           시설자금대출   \n",
       "18       정기예금(2~3년 미만)                           정기적금             가계대출   \n",
       "21       정기예금(3~4년 미만)                           상호부금  소액대출 (500만원 이하)   \n",
       "24       정기예금(4~5년 미만)                           주택부금           주택담보대출   \n",
       "27         정기예금(5년 이상)                        시장형금융상품         예·적금담보대출   \n",
       "30            정기예금(1년)                        양도성예금증서             보증대출   \n",
       "33                정기적금                      환매조건부채권매도        일반신용대출 2)   \n",
       "36          정기적금(3-4년)                           표지어음          집단대출 2)   \n",
       "39                상호부금                         금융채 1)        공공및기타부문대출   \n",
       "42          상호부금(3-4년)                           저축예금           상업어음할인   \n",
       "45                주택부금                         개인MMDA         기업일반자금대출   \n",
       "48             시장형금융상품                         기업자유예금              NaN   \n",
       "51             양도성예금증서                         기업MMDA              NaN   \n",
       "54        양도성예금증서(91일)                          요구불예금              NaN   \n",
       "57           환매조건부채권매도                            NaN              NaN   \n",
       "60  환매조건부채권매도(91-180일)                            NaN              NaN   \n",
       "63                표지어음                            NaN              NaN   \n",
       "66       표지어음(91-120일)                            NaN              NaN   \n",
       "69              금융채 3)                            NaN              NaN   \n",
       "72    저축성수신(금융채 제외) 1)                            NaN              NaN   \n",
       "\n",
       "       대출잔액 121Y015  \n",
       "0            총대출 1)  \n",
       "3      총대출(당좌대출 제외)  \n",
       "6           기업대출 2)  \n",
       "9             대기업대출  \n",
       "12           중소기업대출  \n",
       "15           운전자금대출  \n",
       "18           시설자금대출  \n",
       "21          가계대출 2)  \n",
       "24  소액대출 (500만원 이하)  \n",
       "27           주택담보대출  \n",
       "30         예·적금담보대출  \n",
       "33             보증대출  \n",
       "36        일반신용대출 3)  \n",
       "39          집단대출 3)  \n",
       "42        공공및기타부문대출  \n",
       "45          당좌대출 4)  \n",
       "48              NaN  \n",
       "51              NaN  \n",
       "54              NaN  \n",
       "57              NaN  \n",
       "60              NaN  \n",
       "63              NaN  \n",
       "66              NaN  \n",
       "69              NaN  \n",
       "72              NaN  "
      ]
     },
     "execution_count": 12,
     "metadata": {},
     "output_type": "execute_result"
    }
   ],
   "source": [
    "col_table = pd.concat(\n",
    "    objs={\n",
    "        \"수신신규 121Y002\":ecos.contains('121Y002').이름.drop_duplicates(keep='first'),\n",
    "        \"수신잔액 121Y013\":ecos.contains('121Y013').이름.drop_duplicates(keep='first'),\n",
    "        \"대출신규 121Y006\":ecos.contains('121Y006').이름.drop_duplicates(keep='first'),\n",
    "        \"대출잔액 121Y015\":ecos.contains('121Y015').이름.drop_duplicates(keep='first'),\n",
    "    }, axis=1\n",
    ")\n",
    "col_table"
   ]
  },
  {
   "cell_type": "markdown",
   "id": "04be4687",
   "metadata": {},
   "source": [
    "### 금리 데이터"
   ]
  },
  {
   "cell_type": "code",
   "execution_count": 14,
   "id": "622effca",
   "metadata": {
    "ExecuteTime": {
     "end_time": "2022-10-05T13:41:14.634902Z",
     "start_time": "2022-10-05T13:41:14.607974Z"
    }
   },
   "outputs": [],
   "source": [
    "depo = ecos.load('121Y002', '저축성수신(금융채 제외) 1)')\n",
    "\n",
    "# loan = ecos.load('121Y015', '총대출 1)')\n",
    "loan = ecos.load('121Y006', '가계대출')\n",
    "d_depo_loan = loan - depo\n",
    "\n",
    "depo_trace = tools.draw_line(depo, name=depo_col)\n",
    "loan_trace = tools.draw_line(loan, name=loan_col)\n",
    "d_depo_loan_trace = tools.draw_line(d_depo_loan, name='예대출금리차')"
   ]
  },
  {
   "cell_type": "markdown",
   "id": "0e4717c4",
   "metadata": {},
   "source": [
    "## 기준 금리"
   ]
  },
  {
   "cell_type": "code",
   "execution_count": 6,
   "id": "3b1f17d4",
   "metadata": {
    "ExecuteTime": {
     "end_time": "2022-10-05T13:41:27.485897Z",
     "start_time": "2022-10-05T13:41:14.638891Z"
    }
   },
   "outputs": [],
   "source": [
    "# 한국은행 기준금리\n",
    "kr_std = ecos.기준금리\n",
    "kr_std_trace = tools.draw_line(kr_std, name='한국 기준금리')\n",
    "kr_std_trace.yhoverformat = '.2f%'\n",
    "kr_std_trace.line = dict(width=1.2)\n",
    "\n",
    "# 미국 기준금리\n",
    "us_std = fred.기준금리\n",
    "us_std_trace = tools.draw_line(us_std, name='미국 기준금리')\n",
    "us_std_trace.yhoverformat = '.2f%'\n",
    "us_std_trace.line = dict(width=1.2)"
   ]
  },
  {
   "cell_type": "markdown",
   "id": "9a652b49",
   "metadata": {},
   "source": [
    "## 3년물 금리"
   ]
  },
  {
   "cell_type": "code",
   "execution_count": 7,
   "id": "57f409b2",
   "metadata": {
    "ExecuteTime": {
     "end_time": "2022-10-05T13:41:55.527943Z",
     "start_time": "2022-10-05T13:41:27.490889Z"
    }
   },
   "outputs": [],
   "source": [
    "# 한국채 3년물 금리\n",
    "kr_3yt = ecos.국고채3Y\n",
    "kr_3yt_trace = tools.draw_line(kr_3yt, name='한국채3년물')\n",
    "kr_3yt_trace.line = dict(width=1.2)\n",
    "kr_3yt_trace.yhoverformat = '.2f%'\n",
    "\n",
    "\n",
    "# 미국채 3년물 금리\n",
    "us_3yt = fred.국고채3Y\n",
    "us_3yt_trace = tools.draw_line(us_3yt, name='미국채3년물')\n",
    "us_3yt_trace.line = dict(width=1.2)\n",
    "us_3yt_trace.yhoverformat ='.2f%'"
   ]
  },
  {
   "cell_type": "markdown",
   "id": "7a490643",
   "metadata": {},
   "source": [
    "## 10년물 금리"
   ]
  },
  {
   "cell_type": "code",
   "execution_count": 8,
   "id": "750868fe",
   "metadata": {
    "ExecuteTime": {
     "end_time": "2022-10-05T13:41:55.530900Z",
     "start_time": "2022-10-05T13:41:55.530900Z"
    }
   },
   "outputs": [],
   "source": [
    "# 한국채 10년물 금리\n",
    "kr_10yt = ecos.국고채10Y\n",
    "kr_10yt_trace = tools.draw_line(kr_10yt, name='한국채10년물')\n",
    "kr_10yt_trace.line = dict(width=1.2)\n",
    "kr_10yt_trace.yhoverformat = '.2f%'\n",
    "\n",
    "\n",
    "# 미국채 10년물 금리\n",
    "us_10yt = fred.국고채10Y\n",
    "us_10yt_trace = tools.draw_line(us_10yt, name='미국채10년물')\n",
    "us_10yt_trace.line = dict(width=1.2)\n",
    "us_10yt_trace.yhoverformat = '.2f%'"
   ]
  },
  {
   "cell_type": "markdown",
   "id": "5598000a",
   "metadata": {},
   "source": [
    "## 원-달러 환율"
   ]
  },
  {
   "cell_type": "code",
   "execution_count": null,
   "id": "ba60d408",
   "metadata": {
    "ExecuteTime": {
     "end_time": "2022-10-05T13:41:55.533894Z",
     "start_time": "2022-10-05T13:41:55.533894Z"
    }
   },
   "outputs": [],
   "source": [
    "# 원-달러 환율\n",
    "exchange = ecos.원달러환율\n",
    "exchange_trace = tools.draw_candle(exchange, name='원달러환율')"
   ]
  },
  {
   "cell_type": "markdown",
   "id": "58779e5e",
   "metadata": {},
   "source": [
    "# BM & Products\n",
    "\n",
    "- 은행 사업 구조 및 최대 매출처 확인\n",
    "- 주요 매출처\n",
    "  * 유가 증권 평가 및 처분 이익<br>\n",
    "    : 1년 또는 1영업주기 내 현금화할 의도가 있는 증권을 유가 증권이라고 한다.<br>\n",
    "    : 증권은 CD, CP 등 단기 증서 및 보통주/우선주의 주식과 사채, 어음 등 채무 증권을 말한다.<br>\n",
    "    : 이러한 유가 증권을 취득 가액보다 높은 이익으로 처분할 때 발생하는 이익 및 보유 증권의 평가액을 매출에 반영한다.<br>\n",
    "  * 신탁 업무 운용 수익\n",
    "    : 운용"
   ]
  },
  {
   "cell_type": "markdown",
   "id": "7acc25a6",
   "metadata": {},
   "source": [
    "## 대표 시중은행 매출 구조"
   ]
  },
  {
   "cell_type": "code",
   "execution_count": 18,
   "id": "6e259d02",
   "metadata": {
    "ExecuteTime": {
     "end_time": "2022-10-05T13:41:55.535889Z",
     "start_time": "2022-10-05T13:41:55.535889Z"
    }
   },
   "outputs": [
    {
     "data": {
      "application/vnd.plotly.v1+json": {
       "config": {
        "plotlyServerURL": "https://plot.ly"
       },
       "data": [
        {
         "automargin": true,
         "domain": {
          "x": [
           0,
           0.45
          ],
          "y": [
           0.56,
           1
          ]
         },
         "hoverinfo": "label+percent",
         "insidetextorientation": "radial",
         "labels": [
          "유가증권평가및처분이익",
          "신탁업무운용수익",
          "이자수익",
          "수수료수익",
          "기타(계)"
         ],
         "name": "Product",
         "showlegend": true,
         "textfont": {
          "color": "white"
         },
         "textinfo": "label+percent",
         "type": "pie",
         "values": [
          29.66,
          27.34,
          25.82,
          9.04,
          8.14000000000001
         ],
         "visible": true
        },
        {
         "automargin": true,
         "domain": {
          "x": [
           0.55,
           1
          ],
          "y": [
           0.56,
           1
          ]
         },
         "hoverinfo": "label+percent",
         "insidetextorientation": "radial",
         "labels": [
          "이자수익",
          "신탁업무운용수익",
          "수수료수익",
          "유가증권평가및처분이익",
          "기타(계)"
         ],
         "name": "Product",
         "showlegend": true,
         "textfont": {
          "color": "white"
         },
         "textinfo": "label+percent",
         "type": "pie",
         "values": [
          51.35,
          22.77,
          14.44,
          7.06,
          4.379999999999995
         ],
         "visible": true
        },
        {
         "automargin": true,
         "domain": {
          "x": [
           0,
           0.45
          ],
          "y": [
           0,
           0.44
          ]
         },
         "hoverinfo": "label+percent",
         "insidetextorientation": "radial",
         "labels": [
          "유가증권평가및처분이익",
          "이자수익",
          "외환거래이익",
          "수수료수익",
          "기타(계)"
         ],
         "name": "Product",
         "showlegend": true,
         "textfont": {
          "color": "white"
         },
         "textinfo": "label+percent",
         "type": "pie",
         "values": [
          50.69,
          26.08,
          12.47,
          6.37,
          4.390000000000004
         ],
         "visible": true
        },
        {
         "automargin": true,
         "domain": {
          "x": [
           0.55,
           1
          ],
          "y": [
           0,
           0.44
          ]
         },
         "hoverinfo": "label+percent",
         "insidetextorientation": "radial",
         "labels": [
          "유가증권평가및처분이익",
          "이자수익",
          "수수료수익",
          "외환거래이익",
          "기타(계)"
         ],
         "name": "Product",
         "showlegend": true,
         "textfont": {
          "color": "white"
         },
         "textinfo": "label+percent",
         "type": "pie",
         "values": [
          50.7,
          36.39,
          7.19,
          2.07,
          3.65
         ],
         "visible": true
        }
       ],
       "layout": {
        "annotations": [
         {
          "font": {
           "size": 16
          },
          "showarrow": false,
          "text": "KB금융",
          "x": 0,
          "xanchor": "center",
          "xref": "paper",
          "y": 1,
          "yanchor": "bottom",
          "yref": "paper"
         },
         {
          "font": {
           "size": 16
          },
          "showarrow": false,
          "text": "신한지주",
          "x": 0.55,
          "xanchor": "center",
          "xref": "paper",
          "y": 1,
          "yanchor": "bottom",
          "yref": "paper"
         },
         {
          "font": {
           "size": 16
          },
          "showarrow": false,
          "text": "하나금융지주",
          "x": 0,
          "xanchor": "center",
          "xref": "paper",
          "y": 0.44,
          "yanchor": "bottom",
          "yref": "paper"
         },
         {
          "font": {
           "size": 16
          },
          "showarrow": false,
          "text": "우리금융지주",
          "x": 0.55,
          "xanchor": "center",
          "xref": "paper",
          "y": 0.44,
          "yanchor": "bottom",
          "yref": "paper"
         }
        ],
        "height": 750,
        "legend": {
         "orientation": "h",
         "x": 0.96,
         "xanchor": "right",
         "y": 1.08,
         "yanchor": "bottom"
        },
        "plot_bgcolor": "white",
        "template": {
         "data": {
          "bar": [
           {
            "error_x": {
             "color": "#2a3f5f"
            },
            "error_y": {
             "color": "#2a3f5f"
            },
            "marker": {
             "line": {
              "color": "#E5ECF6",
              "width": 0.5
             },
             "pattern": {
              "fillmode": "overlay",
              "size": 10,
              "solidity": 0.2
             }
            },
            "type": "bar"
           }
          ],
          "barpolar": [
           {
            "marker": {
             "line": {
              "color": "#E5ECF6",
              "width": 0.5
             },
             "pattern": {
              "fillmode": "overlay",
              "size": 10,
              "solidity": 0.2
             }
            },
            "type": "barpolar"
           }
          ],
          "carpet": [
           {
            "aaxis": {
             "endlinecolor": "#2a3f5f",
             "gridcolor": "white",
             "linecolor": "white",
             "minorgridcolor": "white",
             "startlinecolor": "#2a3f5f"
            },
            "baxis": {
             "endlinecolor": "#2a3f5f",
             "gridcolor": "white",
             "linecolor": "white",
             "minorgridcolor": "white",
             "startlinecolor": "#2a3f5f"
            },
            "type": "carpet"
           }
          ],
          "choropleth": [
           {
            "colorbar": {
             "outlinewidth": 0,
             "ticks": ""
            },
            "type": "choropleth"
           }
          ],
          "contour": [
           {
            "colorbar": {
             "outlinewidth": 0,
             "ticks": ""
            },
            "colorscale": [
             [
              0,
              "#0d0887"
             ],
             [
              0.1111111111111111,
              "#46039f"
             ],
             [
              0.2222222222222222,
              "#7201a8"
             ],
             [
              0.3333333333333333,
              "#9c179e"
             ],
             [
              0.4444444444444444,
              "#bd3786"
             ],
             [
              0.5555555555555556,
              "#d8576b"
             ],
             [
              0.6666666666666666,
              "#ed7953"
             ],
             [
              0.7777777777777778,
              "#fb9f3a"
             ],
             [
              0.8888888888888888,
              "#fdca26"
             ],
             [
              1,
              "#f0f921"
             ]
            ],
            "type": "contour"
           }
          ],
          "contourcarpet": [
           {
            "colorbar": {
             "outlinewidth": 0,
             "ticks": ""
            },
            "type": "contourcarpet"
           }
          ],
          "heatmap": [
           {
            "colorbar": {
             "outlinewidth": 0,
             "ticks": ""
            },
            "colorscale": [
             [
              0,
              "#0d0887"
             ],
             [
              0.1111111111111111,
              "#46039f"
             ],
             [
              0.2222222222222222,
              "#7201a8"
             ],
             [
              0.3333333333333333,
              "#9c179e"
             ],
             [
              0.4444444444444444,
              "#bd3786"
             ],
             [
              0.5555555555555556,
              "#d8576b"
             ],
             [
              0.6666666666666666,
              "#ed7953"
             ],
             [
              0.7777777777777778,
              "#fb9f3a"
             ],
             [
              0.8888888888888888,
              "#fdca26"
             ],
             [
              1,
              "#f0f921"
             ]
            ],
            "type": "heatmap"
           }
          ],
          "heatmapgl": [
           {
            "colorbar": {
             "outlinewidth": 0,
             "ticks": ""
            },
            "colorscale": [
             [
              0,
              "#0d0887"
             ],
             [
              0.1111111111111111,
              "#46039f"
             ],
             [
              0.2222222222222222,
              "#7201a8"
             ],
             [
              0.3333333333333333,
              "#9c179e"
             ],
             [
              0.4444444444444444,
              "#bd3786"
             ],
             [
              0.5555555555555556,
              "#d8576b"
             ],
             [
              0.6666666666666666,
              "#ed7953"
             ],
             [
              0.7777777777777778,
              "#fb9f3a"
             ],
             [
              0.8888888888888888,
              "#fdca26"
             ],
             [
              1,
              "#f0f921"
             ]
            ],
            "type": "heatmapgl"
           }
          ],
          "histogram": [
           {
            "marker": {
             "pattern": {
              "fillmode": "overlay",
              "size": 10,
              "solidity": 0.2
             }
            },
            "type": "histogram"
           }
          ],
          "histogram2d": [
           {
            "colorbar": {
             "outlinewidth": 0,
             "ticks": ""
            },
            "colorscale": [
             [
              0,
              "#0d0887"
             ],
             [
              0.1111111111111111,
              "#46039f"
             ],
             [
              0.2222222222222222,
              "#7201a8"
             ],
             [
              0.3333333333333333,
              "#9c179e"
             ],
             [
              0.4444444444444444,
              "#bd3786"
             ],
             [
              0.5555555555555556,
              "#d8576b"
             ],
             [
              0.6666666666666666,
              "#ed7953"
             ],
             [
              0.7777777777777778,
              "#fb9f3a"
             ],
             [
              0.8888888888888888,
              "#fdca26"
             ],
             [
              1,
              "#f0f921"
             ]
            ],
            "type": "histogram2d"
           }
          ],
          "histogram2dcontour": [
           {
            "colorbar": {
             "outlinewidth": 0,
             "ticks": ""
            },
            "colorscale": [
             [
              0,
              "#0d0887"
             ],
             [
              0.1111111111111111,
              "#46039f"
             ],
             [
              0.2222222222222222,
              "#7201a8"
             ],
             [
              0.3333333333333333,
              "#9c179e"
             ],
             [
              0.4444444444444444,
              "#bd3786"
             ],
             [
              0.5555555555555556,
              "#d8576b"
             ],
             [
              0.6666666666666666,
              "#ed7953"
             ],
             [
              0.7777777777777778,
              "#fb9f3a"
             ],
             [
              0.8888888888888888,
              "#fdca26"
             ],
             [
              1,
              "#f0f921"
             ]
            ],
            "type": "histogram2dcontour"
           }
          ],
          "mesh3d": [
           {
            "colorbar": {
             "outlinewidth": 0,
             "ticks": ""
            },
            "type": "mesh3d"
           }
          ],
          "parcoords": [
           {
            "line": {
             "colorbar": {
              "outlinewidth": 0,
              "ticks": ""
             }
            },
            "type": "parcoords"
           }
          ],
          "pie": [
           {
            "automargin": true,
            "type": "pie"
           }
          ],
          "scatter": [
           {
            "fillpattern": {
             "fillmode": "overlay",
             "size": 10,
             "solidity": 0.2
            },
            "type": "scatter"
           }
          ],
          "scatter3d": [
           {
            "line": {
             "colorbar": {
              "outlinewidth": 0,
              "ticks": ""
             }
            },
            "marker": {
             "colorbar": {
              "outlinewidth": 0,
              "ticks": ""
             }
            },
            "type": "scatter3d"
           }
          ],
          "scattercarpet": [
           {
            "marker": {
             "colorbar": {
              "outlinewidth": 0,
              "ticks": ""
             }
            },
            "type": "scattercarpet"
           }
          ],
          "scattergeo": [
           {
            "marker": {
             "colorbar": {
              "outlinewidth": 0,
              "ticks": ""
             }
            },
            "type": "scattergeo"
           }
          ],
          "scattergl": [
           {
            "marker": {
             "colorbar": {
              "outlinewidth": 0,
              "ticks": ""
             }
            },
            "type": "scattergl"
           }
          ],
          "scattermapbox": [
           {
            "marker": {
             "colorbar": {
              "outlinewidth": 0,
              "ticks": ""
             }
            },
            "type": "scattermapbox"
           }
          ],
          "scatterpolar": [
           {
            "marker": {
             "colorbar": {
              "outlinewidth": 0,
              "ticks": ""
             }
            },
            "type": "scatterpolar"
           }
          ],
          "scatterpolargl": [
           {
            "marker": {
             "colorbar": {
              "outlinewidth": 0,
              "ticks": ""
             }
            },
            "type": "scatterpolargl"
           }
          ],
          "scatterternary": [
           {
            "marker": {
             "colorbar": {
              "outlinewidth": 0,
              "ticks": ""
             }
            },
            "type": "scatterternary"
           }
          ],
          "surface": [
           {
            "colorbar": {
             "outlinewidth": 0,
             "ticks": ""
            },
            "colorscale": [
             [
              0,
              "#0d0887"
             ],
             [
              0.1111111111111111,
              "#46039f"
             ],
             [
              0.2222222222222222,
              "#7201a8"
             ],
             [
              0.3333333333333333,
              "#9c179e"
             ],
             [
              0.4444444444444444,
              "#bd3786"
             ],
             [
              0.5555555555555556,
              "#d8576b"
             ],
             [
              0.6666666666666666,
              "#ed7953"
             ],
             [
              0.7777777777777778,
              "#fb9f3a"
             ],
             [
              0.8888888888888888,
              "#fdca26"
             ],
             [
              1,
              "#f0f921"
             ]
            ],
            "type": "surface"
           }
          ],
          "table": [
           {
            "cells": {
             "fill": {
              "color": "#EBF0F8"
             },
             "line": {
              "color": "white"
             }
            },
            "header": {
             "fill": {
              "color": "#C8D4E3"
             },
             "line": {
              "color": "white"
             }
            },
            "type": "table"
           }
          ]
         },
         "layout": {
          "annotationdefaults": {
           "arrowcolor": "#2a3f5f",
           "arrowhead": 0,
           "arrowwidth": 1
          },
          "autotypenumbers": "strict",
          "coloraxis": {
           "colorbar": {
            "outlinewidth": 0,
            "ticks": ""
           }
          },
          "colorscale": {
           "diverging": [
            [
             0,
             "#8e0152"
            ],
            [
             0.1,
             "#c51b7d"
            ],
            [
             0.2,
             "#de77ae"
            ],
            [
             0.3,
             "#f1b6da"
            ],
            [
             0.4,
             "#fde0ef"
            ],
            [
             0.5,
             "#f7f7f7"
            ],
            [
             0.6,
             "#e6f5d0"
            ],
            [
             0.7,
             "#b8e186"
            ],
            [
             0.8,
             "#7fbc41"
            ],
            [
             0.9,
             "#4d9221"
            ],
            [
             1,
             "#276419"
            ]
           ],
           "sequential": [
            [
             0,
             "#0d0887"
            ],
            [
             0.1111111111111111,
             "#46039f"
            ],
            [
             0.2222222222222222,
             "#7201a8"
            ],
            [
             0.3333333333333333,
             "#9c179e"
            ],
            [
             0.4444444444444444,
             "#bd3786"
            ],
            [
             0.5555555555555556,
             "#d8576b"
            ],
            [
             0.6666666666666666,
             "#ed7953"
            ],
            [
             0.7777777777777778,
             "#fb9f3a"
            ],
            [
             0.8888888888888888,
             "#fdca26"
            ],
            [
             1,
             "#f0f921"
            ]
           ],
           "sequentialminus": [
            [
             0,
             "#0d0887"
            ],
            [
             0.1111111111111111,
             "#46039f"
            ],
            [
             0.2222222222222222,
             "#7201a8"
            ],
            [
             0.3333333333333333,
             "#9c179e"
            ],
            [
             0.4444444444444444,
             "#bd3786"
            ],
            [
             0.5555555555555556,
             "#d8576b"
            ],
            [
             0.6666666666666666,
             "#ed7953"
            ],
            [
             0.7777777777777778,
             "#fb9f3a"
            ],
            [
             0.8888888888888888,
             "#fdca26"
            ],
            [
             1,
             "#f0f921"
            ]
           ]
          },
          "colorway": [
           "#636efa",
           "#EF553B",
           "#00cc96",
           "#ab63fa",
           "#FFA15A",
           "#19d3f3",
           "#FF6692",
           "#B6E880",
           "#FF97FF",
           "#FECB52"
          ],
          "font": {
           "color": "#2a3f5f"
          },
          "geo": {
           "bgcolor": "white",
           "lakecolor": "white",
           "landcolor": "#E5ECF6",
           "showlakes": true,
           "showland": true,
           "subunitcolor": "white"
          },
          "hoverlabel": {
           "align": "left"
          },
          "hovermode": "closest",
          "mapbox": {
           "style": "light"
          },
          "paper_bgcolor": "white",
          "plot_bgcolor": "#E5ECF6",
          "polar": {
           "angularaxis": {
            "gridcolor": "white",
            "linecolor": "white",
            "ticks": ""
           },
           "bgcolor": "#E5ECF6",
           "radialaxis": {
            "gridcolor": "white",
            "linecolor": "white",
            "ticks": ""
           }
          },
          "scene": {
           "xaxis": {
            "backgroundcolor": "#E5ECF6",
            "gridcolor": "white",
            "gridwidth": 2,
            "linecolor": "white",
            "showbackground": true,
            "ticks": "",
            "zerolinecolor": "white"
           },
           "yaxis": {
            "backgroundcolor": "#E5ECF6",
            "gridcolor": "white",
            "gridwidth": 2,
            "linecolor": "white",
            "showbackground": true,
            "ticks": "",
            "zerolinecolor": "white"
           },
           "zaxis": {
            "backgroundcolor": "#E5ECF6",
            "gridcolor": "white",
            "gridwidth": 2,
            "linecolor": "white",
            "showbackground": true,
            "ticks": "",
            "zerolinecolor": "white"
           }
          },
          "shapedefaults": {
           "line": {
            "color": "#2a3f5f"
           }
          },
          "ternary": {
           "aaxis": {
            "gridcolor": "white",
            "linecolor": "white",
            "ticks": ""
           },
           "baxis": {
            "gridcolor": "white",
            "linecolor": "white",
            "ticks": ""
           },
           "bgcolor": "#E5ECF6",
           "caxis": {
            "gridcolor": "white",
            "linecolor": "white",
            "ticks": ""
           }
          },
          "title": {
           "x": 0.05
          },
          "xaxis": {
           "automargin": true,
           "gridcolor": "white",
           "linecolor": "white",
           "ticks": "",
           "title": {
            "standoff": 15
           },
           "zerolinecolor": "white",
           "zerolinewidth": 2
          },
          "yaxis": {
           "automargin": true,
           "gridcolor": "white",
           "linecolor": "white",
           "ticks": "",
           "title": {
            "standoff": 15
           },
           "zerolinecolor": "white",
           "zerolinewidth": 2
          }
         }
        },
        "title": {
         "text": "<b>은행주</b> 주요 매출"
        },
        "xaxis": {
         "rangeslider": {
          "visible": false
         }
        }
       }
      },
      "text/html": [
       "<div>                            <div id=\"22089ada-9ee2-46e5-bd5d-cf29ba78a5b0\" class=\"plotly-graph-div\" style=\"height:750px; width:100%;\"></div>            <script type=\"text/javascript\">                require([\"plotly\"], function(Plotly) {                    window.PLOTLYENV=window.PLOTLYENV || {};                                    if (document.getElementById(\"22089ada-9ee2-46e5-bd5d-cf29ba78a5b0\")) {                    Plotly.newPlot(                        \"22089ada-9ee2-46e5-bd5d-cf29ba78a5b0\",                        [{\"automargin\":true,\"hoverinfo\":\"label+percent\",\"insidetextorientation\":\"radial\",\"labels\":[\"\\uc720\\uac00\\uc99d\\uad8c\\ud3c9\\uac00\\ubc0f\\ucc98\\ubd84\\uc774\\uc775\",\"\\uc2e0\\ud0c1\\uc5c5\\ubb34\\uc6b4\\uc6a9\\uc218\\uc775\",\"\\uc774\\uc790\\uc218\\uc775\",\"\\uc218\\uc218\\ub8cc\\uc218\\uc775\",\"\\uae30\\ud0c0(\\uacc4)\"],\"name\":\"Product\",\"showlegend\":true,\"textfont\":{\"color\":\"white\"},\"textinfo\":\"label+percent\",\"values\":[29.66,27.34,25.82,9.04,8.14000000000001],\"visible\":true,\"type\":\"pie\",\"domain\":{\"x\":[0.0,0.45],\"y\":[0.56,1.0]}},{\"automargin\":true,\"hoverinfo\":\"label+percent\",\"insidetextorientation\":\"radial\",\"labels\":[\"\\uc774\\uc790\\uc218\\uc775\",\"\\uc2e0\\ud0c1\\uc5c5\\ubb34\\uc6b4\\uc6a9\\uc218\\uc775\",\"\\uc218\\uc218\\ub8cc\\uc218\\uc775\",\"\\uc720\\uac00\\uc99d\\uad8c\\ud3c9\\uac00\\ubc0f\\ucc98\\ubd84\\uc774\\uc775\",\"\\uae30\\ud0c0(\\uacc4)\"],\"name\":\"Product\",\"showlegend\":true,\"textfont\":{\"color\":\"white\"},\"textinfo\":\"label+percent\",\"values\":[51.35,22.77,14.44,7.06,4.379999999999995],\"visible\":true,\"type\":\"pie\",\"domain\":{\"x\":[0.55,1.0],\"y\":[0.56,1.0]}},{\"automargin\":true,\"hoverinfo\":\"label+percent\",\"insidetextorientation\":\"radial\",\"labels\":[\"\\uc720\\uac00\\uc99d\\uad8c\\ud3c9\\uac00\\ubc0f\\ucc98\\ubd84\\uc774\\uc775\",\"\\uc774\\uc790\\uc218\\uc775\",\"\\uc678\\ud658\\uac70\\ub798\\uc774\\uc775\",\"\\uc218\\uc218\\ub8cc\\uc218\\uc775\",\"\\uae30\\ud0c0(\\uacc4)\"],\"name\":\"Product\",\"showlegend\":true,\"textfont\":{\"color\":\"white\"},\"textinfo\":\"label+percent\",\"values\":[50.69,26.08,12.47,6.37,4.390000000000004],\"visible\":true,\"type\":\"pie\",\"domain\":{\"x\":[0.0,0.45],\"y\":[0.0,0.44]}},{\"automargin\":true,\"hoverinfo\":\"label+percent\",\"insidetextorientation\":\"radial\",\"labels\":[\"\\uc720\\uac00\\uc99d\\uad8c\\ud3c9\\uac00\\ubc0f\\ucc98\\ubd84\\uc774\\uc775\",\"\\uc774\\uc790\\uc218\\uc775\",\"\\uc218\\uc218\\ub8cc\\uc218\\uc775\",\"\\uc678\\ud658\\uac70\\ub798\\uc774\\uc775\",\"\\uae30\\ud0c0(\\uacc4)\"],\"name\":\"Product\",\"showlegend\":true,\"textfont\":{\"color\":\"white\"},\"textinfo\":\"label+percent\",\"values\":[50.7,36.39,7.19,2.07,3.65],\"visible\":true,\"type\":\"pie\",\"domain\":{\"x\":[0.55,1.0],\"y\":[0.0,0.44]}}],                        {\"template\":{\"data\":{\"histogram2dcontour\":[{\"type\":\"histogram2dcontour\",\"colorbar\":{\"outlinewidth\":0,\"ticks\":\"\"},\"colorscale\":[[0.0,\"#0d0887\"],[0.1111111111111111,\"#46039f\"],[0.2222222222222222,\"#7201a8\"],[0.3333333333333333,\"#9c179e\"],[0.4444444444444444,\"#bd3786\"],[0.5555555555555556,\"#d8576b\"],[0.6666666666666666,\"#ed7953\"],[0.7777777777777778,\"#fb9f3a\"],[0.8888888888888888,\"#fdca26\"],[1.0,\"#f0f921\"]]}],\"choropleth\":[{\"type\":\"choropleth\",\"colorbar\":{\"outlinewidth\":0,\"ticks\":\"\"}}],\"histogram2d\":[{\"type\":\"histogram2d\",\"colorbar\":{\"outlinewidth\":0,\"ticks\":\"\"},\"colorscale\":[[0.0,\"#0d0887\"],[0.1111111111111111,\"#46039f\"],[0.2222222222222222,\"#7201a8\"],[0.3333333333333333,\"#9c179e\"],[0.4444444444444444,\"#bd3786\"],[0.5555555555555556,\"#d8576b\"],[0.6666666666666666,\"#ed7953\"],[0.7777777777777778,\"#fb9f3a\"],[0.8888888888888888,\"#fdca26\"],[1.0,\"#f0f921\"]]}],\"heatmap\":[{\"type\":\"heatmap\",\"colorbar\":{\"outlinewidth\":0,\"ticks\":\"\"},\"colorscale\":[[0.0,\"#0d0887\"],[0.1111111111111111,\"#46039f\"],[0.2222222222222222,\"#7201a8\"],[0.3333333333333333,\"#9c179e\"],[0.4444444444444444,\"#bd3786\"],[0.5555555555555556,\"#d8576b\"],[0.6666666666666666,\"#ed7953\"],[0.7777777777777778,\"#fb9f3a\"],[0.8888888888888888,\"#fdca26\"],[1.0,\"#f0f921\"]]}],\"heatmapgl\":[{\"type\":\"heatmapgl\",\"colorbar\":{\"outlinewidth\":0,\"ticks\":\"\"},\"colorscale\":[[0.0,\"#0d0887\"],[0.1111111111111111,\"#46039f\"],[0.2222222222222222,\"#7201a8\"],[0.3333333333333333,\"#9c179e\"],[0.4444444444444444,\"#bd3786\"],[0.5555555555555556,\"#d8576b\"],[0.6666666666666666,\"#ed7953\"],[0.7777777777777778,\"#fb9f3a\"],[0.8888888888888888,\"#fdca26\"],[1.0,\"#f0f921\"]]}],\"contourcarpet\":[{\"type\":\"contourcarpet\",\"colorbar\":{\"outlinewidth\":0,\"ticks\":\"\"}}],\"contour\":[{\"type\":\"contour\",\"colorbar\":{\"outlinewidth\":0,\"ticks\":\"\"},\"colorscale\":[[0.0,\"#0d0887\"],[0.1111111111111111,\"#46039f\"],[0.2222222222222222,\"#7201a8\"],[0.3333333333333333,\"#9c179e\"],[0.4444444444444444,\"#bd3786\"],[0.5555555555555556,\"#d8576b\"],[0.6666666666666666,\"#ed7953\"],[0.7777777777777778,\"#fb9f3a\"],[0.8888888888888888,\"#fdca26\"],[1.0,\"#f0f921\"]]}],\"surface\":[{\"type\":\"surface\",\"colorbar\":{\"outlinewidth\":0,\"ticks\":\"\"},\"colorscale\":[[0.0,\"#0d0887\"],[0.1111111111111111,\"#46039f\"],[0.2222222222222222,\"#7201a8\"],[0.3333333333333333,\"#9c179e\"],[0.4444444444444444,\"#bd3786\"],[0.5555555555555556,\"#d8576b\"],[0.6666666666666666,\"#ed7953\"],[0.7777777777777778,\"#fb9f3a\"],[0.8888888888888888,\"#fdca26\"],[1.0,\"#f0f921\"]]}],\"mesh3d\":[{\"type\":\"mesh3d\",\"colorbar\":{\"outlinewidth\":0,\"ticks\":\"\"}}],\"scatter\":[{\"fillpattern\":{\"fillmode\":\"overlay\",\"size\":10,\"solidity\":0.2},\"type\":\"scatter\"}],\"parcoords\":[{\"type\":\"parcoords\",\"line\":{\"colorbar\":{\"outlinewidth\":0,\"ticks\":\"\"}}}],\"scatterpolargl\":[{\"type\":\"scatterpolargl\",\"marker\":{\"colorbar\":{\"outlinewidth\":0,\"ticks\":\"\"}}}],\"bar\":[{\"error_x\":{\"color\":\"#2a3f5f\"},\"error_y\":{\"color\":\"#2a3f5f\"},\"marker\":{\"line\":{\"color\":\"#E5ECF6\",\"width\":0.5},\"pattern\":{\"fillmode\":\"overlay\",\"size\":10,\"solidity\":0.2}},\"type\":\"bar\"}],\"scattergeo\":[{\"type\":\"scattergeo\",\"marker\":{\"colorbar\":{\"outlinewidth\":0,\"ticks\":\"\"}}}],\"scatterpolar\":[{\"type\":\"scatterpolar\",\"marker\":{\"colorbar\":{\"outlinewidth\":0,\"ticks\":\"\"}}}],\"histogram\":[{\"marker\":{\"pattern\":{\"fillmode\":\"overlay\",\"size\":10,\"solidity\":0.2}},\"type\":\"histogram\"}],\"scattergl\":[{\"type\":\"scattergl\",\"marker\":{\"colorbar\":{\"outlinewidth\":0,\"ticks\":\"\"}}}],\"scatter3d\":[{\"type\":\"scatter3d\",\"line\":{\"colorbar\":{\"outlinewidth\":0,\"ticks\":\"\"}},\"marker\":{\"colorbar\":{\"outlinewidth\":0,\"ticks\":\"\"}}}],\"scattermapbox\":[{\"type\":\"scattermapbox\",\"marker\":{\"colorbar\":{\"outlinewidth\":0,\"ticks\":\"\"}}}],\"scatterternary\":[{\"type\":\"scatterternary\",\"marker\":{\"colorbar\":{\"outlinewidth\":0,\"ticks\":\"\"}}}],\"scattercarpet\":[{\"type\":\"scattercarpet\",\"marker\":{\"colorbar\":{\"outlinewidth\":0,\"ticks\":\"\"}}}],\"carpet\":[{\"aaxis\":{\"endlinecolor\":\"#2a3f5f\",\"gridcolor\":\"white\",\"linecolor\":\"white\",\"minorgridcolor\":\"white\",\"startlinecolor\":\"#2a3f5f\"},\"baxis\":{\"endlinecolor\":\"#2a3f5f\",\"gridcolor\":\"white\",\"linecolor\":\"white\",\"minorgridcolor\":\"white\",\"startlinecolor\":\"#2a3f5f\"},\"type\":\"carpet\"}],\"table\":[{\"cells\":{\"fill\":{\"color\":\"#EBF0F8\"},\"line\":{\"color\":\"white\"}},\"header\":{\"fill\":{\"color\":\"#C8D4E3\"},\"line\":{\"color\":\"white\"}},\"type\":\"table\"}],\"barpolar\":[{\"marker\":{\"line\":{\"color\":\"#E5ECF6\",\"width\":0.5},\"pattern\":{\"fillmode\":\"overlay\",\"size\":10,\"solidity\":0.2}},\"type\":\"barpolar\"}],\"pie\":[{\"automargin\":true,\"type\":\"pie\"}]},\"layout\":{\"autotypenumbers\":\"strict\",\"colorway\":[\"#636efa\",\"#EF553B\",\"#00cc96\",\"#ab63fa\",\"#FFA15A\",\"#19d3f3\",\"#FF6692\",\"#B6E880\",\"#FF97FF\",\"#FECB52\"],\"font\":{\"color\":\"#2a3f5f\"},\"hovermode\":\"closest\",\"hoverlabel\":{\"align\":\"left\"},\"paper_bgcolor\":\"white\",\"plot_bgcolor\":\"#E5ECF6\",\"polar\":{\"bgcolor\":\"#E5ECF6\",\"angularaxis\":{\"gridcolor\":\"white\",\"linecolor\":\"white\",\"ticks\":\"\"},\"radialaxis\":{\"gridcolor\":\"white\",\"linecolor\":\"white\",\"ticks\":\"\"}},\"ternary\":{\"bgcolor\":\"#E5ECF6\",\"aaxis\":{\"gridcolor\":\"white\",\"linecolor\":\"white\",\"ticks\":\"\"},\"baxis\":{\"gridcolor\":\"white\",\"linecolor\":\"white\",\"ticks\":\"\"},\"caxis\":{\"gridcolor\":\"white\",\"linecolor\":\"white\",\"ticks\":\"\"}},\"coloraxis\":{\"colorbar\":{\"outlinewidth\":0,\"ticks\":\"\"}},\"colorscale\":{\"sequential\":[[0.0,\"#0d0887\"],[0.1111111111111111,\"#46039f\"],[0.2222222222222222,\"#7201a8\"],[0.3333333333333333,\"#9c179e\"],[0.4444444444444444,\"#bd3786\"],[0.5555555555555556,\"#d8576b\"],[0.6666666666666666,\"#ed7953\"],[0.7777777777777778,\"#fb9f3a\"],[0.8888888888888888,\"#fdca26\"],[1.0,\"#f0f921\"]],\"sequentialminus\":[[0.0,\"#0d0887\"],[0.1111111111111111,\"#46039f\"],[0.2222222222222222,\"#7201a8\"],[0.3333333333333333,\"#9c179e\"],[0.4444444444444444,\"#bd3786\"],[0.5555555555555556,\"#d8576b\"],[0.6666666666666666,\"#ed7953\"],[0.7777777777777778,\"#fb9f3a\"],[0.8888888888888888,\"#fdca26\"],[1.0,\"#f0f921\"]],\"diverging\":[[0,\"#8e0152\"],[0.1,\"#c51b7d\"],[0.2,\"#de77ae\"],[0.3,\"#f1b6da\"],[0.4,\"#fde0ef\"],[0.5,\"#f7f7f7\"],[0.6,\"#e6f5d0\"],[0.7,\"#b8e186\"],[0.8,\"#7fbc41\"],[0.9,\"#4d9221\"],[1,\"#276419\"]]},\"xaxis\":{\"gridcolor\":\"white\",\"linecolor\":\"white\",\"ticks\":\"\",\"title\":{\"standoff\":15},\"zerolinecolor\":\"white\",\"automargin\":true,\"zerolinewidth\":2},\"yaxis\":{\"gridcolor\":\"white\",\"linecolor\":\"white\",\"ticks\":\"\",\"title\":{\"standoff\":15},\"zerolinecolor\":\"white\",\"automargin\":true,\"zerolinewidth\":2},\"scene\":{\"xaxis\":{\"backgroundcolor\":\"#E5ECF6\",\"gridcolor\":\"white\",\"linecolor\":\"white\",\"showbackground\":true,\"ticks\":\"\",\"zerolinecolor\":\"white\",\"gridwidth\":2},\"yaxis\":{\"backgroundcolor\":\"#E5ECF6\",\"gridcolor\":\"white\",\"linecolor\":\"white\",\"showbackground\":true,\"ticks\":\"\",\"zerolinecolor\":\"white\",\"gridwidth\":2},\"zaxis\":{\"backgroundcolor\":\"#E5ECF6\",\"gridcolor\":\"white\",\"linecolor\":\"white\",\"showbackground\":true,\"ticks\":\"\",\"zerolinecolor\":\"white\",\"gridwidth\":2}},\"shapedefaults\":{\"line\":{\"color\":\"#2a3f5f\"}},\"annotationdefaults\":{\"arrowcolor\":\"#2a3f5f\",\"arrowhead\":0,\"arrowwidth\":1},\"geo\":{\"bgcolor\":\"white\",\"landcolor\":\"#E5ECF6\",\"subunitcolor\":\"white\",\"showland\":true,\"showlakes\":true,\"lakecolor\":\"white\"},\"title\":{\"x\":0.05},\"mapbox\":{\"style\":\"light\"}}},\"annotations\":[{\"font\":{\"size\":16},\"showarrow\":false,\"text\":\"KB\\uae08\\uc735\",\"x\":0.0,\"xanchor\":\"center\",\"xref\":\"paper\",\"y\":1.0,\"yanchor\":\"bottom\",\"yref\":\"paper\"},{\"font\":{\"size\":16},\"showarrow\":false,\"text\":\"\\uc2e0\\ud55c\\uc9c0\\uc8fc\",\"x\":0.55,\"xanchor\":\"center\",\"xref\":\"paper\",\"y\":1.0,\"yanchor\":\"bottom\",\"yref\":\"paper\"},{\"font\":{\"size\":16},\"showarrow\":false,\"text\":\"\\ud558\\ub098\\uae08\\uc735\\uc9c0\\uc8fc\",\"x\":0.0,\"xanchor\":\"center\",\"xref\":\"paper\",\"y\":0.44,\"yanchor\":\"bottom\",\"yref\":\"paper\"},{\"font\":{\"size\":16},\"showarrow\":false,\"text\":\"\\uc6b0\\ub9ac\\uae08\\uc735\\uc9c0\\uc8fc\",\"x\":0.55,\"xanchor\":\"center\",\"xref\":\"paper\",\"y\":0.44,\"yanchor\":\"bottom\",\"yref\":\"paper\"}],\"legend\":{\"orientation\":\"h\",\"xanchor\":\"right\",\"yanchor\":\"bottom\",\"x\":0.96,\"y\":1.08},\"xaxis\":{\"rangeslider\":{\"visible\":false}},\"plot_bgcolor\":\"white\",\"height\":750,\"title\":{\"text\":\"<b>\\uc740\\ud589\\uc8fc</b> \\uc8fc\\uc694 \\ub9e4\\ucd9c\"}},                        {\"responsive\": true}                    ).then(function(){\n",
       "                            \n",
       "var gd = document.getElementById('22089ada-9ee2-46e5-bd5d-cf29ba78a5b0');\n",
       "var x = new MutationObserver(function (mutations, observer) {{\n",
       "        var display = window.getComputedStyle(gd).display;\n",
       "        if (!display || display === 'none') {{\n",
       "            console.log([gd, 'removed!']);\n",
       "            Plotly.purge(gd);\n",
       "            observer.disconnect();\n",
       "        }}\n",
       "}});\n",
       "\n",
       "// Listen for the removal of the full notebook cells\n",
       "var notebookContainer = gd.closest('#notebook-container');\n",
       "if (notebookContainer) {{\n",
       "    x.observe(notebookContainer, {childList: true});\n",
       "}}\n",
       "\n",
       "// Listen for the clearing of the current output cell\n",
       "var outputEl = gd.closest('.output');\n",
       "if (outputEl) {{\n",
       "    x.observe(outputEl, {childList: true});\n",
       "}}\n",
       "\n",
       "                        })                };                });            </script>        </div>"
      ]
     },
     "metadata": {},
     "output_type": "display_data"
    }
   ],
   "source": [
    "target = tickers.sort_values(by='시가총액', ascending=False)[:4]\n",
    "fig = make_subplots(\n",
    "    rows=2, cols=2,\n",
    "    vertical_spacing=0.12, horizontal_spacing=0.1,\n",
    "    subplot_titles=tuple(target.이름.tolist()),\n",
    "    specs=[\n",
    "        [{\"type\": \"domain\"}, {\"type\": \"domain\"}],\n",
    "        [{\"type\": \"domain\"}, {\"type\": \"domain\"}]\n",
    "    ]\n",
    ")\n",
    "\n",
    "for n, ticker in enumerate(target.index):\n",
    "    obj = stock_objs[ticker]\n",
    "    products = obj.fnguide.RecentProducts\n",
    "    fig.add_trace(\n",
    "        trace = go.Pie(\n",
    "            name='Product',\n",
    "            labels=products.index,\n",
    "            values=products,\n",
    "            visible=True,\n",
    "            showlegend=True,\n",
    "            automargin=True,\n",
    "            textfont=dict(color='white'),\n",
    "            textinfo='label+percent',\n",
    "            insidetextorientation='radial',\n",
    "            hoverinfo='label+percent',\n",
    "        ), row = n // 2 + 1, col = n % 2 + 1\n",
    "    )\n",
    "\n",
    "fig.update_layout(layout)\n",
    "fig.update_layout(    \n",
    "    title=f'<b>은행주</b> 주요 매출',\n",
    "    legend=dict(y=1.08)\n",
    ")\n",
    "\n",
    "for n, annotation in enumerate(fig['layout']['annotations']):\n",
    "    annotation['x'] = 0 + 0.55 * (n % 2)\n",
    "    annotation['xanchor'] = 'center'\n",
    "    annotation['xref'] = 'paper'\n",
    "fig.show()"
   ]
  },
  {
   "cell_type": "code",
   "execution_count": 24,
   "id": "c2d35a19",
   "metadata": {},
   "outputs": [
    {
     "data": {
      "application/vnd.plotly.v1+json": {
       "config": {
        "plotlyServerURL": "https://plot.ly"
       },
       "data": [
        {
         "hoverinfo": "skip",
         "legendgroup": "기타(계)",
         "name": "기타(계)",
         "showlegend": true,
         "text": [
          4.76,
          5.6,
          7.990000000000014,
          8.14000000000001
         ],
         "textposition": "inside",
         "texttemplate": "기타(계)<br>%{y:.2f}%",
         "type": "bar",
         "x": [
          "2018/12",
          "2019/12",
          "2020/12",
          "2021/12"
         ],
         "xaxis": "x",
         "y": [
          4.76,
          5.6,
          7.990000000000014,
          8.14000000000001
         ],
         "yaxis": "y"
        },
        {
         "hoverinfo": "skip",
         "legendgroup": "수수료수익",
         "name": "수수료수익",
         "showlegend": true,
         "text": [
          10.67,
          8.22,
          8.13,
          9.04
         ],
         "textposition": "inside",
         "texttemplate": "수수료수익<br>%{y:.2f}%",
         "type": "bar",
         "x": [
          "2018/12",
          "2019/12",
          "2020/12",
          "2021/12"
         ],
         "xaxis": "x",
         "y": [
          10.67,
          8.22,
          8.13,
          9.04
         ],
         "yaxis": "y"
        },
        {
         "hoverinfo": "skip",
         "legendgroup": "이자수익",
         "name": "이자수익",
         "showlegend": true,
         "text": [
          31.94,
          31.04,
          26.02,
          25.82
         ],
         "textposition": "inside",
         "texttemplate": "이자수익<br>%{y:.2f}%",
         "type": "bar",
         "x": [
          "2018/12",
          "2019/12",
          "2020/12",
          "2021/12"
         ],
         "xaxis": "x",
         "y": [
          31.94,
          31.04,
          26.02,
          25.82
         ],
         "yaxis": "y"
        },
        {
         "hoverinfo": "skip",
         "legendgroup": "신탁업무운용수익",
         "name": "신탁업무운용수익",
         "showlegend": true,
         "text": [
          28.31,
          26.11,
          25.84,
          27.34
         ],
         "textposition": "inside",
         "texttemplate": "신탁업무운용수익<br>%{y:.2f}%",
         "type": "bar",
         "x": [
          "2018/12",
          "2019/12",
          "2020/12",
          "2021/12"
         ],
         "xaxis": "x",
         "y": [
          28.31,
          26.11,
          25.84,
          27.34
         ],
         "yaxis": "y"
        },
        {
         "hoverinfo": "skip",
         "legendgroup": "유가증권평가및처분이익",
         "name": "유가증권평가및처분이익",
         "showlegend": true,
         "text": [
          24.32,
          29.03,
          32.02,
          29.66
         ],
         "textposition": "inside",
         "texttemplate": "유가증권평가및처분이익<br>%{y:.2f}%",
         "type": "bar",
         "x": [
          "2018/12",
          "2019/12",
          "2020/12",
          "2021/12"
         ],
         "xaxis": "x",
         "y": [
          24.32,
          29.03,
          32.02,
          29.66
         ],
         "yaxis": "y"
        },
        {
         "hoverinfo": "skip",
         "legendgroup": "기타(계)",
         "name": "기타(계)",
         "showlegend": false,
         "text": [
          1.150000000000005,
          4.15,
          4.730000000000005,
          4.379999999999995
         ],
         "textposition": "inside",
         "texttemplate": "기타(계)<br>%{y:.2f}%",
         "type": "bar",
         "x": [
          "2018/12",
          "2019/12",
          "2020/12",
          "2021/12"
         ],
         "xaxis": "x2",
         "y": [
          1.150000000000005,
          4.15,
          4.730000000000005,
          4.379999999999995
         ],
         "yaxis": "y2"
        },
        {
         "hoverinfo": "skip",
         "legendgroup": "유가증권평가및처분이익",
         "name": "유가증권평가및처분이익",
         "showlegend": false,
         "text": [
          3.97,
          6.42,
          6.19,
          7.06
         ],
         "textposition": "inside",
         "texttemplate": "유가증권평가및처분이익<br>%{y:.2f}%",
         "type": "bar",
         "x": [
          "2018/12",
          "2019/12",
          "2020/12",
          "2021/12"
         ],
         "xaxis": "x2",
         "y": [
          3.97,
          6.42,
          6.19,
          7.06
         ],
         "yaxis": "y2"
        },
        {
         "hoverinfo": "skip",
         "legendgroup": "수수료수익",
         "name": "수수료수익",
         "showlegend": false,
         "text": [
          18.86,
          11.85,
          13.15,
          14.44
         ],
         "textposition": "inside",
         "texttemplate": "수수료수익<br>%{y:.2f}%",
         "type": "bar",
         "x": [
          "2018/12",
          "2019/12",
          "2020/12",
          "2021/12"
         ],
         "xaxis": "x2",
         "y": [
          18.86,
          11.85,
          13.15,
          14.44
         ],
         "yaxis": "y2"
        },
        {
         "hoverinfo": "skip",
         "legendgroup": "신탁업무운용수익",
         "name": "신탁업무운용수익",
         "showlegend": false,
         "text": [
          18.98,
          25.23,
          24.99,
          22.77
         ],
         "textposition": "inside",
         "texttemplate": "신탁업무운용수익<br>%{y:.2f}%",
         "type": "bar",
         "x": [
          "2018/12",
          "2019/12",
          "2020/12",
          "2021/12"
         ],
         "xaxis": "x2",
         "y": [
          18.98,
          25.23,
          24.99,
          22.77
         ],
         "yaxis": "y2"
        },
        {
         "hoverinfo": "skip",
         "legendgroup": "이자수익",
         "name": "이자수익",
         "showlegend": false,
         "text": [
          57.04,
          52.35,
          50.94,
          51.35
         ],
         "textposition": "inside",
         "texttemplate": "이자수익<br>%{y:.2f}%",
         "type": "bar",
         "x": [
          "2018/12",
          "2019/12",
          "2020/12",
          "2021/12"
         ],
         "xaxis": "x2",
         "y": [
          57.04,
          52.35,
          50.94,
          51.35
         ],
         "yaxis": "y2"
        },
        {
         "hoverinfo": "skip",
         "legendgroup": "기타(계)",
         "name": "기타(계)",
         "showlegend": false,
         "text": [
          3.65,
          3.030000000000005,
          2.9000000000000092,
          4.390000000000004
         ],
         "textposition": "inside",
         "texttemplate": "기타(계)<br>%{y:.2f}%",
         "type": "bar",
         "x": [
          "2018/12",
          "2019/12",
          "2020/12",
          "2021/12"
         ],
         "xaxis": "x3",
         "y": [
          3.65,
          3.030000000000005,
          2.9000000000000092,
          4.390000000000004
         ],
         "yaxis": "y3"
        },
        {
         "hoverinfo": "skip",
         "legendgroup": "수수료수익",
         "name": "수수료수익",
         "showlegend": false,
         "text": [
          9.52,
          7.85,
          6.68,
          6.37
         ],
         "textposition": "inside",
         "texttemplate": "수수료수익<br>%{y:.2f}%",
         "type": "bar",
         "x": [
          "2018/12",
          "2019/12",
          "2020/12",
          "2021/12"
         ],
         "xaxis": "x3",
         "y": [
          9.52,
          7.85,
          6.68,
          6.37
         ],
         "yaxis": "y3"
        },
        {
         "hoverinfo": "skip",
         "legendgroup": "외환거래이익",
         "name": "외환거래이익",
         "showlegend": false,
         "text": [
          11.95,
          10.37,
          12,
          12.47
         ],
         "textposition": "inside",
         "texttemplate": "외환거래이익<br>%{y:.2f}%",
         "type": "bar",
         "x": [
          "2018/12",
          "2019/12",
          "2020/12",
          "2021/12"
         ],
         "xaxis": "x3",
         "y": [
          11.95,
          10.37,
          12,
          12.47
         ],
         "yaxis": "y3"
        },
        {
         "hoverinfo": "skip",
         "legendgroup": "이자수익",
         "name": "이자수익",
         "showlegend": false,
         "text": [
          30.08,
          28.77,
          20.91,
          26.08
         ],
         "textposition": "inside",
         "texttemplate": "이자수익<br>%{y:.2f}%",
         "type": "bar",
         "x": [
          "2018/12",
          "2019/12",
          "2020/12",
          "2021/12"
         ],
         "xaxis": "x3",
         "y": [
          30.08,
          28.77,
          20.91,
          26.08
         ],
         "yaxis": "y3"
        },
        {
         "hoverinfo": "skip",
         "legendgroup": "유가증권평가및처분이익",
         "name": "유가증권평가및처분이익",
         "showlegend": false,
         "text": [
          44.8,
          49.98,
          57.51,
          50.69
         ],
         "textposition": "inside",
         "texttemplate": "유가증권평가및처분이익<br>%{y:.2f}%",
         "type": "bar",
         "x": [
          "2018/12",
          "2019/12",
          "2020/12",
          "2021/12"
         ],
         "xaxis": "x3",
         "y": [
          44.8,
          49.98,
          57.51,
          50.69
         ],
         "yaxis": "y3"
        },
        {
         "hoverinfo": "skip",
         "legendgroup": "기타(계)",
         "name": "기타(계)",
         "showlegend": false,
         "text": [
          1.749999999999995,
          1.2399999999999949,
          3.65
         ],
         "textposition": "inside",
         "texttemplate": "기타(계)<br>%{y:.2f}%",
         "type": "bar",
         "x": [
          "2019/12",
          "2020/12",
          "2021/12"
         ],
         "xaxis": "x4",
         "y": [
          1.749999999999995,
          1.2399999999999949,
          3.65
         ],
         "yaxis": "y4"
        },
        {
         "hoverinfo": "skip",
         "legendgroup": "외환거래이익",
         "name": "외환거래이익",
         "showlegend": false,
         "text": [
          2.65,
          2.65,
          2.07
         ],
         "textposition": "inside",
         "texttemplate": "외환거래이익<br>%{y:.2f}%",
         "type": "bar",
         "x": [
          "2019/12",
          "2020/12",
          "2021/12"
         ],
         "xaxis": "x4",
         "y": [
          2.65,
          2.65,
          2.07
         ],
         "yaxis": "y4"
        },
        {
         "hoverinfo": "skip",
         "legendgroup": "수수료수익",
         "name": "수수료수익",
         "showlegend": false,
         "text": [
          7.53,
          5.92,
          7.19
         ],
         "textposition": "inside",
         "texttemplate": "수수료수익<br>%{y:.2f}%",
         "type": "bar",
         "x": [
          "2019/12",
          "2020/12",
          "2021/12"
         ],
         "xaxis": "x4",
         "y": [
          7.53,
          5.92,
          7.19
         ],
         "yaxis": "y4"
        },
        {
         "hoverinfo": "skip",
         "legendgroup": "이자수익",
         "name": "이자수익",
         "showlegend": false,
         "text": [
          46.58,
          33.26,
          36.39
         ],
         "textposition": "inside",
         "texttemplate": "이자수익<br>%{y:.2f}%",
         "type": "bar",
         "x": [
          "2019/12",
          "2020/12",
          "2021/12"
         ],
         "xaxis": "x4",
         "y": [
          46.58,
          33.26,
          36.39
         ],
         "yaxis": "y4"
        },
        {
         "hoverinfo": "skip",
         "legendgroup": "유가증권평가및처분이익",
         "name": "유가증권평가및처분이익",
         "showlegend": false,
         "text": [
          41.49,
          56.93,
          50.7
         ],
         "textposition": "inside",
         "texttemplate": "유가증권평가및처분이익<br>%{y:.2f}%",
         "type": "bar",
         "x": [
          "2019/12",
          "2020/12",
          "2021/12"
         ],
         "xaxis": "x4",
         "y": [
          41.49,
          56.93,
          50.7
         ],
         "yaxis": "y4"
        }
       ],
       "layout": {
        "annotations": [
         {
          "font": {
           "size": 16
          },
          "showarrow": false,
          "text": "KB금융",
          "x": 0.225,
          "xanchor": "center",
          "xref": "paper",
          "y": 1,
          "yanchor": "bottom",
          "yref": "paper"
         },
         {
          "font": {
           "size": 16
          },
          "showarrow": false,
          "text": "신한지주",
          "x": 0.775,
          "xanchor": "center",
          "xref": "paper",
          "y": 1,
          "yanchor": "bottom",
          "yref": "paper"
         },
         {
          "font": {
           "size": 16
          },
          "showarrow": false,
          "text": "하나금융지주",
          "x": 0.225,
          "xanchor": "center",
          "xref": "paper",
          "y": 0.44,
          "yanchor": "bottom",
          "yref": "paper"
         },
         {
          "font": {
           "size": 16
          },
          "showarrow": false,
          "text": "우리금융지주",
          "x": 0.775,
          "xanchor": "center",
          "xref": "paper",
          "y": 0.44,
          "yanchor": "bottom",
          "yref": "paper"
         }
        ],
        "barmode": "stack",
        "height": 750,
        "legend": {
         "orientation": "h",
         "x": 0.96,
         "xanchor": "right",
         "y": 1.08,
         "yanchor": "bottom"
        },
        "plot_bgcolor": "white",
        "template": {
         "data": {
          "bar": [
           {
            "error_x": {
             "color": "#2a3f5f"
            },
            "error_y": {
             "color": "#2a3f5f"
            },
            "marker": {
             "line": {
              "color": "#E5ECF6",
              "width": 0.5
             },
             "pattern": {
              "fillmode": "overlay",
              "size": 10,
              "solidity": 0.2
             }
            },
            "type": "bar"
           }
          ],
          "barpolar": [
           {
            "marker": {
             "line": {
              "color": "#E5ECF6",
              "width": 0.5
             },
             "pattern": {
              "fillmode": "overlay",
              "size": 10,
              "solidity": 0.2
             }
            },
            "type": "barpolar"
           }
          ],
          "carpet": [
           {
            "aaxis": {
             "endlinecolor": "#2a3f5f",
             "gridcolor": "white",
             "linecolor": "white",
             "minorgridcolor": "white",
             "startlinecolor": "#2a3f5f"
            },
            "baxis": {
             "endlinecolor": "#2a3f5f",
             "gridcolor": "white",
             "linecolor": "white",
             "minorgridcolor": "white",
             "startlinecolor": "#2a3f5f"
            },
            "type": "carpet"
           }
          ],
          "choropleth": [
           {
            "colorbar": {
             "outlinewidth": 0,
             "ticks": ""
            },
            "type": "choropleth"
           }
          ],
          "contour": [
           {
            "colorbar": {
             "outlinewidth": 0,
             "ticks": ""
            },
            "colorscale": [
             [
              0,
              "#0d0887"
             ],
             [
              0.1111111111111111,
              "#46039f"
             ],
             [
              0.2222222222222222,
              "#7201a8"
             ],
             [
              0.3333333333333333,
              "#9c179e"
             ],
             [
              0.4444444444444444,
              "#bd3786"
             ],
             [
              0.5555555555555556,
              "#d8576b"
             ],
             [
              0.6666666666666666,
              "#ed7953"
             ],
             [
              0.7777777777777778,
              "#fb9f3a"
             ],
             [
              0.8888888888888888,
              "#fdca26"
             ],
             [
              1,
              "#f0f921"
             ]
            ],
            "type": "contour"
           }
          ],
          "contourcarpet": [
           {
            "colorbar": {
             "outlinewidth": 0,
             "ticks": ""
            },
            "type": "contourcarpet"
           }
          ],
          "heatmap": [
           {
            "colorbar": {
             "outlinewidth": 0,
             "ticks": ""
            },
            "colorscale": [
             [
              0,
              "#0d0887"
             ],
             [
              0.1111111111111111,
              "#46039f"
             ],
             [
              0.2222222222222222,
              "#7201a8"
             ],
             [
              0.3333333333333333,
              "#9c179e"
             ],
             [
              0.4444444444444444,
              "#bd3786"
             ],
             [
              0.5555555555555556,
              "#d8576b"
             ],
             [
              0.6666666666666666,
              "#ed7953"
             ],
             [
              0.7777777777777778,
              "#fb9f3a"
             ],
             [
              0.8888888888888888,
              "#fdca26"
             ],
             [
              1,
              "#f0f921"
             ]
            ],
            "type": "heatmap"
           }
          ],
          "heatmapgl": [
           {
            "colorbar": {
             "outlinewidth": 0,
             "ticks": ""
            },
            "colorscale": [
             [
              0,
              "#0d0887"
             ],
             [
              0.1111111111111111,
              "#46039f"
             ],
             [
              0.2222222222222222,
              "#7201a8"
             ],
             [
              0.3333333333333333,
              "#9c179e"
             ],
             [
              0.4444444444444444,
              "#bd3786"
             ],
             [
              0.5555555555555556,
              "#d8576b"
             ],
             [
              0.6666666666666666,
              "#ed7953"
             ],
             [
              0.7777777777777778,
              "#fb9f3a"
             ],
             [
              0.8888888888888888,
              "#fdca26"
             ],
             [
              1,
              "#f0f921"
             ]
            ],
            "type": "heatmapgl"
           }
          ],
          "histogram": [
           {
            "marker": {
             "pattern": {
              "fillmode": "overlay",
              "size": 10,
              "solidity": 0.2
             }
            },
            "type": "histogram"
           }
          ],
          "histogram2d": [
           {
            "colorbar": {
             "outlinewidth": 0,
             "ticks": ""
            },
            "colorscale": [
             [
              0,
              "#0d0887"
             ],
             [
              0.1111111111111111,
              "#46039f"
             ],
             [
              0.2222222222222222,
              "#7201a8"
             ],
             [
              0.3333333333333333,
              "#9c179e"
             ],
             [
              0.4444444444444444,
              "#bd3786"
             ],
             [
              0.5555555555555556,
              "#d8576b"
             ],
             [
              0.6666666666666666,
              "#ed7953"
             ],
             [
              0.7777777777777778,
              "#fb9f3a"
             ],
             [
              0.8888888888888888,
              "#fdca26"
             ],
             [
              1,
              "#f0f921"
             ]
            ],
            "type": "histogram2d"
           }
          ],
          "histogram2dcontour": [
           {
            "colorbar": {
             "outlinewidth": 0,
             "ticks": ""
            },
            "colorscale": [
             [
              0,
              "#0d0887"
             ],
             [
              0.1111111111111111,
              "#46039f"
             ],
             [
              0.2222222222222222,
              "#7201a8"
             ],
             [
              0.3333333333333333,
              "#9c179e"
             ],
             [
              0.4444444444444444,
              "#bd3786"
             ],
             [
              0.5555555555555556,
              "#d8576b"
             ],
             [
              0.6666666666666666,
              "#ed7953"
             ],
             [
              0.7777777777777778,
              "#fb9f3a"
             ],
             [
              0.8888888888888888,
              "#fdca26"
             ],
             [
              1,
              "#f0f921"
             ]
            ],
            "type": "histogram2dcontour"
           }
          ],
          "mesh3d": [
           {
            "colorbar": {
             "outlinewidth": 0,
             "ticks": ""
            },
            "type": "mesh3d"
           }
          ],
          "parcoords": [
           {
            "line": {
             "colorbar": {
              "outlinewidth": 0,
              "ticks": ""
             }
            },
            "type": "parcoords"
           }
          ],
          "pie": [
           {
            "automargin": true,
            "type": "pie"
           }
          ],
          "scatter": [
           {
            "fillpattern": {
             "fillmode": "overlay",
             "size": 10,
             "solidity": 0.2
            },
            "type": "scatter"
           }
          ],
          "scatter3d": [
           {
            "line": {
             "colorbar": {
              "outlinewidth": 0,
              "ticks": ""
             }
            },
            "marker": {
             "colorbar": {
              "outlinewidth": 0,
              "ticks": ""
             }
            },
            "type": "scatter3d"
           }
          ],
          "scattercarpet": [
           {
            "marker": {
             "colorbar": {
              "outlinewidth": 0,
              "ticks": ""
             }
            },
            "type": "scattercarpet"
           }
          ],
          "scattergeo": [
           {
            "marker": {
             "colorbar": {
              "outlinewidth": 0,
              "ticks": ""
             }
            },
            "type": "scattergeo"
           }
          ],
          "scattergl": [
           {
            "marker": {
             "colorbar": {
              "outlinewidth": 0,
              "ticks": ""
             }
            },
            "type": "scattergl"
           }
          ],
          "scattermapbox": [
           {
            "marker": {
             "colorbar": {
              "outlinewidth": 0,
              "ticks": ""
             }
            },
            "type": "scattermapbox"
           }
          ],
          "scatterpolar": [
           {
            "marker": {
             "colorbar": {
              "outlinewidth": 0,
              "ticks": ""
             }
            },
            "type": "scatterpolar"
           }
          ],
          "scatterpolargl": [
           {
            "marker": {
             "colorbar": {
              "outlinewidth": 0,
              "ticks": ""
             }
            },
            "type": "scatterpolargl"
           }
          ],
          "scatterternary": [
           {
            "marker": {
             "colorbar": {
              "outlinewidth": 0,
              "ticks": ""
             }
            },
            "type": "scatterternary"
           }
          ],
          "surface": [
           {
            "colorbar": {
             "outlinewidth": 0,
             "ticks": ""
            },
            "colorscale": [
             [
              0,
              "#0d0887"
             ],
             [
              0.1111111111111111,
              "#46039f"
             ],
             [
              0.2222222222222222,
              "#7201a8"
             ],
             [
              0.3333333333333333,
              "#9c179e"
             ],
             [
              0.4444444444444444,
              "#bd3786"
             ],
             [
              0.5555555555555556,
              "#d8576b"
             ],
             [
              0.6666666666666666,
              "#ed7953"
             ],
             [
              0.7777777777777778,
              "#fb9f3a"
             ],
             [
              0.8888888888888888,
              "#fdca26"
             ],
             [
              1,
              "#f0f921"
             ]
            ],
            "type": "surface"
           }
          ],
          "table": [
           {
            "cells": {
             "fill": {
              "color": "#EBF0F8"
             },
             "line": {
              "color": "white"
             }
            },
            "header": {
             "fill": {
              "color": "#C8D4E3"
             },
             "line": {
              "color": "white"
             }
            },
            "type": "table"
           }
          ]
         },
         "layout": {
          "annotationdefaults": {
           "arrowcolor": "#2a3f5f",
           "arrowhead": 0,
           "arrowwidth": 1
          },
          "autotypenumbers": "strict",
          "coloraxis": {
           "colorbar": {
            "outlinewidth": 0,
            "ticks": ""
           }
          },
          "colorscale": {
           "diverging": [
            [
             0,
             "#8e0152"
            ],
            [
             0.1,
             "#c51b7d"
            ],
            [
             0.2,
             "#de77ae"
            ],
            [
             0.3,
             "#f1b6da"
            ],
            [
             0.4,
             "#fde0ef"
            ],
            [
             0.5,
             "#f7f7f7"
            ],
            [
             0.6,
             "#e6f5d0"
            ],
            [
             0.7,
             "#b8e186"
            ],
            [
             0.8,
             "#7fbc41"
            ],
            [
             0.9,
             "#4d9221"
            ],
            [
             1,
             "#276419"
            ]
           ],
           "sequential": [
            [
             0,
             "#0d0887"
            ],
            [
             0.1111111111111111,
             "#46039f"
            ],
            [
             0.2222222222222222,
             "#7201a8"
            ],
            [
             0.3333333333333333,
             "#9c179e"
            ],
            [
             0.4444444444444444,
             "#bd3786"
            ],
            [
             0.5555555555555556,
             "#d8576b"
            ],
            [
             0.6666666666666666,
             "#ed7953"
            ],
            [
             0.7777777777777778,
             "#fb9f3a"
            ],
            [
             0.8888888888888888,
             "#fdca26"
            ],
            [
             1,
             "#f0f921"
            ]
           ],
           "sequentialminus": [
            [
             0,
             "#0d0887"
            ],
            [
             0.1111111111111111,
             "#46039f"
            ],
            [
             0.2222222222222222,
             "#7201a8"
            ],
            [
             0.3333333333333333,
             "#9c179e"
            ],
            [
             0.4444444444444444,
             "#bd3786"
            ],
            [
             0.5555555555555556,
             "#d8576b"
            ],
            [
             0.6666666666666666,
             "#ed7953"
            ],
            [
             0.7777777777777778,
             "#fb9f3a"
            ],
            [
             0.8888888888888888,
             "#fdca26"
            ],
            [
             1,
             "#f0f921"
            ]
           ]
          },
          "colorway": [
           "#636efa",
           "#EF553B",
           "#00cc96",
           "#ab63fa",
           "#FFA15A",
           "#19d3f3",
           "#FF6692",
           "#B6E880",
           "#FF97FF",
           "#FECB52"
          ],
          "font": {
           "color": "#2a3f5f"
          },
          "geo": {
           "bgcolor": "white",
           "lakecolor": "white",
           "landcolor": "#E5ECF6",
           "showlakes": true,
           "showland": true,
           "subunitcolor": "white"
          },
          "hoverlabel": {
           "align": "left"
          },
          "hovermode": "closest",
          "mapbox": {
           "style": "light"
          },
          "paper_bgcolor": "white",
          "plot_bgcolor": "#E5ECF6",
          "polar": {
           "angularaxis": {
            "gridcolor": "white",
            "linecolor": "white",
            "ticks": ""
           },
           "bgcolor": "#E5ECF6",
           "radialaxis": {
            "gridcolor": "white",
            "linecolor": "white",
            "ticks": ""
           }
          },
          "scene": {
           "xaxis": {
            "backgroundcolor": "#E5ECF6",
            "gridcolor": "white",
            "gridwidth": 2,
            "linecolor": "white",
            "showbackground": true,
            "ticks": "",
            "zerolinecolor": "white"
           },
           "yaxis": {
            "backgroundcolor": "#E5ECF6",
            "gridcolor": "white",
            "gridwidth": 2,
            "linecolor": "white",
            "showbackground": true,
            "ticks": "",
            "zerolinecolor": "white"
           },
           "zaxis": {
            "backgroundcolor": "#E5ECF6",
            "gridcolor": "white",
            "gridwidth": 2,
            "linecolor": "white",
            "showbackground": true,
            "ticks": "",
            "zerolinecolor": "white"
           }
          },
          "shapedefaults": {
           "line": {
            "color": "#2a3f5f"
           }
          },
          "ternary": {
           "aaxis": {
            "gridcolor": "white",
            "linecolor": "white",
            "ticks": ""
           },
           "baxis": {
            "gridcolor": "white",
            "linecolor": "white",
            "ticks": ""
           },
           "bgcolor": "#E5ECF6",
           "caxis": {
            "gridcolor": "white",
            "linecolor": "white",
            "ticks": ""
           }
          },
          "title": {
           "x": 0.05
          },
          "xaxis": {
           "automargin": true,
           "gridcolor": "white",
           "linecolor": "white",
           "ticks": "",
           "title": {
            "standoff": 15
           },
           "zerolinecolor": "white",
           "zerolinewidth": 2
          },
          "yaxis": {
           "automargin": true,
           "gridcolor": "white",
           "linecolor": "white",
           "ticks": "",
           "title": {
            "standoff": 15
           },
           "zerolinecolor": "white",
           "zerolinewidth": 2
          }
         }
        },
        "title": {
         "text": "<b>은행주</b> 연도별 주요 매출"
        },
        "xaxis": {
         "anchor": "y",
         "domain": [
          0,
          0.45
         ],
         "rangeslider": {
          "visible": false
         }
        },
        "xaxis2": {
         "anchor": "y2",
         "domain": [
          0.55,
          1
         ]
        },
        "xaxis3": {
         "anchor": "y3",
         "domain": [
          0,
          0.45
         ]
        },
        "xaxis4": {
         "anchor": "y4",
         "domain": [
          0.55,
          1
         ]
        },
        "yaxis": {
         "anchor": "x",
         "domain": [
          0.56,
          1
         ]
        },
        "yaxis2": {
         "anchor": "x2",
         "domain": [
          0.56,
          1
         ]
        },
        "yaxis3": {
         "anchor": "x3",
         "domain": [
          0,
          0.44
         ]
        },
        "yaxis4": {
         "anchor": "x4",
         "domain": [
          0,
          0.44
         ]
        }
       }
      },
      "text/html": [
       "<div>                            <div id=\"e937acc4-cdf7-4000-b459-cc3e925bee48\" class=\"plotly-graph-div\" style=\"height:750px; width:100%;\"></div>            <script type=\"text/javascript\">                require([\"plotly\"], function(Plotly) {                    window.PLOTLYENV=window.PLOTLYENV || {};                                    if (document.getElementById(\"e937acc4-cdf7-4000-b459-cc3e925bee48\")) {                    Plotly.newPlot(                        \"e937acc4-cdf7-4000-b459-cc3e925bee48\",                        [{\"hoverinfo\":\"skip\",\"legendgroup\":\"\\uae30\\ud0c0(\\uacc4)\",\"name\":\"\\uae30\\ud0c0(\\uacc4)\",\"showlegend\":true,\"text\":[4.76,5.6,7.990000000000014,8.14000000000001],\"textposition\":\"inside\",\"texttemplate\":\"\\uae30\\ud0c0(\\uacc4)<br>%{y:.2f}%\",\"x\":[\"2018/12\",\"2019/12\",\"2020/12\",\"2021/12\"],\"y\":[4.76,5.6,7.990000000000014,8.14000000000001],\"type\":\"bar\",\"xaxis\":\"x\",\"yaxis\":\"y\"},{\"hoverinfo\":\"skip\",\"legendgroup\":\"\\uc218\\uc218\\ub8cc\\uc218\\uc775\",\"name\":\"\\uc218\\uc218\\ub8cc\\uc218\\uc775\",\"showlegend\":true,\"text\":[10.67,8.22,8.13,9.04],\"textposition\":\"inside\",\"texttemplate\":\"\\uc218\\uc218\\ub8cc\\uc218\\uc775<br>%{y:.2f}%\",\"x\":[\"2018/12\",\"2019/12\",\"2020/12\",\"2021/12\"],\"y\":[10.67,8.22,8.13,9.04],\"type\":\"bar\",\"xaxis\":\"x\",\"yaxis\":\"y\"},{\"hoverinfo\":\"skip\",\"legendgroup\":\"\\uc774\\uc790\\uc218\\uc775\",\"name\":\"\\uc774\\uc790\\uc218\\uc775\",\"showlegend\":true,\"text\":[31.94,31.04,26.02,25.82],\"textposition\":\"inside\",\"texttemplate\":\"\\uc774\\uc790\\uc218\\uc775<br>%{y:.2f}%\",\"x\":[\"2018/12\",\"2019/12\",\"2020/12\",\"2021/12\"],\"y\":[31.94,31.04,26.02,25.82],\"type\":\"bar\",\"xaxis\":\"x\",\"yaxis\":\"y\"},{\"hoverinfo\":\"skip\",\"legendgroup\":\"\\uc2e0\\ud0c1\\uc5c5\\ubb34\\uc6b4\\uc6a9\\uc218\\uc775\",\"name\":\"\\uc2e0\\ud0c1\\uc5c5\\ubb34\\uc6b4\\uc6a9\\uc218\\uc775\",\"showlegend\":true,\"text\":[28.31,26.11,25.84,27.34],\"textposition\":\"inside\",\"texttemplate\":\"\\uc2e0\\ud0c1\\uc5c5\\ubb34\\uc6b4\\uc6a9\\uc218\\uc775<br>%{y:.2f}%\",\"x\":[\"2018/12\",\"2019/12\",\"2020/12\",\"2021/12\"],\"y\":[28.31,26.11,25.84,27.34],\"type\":\"bar\",\"xaxis\":\"x\",\"yaxis\":\"y\"},{\"hoverinfo\":\"skip\",\"legendgroup\":\"\\uc720\\uac00\\uc99d\\uad8c\\ud3c9\\uac00\\ubc0f\\ucc98\\ubd84\\uc774\\uc775\",\"name\":\"\\uc720\\uac00\\uc99d\\uad8c\\ud3c9\\uac00\\ubc0f\\ucc98\\ubd84\\uc774\\uc775\",\"showlegend\":true,\"text\":[24.32,29.03,32.02,29.66],\"textposition\":\"inside\",\"texttemplate\":\"\\uc720\\uac00\\uc99d\\uad8c\\ud3c9\\uac00\\ubc0f\\ucc98\\ubd84\\uc774\\uc775<br>%{y:.2f}%\",\"x\":[\"2018/12\",\"2019/12\",\"2020/12\",\"2021/12\"],\"y\":[24.32,29.03,32.02,29.66],\"type\":\"bar\",\"xaxis\":\"x\",\"yaxis\":\"y\"},{\"hoverinfo\":\"skip\",\"legendgroup\":\"\\uae30\\ud0c0(\\uacc4)\",\"name\":\"\\uae30\\ud0c0(\\uacc4)\",\"showlegend\":false,\"text\":[1.150000000000005,4.15,4.730000000000005,4.379999999999995],\"textposition\":\"inside\",\"texttemplate\":\"\\uae30\\ud0c0(\\uacc4)<br>%{y:.2f}%\",\"x\":[\"2018/12\",\"2019/12\",\"2020/12\",\"2021/12\"],\"y\":[1.150000000000005,4.15,4.730000000000005,4.379999999999995],\"type\":\"bar\",\"xaxis\":\"x2\",\"yaxis\":\"y2\"},{\"hoverinfo\":\"skip\",\"legendgroup\":\"\\uc720\\uac00\\uc99d\\uad8c\\ud3c9\\uac00\\ubc0f\\ucc98\\ubd84\\uc774\\uc775\",\"name\":\"\\uc720\\uac00\\uc99d\\uad8c\\ud3c9\\uac00\\ubc0f\\ucc98\\ubd84\\uc774\\uc775\",\"showlegend\":false,\"text\":[3.97,6.42,6.19,7.06],\"textposition\":\"inside\",\"texttemplate\":\"\\uc720\\uac00\\uc99d\\uad8c\\ud3c9\\uac00\\ubc0f\\ucc98\\ubd84\\uc774\\uc775<br>%{y:.2f}%\",\"x\":[\"2018/12\",\"2019/12\",\"2020/12\",\"2021/12\"],\"y\":[3.97,6.42,6.19,7.06],\"type\":\"bar\",\"xaxis\":\"x2\",\"yaxis\":\"y2\"},{\"hoverinfo\":\"skip\",\"legendgroup\":\"\\uc218\\uc218\\ub8cc\\uc218\\uc775\",\"name\":\"\\uc218\\uc218\\ub8cc\\uc218\\uc775\",\"showlegend\":false,\"text\":[18.86,11.85,13.15,14.44],\"textposition\":\"inside\",\"texttemplate\":\"\\uc218\\uc218\\ub8cc\\uc218\\uc775<br>%{y:.2f}%\",\"x\":[\"2018/12\",\"2019/12\",\"2020/12\",\"2021/12\"],\"y\":[18.86,11.85,13.15,14.44],\"type\":\"bar\",\"xaxis\":\"x2\",\"yaxis\":\"y2\"},{\"hoverinfo\":\"skip\",\"legendgroup\":\"\\uc2e0\\ud0c1\\uc5c5\\ubb34\\uc6b4\\uc6a9\\uc218\\uc775\",\"name\":\"\\uc2e0\\ud0c1\\uc5c5\\ubb34\\uc6b4\\uc6a9\\uc218\\uc775\",\"showlegend\":false,\"text\":[18.98,25.23,24.99,22.77],\"textposition\":\"inside\",\"texttemplate\":\"\\uc2e0\\ud0c1\\uc5c5\\ubb34\\uc6b4\\uc6a9\\uc218\\uc775<br>%{y:.2f}%\",\"x\":[\"2018/12\",\"2019/12\",\"2020/12\",\"2021/12\"],\"y\":[18.98,25.23,24.99,22.77],\"type\":\"bar\",\"xaxis\":\"x2\",\"yaxis\":\"y2\"},{\"hoverinfo\":\"skip\",\"legendgroup\":\"\\uc774\\uc790\\uc218\\uc775\",\"name\":\"\\uc774\\uc790\\uc218\\uc775\",\"showlegend\":false,\"text\":[57.04,52.35,50.94,51.35],\"textposition\":\"inside\",\"texttemplate\":\"\\uc774\\uc790\\uc218\\uc775<br>%{y:.2f}%\",\"x\":[\"2018/12\",\"2019/12\",\"2020/12\",\"2021/12\"],\"y\":[57.04,52.35,50.94,51.35],\"type\":\"bar\",\"xaxis\":\"x2\",\"yaxis\":\"y2\"},{\"hoverinfo\":\"skip\",\"legendgroup\":\"\\uae30\\ud0c0(\\uacc4)\",\"name\":\"\\uae30\\ud0c0(\\uacc4)\",\"showlegend\":false,\"text\":[3.65,3.030000000000005,2.9000000000000092,4.390000000000004],\"textposition\":\"inside\",\"texttemplate\":\"\\uae30\\ud0c0(\\uacc4)<br>%{y:.2f}%\",\"x\":[\"2018/12\",\"2019/12\",\"2020/12\",\"2021/12\"],\"y\":[3.65,3.030000000000005,2.9000000000000092,4.390000000000004],\"type\":\"bar\",\"xaxis\":\"x3\",\"yaxis\":\"y3\"},{\"hoverinfo\":\"skip\",\"legendgroup\":\"\\uc218\\uc218\\ub8cc\\uc218\\uc775\",\"name\":\"\\uc218\\uc218\\ub8cc\\uc218\\uc775\",\"showlegend\":false,\"text\":[9.52,7.85,6.68,6.37],\"textposition\":\"inside\",\"texttemplate\":\"\\uc218\\uc218\\ub8cc\\uc218\\uc775<br>%{y:.2f}%\",\"x\":[\"2018/12\",\"2019/12\",\"2020/12\",\"2021/12\"],\"y\":[9.52,7.85,6.68,6.37],\"type\":\"bar\",\"xaxis\":\"x3\",\"yaxis\":\"y3\"},{\"hoverinfo\":\"skip\",\"legendgroup\":\"\\uc678\\ud658\\uac70\\ub798\\uc774\\uc775\",\"name\":\"\\uc678\\ud658\\uac70\\ub798\\uc774\\uc775\",\"showlegend\":false,\"text\":[11.95,10.37,12.0,12.47],\"textposition\":\"inside\",\"texttemplate\":\"\\uc678\\ud658\\uac70\\ub798\\uc774\\uc775<br>%{y:.2f}%\",\"x\":[\"2018/12\",\"2019/12\",\"2020/12\",\"2021/12\"],\"y\":[11.95,10.37,12.0,12.47],\"type\":\"bar\",\"xaxis\":\"x3\",\"yaxis\":\"y3\"},{\"hoverinfo\":\"skip\",\"legendgroup\":\"\\uc774\\uc790\\uc218\\uc775\",\"name\":\"\\uc774\\uc790\\uc218\\uc775\",\"showlegend\":false,\"text\":[30.08,28.77,20.91,26.08],\"textposition\":\"inside\",\"texttemplate\":\"\\uc774\\uc790\\uc218\\uc775<br>%{y:.2f}%\",\"x\":[\"2018/12\",\"2019/12\",\"2020/12\",\"2021/12\"],\"y\":[30.08,28.77,20.91,26.08],\"type\":\"bar\",\"xaxis\":\"x3\",\"yaxis\":\"y3\"},{\"hoverinfo\":\"skip\",\"legendgroup\":\"\\uc720\\uac00\\uc99d\\uad8c\\ud3c9\\uac00\\ubc0f\\ucc98\\ubd84\\uc774\\uc775\",\"name\":\"\\uc720\\uac00\\uc99d\\uad8c\\ud3c9\\uac00\\ubc0f\\ucc98\\ubd84\\uc774\\uc775\",\"showlegend\":false,\"text\":[44.8,49.98,57.51,50.69],\"textposition\":\"inside\",\"texttemplate\":\"\\uc720\\uac00\\uc99d\\uad8c\\ud3c9\\uac00\\ubc0f\\ucc98\\ubd84\\uc774\\uc775<br>%{y:.2f}%\",\"x\":[\"2018/12\",\"2019/12\",\"2020/12\",\"2021/12\"],\"y\":[44.8,49.98,57.51,50.69],\"type\":\"bar\",\"xaxis\":\"x3\",\"yaxis\":\"y3\"},{\"hoverinfo\":\"skip\",\"legendgroup\":\"\\uae30\\ud0c0(\\uacc4)\",\"name\":\"\\uae30\\ud0c0(\\uacc4)\",\"showlegend\":false,\"text\":[1.749999999999995,1.2399999999999949,3.65],\"textposition\":\"inside\",\"texttemplate\":\"\\uae30\\ud0c0(\\uacc4)<br>%{y:.2f}%\",\"x\":[\"2019/12\",\"2020/12\",\"2021/12\"],\"y\":[1.749999999999995,1.2399999999999949,3.65],\"type\":\"bar\",\"xaxis\":\"x4\",\"yaxis\":\"y4\"},{\"hoverinfo\":\"skip\",\"legendgroup\":\"\\uc678\\ud658\\uac70\\ub798\\uc774\\uc775\",\"name\":\"\\uc678\\ud658\\uac70\\ub798\\uc774\\uc775\",\"showlegend\":false,\"text\":[2.65,2.65,2.07],\"textposition\":\"inside\",\"texttemplate\":\"\\uc678\\ud658\\uac70\\ub798\\uc774\\uc775<br>%{y:.2f}%\",\"x\":[\"2019/12\",\"2020/12\",\"2021/12\"],\"y\":[2.65,2.65,2.07],\"type\":\"bar\",\"xaxis\":\"x4\",\"yaxis\":\"y4\"},{\"hoverinfo\":\"skip\",\"legendgroup\":\"\\uc218\\uc218\\ub8cc\\uc218\\uc775\",\"name\":\"\\uc218\\uc218\\ub8cc\\uc218\\uc775\",\"showlegend\":false,\"text\":[7.53,5.92,7.19],\"textposition\":\"inside\",\"texttemplate\":\"\\uc218\\uc218\\ub8cc\\uc218\\uc775<br>%{y:.2f}%\",\"x\":[\"2019/12\",\"2020/12\",\"2021/12\"],\"y\":[7.53,5.92,7.19],\"type\":\"bar\",\"xaxis\":\"x4\",\"yaxis\":\"y4\"},{\"hoverinfo\":\"skip\",\"legendgroup\":\"\\uc774\\uc790\\uc218\\uc775\",\"name\":\"\\uc774\\uc790\\uc218\\uc775\",\"showlegend\":false,\"text\":[46.58,33.26,36.39],\"textposition\":\"inside\",\"texttemplate\":\"\\uc774\\uc790\\uc218\\uc775<br>%{y:.2f}%\",\"x\":[\"2019/12\",\"2020/12\",\"2021/12\"],\"y\":[46.58,33.26,36.39],\"type\":\"bar\",\"xaxis\":\"x4\",\"yaxis\":\"y4\"},{\"hoverinfo\":\"skip\",\"legendgroup\":\"\\uc720\\uac00\\uc99d\\uad8c\\ud3c9\\uac00\\ubc0f\\ucc98\\ubd84\\uc774\\uc775\",\"name\":\"\\uc720\\uac00\\uc99d\\uad8c\\ud3c9\\uac00\\ubc0f\\ucc98\\ubd84\\uc774\\uc775\",\"showlegend\":false,\"text\":[41.49,56.93,50.7],\"textposition\":\"inside\",\"texttemplate\":\"\\uc720\\uac00\\uc99d\\uad8c\\ud3c9\\uac00\\ubc0f\\ucc98\\ubd84\\uc774\\uc775<br>%{y:.2f}%\",\"x\":[\"2019/12\",\"2020/12\",\"2021/12\"],\"y\":[41.49,56.93,50.7],\"type\":\"bar\",\"xaxis\":\"x4\",\"yaxis\":\"y4\"}],                        {\"template\":{\"data\":{\"histogram2dcontour\":[{\"type\":\"histogram2dcontour\",\"colorbar\":{\"outlinewidth\":0,\"ticks\":\"\"},\"colorscale\":[[0.0,\"#0d0887\"],[0.1111111111111111,\"#46039f\"],[0.2222222222222222,\"#7201a8\"],[0.3333333333333333,\"#9c179e\"],[0.4444444444444444,\"#bd3786\"],[0.5555555555555556,\"#d8576b\"],[0.6666666666666666,\"#ed7953\"],[0.7777777777777778,\"#fb9f3a\"],[0.8888888888888888,\"#fdca26\"],[1.0,\"#f0f921\"]]}],\"choropleth\":[{\"type\":\"choropleth\",\"colorbar\":{\"outlinewidth\":0,\"ticks\":\"\"}}],\"histogram2d\":[{\"type\":\"histogram2d\",\"colorbar\":{\"outlinewidth\":0,\"ticks\":\"\"},\"colorscale\":[[0.0,\"#0d0887\"],[0.1111111111111111,\"#46039f\"],[0.2222222222222222,\"#7201a8\"],[0.3333333333333333,\"#9c179e\"],[0.4444444444444444,\"#bd3786\"],[0.5555555555555556,\"#d8576b\"],[0.6666666666666666,\"#ed7953\"],[0.7777777777777778,\"#fb9f3a\"],[0.8888888888888888,\"#fdca26\"],[1.0,\"#f0f921\"]]}],\"heatmap\":[{\"type\":\"heatmap\",\"colorbar\":{\"outlinewidth\":0,\"ticks\":\"\"},\"colorscale\":[[0.0,\"#0d0887\"],[0.1111111111111111,\"#46039f\"],[0.2222222222222222,\"#7201a8\"],[0.3333333333333333,\"#9c179e\"],[0.4444444444444444,\"#bd3786\"],[0.5555555555555556,\"#d8576b\"],[0.6666666666666666,\"#ed7953\"],[0.7777777777777778,\"#fb9f3a\"],[0.8888888888888888,\"#fdca26\"],[1.0,\"#f0f921\"]]}],\"heatmapgl\":[{\"type\":\"heatmapgl\",\"colorbar\":{\"outlinewidth\":0,\"ticks\":\"\"},\"colorscale\":[[0.0,\"#0d0887\"],[0.1111111111111111,\"#46039f\"],[0.2222222222222222,\"#7201a8\"],[0.3333333333333333,\"#9c179e\"],[0.4444444444444444,\"#bd3786\"],[0.5555555555555556,\"#d8576b\"],[0.6666666666666666,\"#ed7953\"],[0.7777777777777778,\"#fb9f3a\"],[0.8888888888888888,\"#fdca26\"],[1.0,\"#f0f921\"]]}],\"contourcarpet\":[{\"type\":\"contourcarpet\",\"colorbar\":{\"outlinewidth\":0,\"ticks\":\"\"}}],\"contour\":[{\"type\":\"contour\",\"colorbar\":{\"outlinewidth\":0,\"ticks\":\"\"},\"colorscale\":[[0.0,\"#0d0887\"],[0.1111111111111111,\"#46039f\"],[0.2222222222222222,\"#7201a8\"],[0.3333333333333333,\"#9c179e\"],[0.4444444444444444,\"#bd3786\"],[0.5555555555555556,\"#d8576b\"],[0.6666666666666666,\"#ed7953\"],[0.7777777777777778,\"#fb9f3a\"],[0.8888888888888888,\"#fdca26\"],[1.0,\"#f0f921\"]]}],\"surface\":[{\"type\":\"surface\",\"colorbar\":{\"outlinewidth\":0,\"ticks\":\"\"},\"colorscale\":[[0.0,\"#0d0887\"],[0.1111111111111111,\"#46039f\"],[0.2222222222222222,\"#7201a8\"],[0.3333333333333333,\"#9c179e\"],[0.4444444444444444,\"#bd3786\"],[0.5555555555555556,\"#d8576b\"],[0.6666666666666666,\"#ed7953\"],[0.7777777777777778,\"#fb9f3a\"],[0.8888888888888888,\"#fdca26\"],[1.0,\"#f0f921\"]]}],\"mesh3d\":[{\"type\":\"mesh3d\",\"colorbar\":{\"outlinewidth\":0,\"ticks\":\"\"}}],\"scatter\":[{\"fillpattern\":{\"fillmode\":\"overlay\",\"size\":10,\"solidity\":0.2},\"type\":\"scatter\"}],\"parcoords\":[{\"type\":\"parcoords\",\"line\":{\"colorbar\":{\"outlinewidth\":0,\"ticks\":\"\"}}}],\"scatterpolargl\":[{\"type\":\"scatterpolargl\",\"marker\":{\"colorbar\":{\"outlinewidth\":0,\"ticks\":\"\"}}}],\"bar\":[{\"error_x\":{\"color\":\"#2a3f5f\"},\"error_y\":{\"color\":\"#2a3f5f\"},\"marker\":{\"line\":{\"color\":\"#E5ECF6\",\"width\":0.5},\"pattern\":{\"fillmode\":\"overlay\",\"size\":10,\"solidity\":0.2}},\"type\":\"bar\"}],\"scattergeo\":[{\"type\":\"scattergeo\",\"marker\":{\"colorbar\":{\"outlinewidth\":0,\"ticks\":\"\"}}}],\"scatterpolar\":[{\"type\":\"scatterpolar\",\"marker\":{\"colorbar\":{\"outlinewidth\":0,\"ticks\":\"\"}}}],\"histogram\":[{\"marker\":{\"pattern\":{\"fillmode\":\"overlay\",\"size\":10,\"solidity\":0.2}},\"type\":\"histogram\"}],\"scattergl\":[{\"type\":\"scattergl\",\"marker\":{\"colorbar\":{\"outlinewidth\":0,\"ticks\":\"\"}}}],\"scatter3d\":[{\"type\":\"scatter3d\",\"line\":{\"colorbar\":{\"outlinewidth\":0,\"ticks\":\"\"}},\"marker\":{\"colorbar\":{\"outlinewidth\":0,\"ticks\":\"\"}}}],\"scattermapbox\":[{\"type\":\"scattermapbox\",\"marker\":{\"colorbar\":{\"outlinewidth\":0,\"ticks\":\"\"}}}],\"scatterternary\":[{\"type\":\"scatterternary\",\"marker\":{\"colorbar\":{\"outlinewidth\":0,\"ticks\":\"\"}}}],\"scattercarpet\":[{\"type\":\"scattercarpet\",\"marker\":{\"colorbar\":{\"outlinewidth\":0,\"ticks\":\"\"}}}],\"carpet\":[{\"aaxis\":{\"endlinecolor\":\"#2a3f5f\",\"gridcolor\":\"white\",\"linecolor\":\"white\",\"minorgridcolor\":\"white\",\"startlinecolor\":\"#2a3f5f\"},\"baxis\":{\"endlinecolor\":\"#2a3f5f\",\"gridcolor\":\"white\",\"linecolor\":\"white\",\"minorgridcolor\":\"white\",\"startlinecolor\":\"#2a3f5f\"},\"type\":\"carpet\"}],\"table\":[{\"cells\":{\"fill\":{\"color\":\"#EBF0F8\"},\"line\":{\"color\":\"white\"}},\"header\":{\"fill\":{\"color\":\"#C8D4E3\"},\"line\":{\"color\":\"white\"}},\"type\":\"table\"}],\"barpolar\":[{\"marker\":{\"line\":{\"color\":\"#E5ECF6\",\"width\":0.5},\"pattern\":{\"fillmode\":\"overlay\",\"size\":10,\"solidity\":0.2}},\"type\":\"barpolar\"}],\"pie\":[{\"automargin\":true,\"type\":\"pie\"}]},\"layout\":{\"autotypenumbers\":\"strict\",\"colorway\":[\"#636efa\",\"#EF553B\",\"#00cc96\",\"#ab63fa\",\"#FFA15A\",\"#19d3f3\",\"#FF6692\",\"#B6E880\",\"#FF97FF\",\"#FECB52\"],\"font\":{\"color\":\"#2a3f5f\"},\"hovermode\":\"closest\",\"hoverlabel\":{\"align\":\"left\"},\"paper_bgcolor\":\"white\",\"plot_bgcolor\":\"#E5ECF6\",\"polar\":{\"bgcolor\":\"#E5ECF6\",\"angularaxis\":{\"gridcolor\":\"white\",\"linecolor\":\"white\",\"ticks\":\"\"},\"radialaxis\":{\"gridcolor\":\"white\",\"linecolor\":\"white\",\"ticks\":\"\"}},\"ternary\":{\"bgcolor\":\"#E5ECF6\",\"aaxis\":{\"gridcolor\":\"white\",\"linecolor\":\"white\",\"ticks\":\"\"},\"baxis\":{\"gridcolor\":\"white\",\"linecolor\":\"white\",\"ticks\":\"\"},\"caxis\":{\"gridcolor\":\"white\",\"linecolor\":\"white\",\"ticks\":\"\"}},\"coloraxis\":{\"colorbar\":{\"outlinewidth\":0,\"ticks\":\"\"}},\"colorscale\":{\"sequential\":[[0.0,\"#0d0887\"],[0.1111111111111111,\"#46039f\"],[0.2222222222222222,\"#7201a8\"],[0.3333333333333333,\"#9c179e\"],[0.4444444444444444,\"#bd3786\"],[0.5555555555555556,\"#d8576b\"],[0.6666666666666666,\"#ed7953\"],[0.7777777777777778,\"#fb9f3a\"],[0.8888888888888888,\"#fdca26\"],[1.0,\"#f0f921\"]],\"sequentialminus\":[[0.0,\"#0d0887\"],[0.1111111111111111,\"#46039f\"],[0.2222222222222222,\"#7201a8\"],[0.3333333333333333,\"#9c179e\"],[0.4444444444444444,\"#bd3786\"],[0.5555555555555556,\"#d8576b\"],[0.6666666666666666,\"#ed7953\"],[0.7777777777777778,\"#fb9f3a\"],[0.8888888888888888,\"#fdca26\"],[1.0,\"#f0f921\"]],\"diverging\":[[0,\"#8e0152\"],[0.1,\"#c51b7d\"],[0.2,\"#de77ae\"],[0.3,\"#f1b6da\"],[0.4,\"#fde0ef\"],[0.5,\"#f7f7f7\"],[0.6,\"#e6f5d0\"],[0.7,\"#b8e186\"],[0.8,\"#7fbc41\"],[0.9,\"#4d9221\"],[1,\"#276419\"]]},\"xaxis\":{\"gridcolor\":\"white\",\"linecolor\":\"white\",\"ticks\":\"\",\"title\":{\"standoff\":15},\"zerolinecolor\":\"white\",\"automargin\":true,\"zerolinewidth\":2},\"yaxis\":{\"gridcolor\":\"white\",\"linecolor\":\"white\",\"ticks\":\"\",\"title\":{\"standoff\":15},\"zerolinecolor\":\"white\",\"automargin\":true,\"zerolinewidth\":2},\"scene\":{\"xaxis\":{\"backgroundcolor\":\"#E5ECF6\",\"gridcolor\":\"white\",\"linecolor\":\"white\",\"showbackground\":true,\"ticks\":\"\",\"zerolinecolor\":\"white\",\"gridwidth\":2},\"yaxis\":{\"backgroundcolor\":\"#E5ECF6\",\"gridcolor\":\"white\",\"linecolor\":\"white\",\"showbackground\":true,\"ticks\":\"\",\"zerolinecolor\":\"white\",\"gridwidth\":2},\"zaxis\":{\"backgroundcolor\":\"#E5ECF6\",\"gridcolor\":\"white\",\"linecolor\":\"white\",\"showbackground\":true,\"ticks\":\"\",\"zerolinecolor\":\"white\",\"gridwidth\":2}},\"shapedefaults\":{\"line\":{\"color\":\"#2a3f5f\"}},\"annotationdefaults\":{\"arrowcolor\":\"#2a3f5f\",\"arrowhead\":0,\"arrowwidth\":1},\"geo\":{\"bgcolor\":\"white\",\"landcolor\":\"#E5ECF6\",\"subunitcolor\":\"white\",\"showland\":true,\"showlakes\":true,\"lakecolor\":\"white\"},\"title\":{\"x\":0.05},\"mapbox\":{\"style\":\"light\"}}},\"xaxis\":{\"anchor\":\"y\",\"domain\":[0.0,0.45],\"rangeslider\":{\"visible\":false}},\"yaxis\":{\"anchor\":\"x\",\"domain\":[0.56,1.0]},\"xaxis2\":{\"anchor\":\"y2\",\"domain\":[0.55,1.0]},\"yaxis2\":{\"anchor\":\"x2\",\"domain\":[0.56,1.0]},\"xaxis3\":{\"anchor\":\"y3\",\"domain\":[0.0,0.45]},\"yaxis3\":{\"anchor\":\"x3\",\"domain\":[0.0,0.44]},\"xaxis4\":{\"anchor\":\"y4\",\"domain\":[0.55,1.0]},\"yaxis4\":{\"anchor\":\"x4\",\"domain\":[0.0,0.44]},\"annotations\":[{\"font\":{\"size\":16},\"showarrow\":false,\"text\":\"KB\\uae08\\uc735\",\"x\":0.225,\"xanchor\":\"center\",\"xref\":\"paper\",\"y\":1.0,\"yanchor\":\"bottom\",\"yref\":\"paper\"},{\"font\":{\"size\":16},\"showarrow\":false,\"text\":\"\\uc2e0\\ud55c\\uc9c0\\uc8fc\",\"x\":0.775,\"xanchor\":\"center\",\"xref\":\"paper\",\"y\":1.0,\"yanchor\":\"bottom\",\"yref\":\"paper\"},{\"font\":{\"size\":16},\"showarrow\":false,\"text\":\"\\ud558\\ub098\\uae08\\uc735\\uc9c0\\uc8fc\",\"x\":0.225,\"xanchor\":\"center\",\"xref\":\"paper\",\"y\":0.44,\"yanchor\":\"bottom\",\"yref\":\"paper\"},{\"font\":{\"size\":16},\"showarrow\":false,\"text\":\"\\uc6b0\\ub9ac\\uae08\\uc735\\uc9c0\\uc8fc\",\"x\":0.775,\"xanchor\":\"center\",\"xref\":\"paper\",\"y\":0.44,\"yanchor\":\"bottom\",\"yref\":\"paper\"}],\"legend\":{\"orientation\":\"h\",\"xanchor\":\"right\",\"yanchor\":\"bottom\",\"x\":0.96,\"y\":1.08},\"plot_bgcolor\":\"white\",\"height\":750,\"barmode\":\"stack\",\"title\":{\"text\":\"<b>\\uc740\\ud589\\uc8fc</b> \\uc5f0\\ub3c4\\ubcc4 \\uc8fc\\uc694 \\ub9e4\\ucd9c\"}},                        {\"responsive\": true}                    ).then(function(){\n",
       "                            \n",
       "var gd = document.getElementById('e937acc4-cdf7-4000-b459-cc3e925bee48');\n",
       "var x = new MutationObserver(function (mutations, observer) {{\n",
       "        var display = window.getComputedStyle(gd).display;\n",
       "        if (!display || display === 'none') {{\n",
       "            console.log([gd, 'removed!']);\n",
       "            Plotly.purge(gd);\n",
       "            observer.disconnect();\n",
       "        }}\n",
       "}});\n",
       "\n",
       "// Listen for the removal of the full notebook cells\n",
       "var notebookContainer = gd.closest('#notebook-container');\n",
       "if (notebookContainer) {{\n",
       "    x.observe(notebookContainer, {childList: true});\n",
       "}}\n",
       "\n",
       "// Listen for the clearing of the current output cell\n",
       "var outputEl = gd.closest('.output');\n",
       "if (outputEl) {{\n",
       "    x.observe(outputEl, {childList: true});\n",
       "}}\n",
       "\n",
       "                        })                };                });            </script>        </div>"
      ]
     },
     "metadata": {},
     "output_type": "display_data"
    }
   ],
   "source": [
    "fig = make_subplots(\n",
    "    rows=2, cols=2,\n",
    "    vertical_spacing=0.12, horizontal_spacing=0.1,\n",
    "    subplot_titles=tuple(target.이름.tolist()),\n",
    "    specs=[\n",
    "        [{\"type\": \"bar\"}, {\"type\": \"bar\"}],\n",
    "        [{\"type\": \"bar\"}, {\"type\": \"bar\"}]\n",
    "    ]\n",
    ")\n",
    "\n",
    "for n, ticker in enumerate(target.index):\n",
    "    obj = stock_objs[ticker]\n",
    "    products = obj.fnguide.AllProducts\n",
    "    for col in products.columns[::-1]:\n",
    "        fig.add_trace(\n",
    "            trace=go.Bar(\n",
    "                x=products.index, y=products[col], name=col, \n",
    "                legendgroup=col, showlegend=True if not n else False,\n",
    "                text=products[col], textposition=\"inside\", texttemplate=col + \"<br>%{y:.2f}%\", hoverinfo='skip',                \n",
    "            ), row = n // 2 + 1, col = n % 2 + 1\n",
    "        )\n",
    "fig.update_layout(layout, barmode=\"stack\")\n",
    "fig.update_layout(    \n",
    "    title=f'<b>은행주</b> 연도별 주요 매출',\n",
    "    legend=dict(y=1.08)\n",
    ")"
   ]
  },
  {
   "cell_type": "markdown",
   "id": "e9c65dbe",
   "metadata": {},
   "source": [
    "## 매출 비중"
   ]
  },
  {
   "cell_type": "code",
   "execution_count": null,
   "id": "3a3c5250",
   "metadata": {
    "ExecuteTime": {
     "end_time": "2022-10-05T13:41:55.538882Z",
     "start_time": "2022-10-05T13:41:55.538882Z"
    }
   },
   "outputs": [],
   "source": [
    "p = pd.concat(objs=[stock_objs[ticker].fnguide.Products for n, ticker in enumerate(target.index)], axis=1).T.sum()\n",
    "portion = round(100 * p / p.sum(), 2).sort_values()\n",
    "\n",
    "fig = go.Figure()\n",
    "fig.add_trace(\n",
    "    trace=go.Bar(\n",
    "        x=portion, y=portion.index, orientation='h',\n",
    "        texttemplate='%{x:.2f}%', textposition='inside', hoverinfo='skip'\n",
    "    )\n",
    ")\n",
    "fig.update_layout(\n",
    "    title='시중은행 주요 매출처 비중', plot_bgcolor='white', height=500,\n",
    "    xaxis=dict(title='비중[%]', showgrid=True, gridcolor='lightgrey', showline=False, zeroline=False),\n",
    "    yaxis=dict(showgrid=False, zeroline=False),\n",
    ")"
   ]
  },
  {
   "cell_type": "markdown",
   "id": "e2c2e7bb",
   "metadata": {},
   "source": [
    "# Macro-Relation"
   ]
  },
  {
   "cell_type": "markdown",
   "id": "85bbed95",
   "metadata": {},
   "source": [
    "## KRX은행 및 예대금리차"
   ]
  },
  {
   "cell_type": "code",
   "execution_count": null,
   "id": "f375c37e",
   "metadata": {
    "ExecuteTime": {
     "end_time": "2022-10-05T13:41:55.541870Z",
     "start_time": "2022-10-05T13:41:55.541870Z"
    }
   },
   "outputs": [],
   "source": [
    "fig = make_subplots(specs=[[{\"secondary_y\": True}]])\n",
    "fig.add_trace(trace=krx_bank_trace(), secondary_y=False)\n",
    "fig.add_trace(trace=depo_trace(), secondary_y=True)\n",
    "fig.add_trace(trace=loan_trace(), secondary_y=True)\n",
    "fig.add_trace(trace=d_depo_loan_trace(), secondary_y=True)\n",
    "# fig.add_trace(trace=kr_std_trace(), secondary_y=True)\n",
    "# fig.add_trace(trace=us_std_trace(), secondary_y=True)\n",
    "# fig.add_trace(trace=kr_2yt_trace(), secondary_y=True)\n",
    "# fig.add_trace(trace=us_2yt_trace(), secondary_y=True)\n",
    "# fig.add_trace(trace=us_10yt_trace(), secondary_y=True)\n",
    "\n",
    "tools.draw_recession(fig, market='kr')\n",
    "fig.update_layout(layout)\n",
    "fig.update_layout(\n",
    "    title=f'<b>KRX은행지수</b>와 금리',\n",
    "    xaxis=dict(\n",
    "        title='날짜',\n",
    "        tickformat='%Y/%m/%d',\n",
    "        showticklabels=True,\n",
    "        showgrid=True,\n",
    "        gridcolor='lightgrey'\n",
    "    ),\n",
    "    yaxis=dict(\n",
    "        title='지수',\n",
    "        showticklabels=True,\n",
    "        showgrid=True,\n",
    "        gridcolor='lightgrey'\n",
    "    ),\n",
    "    yaxis2=dict(\n",
    "        title='이율[%]',\n",
    "        showticklabels=True\n",
    "    )\n",
    ")"
   ]
  },
  {
   "cell_type": "markdown",
   "id": "50de0009",
   "metadata": {},
   "source": [
    "## KRX은행 및 원-달러 환율"
   ]
  },
  {
   "cell_type": "code",
   "execution_count": null,
   "id": "70f04f55",
   "metadata": {
    "ExecuteTime": {
     "end_time": "2022-10-05T13:41:55.543868Z",
     "start_time": "2022-10-05T13:41:55.543868Z"
    }
   },
   "outputs": [],
   "source": [
    "fig = make_subplots(specs=[[{\"secondary_y\": True}]])\n",
    "\n",
    "fig.add_trace(trace=krx_bank_trace(), secondary_y=False)\n",
    "fig.add_trace(trace=exchange_trace(), secondary_y=True)\n",
    "tdat.draw_recession(fig, market='kr')\n",
    "fig.update_layout(layout)\n",
    "fig.update_layout(\n",
    "    title=f'<b>KRX은행지수</b>와 원-달러 환율',\n",
    "    xaxis=dict(\n",
    "        title='날짜',\n",
    "        tickformat='%Y/%m/%d',\n",
    "        showticklabels=True,\n",
    "        showgrid=True,\n",
    "        gridcolor='lightgrey',\n",
    "    ),\n",
    "    yaxis=dict(\n",
    "        title='지수',\n",
    "        showticklabels=True,\n",
    "        showgrid=True,\n",
    "        gridcolor='lightgrey'\n",
    "    ),\n",
    "    yaxis2=dict(\n",
    "        title='KRW',\n",
    "        showticklabels=True\n",
    "    ),\n",
    "    xaxis_rangeslider=dict(visible=False)\n",
    ")"
   ]
  },
  {
   "cell_type": "markdown",
   "id": "b1660883",
   "metadata": {},
   "source": [
    "# Foreigners"
   ]
  },
  {
   "cell_type": "code",
   "execution_count": null,
   "id": "2ae4cc7b",
   "metadata": {
    "ExecuteTime": {
     "end_time": "2022-10-05T13:41:55.546857Z",
     "start_time": "2022-10-05T13:41:55.545862Z"
    }
   },
   "outputs": [],
   "source": [
    "fig = make_subplots(\n",
    "    rows=2, cols=2,\n",
    "    vertical_spacing=0.12, horizontal_spacing=0.1,\n",
    "    subplot_titles=tuple(target.이름.tolist()),\n",
    "    specs=[\n",
    "        [{\"type\": \"xy\", \"secondary_y\": True}, {\"type\": \"xy\", \"secondary_y\": True}],\n",
    "        [{\"type\": \"xy\", \"secondary_y\": True}, {\"type\": \"xy\", \"secondary_y\": True}]\n",
    "    ]\n",
    ")\n",
    "\n",
    "for n, ticker in enumerate(target.index):\n",
    "    obj = stock_objs[ticker]\n",
    "    foreigner = obj.fnguide.Foreigner['3Y'].dropna()\n",
    "    fig.add_trace(\n",
    "        trace = go.Scatter(\n",
    "            name=ticker,\n",
    "            x=foreigner.index, y=foreigner['외국인보유비중'],\n",
    "            showlegend=False,\n",
    "            xhoverformat='%Y/%m/%d', \n",
    "            hovertemplate='%{x}<br>%{y:.2f}%<extra>보유비중</extra>'\n",
    "        ), row = n // 2 + 1, col = n % 2 + 1, secondary_y=False\n",
    "    )\n",
    "    fig.add_trace(\n",
    "        trace = go.Scatter(\n",
    "            name=ticker,\n",
    "            x=foreigner.index, y=foreigner['종가'],\n",
    "            line=dict(color='#000000', dash='dot', width=1),\n",
    "            showlegend=False,\n",
    "            xhoverformat='%Y/%m/%d', \n",
    "            hovertemplate='%{x}<br>%{y:,d}원<extra>종가</extra>'\n",
    "        ), row = n // 2 + 1, col = n % 2 + 1, secondary_y=True\n",
    "    )\n",
    "    \n",
    "\n",
    "tdat.draw_recession(fig, market='kr')\n",
    "fig.update_layout(layout)\n",
    "fig.update_layout(    \n",
    "    title=f'<b>은행주</b> 외국인 보유비중',\n",
    "    xaxis=dict(showgrid=True, gridcolor='lightgrey', tickformat=\"%Y/%m/%d\"),\n",
    "    xaxis2=dict(showgrid=True, gridcolor='lightgrey', tickformat=\"%Y/%m/%d\"),\n",
    "    xaxis3=dict(showgrid=True, gridcolor='lightgrey', tickformat=\"%Y/%m/%d\"),\n",
    "    xaxis4=dict(showgrid=True, gridcolor='lightgrey', tickformat=\"%Y/%m/%d\"),\n",
    "    yaxis=dict(title='[%]', showgrid=True, gridcolor='lightgrey'),\n",
    "    yaxis2=dict(title='[KRW]', showgrid=False),\n",
    "    yaxis3=dict(title='[%]', showgrid=True, gridcolor='lightgrey'),\n",
    "    yaxis4=dict(title='[KRW]', showgrid=False),\n",
    "    yaxis5=dict(title='[%]', showgrid=True, gridcolor='lightgrey'),\n",
    "    yaxis6=dict(title='[KRW]', showgrid=False),\n",
    "    yaxis7=dict(title='[%]', showgrid=True, gridcolor='lightgrey'),\n",
    "    yaxis8=dict(title='[KRW]', showgrid=False),\n",
    ")\n",
    "\n",
    "for n, annotation in enumerate(fig['layout']['annotations']):\n",
    "    annotation['x'] = 0 + 0.55 * (n % 2)\n",
    "    annotation['xanchor'] = 'center'\n",
    "    annotation['xref'] = 'paper'\n",
    "fig.show()"
   ]
  },
  {
   "cell_type": "markdown",
   "id": "d5931faa",
   "metadata": {},
   "source": [
    "# 습작"
   ]
  },
  {
   "cell_type": "code",
   "execution_count": 15,
   "id": "729f0322",
   "metadata": {
    "ExecuteTime": {
     "end_time": "2022-10-05T13:41:55.550847Z",
     "start_time": "2022-10-05T13:41:55.550847Z"
    }
   },
   "outputs": [
    {
     "data": {
      "text/html": [
       "<div>\n",
       "<style scoped>\n",
       "    .dataframe tbody tr th:only-of-type {\n",
       "        vertical-align: middle;\n",
       "    }\n",
       "\n",
       "    .dataframe tbody tr th {\n",
       "        vertical-align: top;\n",
       "    }\n",
       "\n",
       "    .dataframe thead th {\n",
       "        text-align: right;\n",
       "    }\n",
       "</style>\n",
       "<table border=\"1\" class=\"dataframe\">\n",
       "  <thead>\n",
       "    <tr style=\"text-align: right;\">\n",
       "      <th></th>\n",
       "      <th>유가증권평가및처분이익</th>\n",
       "      <th>이자수익</th>\n",
       "      <th>수수료수익</th>\n",
       "      <th>외환거래이익</th>\n",
       "      <th>기타(계)</th>\n",
       "    </tr>\n",
       "    <tr>\n",
       "      <th>기말</th>\n",
       "      <th></th>\n",
       "      <th></th>\n",
       "      <th></th>\n",
       "      <th></th>\n",
       "      <th></th>\n",
       "    </tr>\n",
       "  </thead>\n",
       "  <tbody>\n",
       "    <tr>\n",
       "      <th>2019/12</th>\n",
       "      <td>41.49</td>\n",
       "      <td>46.58</td>\n",
       "      <td>7.53</td>\n",
       "      <td>2.65</td>\n",
       "      <td>1.75</td>\n",
       "    </tr>\n",
       "    <tr>\n",
       "      <th>2020/12</th>\n",
       "      <td>56.93</td>\n",
       "      <td>33.26</td>\n",
       "      <td>5.92</td>\n",
       "      <td>2.65</td>\n",
       "      <td>1.24</td>\n",
       "    </tr>\n",
       "    <tr>\n",
       "      <th>2021/12</th>\n",
       "      <td>50.70</td>\n",
       "      <td>36.39</td>\n",
       "      <td>7.19</td>\n",
       "      <td>2.07</td>\n",
       "      <td>3.65</td>\n",
       "    </tr>\n",
       "  </tbody>\n",
       "</table>\n",
       "</div>"
      ],
      "text/plain": [
       "         유가증권평가및처분이익   이자수익  수수료수익  외환거래이익  기타(계)\n",
       "기말                                               \n",
       "2019/12        41.49  46.58   7.53    2.65   1.75\n",
       "2020/12        56.93  33.26   5.92    2.65   1.24\n",
       "2021/12        50.70  36.39   7.19    2.07   3.65"
      ]
     },
     "execution_count": 15,
     "metadata": {},
     "output_type": "execute_result"
    }
   ],
   "source": [
    "ticker = '316140'\n",
    "\n",
    "stock = kr(ticker=ticker)\n",
    "data = stock.fnguide.AllProducts\n",
    "data"
   ]
  },
  {
   "cell_type": "code",
   "execution_count": 15,
   "id": "af9192f0",
   "metadata": {},
   "outputs": [
    {
     "data": {
      "text/plain": [
       "'file.html'"
      ]
     },
     "execution_count": 15,
     "metadata": {},
     "output_type": "execute_result"
    }
   ],
   "source": [
    "fig = go.Figure()\n",
    "\n",
    "fig.add_trace(kr_std_trace)\n",
    "fig.add_trace(kr_3yt_trace)\n",
    "fig.add_trace(kr_10yt_trace)\n",
    "fig.add_trace(loan_trace)\n",
    "\n",
    "# fig.show()\n",
    "of.plot(fig, filename='file.html')"
   ]
  }
 ],
 "metadata": {
  "kernelspec": {
   "display_name": "Python 3 (ipykernel)",
   "language": "python",
   "name": "python3"
  },
  "language_info": {
   "codemirror_mode": {
    "name": "ipython",
    "version": 3
   },
   "file_extension": ".py",
   "mimetype": "text/x-python",
   "name": "python",
   "nbconvert_exporter": "python",
   "pygments_lexer": "ipython3",
   "version": "3.10.3"
  },
  "toc": {
   "base_numbering": 1,
   "nav_menu": {},
   "number_sections": true,
   "sideBar": true,
   "skip_h1_title": false,
   "title_cell": "Table of Contents",
   "title_sidebar": "Contents",
   "toc_cell": false,
   "toc_position": {
    "height": "calc(100% - 180px)",
    "left": "10px",
    "top": "150px",
    "width": "329.797px"
   },
   "toc_section_display": true,
   "toc_window_display": true
  }
 },
 "nbformat": 4,
 "nbformat_minor": 5
}
