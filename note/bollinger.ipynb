{
 "cells": [
  {
   "cell_type": "code",
   "execution_count": 1,
   "id": "2d0be3d5",
   "metadata": {},
   "outputs": [
    {
     "name": "stdout",
     "output_type": "stream",
     "text": [
      "D:\\J.H.LEE\\05. CODING\\Python\\Project\\tdatlib\n"
     ]
    }
   ],
   "source": [
    "cd .."
   ]
  },
  {
   "cell_type": "code",
   "execution_count": 2,
   "id": "5fc802e1",
   "metadata": {},
   "outputs": [
    {
     "data": {
      "text/html": [
       "<style>.container { width:80% !important;}</style>"
      ],
      "text/plain": [
       "<IPython.core.display.HTML object>"
      ]
     },
     "metadata": {},
     "output_type": "display_data"
    }
   ],
   "source": [
    "from IPython.display import display, HTML\n",
    "display(HTML(\"<style>.container { width:80% !important;}</style>\"))\n",
    "\n",
    "import plotly.graph_objects as go\n",
    "import pandas as pd\n",
    "import numpy as np\n",
    "from plotly.subplots import make_subplots\n",
    "from tdatlib import tools, ecos, fred, krse, idex, kr"
   ]
  },
  {
   "cell_type": "markdown",
   "id": "37a5c25a",
   "metadata": {},
   "source": [
    "# The Basics\n",
    "\n",
    "\n",
    "[ SUMMARY ]\n",
    "* '80년대 John Bollinger에 의해 개발\n",
    "* 중심선과 상/하 가격 밴드로 구성\n",
    "* 중심선은 단순 이동 평균(SMA)으로 계산되며 상/하 밴드는 대상 증권의 표준 편차로 계산\n",
    "* 밴드는 가격 변동이 클 때 팽창하고 작을 때 수축\n",
    "* 상/하 밴드를 목표가로 트레이딩하기 위한 목적으로 개발"
   ]
  },
  {
   "cell_type": "code",
   "execution_count": 4,
   "id": "bfddde08",
   "metadata": {},
   "outputs": [],
   "source": [
    "idex.period = 5\n",
    "kosdaq = tools.bollinger_band(ohlcv=idex.kosdaq, name='KOSDAQ')"
   ]
  },
  {
   "cell_type": "code",
   "execution_count": 5,
   "id": "0d380e82",
   "metadata": {},
   "outputs": [
    {
     "name": "stdout",
     "output_type": "stream",
     "text": [
      "[   0    1    2    3    4    5    6    7    8    9   10   11   12   13\n",
      "   14   15   16   17   18  250  251  411  412  488  490  574  576  636\n",
      "  639  736  740  803  807  951  954  984  986 1033 1035 1119 1120 1196\n",
      " 1200]\n",
      "[   0    1    2    3    4    5    6    7    8    9   10   11   12   13\n",
      "   14   15   16   17   18   84   86  110  113  135  138  182  189  199\n",
      "  200  230  231  297  298  300  301  328  332  369  371  383  387  389\n",
      "  392  462  464  509  510  528  530  537  541  542  543  672  674  690\n",
      "  691  756  757  772  773  774  775  892  897  919  926  962  964  997\n",
      "  998 1001 1002 1003 1004 1060 1061 1062 1063 1069 1071 1072 1073 1092\n",
      " 1098 1100 1101 1146 1147 1159 1160 1162 1167 1226 1228 1230]\n",
      "날짜\n",
      "2018-01-02         NaN\n",
      "2018-01-03         NaN\n",
      "2018-01-04         NaN\n",
      "2018-01-05         NaN\n",
      "2018-01-08         NaN\n",
      "                ...   \n",
      "2022-12-23   -0.061571\n",
      "2022-12-26   -0.021431\n",
      "2022-12-27    0.198375\n",
      "2022-12-28    0.103271\n",
      "2022-12-29   -0.039769\n",
      "Length: 1232, dtype: float64\n"
     ]
    }
   ],
   "source": [
    "kosdaq.traditional()"
   ]
  },
  {
   "cell_type": "code",
   "execution_count": null,
   "id": "fe066530",
   "metadata": {},
   "outputs": [],
   "source": [
    "kosdaq.figure.show()"
   ]
  }
 ],
 "metadata": {
  "kernelspec": {
   "display_name": "Python 3 (ipykernel)",
   "language": "python",
   "name": "python3"
  },
  "language_info": {
   "codemirror_mode": {
    "name": "ipython",
    "version": 3
   },
   "file_extension": ".py",
   "mimetype": "text/x-python",
   "name": "python",
   "nbconvert_exporter": "python",
   "pygments_lexer": "ipython3",
   "version": "3.8.6"
  },
  "toc": {
   "base_numbering": 1,
   "nav_menu": {},
   "number_sections": true,
   "sideBar": true,
   "skip_h1_title": false,
   "title_cell": "Table of Contents",
   "title_sidebar": "Contents",
   "toc_cell": false,
   "toc_position": {
    "height": "calc(100% - 180px)",
    "left": "10px",
    "top": "150px",
    "width": "204.594px"
   },
   "toc_section_display": true,
   "toc_window_display": true
  }
 },
 "nbformat": 4,
 "nbformat_minor": 5
}
