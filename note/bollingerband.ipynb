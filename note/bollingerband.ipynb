{
 "cells": [
  {
   "cell_type": "code",
   "execution_count": 1,
   "id": "2d0be3d5",
   "metadata": {},
   "outputs": [
    {
     "name": "stdout",
     "output_type": "stream",
     "text": [
      "D:\\J.H.LEE\\05. CODING\\Python\\Project\\tdatlib\n"
     ]
    }
   ],
   "source": [
    "cd .."
   ]
  },
  {
   "cell_type": "code",
   "execution_count": 2,
   "id": "5fc802e1",
   "metadata": {},
   "outputs": [
    {
     "data": {
      "text/html": [
       "<style>.container { width:80% !important;}</style>"
      ],
      "text/plain": [
       "<IPython.core.display.HTML object>"
      ]
     },
     "metadata": {},
     "output_type": "display_data"
    }
   ],
   "source": [
    "from IPython.display import display, HTML\n",
    "display(HTML(\"<style>.container { width:80% !important;}</style>\"))\n",
    "\n",
    "import plotly.graph_objects as go\n",
    "import pandas as pd\n",
    "# import tdatlib as tdat\n",
    "from plotly.subplots import make_subplots\n",
    "from tdatlib import tools, ecos, fred, krse, idex, kr"
   ]
  },
  {
   "cell_type": "code",
   "execution_count": 10,
   "id": "bb8934e3",
   "metadata": {},
   "outputs": [],
   "source": [
    "class bollinger_band(object):\n",
    "    option = dict(key='TP', window=20, std=2)\n",
    "    '''\n",
    "    option\n",
    "    ------\n",
    "    key    : [str] 시가, 종가, 고가, 저가 또는 TP(Typical Price)\n",
    "    window : [int] 이동 평균 개수\n",
    "    std    : [int, float] 상/하한 표준 편차 범위 가중치\n",
    "    '''\n",
    "    def __init__(self, ohlcv:pd.DataFrame, name:str=str()):\n",
    "        self.ohlcv = ohlcv\n",
    "        self.name = name\n",
    "        return\n",
    "    \n",
    "    @property\n",
    "    def key(self) -> str:\n",
    "        return self.option['key']\n",
    "    \n",
    "    @key.setter\n",
    "    def key(self, key:str):\n",
    "        self.option['key'] = key\n",
    "    \n",
    "    @property\n",
    "    def window(self) -> int:\n",
    "        return self.option['window']\n",
    "    \n",
    "    @window.setter\n",
    "    def window(self, window:int):\n",
    "        self.option['window'] = window\n",
    "        \n",
    "    @property\n",
    "    def std(self) -> str:\n",
    "        return self.option['std']\n",
    "    \n",
    "    @std.setter\n",
    "    def std(self, std:int or float):\n",
    "        self.option['std'] = std\n",
    "    \n",
    "    @property\n",
    "    def basis(self) -> pd.Series:\n",
    "        attr = f'__basis_{self.key}'\n",
    "        if not hasattr(self, attr):\n",
    "            _t = (self.ohlcv.고가 + self.ohlcv.저가 + self.ohlcv.종가) / 3 if self.key == 'TP' else self.ohlcv[self.key]\n",
    "            self.__setattr__(attr, _t)\n",
    "        return self.__getattribute__(attr)\n",
    "    \n",
    "    @property\n",
    "    def middle(self) -> pd.Series:\n",
    "        attr = f'__middle_{self.window}'\n",
    "        if not hasattr(self, attr):\n",
    "            _t = self.basis.rolling(window=self.window).mean()\n",
    "            self.__setattr__(attr, _t)\n",
    "        return self.__getattribute__(attr)\n",
    "    \n",
    "    @property\n",
    "    def upper(self) -> pd.Series:\n",
    "        attr = f'__upper_{self.std}'\n",
    "        if not hasattr(self, attr):\n",
    "            _t = self.middle + self.std * self.basis.rolling(window=self.window).std()\n",
    "            self.__setattr__(attr, _t)\n",
    "        return self.__getattribute__(attr)\n",
    "    \n",
    "    @property\n",
    "    def lower(self) -> pd.Series:\n",
    "        attr = f'__lower_{self.std}'\n",
    "        if not hasattr(self, attr):\n",
    "            _t = self.middle - self.std * self.basis.rolling(window=self.window).std()\n",
    "            self.__setattr__(attr, _t)\n",
    "        return self.__getattribute__(attr)"
   ]
  },
  {
   "cell_type": "markdown",
   "id": "37a5c25a",
   "metadata": {},
   "source": [
    "# The Basics\n",
    "\n",
    "\n",
    "[ SUMMARY ]\n",
    "* '80년대 John Bollinger에 의해 개발\n",
    "* 중심선과 상/하 가격 밴드로 구성\n",
    "* 중심선은 단순 이동 평균(SMA)으로 계산되며 상/하 밴드는 대상 증권의 표준 편차로 계산\n",
    "* 밴드는 가격 변동이 클 때 팽창하고 작을 때 수축\n",
    "* 상/하 밴드를 목표가로 트레이딩하기 위한 목적으로 개발"
   ]
  },
  {
   "cell_type": "code",
   "execution_count": 8,
   "id": "bfddde08",
   "metadata": {},
   "outputs": [],
   "source": [
    "kosdaq = bollinger_band(ohlcv=idex.kosdaq, name='KOSDAQ')"
   ]
  },
  {
   "cell_type": "code",
   "execution_count": 9,
   "id": "0297ecbb",
   "metadata": {},
   "outputs": [
    {
     "ename": "TypeError",
     "evalue": "hasattr expected 2 arguments, got 1",
     "output_type": "error",
     "traceback": [
      "\u001b[1;31m---------------------------------------------------------------------------\u001b[0m",
      "\u001b[1;31mTypeError\u001b[0m                                 Traceback (most recent call last)",
      "Cell \u001b[1;32mIn [9], line 1\u001b[0m\n\u001b[1;32m----> 1\u001b[0m \u001b[43mkosdaq\u001b[49m\u001b[38;5;241;43m.\u001b[39;49m\u001b[43mbasis\u001b[49m\n",
      "Cell \u001b[1;32mIn [6], line 42\u001b[0m, in \u001b[0;36mbollinger_band.basis\u001b[1;34m(self)\u001b[0m\n\u001b[0;32m     39\u001b[0m \u001b[38;5;129m@property\u001b[39m\n\u001b[0;32m     40\u001b[0m \u001b[38;5;28;01mdef\u001b[39;00m \u001b[38;5;21mbasis\u001b[39m(\u001b[38;5;28mself\u001b[39m) \u001b[38;5;241m-\u001b[39m\u001b[38;5;241m>\u001b[39m pd\u001b[38;5;241m.\u001b[39mSeries:\n\u001b[0;32m     41\u001b[0m     attr \u001b[38;5;241m=\u001b[39m \u001b[38;5;124mf\u001b[39m\u001b[38;5;124m'\u001b[39m\u001b[38;5;124m__basis_\u001b[39m\u001b[38;5;132;01m{\u001b[39;00m\u001b[38;5;28mself\u001b[39m\u001b[38;5;241m.\u001b[39mkey\u001b[38;5;132;01m}\u001b[39;00m\u001b[38;5;124m'\u001b[39m\n\u001b[1;32m---> 42\u001b[0m     \u001b[38;5;28;01mif\u001b[39;00m \u001b[38;5;129;01mnot\u001b[39;00m \u001b[38;5;28;43mhasattr\u001b[39;49m\u001b[43m(\u001b[49m\u001b[43mattr\u001b[49m\u001b[43m)\u001b[49m:\n\u001b[0;32m     43\u001b[0m         _t \u001b[38;5;241m=\u001b[39m (\u001b[38;5;28mself\u001b[39m\u001b[38;5;241m.\u001b[39mohlcv\u001b[38;5;241m.\u001b[39m고가 \u001b[38;5;241m+\u001b[39m \u001b[38;5;28mself\u001b[39m\u001b[38;5;241m.\u001b[39mohlcv\u001b[38;5;241m.\u001b[39m저가 \u001b[38;5;241m+\u001b[39m \u001b[38;5;28mself\u001b[39m\u001b[38;5;241m.\u001b[39mohlcv\u001b[38;5;241m.\u001b[39m종가) \u001b[38;5;241m/\u001b[39m \u001b[38;5;241m3\u001b[39m \u001b[38;5;28;01mif\u001b[39;00m \u001b[38;5;28mself\u001b[39m\u001b[38;5;241m.\u001b[39mkey \u001b[38;5;241m==\u001b[39m \u001b[38;5;124m'\u001b[39m\u001b[38;5;124mTP\u001b[39m\u001b[38;5;124m'\u001b[39m \u001b[38;5;28;01melse\u001b[39;00m \u001b[38;5;28mself\u001b[39m\u001b[38;5;241m.\u001b[39mohlcv[\u001b[38;5;28mself\u001b[39m\u001b[38;5;241m.\u001b[39mkey]\n\u001b[0;32m     44\u001b[0m         \u001b[38;5;28mself\u001b[39m\u001b[38;5;241m.\u001b[39m\u001b[38;5;21m__setattr__\u001b[39m(attr, _t)\n",
      "\u001b[1;31mTypeError\u001b[0m: hasattr expected 2 arguments, got 1"
     ]
    }
   ],
   "source": [
    "kosdaq.basis"
   ]
  }
 ],
 "metadata": {
  "kernelspec": {
   "display_name": "Python 3 (ipykernel)",
   "language": "python",
   "name": "python3"
  },
  "language_info": {
   "codemirror_mode": {
    "name": "ipython",
    "version": 3
   },
   "file_extension": ".py",
   "mimetype": "text/x-python",
   "name": "python",
   "nbconvert_exporter": "python",
   "pygments_lexer": "ipython3",
   "version": "3.8.6"
  },
  "toc": {
   "base_numbering": 1,
   "nav_menu": {},
   "number_sections": true,
   "sideBar": true,
   "skip_h1_title": false,
   "title_cell": "Table of Contents",
   "title_sidebar": "Contents",
   "toc_cell": false,
   "toc_position": {
    "height": "calc(100% - 180px)",
    "left": "10px",
    "top": "150px",
    "width": "316.594px"
   },
   "toc_section_display": true,
   "toc_window_display": true
  }
 },
 "nbformat": 4,
 "nbformat_minor": 5
}
