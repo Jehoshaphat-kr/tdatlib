{
 "cells": [
  {
   "cell_type": "code",
   "execution_count": null,
   "id": "0285ed13",
   "metadata": {},
   "outputs": [],
   "source": [
    "cd .."
   ]
  },
  {
   "cell_type": "code",
   "execution_count": null,
   "id": "41f9a8e8",
   "metadata": {},
   "outputs": [],
   "source": [
    "from IPython.display import display, HTML\n",
    "display(HTML(\"<style>.container { width:80% !important;}</style>\"))\n",
    "\n",
    "import plotly.graph_objects as go\n",
    "import pandas as pd\n",
    "# import tdatlib as tdat\n",
    "from plotly.subplots import make_subplots\n",
    "from tdatlib import tools, ecos, fred, krse, idex, kr"
   ]
  },
  {
   "cell_type": "markdown",
   "id": "1e4b8bc2",
   "metadata": {},
   "source": [
    "# The Basics\n",
    "\n",
    "\n",
    "[ SUMMARY ]\n",
    "* '80년대 John Bollinger에 의해 개발\n",
    "* 중심선과 상/하 가격 밴드로 구성\n",
    "* 중심선은 단순 이동 평균(SMA)으로 계산되며 상/하 밴드는 대상 증권의 표준 편차로 계산\n",
    "* 밴드는 가격 변동이 클 때 팽창하고 작을 때 수축\n",
    "* 상/하 밴드를 목표가로 트레이딩하기 위한 목적으로 개발"
   ]
  },
  {
   "cell_type": "code",
   "execution_count": null,
   "id": "4395f196",
   "metadata": {},
   "outputs": [],
   "source": [
    "price = idex.kosdaq\n",
    "\n"
   ]
  }
 ],
 "metadata": {
  "kernelspec": {
   "display_name": "Python 3 (ipykernel)",
   "language": "python",
   "name": "python3"
  },
  "language_info": {
   "codemirror_mode": {
    "name": "ipython",
    "version": 3
   },
   "file_extension": ".py",
   "mimetype": "text/x-python",
   "name": "python",
   "nbconvert_exporter": "python",
   "pygments_lexer": "ipython3",
   "version": "3.8.6"
  },
  "toc": {
   "base_numbering": 1,
   "nav_menu": {},
   "number_sections": true,
   "sideBar": true,
   "skip_h1_title": false,
   "title_cell": "Table of Contents",
   "title_sidebar": "Contents",
   "toc_cell": false,
   "toc_position": {},
   "toc_section_display": true,
   "toc_window_display": true
  }
 },
 "nbformat": 4,
 "nbformat_minor": 5
}
